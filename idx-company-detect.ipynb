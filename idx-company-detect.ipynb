{
 "cells": [
  {
   "cell_type": "code",
   "execution_count": 1,
   "id": "29a1b027-5f75-4e2a-9bce-6ce317e96376",
   "metadata": {},
   "outputs": [],
   "source": [
    "# Need a function that:\n",
    "\n",
    "# Input: given a body of text\n",
    "# Output: returns a list of company mentions in the text.\n",
    "# Each company mention consists of (start, end of the text position; company ID).\n",
    "\n",
    "# Alternatively:\n",
    "\n",
    "# Input: given a list of sentences\n",
    "# Output: for each sentence, a list of company mentions in the sentence."
   ]
  },
  {
   "cell_type": "code",
   "execution_count": 2,
   "id": "be84cd41-4c15-4ca2-bca3-3379506fc820",
   "metadata": {},
   "outputs": [],
   "source": [
    "# company_data ambil dari text file DONE\n",
    "# output jadi (start_pos, end_pos, company_name/ticker mentioned in text, ticker)\n",
    "# sama perlu test cases sih\n",
    "# list companynya dimasukin ya di nlp/companies.txt DONE"
   ]
  },
  {
   "cell_type": "code",
   "execution_count": 3,
   "id": "34ad5213-b225-4453-9a1e-b2f503e0dfff",
   "metadata": {},
   "outputs": [],
   "source": [
    "import nlp.ner\n",
    "import pandas as pd"
   ]
  },
  {
   "cell_type": "code",
   "execution_count": 4,
   "id": "7d082355-3533-4734-bf4a-14d3dd7126a1",
   "metadata": {},
   "outputs": [],
   "source": [
    "# source: https://www.idx.co.id/en/market-data/stocks-data/stock-list\n",
    "# df = pd.read_excel(\"idx-stock-list-20230723.xlsx\", index_col=\"No\")"
   ]
  },
  {
   "cell_type": "code",
   "execution_count": 5,
   "id": "42ea4f6b-98ea-4962-a1f9-9587de2818c6",
   "metadata": {},
   "outputs": [],
   "source": [
    "# df.head()"
   ]
  },
  {
   "cell_type": "code",
   "execution_count": 6,
   "id": "e365c0ae-c096-4c41-aeff-07baf9a42aeb",
   "metadata": {},
   "outputs": [],
   "source": [
    "COMPANY_DATA_FILE = \"idx-companies-20230723.csv\""
   ]
  },
  {
   "cell_type": "code",
   "execution_count": 7,
   "id": "1d54a475-b6d2-437b-9dfd-8fb228601780",
   "metadata": {},
   "outputs": [],
   "source": [
    "# df[[\"Code\", \"Company Name\"]].to_csv(\"idx-companies-20230723.csv\", index=False)"
   ]
  },
  {
   "cell_type": "code",
   "execution_count": null,
   "id": "6a57d979-fbf3-4207-a52d-6d34bfeb91a7",
   "metadata": {},
   "outputs": [],
   "source": []
  },
  {
   "cell_type": "code",
   "execution_count": 8,
   "id": "745cdd9f-b592-4559-ac68-5861e20e842b",
   "metadata": {},
   "outputs": [],
   "source": [
    "# testcase 1\n",
    "text = \"\"\"\n",
    "Analis memperkirakan pergerakan Indeks Harga Saham Gabungan (IHSG) akan melanjutkan penguatan pada Senin (24/7). Sebelumnya, IHSG pada perdagangan Jumat (21/7) ditutup menguat 0,24% atau 16,61 poin ke 6.880,80.\n",
    "\n",
    "Analis MNC Sekuritas Herditya Wicaksana mencermati adanya penguatan IHSG hari Senin (24/7) dipengaruhi oleh beberapa sentimen di antaranya yakni sentimen global. Ekonomi China diperkirakan mengalami perlambatan dari Jepang, serta China masih mempertimbangkan kebijakan moneter mereka.\n",
    "\n",
    "\n",
    "“Untuk sentimen sendiri, kami memperkirakan masih dibayangi oleh sentimen global, di mana ekonomi China diperkirakan mengalami perlambatan dan dari Jepang serta China masih mempertimbangkan kebijakan moneter mereka,” kata Herditya kepada Kontan, Jumat (21/7).\n",
    "\n",
    "Sementara itu, Equity Research Analyst Alrich Paskalis Tambolang memperkirakan IHSG bergerak konsolidatif.\n",
    "\n",
    "Baca Juga: Ini Deretan Emiten yang Diramal Masuk dan Keluar Indeks LQ45, Ada BUMI Hingga GGRM\n",
    "\n",
    "“Dari eksternal, investor akan mencermati rilis kinerja keuangan perusahaan, terutama bank-bank besar di Eropa pada pekan depan, serta pengumuman hasil pertemuan ECB dan The Fed di tengah pekan depan (26 dan 27 Juli 2023),” ujarnya kepada Kontan, Jumat (21/7).\n",
    "\n",
    "Sementara China akan menerapkan langkah-langkah kebijakan secara komprehensif untuk menstabilkan mata uangnya. Yuan mencatatkan penurunan sekitar 4% Year on Year (YoY) terhadap dolar Amerika Serikat (AS) sekaligus menjadi salah satu mata uang Asia dengan kinerja terburuk.\n",
    "\n",
    "Inflasi Jepang pada Juni 2023 juga kembali mengalami kenaikan dan sudah berada di atas target bank sentral Jepang (Bank of Japan/BoJ). Kondisi ini mengindikasikan adanya pemulihan konsumsi di Jepang.\n",
    "\n",
    "Berbeda dengan regional, laju inflasi di Indonesia berada di bawah level 4% dan dalam kecenderungan turun mendekati level tengah asumsi inflasi oleh pemerintah di 3% YoY. Asia Develompent Bank (ADB) juga menurunkan proyeksi inflasi Indonesia menjadi 3.8% yoy di 2023 dari proyeksi sebelumnya di 4.2% YoY.\n",
    "\n",
    "“Dengan demikian, dampak kenaikan harga sejumlah komoditas pangan yang tengah terjadi saat ini kemungkinan bersifat sementara. Masih dari dalam negeri, BKPM mencatat perlambatan pertumbuhan foreign direct investment ke 14.2% YoY di Q2-2023 dari 20.2% YoY di Q1-2023,” kata Alrich.\n",
    "\n",
    "\n",
    "AALI Chart by TradingView\n",
    "Oleh karena itu, Alrich memprediksi IHSG bergerak konsolidatif pada 6.830 sampai dengan 6.930 pada Senin (24/7). Alrich merekomendasikan saham seperti AALI, DSNG, SMGR, BIRD, ASSA, MYOR, dan ASRI.\n",
    "\n",
    "Sementara Herditya memprediksi IHSG berpeluang melanjutkan penguatannya dengan support 6.816 dan resist 6.897 pada Senin (24/7) dan merekomendasikan saham RAAM (dengan target harga Rp 690-Rp 740), EXCL (Rp 2.130-Rp 2.250), dan HRTA (Rp 440-Rp 460).\n",
    "\"\"\""
   ]
  },
  {
   "cell_type": "code",
   "execution_count": 9,
   "id": "05f728f3-482e-4dfc-b90f-4e73902b2512",
   "metadata": {},
   "outputs": [
    {
     "name": "stdout",
     "output_type": "stream",
     "text": [
      "[(2290, 2294, 'AALI', 'AALI'), (2467, 2471, 'AALI', 'AALI'), (2507, 2511, 'ASRI', 'ASRI'), (2491, 2495, 'ASSA', 'ASSA'), (2485, 2489, 'BIRD', 'BIRD'), (946, 950, 'BUMI', 'BUMI'), (2473, 2477, 'DSNG', 'DSNG'), (2711, 2715, 'EXCL', 'EXCL'), (958, 962, 'GGRM', 'GGRM'), (2497, 2501, 'MYOR', 'MYOR'), (2741, 2745, 'HRTA', 'HRTA'), (2669, 2673, 'RAAM', 'RAAM'), (2479, 2483, 'SMGR', 'SMGR')]\n"
     ]
    }
   ],
   "source": [
    "mentions = nlp.ner.extract_company_mentions(text, COMPANY_DATA_FILE)\n",
    "print(mentions)"
   ]
  },
  {
   "cell_type": "code",
   "execution_count": 10,
   "id": "064160f8-dab5-44c6-9a7a-2ac66dadebe0",
   "metadata": {},
   "outputs": [
    {
     "data": {
      "text/plain": [
       "'AALI'"
      ]
     },
     "execution_count": 10,
     "metadata": {},
     "output_type": "execute_result"
    }
   ],
   "source": [
    "text[2290:2294]"
   ]
  },
  {
   "cell_type": "code",
   "execution_count": 11,
   "id": "f79e6200-d50d-479d-844c-5c0334f66073",
   "metadata": {},
   "outputs": [],
   "source": [
    "# testcase 2\n",
    "text = \"\"\"\n",
    "KONTAN.CO.ID - JAKARTA. Chief Executive Officer (CEO) PT Medco Energi Internasional Tbk (MEDC) Roberto Lorato terus mengakumulasi saham perusahaan tempatnya bernaung. Dalam laporan kepemilikan saham di Bursa Efek Indonesia, Jumat (14/7), Roberto melaporkan telah membeli sebanyak 3,37 juta saham.\n",
    "\n",
    "Warga negara Italia ini membeli saham MEDC pada 7 Juli 2023 sampai 12 Juli 2023, dengan rata-rata harga pembelian Rp 930. Hitungan Kontan.co.id, Roberto merogoh kocek Rp 3,13 miliar untuk pembelian ini.\n",
    "\n",
    "Pembelian ini ditujukan untuk investasi dan dengan status kepemilikan langsung. Dengan pembelian ini, kepemilikan Roberto di emiten minyak dan gas (migas) ini semakin menggemuk. Sebelum pembelian, Roberto menggenggam 138,46 juta saham dan setelah pembelian bertambah menjadi 141,83 juta lembar.\n",
    "\"\"\""
   ]
  },
  {
   "cell_type": "code",
   "execution_count": 12,
   "id": "1686357e-b433-48f7-b68b-d9a218c59da6",
   "metadata": {},
   "outputs": [
    {
     "name": "stdout",
     "output_type": "stream",
     "text": [
      "[(58, 88, 'Medco Energi Internasional Tbk', 'MEDC'), (90, 94, 'MEDC', 'MEDC'), (337, 341, 'MEDC', 'MEDC')]\n"
     ]
    }
   ],
   "source": [
    "mentions = nlp.ner.extract_company_mentions(text, COMPANY_DATA_FILE)\n",
    "print(mentions)"
   ]
  },
  {
   "cell_type": "code",
   "execution_count": 13,
   "id": "24ac6565-f35b-43f2-a90d-1b6a2bc12c08",
   "metadata": {},
   "outputs": [],
   "source": [
    "# testcase 3\n",
    "text = \"\"\"\n",
    "MEDCOW is not the same as MEDC. \n",
    "JAKARTA is not the same with ARTA. \n",
    "KARTOS is not the same with ARTO.\n",
    "Telkom Indonesia (Persero) Tbk is also known as TLKM.\n",
    "\"\"\""
   ]
  },
  {
   "cell_type": "code",
   "execution_count": 14,
   "id": "d9cb981a-45c3-4507-9f54-0e57eb5d3376",
   "metadata": {},
   "outputs": [
    {
     "name": "stdout",
     "output_type": "stream",
     "text": [
      "[(63, 67, 'ARTA', 'ARTA'), (98, 102, 'ARTO', 'ARTO'), (27, 31, 'MEDC', 'MEDC'), (104, 134, 'Telkom Indonesia (Persero) Tbk', 'TLKM'), (152, 156, 'TLKM', 'TLKM')]\n"
     ]
    }
   ],
   "source": [
    "mentions = nlp.ner.extract_company_mentions(text, COMPANY_DATA_FILE)\n",
    "print(mentions)"
   ]
  },
  {
   "cell_type": "code",
   "execution_count": 15,
   "id": "db77bb48-8419-432e-8f13-55f3cf817afc",
   "metadata": {},
   "outputs": [],
   "source": [
    "# Room for improvement\n",
    "# 1. Some company names are cut short like \"Bank Pembangunan Daerah Jawa T\" in the database.\n",
    "# Need to find other sources where they list the full name\n",
    "# 2. For companies' full name, we can expand to match several version of the companies. For example, instead of only\n",
    "# Telkom Indonesia (Persero) Tbk we should also match PT Telkom, PT Telkom Indonesia, PT Telekomunikasi Indonesia Tbk etc."
   ]
  },
  {
   "cell_type": "code",
   "execution_count": null,
   "id": "36f44006-5b32-4181-b5f3-c162f02d3830",
   "metadata": {},
   "outputs": [],
   "source": []
  },
  {
   "cell_type": "code",
   "execution_count": null,
   "id": "ebffbcb6-c876-4c6e-99d1-91496587a0cb",
   "metadata": {},
   "outputs": [],
   "source": []
  }
 ],
 "metadata": {
  "kernelspec": {
   "display_name": "Python 3 (ipykernel)",
   "language": "python",
   "name": "python3"
  },
  "language_info": {
   "codemirror_mode": {
    "name": "ipython",
    "version": 3
   },
   "file_extension": ".py",
   "mimetype": "text/x-python",
   "name": "python",
   "nbconvert_exporter": "python",
   "pygments_lexer": "ipython3",
   "version": "3.11.4"
  }
 },
 "nbformat": 4,
 "nbformat_minor": 5
}
