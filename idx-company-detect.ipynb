{
 "cells": [
  {
   "cell_type": "code",
   "execution_count": 1,
   "id": "23ba8681-9d88-4aab-bf29-0ebc45cfd912",
   "metadata": {},
   "outputs": [],
   "source": [
    "import pandas as pd"
   ]
  },
  {
   "cell_type": "code",
   "execution_count": 2,
   "id": "3d94a66b-9a4f-4c44-b20a-cb565ba576c5",
   "metadata": {},
   "outputs": [],
   "source": [
    "df_emiten = pd.read_csv(\"IDX_StockList_20230907.csv\")"
   ]
  },
  {
   "cell_type": "code",
   "execution_count": 3,
   "id": "ac9f095c-bd45-4d66-b66a-38a6477381d7",
   "metadata": {},
   "outputs": [
    {
     "data": {
      "text/html": [
       "<div>\n",
       "<style scoped>\n",
       "    .dataframe tbody tr th:only-of-type {\n",
       "        vertical-align: middle;\n",
       "    }\n",
       "\n",
       "    .dataframe tbody tr th {\n",
       "        vertical-align: top;\n",
       "    }\n",
       "\n",
       "    .dataframe thead th {\n",
       "        text-align: right;\n",
       "    }\n",
       "</style>\n",
       "<table border=\"1\" class=\"dataframe\">\n",
       "  <thead>\n",
       "    <tr style=\"text-align: right;\">\n",
       "      <th></th>\n",
       "      <th>No</th>\n",
       "      <th>Code</th>\n",
       "      <th>Company Name</th>\n",
       "      <th>Listing Date</th>\n",
       "      <th>Shares</th>\n",
       "      <th>Listing Board</th>\n",
       "    </tr>\n",
       "  </thead>\n",
       "  <tbody>\n",
       "    <tr>\n",
       "      <th>0</th>\n",
       "      <td>1</td>\n",
       "      <td>BJTM</td>\n",
       "      <td>Bank Pembangunan Daerah Jawa Timur Tbk.</td>\n",
       "      <td>12 Jul 2012</td>\n",
       "      <td>14,865,343,101</td>\n",
       "      <td>Main</td>\n",
       "    </tr>\n",
       "    <tr>\n",
       "      <th>1</th>\n",
       "      <td>2</td>\n",
       "      <td>BKDP</td>\n",
       "      <td>Bukit Darmo Property Tbk.</td>\n",
       "      <td>15 Jun 2007</td>\n",
       "      <td>7,513,992,252</td>\n",
       "      <td>Development</td>\n",
       "    </tr>\n",
       "    <tr>\n",
       "      <th>2</th>\n",
       "      <td>3</td>\n",
       "      <td>BKSL</td>\n",
       "      <td>Sentul City Tbk.</td>\n",
       "      <td>28 Jul 1997</td>\n",
       "      <td>167,708,902,705</td>\n",
       "      <td>Watchlist</td>\n",
       "    </tr>\n",
       "    <tr>\n",
       "      <th>3</th>\n",
       "      <td>4</td>\n",
       "      <td>BKSW</td>\n",
       "      <td>Bank QNB Indonesia Tbk.</td>\n",
       "      <td>21 Nov 2002</td>\n",
       "      <td>34,953,681,505</td>\n",
       "      <td>Development</td>\n",
       "    </tr>\n",
       "    <tr>\n",
       "      <th>4</th>\n",
       "      <td>5</td>\n",
       "      <td>BLTA</td>\n",
       "      <td>Berlian Laju Tanker Tbk.</td>\n",
       "      <td>26 Mar 1990</td>\n",
       "      <td>25,940,187,103</td>\n",
       "      <td>Watchlist</td>\n",
       "    </tr>\n",
       "  </tbody>\n",
       "</table>\n",
       "</div>"
      ],
      "text/plain": [
       "   No  Code                             Company Name Listing Date  \\\n",
       "0   1  BJTM  Bank Pembangunan Daerah Jawa Timur Tbk.  12 Jul 2012   \n",
       "1   2  BKDP                Bukit Darmo Property Tbk.  15 Jun 2007   \n",
       "2   3  BKSL                         Sentul City Tbk.  28 Jul 1997   \n",
       "3   4  BKSW                  Bank QNB Indonesia Tbk.  21 Nov 2002   \n",
       "4   5  BLTA                 Berlian Laju Tanker Tbk.  26 Mar 1990   \n",
       "\n",
       "            Shares Listing Board  \n",
       "0   14,865,343,101          Main  \n",
       "1    7,513,992,252   Development  \n",
       "2  167,708,902,705     Watchlist  \n",
       "3   34,953,681,505   Development  \n",
       "4   25,940,187,103     Watchlist  "
      ]
     },
     "execution_count": 3,
     "metadata": {},
     "output_type": "execute_result"
    }
   ],
   "source": [
    "df_emiten.head()"
   ]
  },
  {
   "cell_type": "code",
   "execution_count": 4,
   "id": "0529e418-55df-45a9-b875-414f99c5ff75",
   "metadata": {},
   "outputs": [],
   "source": [
    "df = pd.read_csv(\"kontan_articles.csv\", header=None)"
   ]
  },
  {
   "cell_type": "code",
   "execution_count": 5,
   "id": "8c3a0ad9-6c63-415e-97f0-9033236990ab",
   "metadata": {},
   "outputs": [
    {
     "name": "stdout",
     "output_type": "stream",
     "text": [
      "<class 'pandas.core.frame.DataFrame'>\n",
      "RangeIndex: 124067 entries, 0 to 124066\n",
      "Data columns (total 5 columns):\n",
      " #   Column  Non-Null Count   Dtype \n",
      "---  ------  --------------   ----- \n",
      " 0   0       124067 non-null  object\n",
      " 1   1       124062 non-null  object\n",
      " 2   2       124067 non-null  object\n",
      " 3   3       124067 non-null  object\n",
      " 4   4       124062 non-null  object\n",
      "dtypes: object(5)\n",
      "memory usage: 4.7+ MB\n"
     ]
    }
   ],
   "source": [
    "df.info()"
   ]
  },
  {
   "cell_type": "code",
   "execution_count": 6,
   "id": "20ea22da-fd50-4434-9e9e-2152665aaa73",
   "metadata": {},
   "outputs": [
    {
     "data": {
      "text/html": [
       "<div>\n",
       "<style scoped>\n",
       "    .dataframe tbody tr th:only-of-type {\n",
       "        vertical-align: middle;\n",
       "    }\n",
       "\n",
       "    .dataframe tbody tr th {\n",
       "        vertical-align: top;\n",
       "    }\n",
       "\n",
       "    .dataframe thead th {\n",
       "        text-align: right;\n",
       "    }\n",
       "</style>\n",
       "<table border=\"1\" class=\"dataframe\">\n",
       "  <thead>\n",
       "    <tr style=\"text-align: right;\">\n",
       "      <th></th>\n",
       "      <th>0</th>\n",
       "      <th>1</th>\n",
       "      <th>2</th>\n",
       "      <th>3</th>\n",
       "      <th>4</th>\n",
       "    </tr>\n",
       "  </thead>\n",
       "  <tbody>\n",
       "    <tr>\n",
       "      <th>0</th>\n",
       "      <td>https://investasi.kontan.co.id/news/energi-meg...</td>\n",
       "      <td>2023-07-31 22:55:07+07:00</td>\n",
       "      <td>['Grahanusa Mediatama', 'Akhmad Suryahadi']</td>\n",
       "      <td>Energi Mega Persada (ENRG) Akuisisi Dua Aset M...</td>\n",
       "      <td>Reporter: Akhmad Suryahadi | Editor: Tendi Mah...</td>\n",
       "    </tr>\n",
       "    <tr>\n",
       "      <th>1</th>\n",
       "      <td>https://investasi.kontan.co.id/news/astra-agro...</td>\n",
       "      <td>2023-07-31 22:52:47+07:00</td>\n",
       "      <td>['Grahanusa Mediatama', 'Pulina Nityakanti']</td>\n",
       "      <td>Astra Agro Lestari (AALI) Catat Penurunan Kine...</td>\n",
       "      <td>Reporter: Pulina Nityakanti | Editor: Tendi Ma...</td>\n",
       "    </tr>\n",
       "    <tr>\n",
       "      <th>2</th>\n",
       "      <td>https://investasi.kontan.co.id/news/wika-gedun...</td>\n",
       "      <td>2023-07-31 22:47:36+07:00</td>\n",
       "      <td>['Grahanusa Mediatama', 'Yudho Winarto']</td>\n",
       "      <td>Wika Gedung (WEGE) Raup Pendapatan Rp 1,63 Tri...</td>\n",
       "      <td>ILUSTRASI. Pembangunan kawasan Hunian Pekerja ...</td>\n",
       "    </tr>\n",
       "    <tr>\n",
       "      <th>3</th>\n",
       "      <td>https://investasi.kontan.co.id/news/cek-rekome...</td>\n",
       "      <td>2023-07-31 22:42:02+07:00</td>\n",
       "      <td>['Grahanusa Mediatama', 'Aris Nurjani']</td>\n",
       "      <td>Cek Rekomendasi Saham untuk UNVR dan MYOR dari...</td>\n",
       "      <td>Reporter: Aris Nurjani | Editor: Yudho Winarto...</td>\n",
       "    </tr>\n",
       "    <tr>\n",
       "      <th>4</th>\n",
       "      <td>https://investasi.kontan.co.id/news/astra-agro...</td>\n",
       "      <td>2023-07-31 22:30:15+07:00</td>\n",
       "      <td>['Grahanusa Mediatama', 'Pulina Nityakanti']</td>\n",
       "      <td>Astra Agro (AALI) Mencatat Produksi 2,1 Juta T...</td>\n",
       "      <td>Reporter: Pulina Nityakanti | Editor: Wahyu T....</td>\n",
       "    </tr>\n",
       "  </tbody>\n",
       "</table>\n",
       "</div>"
      ],
      "text/plain": [
       "                                                   0  \\\n",
       "0  https://investasi.kontan.co.id/news/energi-meg...   \n",
       "1  https://investasi.kontan.co.id/news/astra-agro...   \n",
       "2  https://investasi.kontan.co.id/news/wika-gedun...   \n",
       "3  https://investasi.kontan.co.id/news/cek-rekome...   \n",
       "4  https://investasi.kontan.co.id/news/astra-agro...   \n",
       "\n",
       "                           1                                             2  \\\n",
       "0  2023-07-31 22:55:07+07:00   ['Grahanusa Mediatama', 'Akhmad Suryahadi']   \n",
       "1  2023-07-31 22:52:47+07:00  ['Grahanusa Mediatama', 'Pulina Nityakanti']   \n",
       "2  2023-07-31 22:47:36+07:00      ['Grahanusa Mediatama', 'Yudho Winarto']   \n",
       "3  2023-07-31 22:42:02+07:00       ['Grahanusa Mediatama', 'Aris Nurjani']   \n",
       "4  2023-07-31 22:30:15+07:00  ['Grahanusa Mediatama', 'Pulina Nityakanti']   \n",
       "\n",
       "                                                   3  \\\n",
       "0  Energi Mega Persada (ENRG) Akuisisi Dua Aset M...   \n",
       "1  Astra Agro Lestari (AALI) Catat Penurunan Kine...   \n",
       "2  Wika Gedung (WEGE) Raup Pendapatan Rp 1,63 Tri...   \n",
       "3  Cek Rekomendasi Saham untuk UNVR dan MYOR dari...   \n",
       "4  Astra Agro (AALI) Mencatat Produksi 2,1 Juta T...   \n",
       "\n",
       "                                                   4  \n",
       "0  Reporter: Akhmad Suryahadi | Editor: Tendi Mah...  \n",
       "1  Reporter: Pulina Nityakanti | Editor: Tendi Ma...  \n",
       "2  ILUSTRASI. Pembangunan kawasan Hunian Pekerja ...  \n",
       "3  Reporter: Aris Nurjani | Editor: Yudho Winarto...  \n",
       "4  Reporter: Pulina Nityakanti | Editor: Wahyu T....  "
      ]
     },
     "execution_count": 6,
     "metadata": {},
     "output_type": "execute_result"
    }
   ],
   "source": [
    "df.head()"
   ]
  },
  {
   "cell_type": "code",
   "execution_count": 8,
   "id": "1fbb18d0-9408-42f1-8453-a08716b6e3f8",
   "metadata": {},
   "outputs": [],
   "source": [
    "import nlp.ner\n",
    "import json"
   ]
  },
  {
   "cell_type": "code",
   "execution_count": 9,
   "id": "f974b2f3-56eb-488d-b6fc-926a9f3b0aba",
   "metadata": {},
   "outputs": [],
   "source": [
    "# testcase\n",
    "text = \"\"\"\n",
    "MEDCOW is not the same as MEDC. \n",
    "JAKARTA is not the same with ARTA. \n",
    "KARTOS is not the same with ARTO.\n",
    "Telkom Indonesia (Persero) Tbk. is also known as TLKM.\n",
    "\"\"\""
   ]
  },
  {
   "cell_type": "code",
   "execution_count": 10,
   "id": "d725a8d6-6e94-4eaf-801c-7884e1154727",
   "metadata": {},
   "outputs": [
    {
     "name": "stdout",
     "output_type": "stream",
     "text": [
      "[{'start': 63, 'end': 67, 'text': 'ARTA', 'ticker': 'ARTA'}, {'start': 98, 'end': 102, 'text': 'ARTO', 'ticker': 'ARTO'}, {'start': 27, 'end': 31, 'text': 'MEDC', 'ticker': 'MEDC'}, {'start': 104, 'end': 134, 'text': 'Telkom Indonesia (Persero) Tbk', 'ticker': 'TLKM'}, {'start': 153, 'end': 157, 'text': 'TLKM', 'ticker': 'TLKM'}]\n"
     ]
    }
   ],
   "source": [
    "mentions = nlp.ner.extract_company_mentions(text, df_emiten)"
   ]
  },
  {
   "cell_type": "code",
   "execution_count": 11,
   "id": "5f9c6d9f-4f68-4225-ba9c-10d3e52829cd",
   "metadata": {},
   "outputs": [
    {
     "name": "stdout",
     "output_type": "stream",
     "text": [
      "[\n",
      "  {\n",
      "    \"start\": 63,\n",
      "    \"end\": 67,\n",
      "    \"text\": \"ARTA\",\n",
      "    \"ticker\": \"ARTA\"\n",
      "  },\n",
      "  {\n",
      "    \"start\": 98,\n",
      "    \"end\": 102,\n",
      "    \"text\": \"ARTO\",\n",
      "    \"ticker\": \"ARTO\"\n",
      "  },\n",
      "  {\n",
      "    \"start\": 27,\n",
      "    \"end\": 31,\n",
      "    \"text\": \"MEDC\",\n",
      "    \"ticker\": \"MEDC\"\n",
      "  },\n",
      "  {\n",
      "    \"start\": 104,\n",
      "    \"end\": 134,\n",
      "    \"text\": \"Telkom Indonesia (Persero) Tbk\",\n",
      "    \"ticker\": \"TLKM\"\n",
      "  },\n",
      "  {\n",
      "    \"start\": 153,\n",
      "    \"end\": 157,\n",
      "    \"text\": \"TLKM\",\n",
      "    \"ticker\": \"TLKM\"\n",
      "  }\n",
      "]\n"
     ]
    }
   ],
   "source": [
    "mentions_json = json.dumps(mentions, indent=2)  # Convert to JSON string with indentation\n",
    "print(mentions_json)"
   ]
  },
  {
   "cell_type": "code",
   "execution_count": 16,
   "id": "a22417f4-fc45-427a-a4db-463551cf32bd",
   "metadata": {},
   "outputs": [],
   "source": [
    "# testcase\n",
    "text = \"\"\"\n",
    "Energi Mega Persada (ENRG) Akuisisi Dua Aset Minyak di Riau, Ini Rinciannya\",\"Reporter: Akhmad Suryahadi | Editor: Tendi Mahadi KONTAN.CO.ID - JAKARTA. PT Energi Mega Persada Tbk (ENRG) melalui anak usahanya, telah menandatangani perjanjian jual beli untuk mengakuisisi dua aset migas yang telah berproduksi di Provinsi Riau pada Senin (31/7). Sebelumnya, emiten migas ini telah melalui proses lelang terbatas. PT EMP Energi Gandewa mengakuisisi 90% kepemilikan dan operatorship di blok KKS Siak dari PT Pertamina Hulu Energi Siak. Minyak yang diproduksikan Siak saat ini dijual melalui Terminal Dumai ke PT Kilang Pertamina Internasional Sementara PT EMP Energi Riau mengakuisisi 90% kepemilikan dan operatorship di blok KKS Kampar dari PT Pertamina Hulu Energi Kampar. Kampar juga menjual produksi minyaknya ke KPI melalui Terminal Buatan. Baca Juga: Harga CPO Belum Stabil, Pendapatan Astra Agro Lestari (AALI) Turun pada Semester I Saat ini, kedua blok tersebut adalah blok produksi dengan produksi harian di sekitar 2.200 barel – 2.600 barel minyak Syailendra S. Bakrie, CEO dari EMP mengatakan, akuisisi ini sejalan dengan strategi pengembangan bisnis ENRG. Mengingat kedua aset akuisisi ini lokasinya berdekatan dengan beberapa aset EMP lainnya yang telah berproduksi di Riau, ENRG mengharapkan akuisisi ini dapat mengoptimalisasikan sinergi antara aset-aset tersebut. “Dan terus memaksimalkan partisipasi kami di program Pemerintah menuju produksi Indonesia sebanyak 1 juta barrel minyak dan 12 miliar kaki kubik gas per hari di tahun 2030,” kata Syailendra dalam siaran pers, Senin (31/7). Cek Berita dan Artikel yang lain di Google News DONASI, Dapat Voucer Gratis! Sebagai ungkapan terimakasih atas perhatian Anda, tersedia voucer gratis senilai donasi yang bisa digunakan berbelanja di Dukungan Anda akan menambah semangat kami untuk menyajikan artikel-artikel yang berkualitas dan bermanfaat.Sebagai ungkapan terimakasih atas perhatian Anda, tersedia voucer gratis senilai donasi yang bisa digunakan berbelanja di KONTAN Store DUKUNG KONTAN\n",
    "\"\"\""
   ]
  },
  {
   "cell_type": "code",
   "execution_count": 17,
   "id": "071d2fea-a300-4c71-b378-1703f315e846",
   "metadata": {},
   "outputs": [],
   "source": [
    "mentions = nlp.ner.extract_company_mentions(text, df_emiten)"
   ]
  },
  {
   "cell_type": "code",
   "execution_count": 18,
   "id": "706d76e3-55b3-4e4d-978e-99bcf63886d5",
   "metadata": {
    "jupyter": {
     "source_hidden": true
    }
   },
   "outputs": [
    {
     "name": "stdout",
     "output_type": "stream",
     "text": [
      "[\n",
      "  {\n",
      "    \"start\": 156,\n",
      "    \"end\": 179,\n",
      "    \"text\": \"Energi Mega Persada Tbk\",\n",
      "    \"ticker\": \"ENRG\"\n",
      "  },\n",
      "  {\n",
      "    \"start\": 22,\n",
      "    \"end\": 26,\n",
      "    \"text\": \"ENRG\",\n",
      "    \"ticker\": \"ENRG\"\n",
      "  },\n",
      "  {\n",
      "    \"start\": 181,\n",
      "    \"end\": 185,\n",
      "    \"text\": \"ENRG\",\n",
      "    \"ticker\": \"ENRG\"\n",
      "  },\n",
      "  {\n",
      "    \"start\": 1159,\n",
      "    \"end\": 1163,\n",
      "    \"text\": \"ENRG\",\n",
      "    \"ticker\": \"ENRG\"\n",
      "  },\n",
      "  {\n",
      "    \"start\": 1285,\n",
      "    \"end\": 1289,\n",
      "    \"text\": \"ENRG\",\n",
      "    \"ticker\": \"ENRG\"\n",
      "  },\n",
      "  {\n",
      "    \"start\": 909,\n",
      "    \"end\": 913,\n",
      "    \"text\": \"AALI\",\n",
      "    \"ticker\": \"AALI\"\n",
      "  }\n",
      "]\n"
     ]
    }
   ],
   "source": [
    "mentions_json = json.dumps(mentions, indent=2)  # Convert to JSON string with indentation\n",
    "print(mentions_json)"
   ]
  },
  {
   "cell_type": "code",
   "execution_count": 12,
   "id": "fde2938a-3ff4-4411-88c1-75f4fa8eb0dd",
   "metadata": {},
   "outputs": [
    {
     "name": "stdout",
     "output_type": "stream",
     "text": [
      "<class 'pandas.core.frame.DataFrame'>\n",
      "RangeIndex: 124067 entries, 0 to 124066\n",
      "Data columns (total 5 columns):\n",
      " #   Column  Non-Null Count   Dtype \n",
      "---  ------  --------------   ----- \n",
      " 0   0       124067 non-null  object\n",
      " 1   1       124062 non-null  object\n",
      " 2   2       124067 non-null  object\n",
      " 3   3       124067 non-null  object\n",
      " 4   4       124062 non-null  object\n",
      "dtypes: object(5)\n",
      "memory usage: 4.7+ MB\n"
     ]
    }
   ],
   "source": [
    "df.info()"
   ]
  },
  {
   "cell_type": "code",
   "execution_count": 37,
   "id": "fd69f890-ef57-49db-ba3b-6b9e53116c00",
   "metadata": {},
   "outputs": [],
   "source": [
    "for i in range(5):\n",
    "    # print(df[4][i])\n",
    "    text = df[4][i]\n",
    "    mentions = nlp.ner.extract_company_mentions(text, df_emiten)\n",
    "    mentions_json = json.dumps(mentions, indent=2)  # Convert to JSON string with indentation\n",
    "    # print(mentions_json)"
   ]
  },
  {
   "cell_type": "code",
   "execution_count": 38,
   "id": "e783b111-bea3-432f-8312-6f2e05d3e049",
   "metadata": {},
   "outputs": [
    {
     "data": {
      "text/plain": [
       "[{'start': 84, 'end': 106, 'text': 'Astra Agro Lestari Tbk', 'ticker': 'AALI'},\n",
       " {'start': 108, 'end': 112, 'text': 'AALI', 'ticker': 'AALI'},\n",
       " {'start': 311, 'end': 315, 'text': 'AALI', 'ticker': 'AALI'},\n",
       " {'start': 639, 'end': 643, 'text': 'AALI', 'ticker': 'AALI'},\n",
       " {'start': 753, 'end': 757, 'text': 'AALI', 'ticker': 'AALI'},\n",
       " {'start': 969, 'end': 973, 'text': 'AALI', 'ticker': 'AALI'},\n",
       " {'start': 1017, 'end': 1021, 'text': 'AALI', 'ticker': 'AALI'},\n",
       " {'start': 1538, 'end': 1542, 'text': 'AALI', 'ticker': 'AALI'},\n",
       " {'start': 1669, 'end': 1673, 'text': 'AALI', 'ticker': 'AALI'},\n",
       " {'start': 1849, 'end': 1853, 'text': 'AALI', 'ticker': 'AALI'}]"
      ]
     },
     "execution_count": 38,
     "metadata": {},
     "output_type": "execute_result"
    }
   ],
   "source": [
    "mentions"
   ]
  },
  {
   "cell_type": "code",
   "execution_count": null,
   "id": "b8ce42a8-c0e4-433a-b451-de090914e5ee",
   "metadata": {},
   "outputs": [],
   "source": []
  }
 ],
 "metadata": {
  "kernelspec": {
   "display_name": "Python 3 (ipykernel)",
   "language": "python",
   "name": "python3"
  },
  "language_info": {
   "codemirror_mode": {
    "name": "ipython",
    "version": 3
   },
   "file_extension": ".py",
   "mimetype": "text/x-python",
   "name": "python",
   "nbconvert_exporter": "python",
   "pygments_lexer": "ipython3",
   "version": "3.11.4"
  }
 },
 "nbformat": 4,
 "nbformat_minor": 5
}
