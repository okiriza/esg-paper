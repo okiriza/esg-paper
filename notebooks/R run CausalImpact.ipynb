{
 "cells": [
  {
   "cell_type": "code",
   "execution_count": 1,
   "id": "1b3d2016-7743-4032-aa34-3b842fc94672",
   "metadata": {
    "tags": []
   },
   "outputs": [],
   "source": [
    "setwd('..')"
   ]
  },
  {
   "cell_type": "code",
   "execution_count": 2,
   "id": "673b9f46-416f-400e-ae52-4e3fb36d2355",
   "metadata": {
    "tags": []
   },
   "outputs": [
    {
     "data": {
      "text/html": [
       "'D:/okiriza_w/personal/paper 2023'"
      ],
      "text/latex": [
       "'D:/okiriza\\_w/personal/paper 2023'"
      ],
      "text/markdown": [
       "'D:/okiriza_w/personal/paper 2023'"
      ],
      "text/plain": [
       "[1] \"D:/okiriza_w/personal/paper 2023\""
      ]
     },
     "metadata": {},
     "output_type": "display_data"
    }
   ],
   "source": [
    "getwd()"
   ]
  },
  {
   "cell_type": "code",
   "execution_count": 4,
   "id": "8eb01f10-1f2c-4ed5-a191-9945e8591068",
   "metadata": {
    "tags": []
   },
   "outputs": [],
   "source": [
    "library(dplyr)"
   ]
  },
  {
   "cell_type": "code",
   "execution_count": 5,
   "id": "6b082a35-a534-418a-87be-f56aeedc0e1e",
   "metadata": {
    "tags": []
   },
   "outputs": [],
   "source": [
    "conf_name = '003'"
   ]
  },
  {
   "cell_type": "markdown",
   "id": "6ed58795-a388-451a-b510-f67c5abf43f9",
   "metadata": {},
   "source": [
    "## Read data"
   ]
  },
  {
   "cell_type": "code",
   "execution_count": 6,
   "id": "624bdb38-56a4-4938-aac1-e012906bc02b",
   "metadata": {
    "tags": []
   },
   "outputs": [
    {
     "data": {
      "text/html": [
       "<dl>\n",
       "\t<dt>$data_paths</dt>\n",
       "\t\t<dd>'data/news/kontan/kontan_environment_similarity_company_mentioned.parquet'</dd>\n",
       "\t<dt>$n_pre</dt>\n",
       "\t\t<dd>66</dd>\n",
       "\t<dt>$n_post</dt>\n",
       "\t\t<dd>5</dd>\n",
       "\t<dt>$normalize</dt>\n",
       "\t\t<dd>'1_mean'</dd>\n",
       "\t<dt>$causalimpact</dt>\n",
       "\t\t<dd><strong>$model</strong> = <dl>\n",
       "\t<dt>$standardize.data</dt>\n",
       "\t\t<dd>FALSE</dd>\n",
       "\t<dt>$nseasons</dt>\n",
       "\t\t<dd>1</dd>\n",
       "\t<dt>$season.duration</dt>\n",
       "\t\t<dd>1</dd>\n",
       "</dl>\n",
       "</dd>\n",
       "</dl>\n"
      ],
      "text/latex": [
       "\\begin{description}\n",
       "\\item[\\$data\\_paths] 'data/news/kontan/kontan\\_environment\\_similarity\\_company\\_mentioned.parquet'\n",
       "\\item[\\$n\\_pre] 66\n",
       "\\item[\\$n\\_post] 5\n",
       "\\item[\\$normalize] '1\\_mean'\n",
       "\\item[\\$causalimpact] \\textbf{\\$model} = \\begin{description}\n",
       "\\item[\\$standardize.data] FALSE\n",
       "\\item[\\$nseasons] 1\n",
       "\\item[\\$season.duration] 1\n",
       "\\end{description}\n",
       "\n",
       "\\end{description}\n"
      ],
      "text/markdown": [
       "$data_paths\n",
       ":   'data/news/kontan/kontan_environment_similarity_company_mentioned.parquet'\n",
       "$n_pre\n",
       ":   66\n",
       "$n_post\n",
       ":   5\n",
       "$normalize\n",
       ":   '1_mean'\n",
       "$causalimpact\n",
       ":   **$model** = $standardize.data\n",
       ":   FALSE\n",
       "$nseasons\n",
       ":   1\n",
       "$season.duration\n",
       ":   1\n",
       "\n",
       "\n",
       "\n",
       "\n",
       "\n"
      ],
      "text/plain": [
       "$data_paths\n",
       "[1] \"data/news/kontan/kontan_environment_similarity_company_mentioned.parquet\"\n",
       "\n",
       "$n_pre\n",
       "[1] 66\n",
       "\n",
       "$n_post\n",
       "[1] 5\n",
       "\n",
       "$normalize\n",
       "[1] \"1_mean\"\n",
       "\n",
       "$causalimpact\n",
       "$causalimpact$model\n",
       "$causalimpact$model$standardize.data\n",
       "[1] FALSE\n",
       "\n",
       "$causalimpact$model$nseasons\n",
       "[1] 1\n",
       "\n",
       "$causalimpact$model$season.duration\n",
       "[1] 1\n",
       "\n",
       "\n"
      ]
     },
     "metadata": {},
     "output_type": "display_data"
    }
   ],
   "source": [
    "conf = jsonlite::fromJSON(sprintf('configs/%s.json', conf_name))\n",
    "conf"
   ]
  },
  {
   "cell_type": "code",
   "execution_count": 7,
   "id": "025c8aca-32ed-4a1e-b1a5-e09e85034c76",
   "metadata": {
    "tags": []
   },
   "outputs": [
    {
     "name": "stderr",
     "output_type": "stream",
     "text": [
      "The tzdb package is not installed. Timezones will not be available to Arrow compute functions.\n",
      "\n"
     ]
    },
    {
     "data": {
      "text/html": [
       "<style>\n",
       ".list-inline {list-style: none; margin:0; padding: 0}\n",
       ".list-inline>li {display: inline-block}\n",
       ".list-inline>li:not(:last-child)::after {content: \"\\00b7\"; padding: 0 .5ex}\n",
       "</style>\n",
       "<ol class=list-inline><li>11923</li><li>11</li></ol>\n"
      ],
      "text/latex": [
       "\\begin{enumerate*}\n",
       "\\item 11923\n",
       "\\item 11\n",
       "\\end{enumerate*}\n"
      ],
      "text/markdown": [
       "1. 11923\n",
       "2. 11\n",
       "\n",
       "\n"
      ],
      "text/plain": [
       "[1] 11923    11"
      ]
     },
     "metadata": {},
     "output_type": "display_data"
    }
   ],
   "source": [
    "events_orig = bind_rows(lapply(conf$data_paths, function(x) if (endsWith(x, '.parquet')) arrow::read_parquet(x) else read.csv(x)))\n",
    "dim(events_orig)"
   ]
  },
  {
   "cell_type": "code",
   "execution_count": 8,
   "id": "eaef8ca2-9bc8-4785-98a2-53475a59a755",
   "metadata": {
    "tags": []
   },
   "outputs": [
    {
     "data": {
      "text/html": [
       "<style>\n",
       ".list-inline {list-style: none; margin:0; padding: 0}\n",
       ".list-inline>li {display: inline-block}\n",
       ".list-inline>li:not(:last-child)::after {content: \"\\00b7\"; padding: 0 .5ex}\n",
       "</style>\n",
       "<ol class=list-inline><li>'data/stock_price/yfinance/Volume/2010.csv'</li><li>'data/stock_price/yfinance/Volume/2011.csv'</li><li>'data/stock_price/yfinance/Volume/2012.csv'</li><li>'data/stock_price/yfinance/Volume/2013.csv'</li><li>'data/stock_price/yfinance/Volume/2014.csv'</li><li>'data/stock_price/yfinance/Volume/2015.csv'</li><li>'data/stock_price/yfinance/Volume/2016.csv'</li><li>'data/stock_price/yfinance/Volume/2017.csv'</li><li>'data/stock_price/yfinance/Volume/2018.csv'</li><li>'data/stock_price/yfinance/Volume/2019.csv'</li><li>'data/stock_price/yfinance/Volume/2020.csv'</li><li>'data/stock_price/yfinance/Volume/2021.csv'</li><li>'data/stock_price/yfinance/Volume/2022.csv'</li><li>'data/stock_price/yfinance/Volume/2023.csv'</li></ol>\n"
      ],
      "text/latex": [
       "\\begin{enumerate*}\n",
       "\\item 'data/stock\\_price/yfinance/Volume/2010.csv'\n",
       "\\item 'data/stock\\_price/yfinance/Volume/2011.csv'\n",
       "\\item 'data/stock\\_price/yfinance/Volume/2012.csv'\n",
       "\\item 'data/stock\\_price/yfinance/Volume/2013.csv'\n",
       "\\item 'data/stock\\_price/yfinance/Volume/2014.csv'\n",
       "\\item 'data/stock\\_price/yfinance/Volume/2015.csv'\n",
       "\\item 'data/stock\\_price/yfinance/Volume/2016.csv'\n",
       "\\item 'data/stock\\_price/yfinance/Volume/2017.csv'\n",
       "\\item 'data/stock\\_price/yfinance/Volume/2018.csv'\n",
       "\\item 'data/stock\\_price/yfinance/Volume/2019.csv'\n",
       "\\item 'data/stock\\_price/yfinance/Volume/2020.csv'\n",
       "\\item 'data/stock\\_price/yfinance/Volume/2021.csv'\n",
       "\\item 'data/stock\\_price/yfinance/Volume/2022.csv'\n",
       "\\item 'data/stock\\_price/yfinance/Volume/2023.csv'\n",
       "\\end{enumerate*}\n"
      ],
      "text/markdown": [
       "1. 'data/stock_price/yfinance/Volume/2010.csv'\n",
       "2. 'data/stock_price/yfinance/Volume/2011.csv'\n",
       "3. 'data/stock_price/yfinance/Volume/2012.csv'\n",
       "4. 'data/stock_price/yfinance/Volume/2013.csv'\n",
       "5. 'data/stock_price/yfinance/Volume/2014.csv'\n",
       "6. 'data/stock_price/yfinance/Volume/2015.csv'\n",
       "7. 'data/stock_price/yfinance/Volume/2016.csv'\n",
       "8. 'data/stock_price/yfinance/Volume/2017.csv'\n",
       "9. 'data/stock_price/yfinance/Volume/2018.csv'\n",
       "10. 'data/stock_price/yfinance/Volume/2019.csv'\n",
       "11. 'data/stock_price/yfinance/Volume/2020.csv'\n",
       "12. 'data/stock_price/yfinance/Volume/2021.csv'\n",
       "13. 'data/stock_price/yfinance/Volume/2022.csv'\n",
       "14. 'data/stock_price/yfinance/Volume/2023.csv'\n",
       "\n",
       "\n"
      ],
      "text/plain": [
       " [1] \"data/stock_price/yfinance/Volume/2010.csv\"\n",
       " [2] \"data/stock_price/yfinance/Volume/2011.csv\"\n",
       " [3] \"data/stock_price/yfinance/Volume/2012.csv\"\n",
       " [4] \"data/stock_price/yfinance/Volume/2013.csv\"\n",
       " [5] \"data/stock_price/yfinance/Volume/2014.csv\"\n",
       " [6] \"data/stock_price/yfinance/Volume/2015.csv\"\n",
       " [7] \"data/stock_price/yfinance/Volume/2016.csv\"\n",
       " [8] \"data/stock_price/yfinance/Volume/2017.csv\"\n",
       " [9] \"data/stock_price/yfinance/Volume/2018.csv\"\n",
       "[10] \"data/stock_price/yfinance/Volume/2019.csv\"\n",
       "[11] \"data/stock_price/yfinance/Volume/2020.csv\"\n",
       "[12] \"data/stock_price/yfinance/Volume/2021.csv\"\n",
       "[13] \"data/stock_price/yfinance/Volume/2022.csv\"\n",
       "[14] \"data/stock_price/yfinance/Volume/2023.csv\""
      ]
     },
     "metadata": {},
     "output_type": "display_data"
    },
    {
     "data": {
      "text/html": [
       "<style>\n",
       ".list-inline {list-style: none; margin:0; padding: 0}\n",
       ".list-inline>li {display: inline-block}\n",
       ".list-inline>li:not(:last-child)::after {content: \"\\00b7\"; padding: 0 .5ex}\n",
       "</style>\n",
       "<ol class=list-inline><li>3582</li><li>913</li></ol>\n"
      ],
      "text/latex": [
       "\\begin{enumerate*}\n",
       "\\item 3582\n",
       "\\item 913\n",
       "\\end{enumerate*}\n"
      ],
      "text/markdown": [
       "1. 3582\n",
       "2. 913\n",
       "\n",
       "\n"
      ],
      "text/plain": [
       "[1] 3582  913"
      ]
     },
     "metadata": {},
     "output_type": "display_data"
    },
    {
     "data": {
      "text/html": [
       "<table class=\"dataframe\">\n",
       "<caption>A data.frame: 6 × 913</caption>\n",
       "<thead>\n",
       "\t<tr><th></th><th scope=col>Date</th><th scope=col>AALI.JK</th><th scope=col>ABBA.JK</th><th scope=col>ABDA.JK</th><th scope=col>ABMM.JK</th><th scope=col>ACES.JK</th><th scope=col>ACST.JK</th><th scope=col>ADCP.JK</th><th scope=col>ADES.JK</th><th scope=col>ADHI.JK</th><th scope=col>...</th><th scope=col>WSKT.JK</th><th scope=col>WTON.JK</th><th scope=col>YELO.JK</th><th scope=col>YPAS.JK</th><th scope=col>YULE.JK</th><th scope=col>ZATA.JK</th><th scope=col>ZBRA.JK</th><th scope=col>ZINC.JK</th><th scope=col>ZONE.JK</th><th scope=col>ZYRX.JK</th></tr>\n",
       "\t<tr><th></th><th scope=col>&lt;chr&gt;</th><th scope=col>&lt;dbl&gt;</th><th scope=col>&lt;dbl&gt;</th><th scope=col>&lt;dbl&gt;</th><th scope=col>&lt;dbl&gt;</th><th scope=col>&lt;dbl&gt;</th><th scope=col>&lt;dbl&gt;</th><th scope=col>&lt;dbl&gt;</th><th scope=col>&lt;dbl&gt;</th><th scope=col>&lt;dbl&gt;</th><th scope=col>...</th><th scope=col>&lt;dbl&gt;</th><th scope=col>&lt;dbl&gt;</th><th scope=col>&lt;dbl&gt;</th><th scope=col>&lt;dbl&gt;</th><th scope=col>&lt;dbl&gt;</th><th scope=col>&lt;dbl&gt;</th><th scope=col>&lt;dbl&gt;</th><th scope=col>&lt;dbl&gt;</th><th scope=col>&lt;dbl&gt;</th><th scope=col>&lt;dbl&gt;</th></tr>\n",
       "</thead>\n",
       "<tbody>\n",
       "\t<tr><th scope=row>1</th><td>2010-01-04</td><td>1006977</td><td>58500</td><td>55384</td><td>NA</td><td>1380000</td><td>NA</td><td>NA</td><td>162000</td><td>  760195</td><td>...</td><td>NA</td><td>NA</td><td>NA</td><td> 31000</td><td>  NA</td><td>NA</td><td>3</td><td>NA</td><td>NA</td><td>NA</td></tr>\n",
       "\t<tr><th scope=row>2</th><td>2010-01-05</td><td>1761555</td><td>58500</td><td>    1</td><td>NA</td><td>2630000</td><td>NA</td><td>NA</td><td>379000</td><td>23960287</td><td>...</td><td>NA</td><td>NA</td><td>NA</td><td> 72000</td><td>  NA</td><td>NA</td><td>0</td><td>NA</td><td>NA</td><td>NA</td></tr>\n",
       "\t<tr><th scope=row>3</th><td>2010-01-06</td><td>1070471</td><td>16500</td><td> 1384</td><td>NA</td><td> 495000</td><td>NA</td><td>NA</td><td>317000</td><td> 8224249</td><td>...</td><td>NA</td><td>NA</td><td>NA</td><td>109500</td><td>1017</td><td>NA</td><td>0</td><td>NA</td><td>NA</td><td>NA</td></tr>\n",
       "\t<tr><th scope=row>4</th><td>2010-01-07</td><td>2431649</td><td>80000</td><td>    2</td><td>NA</td><td> 995000</td><td>NA</td><td>NA</td><td>216500</td><td>28799017</td><td>...</td><td>NA</td><td>NA</td><td>NA</td><td>106000</td><td>  NA</td><td>NA</td><td>0</td><td>NA</td><td>NA</td><td>NA</td></tr>\n",
       "\t<tr><th scope=row>5</th><td>2010-01-08</td><td> 949256</td><td>16000</td><td>    1</td><td>NA</td><td> 405000</td><td>NA</td><td>NA</td><td> 54500</td><td> 4495758</td><td>...</td><td>NA</td><td>NA</td><td>NA</td><td> 79500</td><td>  NA</td><td>NA</td><td>0</td><td>NA</td><td>NA</td><td>NA</td></tr>\n",
       "\t<tr><th scope=row>6</th><td>2010-01-11</td><td> 806526</td><td>16000</td><td>20769</td><td>NA</td><td> 455000</td><td>NA</td><td>NA</td><td>207500</td><td> 1191561</td><td>...</td><td>NA</td><td>NA</td><td>NA</td><td> 90500</td><td>  NA</td><td>NA</td><td>0</td><td>NA</td><td>NA</td><td>NA</td></tr>\n",
       "</tbody>\n",
       "</table>\n"
      ],
      "text/latex": [
       "A data.frame: 6 × 913\n",
       "\\begin{tabular}{r|lllllllllllllllllllll}\n",
       "  & Date & AALI.JK & ABBA.JK & ABDA.JK & ABMM.JK & ACES.JK & ACST.JK & ADCP.JK & ADES.JK & ADHI.JK & ... & WSKT.JK & WTON.JK & YELO.JK & YPAS.JK & YULE.JK & ZATA.JK & ZBRA.JK & ZINC.JK & ZONE.JK & ZYRX.JK\\\\\n",
       "  & <chr> & <dbl> & <dbl> & <dbl> & <dbl> & <dbl> & <dbl> & <dbl> & <dbl> & <dbl> & ... & <dbl> & <dbl> & <dbl> & <dbl> & <dbl> & <dbl> & <dbl> & <dbl> & <dbl> & <dbl>\\\\\n",
       "\\hline\n",
       "\t1 & 2010-01-04 & 1006977 & 58500 & 55384 & NA & 1380000 & NA & NA & 162000 &   760195 & ... & NA & NA & NA &  31000 &   NA & NA & 3 & NA & NA & NA\\\\\n",
       "\t2 & 2010-01-05 & 1761555 & 58500 &     1 & NA & 2630000 & NA & NA & 379000 & 23960287 & ... & NA & NA & NA &  72000 &   NA & NA & 0 & NA & NA & NA\\\\\n",
       "\t3 & 2010-01-06 & 1070471 & 16500 &  1384 & NA &  495000 & NA & NA & 317000 &  8224249 & ... & NA & NA & NA & 109500 & 1017 & NA & 0 & NA & NA & NA\\\\\n",
       "\t4 & 2010-01-07 & 2431649 & 80000 &     2 & NA &  995000 & NA & NA & 216500 & 28799017 & ... & NA & NA & NA & 106000 &   NA & NA & 0 & NA & NA & NA\\\\\n",
       "\t5 & 2010-01-08 &  949256 & 16000 &     1 & NA &  405000 & NA & NA &  54500 &  4495758 & ... & NA & NA & NA &  79500 &   NA & NA & 0 & NA & NA & NA\\\\\n",
       "\t6 & 2010-01-11 &  806526 & 16000 & 20769 & NA &  455000 & NA & NA & 207500 &  1191561 & ... & NA & NA & NA &  90500 &   NA & NA & 0 & NA & NA & NA\\\\\n",
       "\\end{tabular}\n"
      ],
      "text/markdown": [
       "\n",
       "A data.frame: 6 × 913\n",
       "\n",
       "| <!--/--> | Date &lt;chr&gt; | AALI.JK &lt;dbl&gt; | ABBA.JK &lt;dbl&gt; | ABDA.JK &lt;dbl&gt; | ABMM.JK &lt;dbl&gt; | ACES.JK &lt;dbl&gt; | ACST.JK &lt;dbl&gt; | ADCP.JK &lt;dbl&gt; | ADES.JK &lt;dbl&gt; | ADHI.JK &lt;dbl&gt; | ... ... | WSKT.JK &lt;dbl&gt; | WTON.JK &lt;dbl&gt; | YELO.JK &lt;dbl&gt; | YPAS.JK &lt;dbl&gt; | YULE.JK &lt;dbl&gt; | ZATA.JK &lt;dbl&gt; | ZBRA.JK &lt;dbl&gt; | ZINC.JK &lt;dbl&gt; | ZONE.JK &lt;dbl&gt; | ZYRX.JK &lt;dbl&gt; |\n",
       "|---|---|---|---|---|---|---|---|---|---|---|---|---|---|---|---|---|---|---|---|---|---|\n",
       "| 1 | 2010-01-04 | 1006977 | 58500 | 55384 | NA | 1380000 | NA | NA | 162000 |   760195 | ... | NA | NA | NA |  31000 |   NA | NA | 3 | NA | NA | NA |\n",
       "| 2 | 2010-01-05 | 1761555 | 58500 |     1 | NA | 2630000 | NA | NA | 379000 | 23960287 | ... | NA | NA | NA |  72000 |   NA | NA | 0 | NA | NA | NA |\n",
       "| 3 | 2010-01-06 | 1070471 | 16500 |  1384 | NA |  495000 | NA | NA | 317000 |  8224249 | ... | NA | NA | NA | 109500 | 1017 | NA | 0 | NA | NA | NA |\n",
       "| 4 | 2010-01-07 | 2431649 | 80000 |     2 | NA |  995000 | NA | NA | 216500 | 28799017 | ... | NA | NA | NA | 106000 |   NA | NA | 0 | NA | NA | NA |\n",
       "| 5 | 2010-01-08 |  949256 | 16000 |     1 | NA |  405000 | NA | NA |  54500 |  4495758 | ... | NA | NA | NA |  79500 |   NA | NA | 0 | NA | NA | NA |\n",
       "| 6 | 2010-01-11 |  806526 | 16000 | 20769 | NA |  455000 | NA | NA | 207500 |  1191561 | ... | NA | NA | NA |  90500 |   NA | NA | 0 | NA | NA | NA |\n",
       "\n"
      ],
      "text/plain": [
       "  Date       AALI.JK ABBA.JK ABDA.JK ABMM.JK ACES.JK ACST.JK ADCP.JK ADES.JK\n",
       "1 2010-01-04 1006977 58500   55384   NA      1380000 NA      NA      162000 \n",
       "2 2010-01-05 1761555 58500       1   NA      2630000 NA      NA      379000 \n",
       "3 2010-01-06 1070471 16500    1384   NA       495000 NA      NA      317000 \n",
       "4 2010-01-07 2431649 80000       2   NA       995000 NA      NA      216500 \n",
       "5 2010-01-08  949256 16000       1   NA       405000 NA      NA       54500 \n",
       "6 2010-01-11  806526 16000   20769   NA       455000 NA      NA      207500 \n",
       "  ADHI.JK  ... WSKT.JK WTON.JK YELO.JK YPAS.JK YULE.JK ZATA.JK ZBRA.JK ZINC.JK\n",
       "1   760195 ... NA      NA      NA       31000    NA    NA      3       NA     \n",
       "2 23960287 ... NA      NA      NA       72000    NA    NA      0       NA     \n",
       "3  8224249 ... NA      NA      NA      109500  1017    NA      0       NA     \n",
       "4 28799017 ... NA      NA      NA      106000    NA    NA      0       NA     \n",
       "5  4495758 ... NA      NA      NA       79500    NA    NA      0       NA     \n",
       "6  1191561 ... NA      NA      NA       90500    NA    NA      0       NA     \n",
       "  ZONE.JK ZYRX.JK\n",
       "1 NA      NA     \n",
       "2 NA      NA     \n",
       "3 NA      NA     \n",
       "4 NA      NA     \n",
       "5 NA      NA     \n",
       "6 NA      NA     "
      ]
     },
     "metadata": {},
     "output_type": "display_data"
    }
   ],
   "source": [
    "fpaths_stock_vol = list.files('data/stock_price/yfinance/Volume/', full.names=TRUE)\n",
    "fpaths_stock_vol\n",
    "\n",
    "stock_vol_orig = bind_rows(lapply(fpaths_stock_vol, read.csv, sep='|'))\n",
    "dim(stock_vol_orig)\n",
    "head(stock_vol_orig)"
   ]
  },
  {
   "cell_type": "markdown",
   "id": "d084ca5f-26d3-4740-aeb5-b93c162a6597",
   "metadata": {},
   "source": [
    "---"
   ]
  },
  {
   "cell_type": "markdown",
   "id": "bc54c669-16d1-4303-b78f-0c63ed6fcdc6",
   "metadata": {},
   "source": [
    "## Process data"
   ]
  },
  {
   "cell_type": "code",
   "execution_count": 9,
   "id": "4d3746c1-54f5-4626-a778-1b7f2c89e5bc",
   "metadata": {
    "tags": []
   },
   "outputs": [
    {
     "data": {
      "text/html": [
       "<style>\n",
       ".list-inline {list-style: none; margin:0; padding: 0}\n",
       ".list-inline>li {display: inline-block}\n",
       ".list-inline>li:not(:last-child)::after {content: \"\\00b7\"; padding: 0 .5ex}\n",
       "</style>\n",
       "<ol class=list-inline><li>3379</li><li>911</li></ol>\n"
      ],
      "text/latex": [
       "\\begin{enumerate*}\n",
       "\\item 3379\n",
       "\\item 911\n",
       "\\end{enumerate*}\n"
      ],
      "text/markdown": [
       "1. 3379\n",
       "2. 911\n",
       "\n",
       "\n"
      ],
      "text/plain": [
       "[1] 3379  911"
      ]
     },
     "metadata": {},
     "output_type": "display_data"
    },
    {
     "data": {
      "text/html": [
       "<table class=\"dataframe\">\n",
       "<caption>A data.frame: 6 × 911</caption>\n",
       "<thead>\n",
       "\t<tr><th></th><th scope=col>date</th><th scope=col>AALI</th><th scope=col>ABBA</th><th scope=col>ABDA</th><th scope=col>ABMM</th><th scope=col>ACES</th><th scope=col>ACST</th><th scope=col>ADCP</th><th scope=col>ADES</th><th scope=col>ADHI</th><th scope=col>...</th><th scope=col>WSKT</th><th scope=col>WTON</th><th scope=col>YELO</th><th scope=col>YPAS</th><th scope=col>YULE</th><th scope=col>ZATA</th><th scope=col>ZBRA</th><th scope=col>ZINC</th><th scope=col>ZONE</th><th scope=col>ZYRX</th></tr>\n",
       "\t<tr><th></th><th scope=col>&lt;date&gt;</th><th scope=col>&lt;dbl&gt;</th><th scope=col>&lt;dbl&gt;</th><th scope=col>&lt;dbl&gt;</th><th scope=col>&lt;dbl&gt;</th><th scope=col>&lt;dbl&gt;</th><th scope=col>&lt;dbl&gt;</th><th scope=col>&lt;dbl&gt;</th><th scope=col>&lt;dbl&gt;</th><th scope=col>&lt;dbl&gt;</th><th scope=col>...</th><th scope=col>&lt;dbl&gt;</th><th scope=col>&lt;dbl&gt;</th><th scope=col>&lt;dbl&gt;</th><th scope=col>&lt;dbl&gt;</th><th scope=col>&lt;dbl&gt;</th><th scope=col>&lt;dbl&gt;</th><th scope=col>&lt;dbl&gt;</th><th scope=col>&lt;dbl&gt;</th><th scope=col>&lt;dbl&gt;</th><th scope=col>&lt;dbl&gt;</th></tr>\n",
       "</thead>\n",
       "<tbody>\n",
       "\t<tr><th scope=row>1</th><td>2010-01-04</td><td>1006977</td><td>58500</td><td>55384</td><td>0</td><td>1380000</td><td>0</td><td>0</td><td>162000</td><td>  760195</td><td>...</td><td>0</td><td>0</td><td>0</td><td> 31000</td><td>   0</td><td>0</td><td>3</td><td>0</td><td>0</td><td>0</td></tr>\n",
       "\t<tr><th scope=row>2</th><td>2010-01-05</td><td>1761555</td><td>58500</td><td>    1</td><td>0</td><td>2630000</td><td>0</td><td>0</td><td>379000</td><td>23960287</td><td>...</td><td>0</td><td>0</td><td>0</td><td> 72000</td><td>   0</td><td>0</td><td>0</td><td>0</td><td>0</td><td>0</td></tr>\n",
       "\t<tr><th scope=row>3</th><td>2010-01-06</td><td>1070471</td><td>16500</td><td> 1384</td><td>0</td><td> 495000</td><td>0</td><td>0</td><td>317000</td><td> 8224249</td><td>...</td><td>0</td><td>0</td><td>0</td><td>109500</td><td>1017</td><td>0</td><td>0</td><td>0</td><td>0</td><td>0</td></tr>\n",
       "\t<tr><th scope=row>4</th><td>2010-01-07</td><td>2431649</td><td>80000</td><td>    2</td><td>0</td><td> 995000</td><td>0</td><td>0</td><td>216500</td><td>28799017</td><td>...</td><td>0</td><td>0</td><td>0</td><td>106000</td><td>   0</td><td>0</td><td>0</td><td>0</td><td>0</td><td>0</td></tr>\n",
       "\t<tr><th scope=row>5</th><td>2010-01-08</td><td> 949256</td><td>16000</td><td>    1</td><td>0</td><td> 405000</td><td>0</td><td>0</td><td> 54500</td><td> 4495758</td><td>...</td><td>0</td><td>0</td><td>0</td><td> 79500</td><td>   0</td><td>0</td><td>0</td><td>0</td><td>0</td><td>0</td></tr>\n",
       "\t<tr><th scope=row>6</th><td>2010-01-11</td><td> 806526</td><td>16000</td><td>20769</td><td>0</td><td> 455000</td><td>0</td><td>0</td><td>207500</td><td> 1191561</td><td>...</td><td>0</td><td>0</td><td>0</td><td> 90500</td><td>   0</td><td>0</td><td>0</td><td>0</td><td>0</td><td>0</td></tr>\n",
       "</tbody>\n",
       "</table>\n"
      ],
      "text/latex": [
       "A data.frame: 6 × 911\n",
       "\\begin{tabular}{r|lllllllllllllllllllll}\n",
       "  & date & AALI & ABBA & ABDA & ABMM & ACES & ACST & ADCP & ADES & ADHI & ... & WSKT & WTON & YELO & YPAS & YULE & ZATA & ZBRA & ZINC & ZONE & ZYRX\\\\\n",
       "  & <date> & <dbl> & <dbl> & <dbl> & <dbl> & <dbl> & <dbl> & <dbl> & <dbl> & <dbl> & ... & <dbl> & <dbl> & <dbl> & <dbl> & <dbl> & <dbl> & <dbl> & <dbl> & <dbl> & <dbl>\\\\\n",
       "\\hline\n",
       "\t1 & 2010-01-04 & 1006977 & 58500 & 55384 & 0 & 1380000 & 0 & 0 & 162000 &   760195 & ... & 0 & 0 & 0 &  31000 &    0 & 0 & 3 & 0 & 0 & 0\\\\\n",
       "\t2 & 2010-01-05 & 1761555 & 58500 &     1 & 0 & 2630000 & 0 & 0 & 379000 & 23960287 & ... & 0 & 0 & 0 &  72000 &    0 & 0 & 0 & 0 & 0 & 0\\\\\n",
       "\t3 & 2010-01-06 & 1070471 & 16500 &  1384 & 0 &  495000 & 0 & 0 & 317000 &  8224249 & ... & 0 & 0 & 0 & 109500 & 1017 & 0 & 0 & 0 & 0 & 0\\\\\n",
       "\t4 & 2010-01-07 & 2431649 & 80000 &     2 & 0 &  995000 & 0 & 0 & 216500 & 28799017 & ... & 0 & 0 & 0 & 106000 &    0 & 0 & 0 & 0 & 0 & 0\\\\\n",
       "\t5 & 2010-01-08 &  949256 & 16000 &     1 & 0 &  405000 & 0 & 0 &  54500 &  4495758 & ... & 0 & 0 & 0 &  79500 &    0 & 0 & 0 & 0 & 0 & 0\\\\\n",
       "\t6 & 2010-01-11 &  806526 & 16000 & 20769 & 0 &  455000 & 0 & 0 & 207500 &  1191561 & ... & 0 & 0 & 0 &  90500 &    0 & 0 & 0 & 0 & 0 & 0\\\\\n",
       "\\end{tabular}\n"
      ],
      "text/markdown": [
       "\n",
       "A data.frame: 6 × 911\n",
       "\n",
       "| <!--/--> | date &lt;date&gt; | AALI &lt;dbl&gt; | ABBA &lt;dbl&gt; | ABDA &lt;dbl&gt; | ABMM &lt;dbl&gt; | ACES &lt;dbl&gt; | ACST &lt;dbl&gt; | ADCP &lt;dbl&gt; | ADES &lt;dbl&gt; | ADHI &lt;dbl&gt; | ... ... | WSKT &lt;dbl&gt; | WTON &lt;dbl&gt; | YELO &lt;dbl&gt; | YPAS &lt;dbl&gt; | YULE &lt;dbl&gt; | ZATA &lt;dbl&gt; | ZBRA &lt;dbl&gt; | ZINC &lt;dbl&gt; | ZONE &lt;dbl&gt; | ZYRX &lt;dbl&gt; |\n",
       "|---|---|---|---|---|---|---|---|---|---|---|---|---|---|---|---|---|---|---|---|---|---|\n",
       "| 1 | 2010-01-04 | 1006977 | 58500 | 55384 | 0 | 1380000 | 0 | 0 | 162000 |   760195 | ... | 0 | 0 | 0 |  31000 |    0 | 0 | 3 | 0 | 0 | 0 |\n",
       "| 2 | 2010-01-05 | 1761555 | 58500 |     1 | 0 | 2630000 | 0 | 0 | 379000 | 23960287 | ... | 0 | 0 | 0 |  72000 |    0 | 0 | 0 | 0 | 0 | 0 |\n",
       "| 3 | 2010-01-06 | 1070471 | 16500 |  1384 | 0 |  495000 | 0 | 0 | 317000 |  8224249 | ... | 0 | 0 | 0 | 109500 | 1017 | 0 | 0 | 0 | 0 | 0 |\n",
       "| 4 | 2010-01-07 | 2431649 | 80000 |     2 | 0 |  995000 | 0 | 0 | 216500 | 28799017 | ... | 0 | 0 | 0 | 106000 |    0 | 0 | 0 | 0 | 0 | 0 |\n",
       "| 5 | 2010-01-08 |  949256 | 16000 |     1 | 0 |  405000 | 0 | 0 |  54500 |  4495758 | ... | 0 | 0 | 0 |  79500 |    0 | 0 | 0 | 0 | 0 | 0 |\n",
       "| 6 | 2010-01-11 |  806526 | 16000 | 20769 | 0 |  455000 | 0 | 0 | 207500 |  1191561 | ... | 0 | 0 | 0 |  90500 |    0 | 0 | 0 | 0 | 0 | 0 |\n",
       "\n"
      ],
      "text/plain": [
       "  date       AALI    ABBA  ABDA  ABMM ACES    ACST ADCP ADES   ADHI     ...\n",
       "1 2010-01-04 1006977 58500 55384 0    1380000 0    0    162000   760195 ...\n",
       "2 2010-01-05 1761555 58500     1 0    2630000 0    0    379000 23960287 ...\n",
       "3 2010-01-06 1070471 16500  1384 0     495000 0    0    317000  8224249 ...\n",
       "4 2010-01-07 2431649 80000     2 0     995000 0    0    216500 28799017 ...\n",
       "5 2010-01-08  949256 16000     1 0     405000 0    0     54500  4495758 ...\n",
       "6 2010-01-11  806526 16000 20769 0     455000 0    0    207500  1191561 ...\n",
       "  WSKT WTON YELO YPAS   YULE ZATA ZBRA ZINC ZONE ZYRX\n",
       "1 0    0    0     31000    0 0    3    0    0    0   \n",
       "2 0    0    0     72000    0 0    0    0    0    0   \n",
       "3 0    0    0    109500 1017 0    0    0    0    0   \n",
       "4 0    0    0    106000    0 0    0    0    0    0   \n",
       "5 0    0    0     79500    0 0    0    0    0    0   \n",
       "6 0    0    0     90500    0 0    0    0    0    0   "
      ]
     },
     "metadata": {},
     "output_type": "display_data"
    }
   ],
   "source": [
    "stock_vol = stock_vol_orig %>%\n",
    "    select(matches('^(Date|\\\\w{4}\\\\.JK)$')) %>%\n",
    "    rename_all(function(col_name) substr(col_name, 1, 4)) %>%\n",
    "    rename(date=Date) %>%\n",
    "    mutate_all(~ replace(., is.na(.), 0)) %>%\n",
    "    mutate(date=as.Date(date)) %>%\n",
    "    filter(rowSums(select(., -date)) > 0)\n",
    "zoo_stock_vol = zoo::zoo(stock_vol %>% select(-date), as.Date(stock_vol$date))\n",
    "\n",
    "dim(stock_vol)\n",
    "head(stock_vol)"
   ]
  },
  {
   "cell_type": "code",
   "execution_count": 10,
   "id": "0f3c8d69-859f-44b5-935e-afe4d5ecc46f",
   "metadata": {
    "tags": []
   },
   "outputs": [
    {
     "data": {
      "text/html": [
       "<style>\n",
       ".list-inline {list-style: none; margin:0; padding: 0}\n",
       ".list-inline>li {display: inline-block}\n",
       ".list-inline>li:not(:last-child)::after {content: \"\\00b7\"; padding: 0 .5ex}\n",
       "</style>\n",
       "<ol class=list-inline><li>14495</li><li>12</li></ol>\n"
      ],
      "text/latex": [
       "\\begin{enumerate*}\n",
       "\\item 14495\n",
       "\\item 12\n",
       "\\end{enumerate*}\n"
      ],
      "text/markdown": [
       "1. 14495\n",
       "2. 12\n",
       "\n",
       "\n"
      ],
      "text/plain": [
       "[1] 14495    12"
      ]
     },
     "metadata": {},
     "output_type": "display_data"
    }
   ],
   "source": [
    "events = events_orig %>%\n",
    "    dplyr::filter(company_metioned != '') %>%\n",
    "    tidyr::separate_rows(company_metioned, sep=',') %>%\n",
    "    dplyr::mutate(date=as.Date(substr(timestamp, 1, 10)))\n",
    "dim(events)"
   ]
  },
  {
   "cell_type": "code",
   "execution_count": 11,
   "id": "cec7c4df-18a5-4df6-855a-16310892e5e9",
   "metadata": {
    "tags": []
   },
   "outputs": [
    {
     "name": "stderr",
     "output_type": "stream",
     "text": [
      "\u001b[1m\u001b[22m`summarise()` has grouped output by 'firm'. You can override using the `.groups` argument.\n"
     ]
    },
    {
     "data": {
      "text/html": [
       "<style>\n",
       ".list-inline {list-style: none; margin:0; padding: 0}\n",
       ".list-inline>li {display: inline-block}\n",
       ".list-inline>li:not(:last-child)::after {content: \"\\00b7\"; padding: 0 .5ex}\n",
       "</style>\n",
       "<ol class=list-inline><li>12843</li><li>5</li></ol>\n"
      ],
      "text/latex": [
       "\\begin{enumerate*}\n",
       "\\item 12843\n",
       "\\item 5\n",
       "\\end{enumerate*}\n"
      ],
      "text/markdown": [
       "1. 12843\n",
       "2. 5\n",
       "\n",
       "\n"
      ],
      "text/plain": [
       "[1] 12843     5"
      ]
     },
     "metadata": {},
     "output_type": "display_data"
    },
    {
     "data": {
      "text/html": [
       "<table class=\"dataframe\">\n",
       "<caption>A grouped_df: 6 × 5</caption>\n",
       "<thead>\n",
       "\t<tr><th scope=col>firm</th><th scope=col>date</th><th scope=col>n</th><th scope=col>max_score</th><th scope=col>sum_score</th></tr>\n",
       "\t<tr><th scope=col>&lt;chr&gt;</th><th scope=col>&lt;date&gt;</th><th scope=col>&lt;int&gt;</th><th scope=col>&lt;dbl&gt;</th><th scope=col>&lt;dbl&gt;</th></tr>\n",
       "</thead>\n",
       "<tbody>\n",
       "\t<tr><td>AALI</td><td>2016-02-05</td><td>1</td><td>0.6107671</td><td>0.6107671</td></tr>\n",
       "\t<tr><td>AALI</td><td>2016-02-29</td><td>1</td><td>0.5373070</td><td>0.5373070</td></tr>\n",
       "\t<tr><td>AALI</td><td>2016-03-14</td><td>1</td><td>0.6783051</td><td>0.6783051</td></tr>\n",
       "\t<tr><td>AALI</td><td>2016-04-25</td><td>1</td><td>0.6064426</td><td>0.6064426</td></tr>\n",
       "\t<tr><td>AALI</td><td>2016-08-16</td><td>1</td><td>0.5889188</td><td>0.5889188</td></tr>\n",
       "\t<tr><td>AALI</td><td>2016-09-07</td><td>1</td><td>0.5048047</td><td>0.5048047</td></tr>\n",
       "</tbody>\n",
       "</table>\n"
      ],
      "text/latex": [
       "A grouped\\_df: 6 × 5\n",
       "\\begin{tabular}{lllll}\n",
       " firm & date & n & max\\_score & sum\\_score\\\\\n",
       " <chr> & <date> & <int> & <dbl> & <dbl>\\\\\n",
       "\\hline\n",
       "\t AALI & 2016-02-05 & 1 & 0.6107671 & 0.6107671\\\\\n",
       "\t AALI & 2016-02-29 & 1 & 0.5373070 & 0.5373070\\\\\n",
       "\t AALI & 2016-03-14 & 1 & 0.6783051 & 0.6783051\\\\\n",
       "\t AALI & 2016-04-25 & 1 & 0.6064426 & 0.6064426\\\\\n",
       "\t AALI & 2016-08-16 & 1 & 0.5889188 & 0.5889188\\\\\n",
       "\t AALI & 2016-09-07 & 1 & 0.5048047 & 0.5048047\\\\\n",
       "\\end{tabular}\n"
      ],
      "text/markdown": [
       "\n",
       "A grouped_df: 6 × 5\n",
       "\n",
       "| firm &lt;chr&gt; | date &lt;date&gt; | n &lt;int&gt; | max_score &lt;dbl&gt; | sum_score &lt;dbl&gt; |\n",
       "|---|---|---|---|---|\n",
       "| AALI | 2016-02-05 | 1 | 0.6107671 | 0.6107671 |\n",
       "| AALI | 2016-02-29 | 1 | 0.5373070 | 0.5373070 |\n",
       "| AALI | 2016-03-14 | 1 | 0.6783051 | 0.6783051 |\n",
       "| AALI | 2016-04-25 | 1 | 0.6064426 | 0.6064426 |\n",
       "| AALI | 2016-08-16 | 1 | 0.5889188 | 0.5889188 |\n",
       "| AALI | 2016-09-07 | 1 | 0.5048047 | 0.5048047 |\n",
       "\n"
      ],
      "text/plain": [
       "  firm date       n max_score sum_score\n",
       "1 AALI 2016-02-05 1 0.6107671 0.6107671\n",
       "2 AALI 2016-02-29 1 0.5373070 0.5373070\n",
       "3 AALI 2016-03-14 1 0.6783051 0.6783051\n",
       "4 AALI 2016-04-25 1 0.6064426 0.6064426\n",
       "5 AALI 2016-08-16 1 0.5889188 0.5889188\n",
       "6 AALI 2016-09-07 1 0.5048047 0.5048047"
      ]
     },
     "metadata": {},
     "output_type": "display_data"
    }
   ],
   "source": [
    "firm_dates = events %>%\n",
    "    #filter(date >= '2010-03-01') %>%\n",
    "    rename(firm=company_metioned) %>%\n",
    "    group_by(firm, date) %>%\n",
    "    summarise(n=n(), max_score=max(similarity), sum_score=sum(similarity))\n",
    "dim(firm_dates)\n",
    "head(firm_dates)"
   ]
  },
  {
   "cell_type": "code",
   "execution_count": 12,
   "id": "15c80080-7f30-478c-9adf-5814488c0f45",
   "metadata": {
    "tags": []
   },
   "outputs": [
    {
     "data": {
      "text/plain": [
       "\n",
       "    1     2     3     4     5     6 \n",
       "11437  1210   153    37     5     1 "
      ]
     },
     "metadata": {},
     "output_type": "display_data"
    }
   ],
   "source": [
    "table(firm_dates$n)"
   ]
  },
  {
   "cell_type": "code",
   "execution_count": 13,
   "id": "fa52937f-ea44-4592-8878-900e0f84cd96",
   "metadata": {
    "tags": []
   },
   "outputs": [
    {
     "data": {
      "image/png": "[encoded data removed]",
      "text/plain": [
       "Plot with title \"Histogram of firm_dates$max_score\""
      ]
     },
     "metadata": {
      "image/png": {
       "height": 420,
       "width": 420
      }
     },
     "output_type": "display_data"
    }
   ],
   "source": [
    "hist(firm_dates$max_score)"
   ]
  },
  {
   "cell_type": "code",
   "execution_count": 14,
   "id": "0ab267f2-3b71-4f3a-8d00-d76b85114737",
   "metadata": {
    "tags": []
   },
   "outputs": [
    {
     "data": {
      "image/png": "[encoded data removed]",
      "text/plain": [
       "Plot with title \"Histogram of firm_dates$sum_score\""
      ]
     },
     "metadata": {
      "image/png": {
       "height": 420,
       "width": 420
      }
     },
     "output_type": "display_data"
    }
   ],
   "source": [
    "hist(firm_dates$sum_score)"
   ]
  },
  {
   "cell_type": "markdown",
   "id": "211169db-26ce-4bce-a9ab-5080ebb8bbc2",
   "metadata": {},
   "source": [
    "---"
   ]
  },
  {
   "cell_type": "markdown",
   "id": "852a0d14-0096-4ce9-90a1-f6da38a9606d",
   "metadata": {},
   "source": [
    "## CausalImpact"
   ]
  },
  {
   "cell_type": "code",
   "execution_count": 16,
   "id": "59fdc0df-7ef1-48db-9508-defafee2c80c",
   "metadata": {
    "tags": []
   },
   "outputs": [],
   "source": [
    "get_date_index = function(dt, date_col) {\n",
    "    testit::assert(length(dt) == 1)\n",
    "    testit::assert(length(date_col) >= 1)\n",
    "    \n",
    "    dt = as.Date(dt)\n",
    "    if (class(date_col) != 'Date') {\n",
    "        date_col = as.Date(date_col)\n",
    "    }\n",
    "    \n",
    "    max_dt = max(date_col)\n",
    "    if ((dt > max_dt) | (dt < min(date_col))) {\n",
    "        return(0)\n",
    "    }\n",
    "    \n",
    "    while (dt <= max_dt) {\n",
    "        idx = which(date_col == dt)\n",
    "        if (length(idx) > 0) {\n",
    "            return(idx)\n",
    "        }\n",
    "        \n",
    "        dt = dt + 1\n",
    "    }\n",
    "    return(0)\n",
    "}\n",
    "\n",
    "\n",
    "get_series = function(dt, date_col, x, n_pre=66, n_post=5) {\n",
    "    testit::assert(n_post >= 1)\n",
    "    testit::assert(n_pre >= 3)\n",
    "    \n",
    "    if (length(x) < n_pre + n_post) {\n",
    "        return()\n",
    "    }\n",
    "    \n",
    "    idx = get_date_index(dt, date_col)\n",
    "    if (idx == 0) {\n",
    "        return()\n",
    "    }\n",
    "    \n",
    "    pre = x[max(idx - n_pre, 1):(idx - 1)]\n",
    "    post = x[idx : min(idx + n_post - 1, length(x))]\n",
    "    \n",
    "    if ((length(pre) < n_pre) | (length(post) < n_post)) {\n",
    "        return()\n",
    "    }\n",
    "    \n",
    "    pre = zoo::zoo(pre, date_col[max(idx - n_pre, 1):(idx - 1)])\n",
    "    post = zoo::zoo(post, date_col[idx : min(idx + n_post - 1, length(x))])\n",
    "    \n",
    "    return(list(pre=pre, post=post, index=idx, date=date_col[idx]))\n",
    "}\n",
    "\n",
    "run_causalimpact = function(obs_id, date, date_col, n_pre, n_post, X=NULL, select_data=NULL, normalize=NULL, causalimpact_args=list(), metadata=list()) {\n",
    "    cat(obs_id); cat(date); cat('  '); flush.console()\n",
    "    \n",
    "    testit::assert(!is.null(X) | !is.null(select_data))\n",
    "    empty_result = list(obs_id=obs_id, event_date=date, metadata=metadata)\n",
    "    \n",
    "    if (is.null(select_data)) {\n",
    "        testit::assert(obs_id %in% names(X))\n",
    "        testit::assert(nrow(X) > n_pre + n_post)\n",
    "        testit::assert(nrow(X) == length(date_col))\n",
    "        \n",
    "        series = get_series(date, date_col, X[[obs_id]], n_pre=n_pre, n_post=n_post)\n",
    "        dates = zoo::index(c(series$pre, series$post))\n",
    "        data = as.data.frame(c(series$pre, series$post))\n",
    "        names(data) = obs_id\n",
    "        data = zoo::zoo(data, dates)\n",
    "    } else {\n",
    "        data = select_data(obs_id, date, n_pre=n_pre, n_post=n_post)\n",
    "        dates = zoo::index(data)\n",
    "    }\n",
    "    testit::assert(nrow(data) == n_pre + n_post)\n",
    "    \n",
    "    if (!is.null(normalize)) {\n",
    "        if (is.function(normalize)) {\n",
    "            data[,obs_id] = normalize(data[,obs_id])\n",
    "        } else {\n",
    "            testit::assert(normalize %in% c('standardize', '1_mean'))\n",
    "            \n",
    "            if (normalize == 'standardize') {\n",
    "                m = mean(data[1:n_pre, obs_id], na.rm=TRUE)\n",
    "                s = sd(data[1:n_pre, obs_id], na.rm=TRUE)    # s can be 0 --> CI won't run --> this result will be ignored\n",
    "                \n",
    "                if (is.na(s) | (s == 0)) { return(empty_result) }\n",
    "                data[,obs_id] = (data[,obs_id] - m) / s\n",
    "\n",
    "            } else if (normalize == '1_mean') {\n",
    "                m = mean(data[1:n_pre, obs_id], na.rm=TRUE)    # m can be 0 --> CI won't run --> this result will be ignored\n",
    "                \n",
    "                if (is.na(m) | (m == 0)) { return(empty_result) }\n",
    "                data[,obs_id] = data[,obs_id]/m\n",
    "            }\n",
    "        }\n",
    "    }\n",
    "    \n",
    "    pre_period = c(dates[1], dates[n_pre])\n",
    "    post_period = c(dates[n_pre + 1], dates[nrow(data)])\n",
    "    \n",
    "    ci_args = causalimpact_args\n",
    "    # model = CausalImpact::CausalImpact(series, pre.period=c(1,n_pre), post.period=c(n_pre+1, n_pre+n_post))\n",
    "    model = CausalImpact::CausalImpact(data, pre.period=pre_period, post.period=post_period, model.args=list(\n",
    "        standardize.data=ci_args$model$standardize.data, nseasons=ci_args$model$nseasons, season.duration=ci_args$model$season.duration))\n",
    "    \n",
    "    model$obs_id = obs_id\n",
    "    model$event_date = date\n",
    "    model$metadata = metadata\n",
    "    \n",
    "    return(model)\n",
    "}\n",
    "\n",
    "concat_causalimpact_series = function(ci_results) {\n",
    "    return(\n",
    "        bind_rows(\n",
    "            lapply(ci_results, function(x) {\n",
    "                if (is.null(x$series)) { return() }\n",
    "                \n",
    "                obs_id = x$obs_id\n",
    "                evt_date = x$event_date\n",
    "                \n",
    "                x = as.data.frame(x$series)\n",
    "                x$obs_id = obs_id\n",
    "                x$event_date = evt_date\n",
    "                x$date = as.Date(rownames(x))\n",
    "                rownames(x) = 1:nrow(x)\n",
    "                \n",
    "                return(x)\n",
    "        }))\n",
    "    )\n",
    "}\n",
    "\n",
    "concat_causalimpact_summary = function(ci_results, is_avg=TRUE) {\n",
    "    if (length(ci_results) == 0) {\n",
    "        return()\n",
    "    }\n",
    "    \n",
    "    if (is_avg) { col = 'Average' }\n",
    "    else { col = 'Cumulative' }\n",
    "    \n",
    "    df_result = bind_rows(lapply(ci_results, function(x) if(is.null(x$summary)) data.frame(matrix(nrow=1, ncol=0)) else x$summary[col,]))\n",
    "    df_result$obs_id = purrr::map_chr(ci_results, purrr::pluck, 'obs_id')\n",
    "    df_result$event_date = purrr::map_vec(ci_results, purrr::pluck, 'event_date')\n",
    "    \n",
    "    df_metadata = bind_rows(purrr::map(ci_results, purrr::pluck, 'metadata'))\n",
    "    df_result = bind_cols(df_result, df_metadata)\n",
    "    \n",
    "    df_result = df_result %>% filter(!is.na(p))    # null: if series is ill-defined e.g. normalized with 0 sd\n",
    "    rownames(df_result) = 1:nrow(df_result)\n",
    "    return(df_result)\n",
    "}"
   ]
  },
  {
   "cell_type": "code",
   "execution_count": 17,
   "id": "1de52fe5-dc74-442e-b7e1-37ab68e94530",
   "metadata": {
    "tags": []
   },
   "outputs": [
    {
     "name": "stdout",
     "output_type": "stream",
     "text": [
      "[1] 2016\n",
      "AALI16836  AALI16860  AALI16874  AALI16916  AALI17029  AALI17051  AALI17098  AALI17164  ACES16821  ACES16840  ACES16962  ACST16846  ACST16993  ADHI16811  ADHI16819  ADHI16820  ADHI16854  ADHI16874  ADHI16881  ADHI16882  ADHI16910  ADHI16993  ADHI17077  ADMF17011  ADRO16841  ADRO16842  ADRO16847  ADRO16864  ADRO16881  ADRO16968  ADRO16975  ADRO17017  ADRO17019  ADRO17077  ADRO17086  ADRO17088  ADRO17098  ADRO17102  ADRO17137  ADRO17151  AGRO17063  AISA16879  AISA17021  AISA17063  AKRA16819  AKRA16840  AKRA16842  AKRA16847  AKRA16878  AKRA16966  AKRA17008  AKRA17009  AKRA17023  AKRA17029  AKRA17137  ANTM16810  ANTM16814  ANTM16815  ANTM16912  ANTM16913  ANTM16946  ANTM16968  ANTM16975  ANTM17019  ANTM17052  ANTM17054  ANTM17063  ANTM17077  ANTM17078  ANTM17086  APLN16881  APLN16895  APLN16896  APLN16910  ARNA17034  ARNA17035  ARTO16930  ASII16853  ASII16874  ASII16879  ASII16881  ASII16946  ASII16981  ASII16982  ASII17079  ASII17109  ASII17164  ASRI16874  ASRI16879  ASRI16881  BALI17137  BBCA16815  BBCA16848  BBCA16853  BBCA16871  BBCA16881  BBCA16891  BBCA16904  BBCA16907  BBCA16910  BBCA16945  BBCA16981  BBCA16982  BBCA17036  BBCA17064  BBCA17100  BBCA17134  BBCA17149  BBNI16815  BBNI16828  BBNI16840  BBNI16846  BBNI16848  BBNI16853  BBNI16907  BBNI16981  BBNI17036  BBNI17100  BBNI17161  BBRI16804  BBRI16811  BBRI16813  BBRI16815  BBRI16825  BBRI16826  BBRI16840  BBRI16846  BBRI16848  BBRI16853  BBRI16881  BBRI16907  BBRI16979  BBRI16981  BBRI17036  BBRI17079  BBRI17100  BBRI17161  BBTN16815  BBTN16819  BBTN16820  BBTN16840  BBTN16846  BBTN16848  BBTN16907  BBTN16945  BBTN16979  BBTN17100  BBTN17161  BDMN16815  BDMN16840  BDMN16945  BHIT16819  BIPI17004  BJBR16811  BJBR16907  BJTM16907  BKSL16874  BKSL16895  BKSL16896  BKSL17004  BMRI16804  BMRI16811  BMRI16815  BMRI16840  BMRI16846  BMRI16848  BMRI16853  BMRI16874  BMRI16881  BMRI16907  BMRI16981  BMRI17029  BMRI17036  BMRI17100  BMRI17102  BMRI17161  BMTR16910  BNBR17004  BNGA17157  BNGA17160  BNLI16916  BNLI17003  BNLI17164  BRMS17004  BSDE16811  BSDE16879  BSDE16881  BSDE16979  BSDE17079  BTEL16806  BTPN16862  BTPN16881  BTPN17024  BWPT16916  BWPT16928  BWPT17098  CITA17054  CMNP17102  CPIN16811  CPIN16826  CPIN16827  CPIN16906  CPIN16979  CPIN17023  CSAP16979  CTRA16811  CTRA16879  DEWA17004  DILD16895  DILD16896  DILD16910  DILD17009  DKFT17054  DOID17019  DSSA16874  DSSA17024  ELSA16975  ELSA17019  ELSA17063  ELSA17077  ELSA17137  ENRG16819  ENRG17004  EXCL16806  EXCL16819  EXCL16871  EXCL17036  FORU16928  GGRM16853  GGRM16854  GGRM16874  GGRM16881  GGRM16882  GGRM16979  GGRM16982  GGRM17023  GGRM17038  GGRM17079  GIAA16819  GIAA16820  GIAA16945  GJTL16945  GJTL17063  GJTL17109  HEXA16829  HMSP16853  HMSP16854  HMSP16874  HMSP16881  HMSP16882  HMSP16919  HMSP16979  HMSP16981  HMSP16982  HMSP17023  HMSP17038  HRUM17137  HRUM17144  ICBP16834  ICBP16854  ICBP16979  ICBP16981  ICBP16982  ICBP17021  ICBP17154  ICON16906  IMAS17109  IMJS17011  INAF16832  INAF16874  INAF16881  INAF16891  INAF16944  INAF16983  INCO16881  INCO16945  INCO17029  INCO17054  INCO17077  INDF16834  INDF16853  INDF16854  INDF16879  INDF16979  INDF16981  INDF17021  INDF17079  INDF17154  INDO16945  INDS17023  INDY16822  INTA16829  INTP16807  INTP16825  INTP16859  INTP16925  INTP17034  INTP17035  INTP17164  IPOL16916  ISAT16806  ISAT17031  ISSP17063  ITMG16864  ITMG16881  ITMG17019  ITMG17137  JPFA16826  JPFA16827  JSMR16853  JSMR16981  KAEF16832  KAEF16891  KAEF16944  KAEF16983  KAEF17063  KIJA16921  KINO17021  KKGI17019  KLBF16832  KLBF16871  KLBF16879  KLBF16891  KLBF16944  KLBF16981  KLBF16983  KLBF17023  KLBF17128  KLBF17154  KRAS17034  KRAS17035  LEAD16808  LPCK16811  LPKR16811  LPKR16819  LPKR16874  LPKR16879  LPPF16962  LPPF17023  LSIP16836  LSIP16857  LSIP16860  LSIP16874  LSIP16916  LSIP16945  LSIP17029  LSIP17072  LSIP17098  LSIP17164  MAIN16826  MAIN16827  MAIN16856  MAPI16962  MARI16930  MASA16819  MBTO16813  MDRN16961  MEDC16819  MEDC16939  MEDC16975  MEDC17019  MEDC17034  MEDC17057  MEDC17086  MEDC17137  MERK16983  MIKA17023  MLIA17034  MLIA17035  MPMX17017  MPPA16840  MTRA16930  MYOR16806  MYOR17021  MYOR17024  MYOR17063  NUSA16822  OKAS16924  PALM16974  PBRX17128  PEHA16832  PGAS16853  PGAS16862  PGAS16934  PGAS16981  PGAS17011  PGAS17086  PGAS17102  PJAA16895  PJAA16896  PJAA17031  POWR17024  PPRO17063  PPRO17102  PTBA16841  PTBA16842  PTBA16847  PTBA16864  PTBA16881  PTBA16968  PTBA16975  PTBA17019  PTBA17023  PTBA17086  PTBA17088  PTBA17102  PTBA17137  PTPP16811  PTPP16881  PTPP16979  PTPP16993  PTPP17077  PWON16811  PWON16879  PWON17029  PWON17063  RALS16840  RALS16962  RALS17063  RALS17102  RELI16934  ROTI17023  SCMA17023  SCMA17134  SGRO16905  SGRO16916  SGRO17017  SGRO17024  SGRO17029  SGRO17072  SGRO17098  SGRO17164  SIDO17063  SIMP16836  SIMP16857  SIMP16860  SIMP16874  SIMP16916  SIMP17029  SIMP17112  SIMP17164  SMAR16874  SMAR16910  SMAR17024  SMAR17029  SMBR16925  SMBR17164  SMCB16825  SMCB16925  SMCB17164  SMGR16804  SMGR16811  SMGR16825  SMGR16925  SMGR17034  SMGR17035  SMGR17164  SMMT16928  SMRA16881  SMSM17024  SOCI16819  SOCI16820  SRIL16819  SRIL17023  SRIL17102  SRIL17128  SRTG17017  SRTG17134  SSIA17031  SSMS16860  SSMS16933  SSMS17018  SSMS17029  SSMS17072  SSMS17098  SSMS17164  TAXI16928  TBIG16819  TBIG16981  TBLA17095  TELE17063  TINS16822  TINS16836  TINS16882  TINS16968  TINS17054  TINS17077  TINS17086  TINS17106  TINS17151  TINS17152  TINS17163  TLKM16806  TLKM16813  TLKM16819  TLKM16874  TLKM16979  TLKM16981  TLKM16982  TLKM17023  TOTL16876  TOTL16993  TOTL17063  TRIO16806  TRIO16819  TSPC16832  TSPC16891  ULTJ17154  UNTR16829  UNTR16834  UNTR16846  UNTR17164  UNVR16819  UNVR16853  UNVR16854  UNVR16874  UNVR16879  UNVR16890  UNVR16981  UNVR16982  UNVR17021  UNVR17023  UNVR17058  UNVR17154  WIKA16804  WIKA16811  WIKA16819  WIKA16820  WIKA16879  WIKA16881  WIKA16993  WIKA17077  WOMF17011  WSKT16811  WSKT16819  WSKT16820  WSKT16881  WSKT16979  WSKT16993  WSKT17029  WTON16860  WTON16981  WTON16993  WTON17063  [1] 2017\n",
      "AALI17193  AALI17196  AALI17203  AALI17258  AALI17277  AALI17286  AALI17382  AALI17405  AALI17423  AALI17427  AALI17430  AALI17441  AALI17456  AALI17461  AALI17466  AALI17479  AALI17482  AALI17483  AALI17484  AALI17499  AALI17500  AALI17510  AALI17511  AALI17518  AALI17530  ABMM17357  ABMM17491  ABMM17492  ACES17427  ACES17435  ACES17469  ACST17386  ADHI17182  ADHI17203  ADHI17210  ADHI17239  ADHI17245  ADHI17308  ADHI17405  ADHI17419  ADHI17430  ADHI17448  ADHI17465  ADHI17506  ADHI17530  ADMG17419  ADMG17420  ADRO17168  ADRO17234  ADRO17239  ADRO17349  ADRO17350  ADRO17360  ADRO17373  ADRO17384  ADRO17385  ADRO17392  ADRO17412  ADRO17415  ADRO17416  ADRO17417  ADRO17422  ADRO17423  ADRO17430  ADRO17439  ADRO17440  ADRO17441  ADRO17444  ADRO17461  ADRO17466  ADRO17467  ADRO17476  ADRO17485  ADRO17491  ADRO17493  ADRO17511  ADRO17512  ADRO17518  AGII17169  AGII17284  AGII17381  AGII17511  AGRO17204  AGRO17357  AGRO17437  AGRS17389  AISA17239  AISA17385  AISA17433  AISA17435  AISA17457  AISA17504  AKPI17174  AKRA17168  AKRA17169  AKRA17190  AKRA17193  AKRA17197  AKRA17203  AKRA17282  AKRA17295  AKRA17464  AMRT17445  ANJT17499  ANJT17500  ANTM17168  ANTM17179  ANTM17182  ANTM17184  ANTM17185  ANTM17197  ANTM17203  ANTM17204  ANTM17210  ANTM17224  ANTM17239  ANTM17243  ANTM17303  ANTM17335  ANTM17340  ANTM17367  ANTM17389  ANTM17398  ANTM17409  ANTM17430  ANTM17433  ANTM17439  ANTM17444  ANTM17448  ANTM17477  ANTM17486  ANTM17491  ANTM17493  ANTM17498  ANTM17512  ANTM17521  ANTM17522  ANTM17530  APEX17465  APII17330  APLI17174  APLN17265  APLN17304  APLN17308  APLN17381  APLN17401  APLN17433  APLN17445  APLN17446  APLN17505  APLN17522  ARNA17259  ASII17212  ASII17224  ASII17239  ASII17277  ASII17308  ASII17325  ASII17327  ASII17333  ASII17360  ASII17361  ASII17368  ASII17373  ASII17377  ASII17380  ASII17401  ASII17412  ASII17415  ASII17430  ASII17431  ASII17433  ASII17435  ASII17439  ASII17443  ASII17444  ASII17470  ASII17476  ASII17479  ASII17506  ASII17510  ASII17511  ASRI17247  ASRI17401  ASRI17433  ASRI17466  ASRI17467  ASRI17476  ASSA17193  ASSA17386  AUTO17477  AUTO17478  BAJA17428  BBCA17174  BBCA17182  BBCA17217  BBCA17236  BBCA17244  BBCA17282  BBCA17294  BBCA17308  BBCA17322  BBCA17327  BBCA17349  BBCA17373  BBCA17401  BBCA17402  BBCA17405  BBCA17414  BBCA17419  BBCA17420  BBCA17430  BBCA17433  BBCA17435  BBCA17443  BBCA17450  BBCA17454  BBCA17455  BBCA17457  BBCA17462  BBCA17470  BBCA17476  BBCA17477  BBCA17493  BBCA17506  BBCA17507  BBCA17522  BBKP17335  BBKP17419  BBKP17420  BBNI17182  BBNI17217  BBNI17236  BBNI17282  BBNI17290  BBNI17308  BBNI17322  BBNI17378  BBNI17405  BBNI17412  BBNI17419  BBNI17420  BBNI17430  BBNI17435  BBNI17439  BBNI17443  BBNI17454  BBNI17455  BBNI17457  BBNI17462  BBNI17470  BBNI17477  BBNI17489  BBNI17491  BBNI17503  BBNI17518  BBNI17521  BBNI17522  BBNI17530  BBRI17182  BBRI17217  BBRI17227  BBRI17236  BBRI17277  BBRI17282  BBRI17290  BBRI17308  BBRI17322  BBRI17327  BBRI17333  BBRI17349  BBRI17373  BBRI17378  BBRI17385  BBRI17401  BBRI17402  BBRI17420  BBRI17430  BBRI17433  BBRI17434  BBRI17435  BBRI17439  BBRI17443  BBRI17450  BBRI17454  BBRI17455  BBRI17457  BBRI17462  BBRI17470  BBRI17476  BBRI17477  BBRI17489  BBRI17491  BBRI17507  BBRI17518  BBRI17521  BBRI17522  BBRM17330  BBTN17196  BBTN17203  BBTN17217  BBTN17236  BBTN17349  BBTN17378  BBTN17401  BBTN17415  BBTN17419  BBTN17420  BBTN17433  BBTN17445  BBTN17454  BBTN17455  BBTN17462  BBTN17476  BBTN17483  BBTN17484  BBTN17490  BBTN17491  BBTN17518  BDMN17401  BDMN17419  BDMN17420  BDMN17433  BDMN17518  BEKS17412  BEST17335  BEST17433  BHIT17303  BIKA17330  BINA17389  BIPI17340  BIPI17373  BIPI17500  BIRD17193  BIRD17330  BIRD17354  BISI17208  BISI17389  BJBR17420  BJTM17203  BJTM17412  BJTM17415  BJTM17419  BKSL17405  BKSL17412  BLTA17283  BLTA17340  BMRI17182  BMRI17217  BMRI17227  BMRI17236  BMRI17282  BMRI17290  BMRI17294  BMRI17308  BMRI17322  BMRI17327  BMRI17378  BMRI17401  BMRI17402  BMRI17412  BMRI17419  BMRI17420  BMRI17430  BMRI17434  BMRI17440  BMRI17441  BMRI17443  BMRI17448  BMRI17454  BMRI17455  BMRI17457  BMRI17462  BMRI17464  BMRI17470  BMRI17491  BMRI17503  BMRI17507  BMRI17521  BMRI17522  BMRI17530  BMTR17193  BMTR17518  BNBR17203  BNBR17515  BNGA17203  BNGA17239  BNGA17294  BNGA17335  BNGA17420  BNGA17434  BNII17360  BNLI17204  BNLI17224  BNLI17232  BNLI17242  BNLI17277  BNLI17294  BNLI17335  BNLI17361  BNLI17401  BNLI17405  BNLI17413  BNLI17419  BNLI17421  BNLI17485  BPFI17463  BPFI17464  BRMS17185  BRMS17203  BRMS17204  BRMS17206  BRPT17168  BRPT17169  BRPT17395  BRPT17405  BRPT17415  BRPT17439  BRPT17461  BRPT17476  BRPT17487  BRPT17488  BRPT17489  BRPT17503  BRPT17506  BRPT17510  BRPT17521  BRPT17522  BSDE17265  BSDE17308  BSDE17349  BSDE17401  BSDE17402  BSDE17405  BSDE17422  BSDE17423  BSDE17430  BSDE17433  BSDE17439  BSDE17440  BSDE17445  BSDE17446  BSDE17466  BSDE17473  BSDE17476  BSDE17493  BSDE17505  BSDE17518  BSDE17521  BSDE17522  BTEK17395  BTEK17412  BTPN17335  BTPN17420  BULL17437  BUMI17168  BUMI17203  BUMI17204  BUMI17206  BUMI17298  BUMI17349  BUMI17373  BUMI17399  BUMI17412  BUMI17422  BUMI17423  BUMI17436  BUMI17439  BUMI17457  BUMI17512  BUMI17515  BUMI17518  BUMI17527  BUMI17528  BWPT17193  BWPT17217  BWPT17361  BWPT17412  BWPT17432  BWPT17461  BWPT17499  BYAN17365  BYAN17379  CARS17330  CASA17294  CINT17330  CITA17179  CMPP17408  CMPP17412  CMPP17444  CPIN17287  CPIN17351  CPIN17380  CPIN17455  CSAP17193  CTRA17265  CTRA17308  CTRA17401  CTRA17405  CTRA17412  CTRA17414  CTRA17445  CTRA17446  CTRA17476  CTRA17499  CTRA17505  DAYA17437  DAYA17438  DEWA17203  DGIK17366  DGIK17367  DGIK17433  DILD17265  DILD17304  DILD17414  DILD17433  DILD17473  DKFT17412  DKFT17433  DMAS17316  DMAS17412  DMAS17413  DMAS17414  DOID17168  DOID17204  DOID17373  DOID17392  DOID17415  DOID17493  DOID17513  DPNS17169  DPUM17330  DSFI17389  DSFI17466  DSFI17467  DSNG17202  DSNG17258  DSNG17456  DSNG17499  DSSA17406  DYAN17330  ECII17330  EKAD17169  ELSA17168  ELSA17169  ELSA17203  ELSA17354  ELSA17476  ELSA17499  ELSA17500  ELSA17512  ENRG17457  ERAA17214  ERAA17335  ERAA17435  ESSA17463  ETWA17169  ETWA17465  EXCL17168  EXCL17254  EXCL17269  EXCL17333  EXCL17389  EXCL17422  FAST17504  FASW17392  FASW17463  FASW17464  FIRE17354  FIRE17355  FPNI17174  FPNI17414  GDST17428  GDYR17406  GGRM17193  GGRM17295  GGRM17352  GGRM17431  GGRM17451  GGRM17470  GGRM17483  GGRM17493  GGRM17519  GGRM17521  GGRM17522  GIAA17193  GIAA17354  GIAA17412  GJTL17247  GJTL17303  GJTL17360  GJTL17511  GMFI17455  GMFI17476  GOLL17330  GOLL17499  HDFA17389  HITS17515  HMSP17193  HMSP17234  HMSP17238  HMSP17295  HMSP17377  HMSP17412  HMSP17443  HMSP17450  HMSP17451  HMSP17455  HMSP17470  HMSP17483  HMSP17493  HOKI17389  HOTL17330  HRTA17330  HRTA17409  HRUM17360  HRUM17392  HRUM17416  HRUM17417  HRUM17422  HRUM17423  HRUM17444  HRUM17466  HRUM17467  HRUM17476  IBFN17330  IBFN17457  ICBP17182  ICBP17193  ICBP17287  ICBP17389  ICBP17392  ICBP17416  ICBP17430  ICBP17433  ICBP17439  ICBP17476  IDPR17330  IGAR17174  IKAI17259  IMAS17206  IMAS17477  IMAS17478  IMAS17511  IMJS17330  IMPC17330  INAF17168  INAF17239  INAF17461  INAF17522  INCI17169  INCO17168  INCO17177  INCO17179  INCO17184  INCO17185  INCO17186  INCO17197  INCO17217  INCO17284  INCO17340  INCO17361  INCO17367  INCO17389  INCO17414  INCO17416  INCO17417  INCO17433  INCO17444  INCO17466  INCO17477  INCO17512  INCO17530  INDF17169  INDF17174  INDF17182  INDF17193  INDF17206  INDF17234  INDF17287  INDF17354  INDF17387  INDF17401  INDF17430  INDF17433  INDF17434  INDF17439  INDF17466  INDF17467  INDF17506  INDF17518  INDO17242  INDR17419  INDR17420  INDY17392  INDY17422  INDY17423  INDY17476  INDY17486  INDY17491  INDY17492  INDY17507  INDY17512  INKP17392  INKP17461  INKP17487  INKP17488  INTP17189  INTP17260  INTP17298  INTP17380  INTP17433  INTP17489  INTP17493  INTP17507  ISAT17168  ISAT17218  ISAT17247  ISAT17254  ISAT17269  ISAT17284  ISAT17308  ISAT17389  ISAT17422  ISSP17330  ITMG17349  ITMG17350  ITMG17360  ITMG17373  ITMG17384  ITMG17385  ITMG17392  ITMG17416  ITMG17417  ITMG17422  ITMG17423  ITMG17441  ITMG17444  ITMG17455  ITMG17466  ITMG17467  ITMG17491  ITMG17493  ITMG17512  JAWA17389  JPFA17182  JPFA17247  JPFA17287  JPFA17351  JPFA17455  JSMR17174  JSMR17224  JSMR17239  JSMR17275  JSMR17351  JSMR17357  JSMR17377  JSMR17379  JSMR17395  JSMR17407  JSMR17430  JSMR17433  JSMR17448  JSMR17465  JSMR17485  KAEF17193  KAEF17239  KAEF17407  KAEF17422  KAEF17461  KAEF17527  KBLI17239  KBRI17392  KIAS17259  KIAS17363  KIJA17491  KIJA17492  KINO17193  KINO17330  KIOS17461  KKGI17493  KLBF17193  KLBF17234  KLBF17239  KLBF17263  KLBF17298  KLBF17389  KLBF17401  KLBF17405  KLBF17406  KLBF17414  KLBF17422  KLBF17436  KLBF17443  KLBF17444  KLBF17466  KLBF17467  KLBF17476  KLBF17477  KLBF17506  KLBF17507  KLBF17521  KLBF17522  KRAS17416  KRAS17428  KRAS17433  LINK17193  LPCK17335  LPCK17437  LPCK17438  LPKR17298  LPKR17414  LPKR17435  LPKR17445  LPKR17446  LPKR17473  LPKR17483  LPKR17484  LPKR17493  LPKR17518  LPPF17168  LPPF17203  LPPF17435  LPPF17439  LPPF17472  LRNA17330  LSIP17175  LSIP17193  LSIP17196  LSIP17210  LSIP17211  LSIP17226  LSIP17227  LSIP17239  LSIP17258  LSIP17259  LSIP17260  LSIP17382  LSIP17387  LSIP17405  LSIP17412  LSIP17423  LSIP17427  LSIP17430  LSIP17444  LSIP17456  LSIP17466  LSIP17470  LSIP17476  LSIP17482  LSIP17483  LSIP17499  LSIP17500  LSIP17510  LSIP17511  LSIP17518  LSIP17530  MAGP17330  MAIN17455  MAMI17268  MAMI17269  MAMI17426  MAPB17504  MAPI17193  MAPI17427  MAPI17435  MAPI17466  MAPI17506  MBSS17515  MDIA17395  MDKA17512  MDKA17530  MDLN17265  MDLN17304  MDLN17335  MDLN17473  MDLN17493  MEDC17179  MEDC17185  MEDC17193  MEDC17239  MEDC17336  MEDC17340  MEDC17354  MEDC17397  MEDC17437  MEDC17438  MEDC17442  MEDC17443  MEDC17499  MEDC17500  MEDC17512  META17433  META17434  META17490  META17497  MFIN17234  MGNA17330  MIKA17203  MKNT17463  MKNT17464  MLIA17259  MLPL17412  MLPT17260  MNCN17193  MNCN17439  MNCN17518  MPMX17330  MPPA17193  MPPA17367  MSKY17193  MTLA17265  MYOR17172  MYOR17206  MYOR17221  MYOR17287  MYOR17389  MYOR17401  MYOR17433  MYRX17206  MYRX17265  MYRX17381  MYRX17407  MYRX17412  NATO17403  NIKL17168  NIKL17512  NIPS17477  NIPS17478  NISP17294  NRCA17330  OKAS17465  OKAS17513  PADI17407  PADI17463  PADI17464  PALM17389  PALM17499  PANR17193  PBRX17521  PGAS17169  PGAS17193  PGAS17308  PGAS17351  PGAS17401  PGAS17411  PGAS17439  PGAS17441  PGAS17449  PGAS17454  PGAS17455  PGAS17457  PGAS17482  PGAS17503  PGAS17511  PGAS17530  PNBN17294  PNBN17401  PNBN17420  PNBN17434  PNBN17469  PNLF17335  PNLF17412  PNSE17412  POLY17419  POLY17420  POLY17502  POOL17437  PORT17330  POWR17330  PPRO17265  PPRO17298  PPRO17433  PPRO17440  PRDA17330  PSAB17409  PSAB17437  PSAB17438  PSAB17512  PSAB17530  PTBA17168  PTBA17203  PTBA17239  PTBA17340  PTBA17349  PTBA17350  PTBA17352  PTBA17360  PTBA17373  PTBA17385  PTBA17392  PTBA17415  PTBA17416  PTBA17417  PTBA17420  PTBA17422  PTBA17423  PTBA17439  PTBA17440  PTBA17441  PTBA17444  PTBA17455  PTBA17461  PTBA17466  PTBA17476  PTBA17485  PTBA17486  PTBA17490  PTBA17491  PTBA17493  PTBA17507  PTBA17508  PTBA17512  PTBA17518  PTBA17521  PTBA17522  PTIS17413  PTPP17169  PTPP17174  PTPP17203  PTPP17239  PTPP17405  PTPP17419  PTPP17430  PTPP17435  PTPP17439  PTPP17443  PTPP17444  PTPP17448  PTPP17464  PTPP17476  PTPP17489  PTPP17503  PTPP17506  PTPP17518  PTPP17530  PTRO17422  PTRO17423  PWON17203  PWON17265  PWON17298  PWON17308  PWON17349  PWON17401  PWON17402  PWON17414  PWON17430  PWON17435  PWON17439  PWON17440  PWON17445  PWON17446  PWON17473  PWON17505  PWON17521  PWON17522  RAJA17455  RALS17193  RALS17530  RIMO17407  RIMO17412  RIMO17490  ROTI17193  ROTI17234  ROTI17357  ROTI17389  ROTI17435  ROTI17437  ROTI17438  SCMA17193  SCMA17203  SCMA17412  SCMA17521  SCMA17522  SCPI17364  SDRA17357  SGRO17175  SGRO17193  SGRO17211  SGRO17258  SGRO17275  SGRO17350  SGRO17382  SGRO17389  SGRO17482  SGRO17483  SIDO17193  SIDO17330  SILO17169  SIMP17175  SIMP17193  SIMP17227  SIMP17254  SIMP17325  SIMP17387  SIMP17389  SIMP17461  SIMP17482  SIMP17483  SIMP17530  SMAR17175  SMAR17258  SMBR17168  SMBR17189  SMBR17433  SMBR17507  SMCB17189  SMCB17507  SMDR17395  SMDR17515  SMGR17189  SMGR17205  SMGR17329  SMGR17337  SMGR17351  SMGR17408  SMGR17409  SMGR17430  SMGR17433  SMGR17493  SMGR17507  SMGR17530  SMRA17265  SMRA17308  SMRA17401  SMRA17405  SMRA17433  SMRA17435  SMRA17439  SMRA17473  SMRA17476  SMRA17483  SMRA17484  SMRA17493  SMRA17505  SMRA17522  SMRU17412  SMRU17449  SMSM17360  SMSM17511  SOCI17193  SOCI17330  SOCI17335  SOCI17340  SOCI17354  SOCI17379  SOCI17515  SRIL17168  SRIL17403  SRIL17412  SRIL17444  SRIL17465  SRIL17466  SRIL17467  SRIL17476  SRIL17518  SRIL17521  SRSN17169  SRTG17330  SSIA17203  SSIA17489  SSIA17490  SSMS17168  SSMS17175  SSMS17196  SSMS17360  SSMS17364  SSMS17365  SSMS17389  SSMS17465  SSMS17485  SSMS17486  SSMS17491  SSMS17492  SSMS17510  SSMS17511  SSMS17528  SUGI17199  SUGI17359  TAMU17515  TAXI17193  TAXI17235  TAXI17412  TAXI17442  TBLA17193  TBLA17389  TBLA17456  TELE17203  TINS17235  TINS17367  TINS17373  TINS17402  TINS17444  TINS17476  TINS17486  TINS17491  TINS17493  TINS17512  TIRT17328  TIRT17329  TIRT17417  TIRT17418  TKIM17392  TLKM17168  TLKM17247  TLKM17277  TLKM17308  TLKM17325  TLKM17351  TLKM17373  TLKM17389  TLKM17405  TLKM17412  TLKM17414  TLKM17415  TLKM17422  TLKM17430  TLKM17431  TLKM17443  TLKM17450  TLKM17451  TLKM17457  TLKM17464  TLKM17470  TLKM17476  TLKM17477  TLKM17493  TLKM17503  TLKM17527  TLKM17530  TMAS17193  TOPS17330  TOTL17203  TOTL17308  TOTL17526  TPIA17169  TPIA17174  TPIA17249  TPIA17357  TPIA17379  TPIA17385  TPIA17405  TPIA17414  TPIA17437  TPIA17448  TPIA17461  TPIA17463  TPIA17478  TPIA17487  TPIA17488  TPIA17491  TPIA17492  TPIA17503  TPIA17508  TRAM17206  TRAM17438  TRAM17449  TSPC17193  ULTJ17395  UNIC17169  UNSP17206  UNSP17389  UNSP17399  UNSP17401  UNSP17522  UNTR17174  UNTR17277  UNTR17352  UNTR17361  UNTR17380  UNTR17392  UNTR17470  UNTR17476  UNTR17479  UNTR17489  UNTR17507  UNVR17182  UNVR17193  UNVR17217  UNVR17234  UNVR17287  UNVR17308  UNVR17325  UNVR17352  UNVR17380  UNVR17389  UNVR17392  UNVR17401  UNVR17403  UNVR17416  UNVR17430  UNVR17431  UNVR17433  UNVR17434  UNVR17435  UNVR17450  UNVR17470  UNVR17476  UNVR17477  UNVR17493  UNVR17500  UNVR17507  UNVR17530  VIVA17193  VIVA17489  VIVA17490  WEHA17326  WICO17422  WIIM17483  WIKA17174  WIKA17182  WIKA17308  WIKA17377  WIKA17405  WIKA17419  WIKA17430  WIKA17435  WIKA17439  WIKA17443  WIKA17444  WIKA17448  WIKA17464  WIKA17476  WIKA17485  WIKA17506  WIKA17530  WINS17193  WINS17354  WINS17386  WSBP17308  WSBP17330  WSBP17455  WSBP17489  WSKT17182  WSKT17308  WSKT17349  WSKT17407  WSKT17430  WSKT17435  WSKT17439  WSKT17448  WSKT17455  WSKT17456  WSKT17464  WSKT17465  WSKT17476  WSKT17506  WSKT17518  WSKT17530  WTON17203  WTON17308  WTON17435  YPAS17174  [1] 2018\n",
      "AALI17548  AALI17556  AALI17575  AALI17576  AALI17594  AALI17602  AALI17603  AALI17609  AALI17610  AALI17627  AALI17630  AALI17631  AALI17632  AALI17646  AALI17659  AALI17688  AALI17704  AALI17717  AALI17720  AALI17721  AALI17750  AALI17751  AALI17762  AALI17767  AALI17795  AALI17799  AALI17806  AALI17809  AALI17823  AALI17838  AALI17847  AALI17852  AALI17862  AALI17870  AALI17874  ABBA17786  ACES17587  ACES17627  ACES17652  ACES17658  ACES17681  ACES17799  ACES17869  ACST17640  ADHI17538  ADHI17542  ADHI17548  ADHI17552  ADHI17553  ADHI17570  ADHI17571  ADHI17582  ADHI17584  ADHI17595  ADHI17603  ADHI17639  ADHI17688  ADHI17750  ADHI17798  ADHI17800  ADHI17806  ADHI17825  ADHI17839  ADHI17843  ADHI17847  ADHI17857  ADHI17885  ADMG17686  ADRO17543  ADRO17555  ADRO17556  ADRO17576  ADRO17588  ADRO17589  ADRO17599  ADRO17600  ADRO17602  ADRO17608  ADRO17610  ADRO17612  ADRO17626  ADRO17652  ADRO17654  ADRO17657  ADRO17665  ADRO17666  ADRO17678  ADRO17687  ADRO17692  ADRO17693  ADRO17716  ADRO17717  ADRO17729  ADRO17732  ADRO17735  ADRO17739  ADRO17741  ADRO17742  ADRO17753  ADRO17764  ADRO17787  ADRO17799  ADRO17800  ADRO17815  ADRO17825  ADRO17860  ADRO17861  ADRO17868  ADRO17879  AGII17885  AGRO17561  AISA17551  AISA17603  AISA17604  AISA17629  AISA17718  AISA17747  AISA17801  AISA17812  AISA17860  AISA17874  AISA17875  AKRA17591  AKRA17598  AKRA17601  AKRA17632  AKRA17633  AKRA17731  AKRA17799  AMFG17846  AMRT17891  ANDI17761  ANJT17553  ANJT17554  ANJT17806  ANTM17548  ANTM17556  ANTM17557  ANTM17562  ANTM17563  ANTM17570  ANTM17598  ANTM17610  ANTM17641  ANTM17652  ANTM17682  ANTM17687  ANTM17688  ANTM17689  ANTM17716  ANTM17717  ANTM17725  ANTM17739  ANTM17743  ANTM17744  ANTM17749  ANTM17801  ANTM17815  ANTM17816  ANTM17818  ANTM17822  ANTM17844  APLN17542  APLN17687  APLN17779  APLN17839  ARTI17747  ASGR17626  ASGR17640  ASII17540  ASII17581  ASII17612  ASII17615  ASII17623  ASII17646  ASII17662  ASII17665  ASII17669  ASII17687  ASII17721  ASII17725  ASII17736  ASII17774  ASII17793  ASII17800  ASII17825  ASII17827  ASII17832  ASII17835  ASII17853  ASII17875  ASII17877  ASRI17639  ASRI17680  ASRI17681  ASRI17687  ASRI17706  ASRI17714  ASRI17717  ASRI17735  ASRI17738  ASRI17751  ASRI17779  ASRI17787  ASRI17788  ASRI17790  ASRI17821  ASRI17832  ASRI17857  ASRI17868  ASRI17874  ASRI17885  ASSA17716  ATIC17547  BAJA17710  BAJA17736  BAJA17812  BAJA17846  BANK17777  BBCA17535  BBCA17539  BBCA17545  BBCA17546  BBCA17597  BBCA17603  BBCA17612  BBCA17614  BBCA17615  BBCA17643  BBCA17648  BBCA17666  BBCA17667  BBCA17668  BBCA17669  BBCA17703  BBCA17704  BBCA17711  BBCA17713  BBCA17714  BBCA17716  BBCA17725  BBCA17728  BBCA17739  BBCA17742  BBCA17750  BBCA17756  BBCA17762  BBCA17763  BBCA17774  BBCA17780  BBCA17786  BBCA17787  BBCA17791  BBCA17795  BBCA17799  BBCA17800  BBCA17801  BBCA17804  BBCA17825  BBCA17832  BBCA17833  BBCA17843  BBCA17858  BBCA17863  BBCA17874  BBCA17875  BBCA17885  BBKP17652  BBKP17743  BBKP17744  BBKP17745  BBNI17539  BBNI17545  BBNI17546  BBNI17556  BBNI17557  BBNI17560  BBNI17562  BBNI17574  BBNI17603  BBNI17612  BBNI17615  BBNI17648  BBNI17664  BBNI17668  BBNI17669  BBNI17680  BBNI17701  BBNI17702  BBNI17703  BBNI17706  BBNI17711  BBNI17713  BBNI17714  BBNI17717  BBNI17725  BBNI17732  BBNI17735  BBNI17736  BBNI17737  BBNI17739  BBNI17742  BBNI17753  BBNI17756  BBNI17762  BBNI17780  BBNI17786  BBNI17787  BBNI17791  BBNI17800  BBNI17801  BBNI17804  BBNI17805  BBNI17824  BBNI17825  BBNI17826  BBNI17827  BBNI17832  BBNI17833  BBNI17843  BBNI17853  BBNI17857  BBNI17858  BBNI17860  BBNI17863  BBNI17875  BBNI17885  BBNI17886  BBRI17535  BBRI17539  BBRI17545  BBRI17546  BBRI17560  BBRI17561  BBRI17562  BBRI17603  BBRI17608  BBRI17612  BBRI17615  BBRI17647  BBRI17648  BBRI17657  BBRI17662  BBRI17668  BBRI17669  BBRI17674  BBRI17681  BBRI17701  BBRI17702  BBRI17703  BBRI17704  BBRI17706  BBRI17711  BBRI17713  BBRI17714  BBRI17717  BBRI17725  BBRI17728  BBRI17735  BBRI17737  BBRI17739  BBRI17742  BBRI17750  BBRI17753  BBRI17756  BBRI17762  BBRI17763  BBRI17764  BBRI17774  BBRI17780  BBRI17786  BBRI17791  BBRI17799  BBRI17800  BBRI17801  BBRI17804  BBRI17805  BBRI17825  BBRI17827  BBRI17832  BBRI17833  BBRI17836  BBRI17843  BBRI17853  BBRI17857  BBRI17858  BBRI17860  BBRI17863  BBRI17867  BBRI17874  BBRI17875  BBRI17885  BBRI17886  BBTN17535  BBTN17539  BBTN17545  BBTN17546  BBTN17552  BBTN17553  BBTN17603  BBTN17657  BBTN17666  BBTN17713  BBTN17714  BBTN17717  BBTN17725  BBTN17728  BBTN17732  BBTN17737  BBTN17739  BBTN17743  BBTN17762  BBTN17763  BBTN17764  BBTN17774  BBTN17780  BBTN17804  BBTN17857  BBTN17868  BBTN17885  BDMN17546  BDMN17728  BDMN17742  BDMN17787  BDMN17804  BEKS17777  BEST17610  BEST17716  BEST17736  BEST17773  BHIT17790  BIPI17543  BIPI17737  BIRD17550  BIRD17687  BIRD17716  BJBR17652  BJBR17804  BJTM17652  BJTM17680  BJTM17801  BJTM17804  BKSL17680  BKSL17681  BKSL17738  BKSL17790  BKSL17853  BKSL17868  BMRI17535  BMRI17539  BMRI17545  BMRI17546  BMRI17562  BMRI17603  BMRI17608  BMRI17612  BMRI17615  BMRI17648  BMRI17657  BMRI17664  BMRI17666  BMRI17668  BMRI17669  BMRI17678  BMRI17702  BMRI17703  BMRI17704  BMRI17706  BMRI17711  BMRI17713  BMRI17714  BMRI17717  BMRI17725  BMRI17728  BMRI17732  BMRI17735  BMRI17737  BMRI17739  BMRI17742  BMRI17753  BMRI17756  BMRI17762  BMRI17763  BMRI17780  BMRI17786  BMRI17791  BMRI17792  BMRI17795  BMRI17799  BMRI17800  BMRI17804  BMRI17824  BMRI17825  BMRI17827  BMRI17829  BMRI17832  BMRI17833  BMRI17836  BMRI17843  BMRI17853  BMRI17860  BMRI17863  BMRI17875  BMRI17885  BMRI17886  BMTR17738  BMTR17874  BNBR17701  BNBR17707  BNBR17746  BNBR17854  BNGA17648  BNGA17657  BNGA17750  BNGA17777  BNGA17799  BNGA17801  BNGA17804  BNGA17833  BNGA17885  BNII17602  BNLI17543  BNLI17546  BNLI17585  BNLI17643  BNLI17646  BNLI17647  BNLI17648  BNLI17804  BNLI17854  BPFI17561  BPFI17611  BPFI17618  BRIS17674  BRIS17762  BRIS17767  BRIS17786  BRPT17550  BRPT17584  BRPT17612  BRPT17616  BRPT17681  BRPT17762  BRPT17799  BRPT17825  BSDE17538  BSDE17545  BSDE17606  BSDE17615  BSDE17664  BSDE17680  BSDE17681  BSDE17687  BSDE17706  BSDE17714  BSDE17717  BSDE17735  BSDE17738  BSDE17751  BSDE17766  BSDE17779  BSDE17790  BSDE17821  BSDE17832  BSDE17847  BSDE17853  BSDE17856  BSDE17857  BSDE17868  BSDE17874  BSDE17875  BSDE17877  BSDE17878  BSDE17885  BSSR17576  BTEL17746  BTON17736  BTON17744  BTON17764  BTON17812  BTPN17644  BTPN17674  BTPN17804  BTPS17674  BTPS17833  BUAH17575  BULL17543  BULL17777  BUMI17540  BUMI17574  BUMI17581  BUMI17674  BUMI17701  BUMI17729  BUMI17738  BUMI17763  BUMI17806  BUMI17874  BWPT17640  BWPT17658  BWPT17659  BWPT17670  BWPT17688  BWPT17704  BWPT17732  BWPT17736  BWPT17750  BWPT17751  BWPT17762  BWPT17767  BWPT17768  BWPT17806  BWPT17809  BWPT17852  BYAN17720  BYAN17729  CASA17539  CASA17540  CASA17611  CASA17648  CASA17668  CASA17669  CASA17735  CASA17742  CASA17764  CITA17731  CLEO17854  CMPP17546  CMPP17550  CPIN17568  CPIN17623  CPIN17631  CPIN17645  CPIN17652  CPIN17689  CPIN17799  CPIN17825  CPIN17835  CSAP17587  CTRA17550  CTRA17687  CTRA17714  CTRA17735  CTRA17751  CTRA17766  CTRA17790  CTRA17821  CTRA17853  CTRA17874  CTRA17875  CTRA17878  CTRA17885  DEWA17746  DGIK17658  DGIK17763  DGIK17764  DILD17542  DILD17617  DILD17668  DILD17758  DILD17759  DILD17835  DIVA17856  DLTA17646  DLTA17883  DMAS17773  DOID17606  DOID17662  DOID17667  DOID17729  DOID17805  DPUM17734  DSFI17641  DSFI17642  DSFI17654  DSNG17806  DSSA17716  DSSA17720  DSSA17729  DUCK17817  ECII17587  ELSA17534  ELSA17543  ELSA17582  ELSA17627  ELSA17636  ELSA17637  ELSA17641  ELSA17665  ELSA17673  ELSA17716  ELSA17737  ELSA17738  ELSA17762  ELSA17799  ELSA17800  ELSA17846  ELSA17861  ELTY17707  ELTY17746  ELTY17747  ELTY17891  ENRG17541  ENRG17543  ENRG17571  ENRG17737  ENRG17799  ENRG17805  ENRG17846  ERAA17561  ERAA17562  ERAA17652  ERAA17667  ERAA17669  ERAA17686  ERAA17687  ERAA17731  ERAA17785  ERAA17799  ERAA17805  ERAA17872  ESSA17561  ESSA17585  ESSA17611  ESSA17868  EXCL17566  EXCL17681  EXCL17735  EXCL17738  EXCL17739  EXCL17742  EXCL17744  EXCL17750  EXCL17774  EXCL17787  EXCL17805  EXCL17815  EXCL17863  FAST17581  FIRE17729  FIRE17764  FORZ17690  FREN17854  GDST17736  GDST17846  GDST17870  GEMS17891  GGRM17535  GGRM17548  GGRM17549  GGRM17580  GGRM17581  GGRM17602  GGRM17608  GGRM17623  GGRM17665  GGRM17681  GGRM17711  GGRM17735  GGRM17739  GGRM17751  GGRM17779  GGRM17800  GGRM17806  GGRM17832  GGRM17835  GGRM17847  GGRM17875  GGRM17885  GIAA17542  GIAA17546  GIAA17550  GIAA17606  GIAA17640  GIAA17654  GIAA17658  GIAA17659  GIAA17660  GIAA17685  GIAA17687  GIAA17734  GIAA17735  GIAA17739  GIAA17743  GIAA17753  GIAA17758  GIAA17759  GIAA17868  GJTL17640  GJTL17742  GJTL17790  GMFI17735  GOLD17675  GOLL17806  GOOD17817  GZCO17640  GZCO17658  GZCO17659  GZCO17670  GZCO17704  GZCO17732  GZCO17751  GZCO17767  GZCO17852  HADE17719  HELI17678  HITS17562  HITS17563  HKMU17805  HKMU17817  HKMU17843  HMSP17536  HMSP17537  HMSP17548  HMSP17549  HMSP17551  HMSP17580  HMSP17581  HMSP17608  HMSP17609  HMSP17612  HMSP17647  HMSP17657  HMSP17658  HMSP17678  HMSP17679  HMSP17687  HMSP17703  HMSP17704  HMSP17711  HMSP17735  HMSP17739  HMSP17779  HMSP17786  HMSP17832  HMSP17835  HMSP17844  HMSP17847  HMSP17860  HOKI17560  HOKI17681  HOKI17735  HOKI17778  HOKI17804  HRTA17663  HRTA17779  HRUM17549  HRUM17598  HRUM17665  HRUM17674  HRUM17689  HRUM17716  HRUM17717  HRUM17729  HRUM17739  HRUM17805  ICBP17535  ICBP17548  ICBP17549  ICBP17601  ICBP17602  ICBP17603  ICBP17612  ICBP17615  ICBP17634  ICBP17639  ICBP17652  ICBP17665  ICBP17678  ICBP17679  ICBP17680  ICBP17685  ICBP17686  ICBP17714  ICBP17739  ICBP17779  ICBP17793  ICBP17806  ICBP17812  ICBP17815  ICBP17827  ICBP17832  ICBP17835  ICBP17843  ICBP17847  ICBP17867  ICBP17875  IIKP17641  IIKP17779  IKAI17539  IKAI17540  IKAI17547  IKAI17611  IMAS17687  IMAS17721  INAF17539  INAF17540  INAF17562  INAF17643  INAF17644  INAF17645  INAF17734  INAF17735  INCO17550  INCO17576  INCO17597  INCO17599  INCO17625  INCO17667  INCO17669  INCO17688  INCO17689  INCO17716  INCO17717  INCO17720  INCO17729  INCO17739  INCO17743  INCO17749  INCO17762  INCO17787  INCO17800  INCO17806  INCO17825  INCO17832  INCO17833  INCO17840  INDF17535  INDF17548  INDF17549  INDF17550  INDF17584  INDF17601  INDF17602  INDF17603  INDF17608  INDF17612  INDF17615  INDF17634  INDF17639  INDF17652  INDF17678  INDF17679  INDF17685  INDF17686  INDF17687  INDF17735  INDF17739  INDF17742  INDF17751  INDF17779  INDF17791  INDF17793  INDF17805  INDF17812  INDF17815  INDF17835  INDF17847  INDF17868  INDF17877  INDO17890  INDR17764  INDY17556  INDY17581  INDY17599  INDY17600  INDY17602  INDY17608  INDY17647  INDY17663  INDY17669  INDY17692  INDY17693  INDY17719  INDY17732  INDY17735  INDY17741  INDY17742  INDY17786  INDY17799  INDY17847  INDY17861  INKP17560  INKP17602  INKP17667  INKP17669  INKP17687  INKP17689  INKP17703  INKP17709  INKP17710  INKP17738  INKP17742  INKP17762  INKP17764  INKP17787  INKP17795  INKP17799  INKP17827  INKP17856  INPP17774  INRU17752  INTA17799  INTP17536  INTP17545  INTP17546  INTP17550  INTP17564  INTP17565  INTP17576  INTP17688  INTP17706  INTP17708  INTP17800  INTP17805  INTP17812  INTP17820  INTP17828  INTP17832  INTP17842  INTP17888  ISAT17735  ISAT17744  ISAT17750  ISSP17767  ISSP17846  ITMG17549  ITMG17576  ITMG17584  ITMG17588  ITMG17589  ITMG17590  ITMG17599  ITMG17600  ITMG17602  ITMG17612  ITMG17641  ITMG17642  ITMG17654  ITMG17665  ITMG17689  ITMG17692  ITMG17693  ITMG17717  ITMG17729  ITMG17732  ITMG17735  ITMG17738  ITMG17741  ITMG17749  ITMG17787  ITMG17799  ITMG17800  ITMG17832  ITMG17833  ITMG17867  JAWA17806  JPFA17568  JPFA17623  JPFA17631  JPFA17645  JPFA17652  JPFA17689  JPFA17750  JPFA17825  JPFA17835  JPFA17874  JSKY17616  JSMR17542  JSMR17548  JSMR17561  JSMR17562  JSMR17574  JSMR17585  JSMR17591  JSMR17614  JSMR17615  JSMR17631  JSMR17638  JSMR17652  JSMR17654  JSMR17665  JSMR17702  JSMR17706  JSMR17783  JSMR17798  JSMR17800  JSMR17813  JSMR17825  JSMR17827  JSMR17832  JSMR17853  JSMR17860  KAEF17539  KAEF17540  KAEF17562  KAEF17608  KAEF17643  KAEF17644  KAEF17645  KAEF17654  KAEF17680  KAEF17735  KAEF17753  KAEF17825  KBLI17661  KBLM17661  KBRI17560  KIJA17723  KIJA17891  KINO17783  KIOS17542  KLBF17540  KLBF17551  KLBF17563  KLBF17597  KLBF17608  KLBF17623  KLBF17645  KLBF17654  KLBF17680  KLBF17687  KLBF17688  KLBF17734  KLBF17735  KLBF17805  KLBF17835  KLBF17869  KLBF17875  KPAS17817  KPAS17875  KRAS17595  KRAS17640  KRAS17688  KRAS17736  KRAS17743  KRAS17744  KRAS17812  KRAS17846  KRAS17891  KREN17736  KREN17779  LAND17766  LAND17786  LCGP17836  LEAD17543  LEAD17556  LEAD17582  LEAD17640  LEAD17641  LEAD17777  LINK17662  LPCK17820  LPCK17860  LPCK17868  LPKR17779  LPKR17790  LPKR17797  LPKR17820  LPKR17860  LPKR17868  LPKR17890  LPPF17536  LPPF17537  LPPF17548  LPPF17549  LPPF17567  LPPF17584  LPPF17652  LPPF17655  LPPF17658  LPPF17774  LPPF17787  LPPF17835  LPPF17843  LPPF17860  LPPF17868  LPPF17874  LPPF17890  LSIP17548  LSIP17553  LSIP17554  LSIP17556  LSIP17575  LSIP17576  LSIP17590  LSIP17594  LSIP17602  LSIP17603  LSIP17627  LSIP17630  LSIP17659  LSIP17670  LSIP17688  LSIP17704  LSIP17717  LSIP17720  LSIP17721  LSIP17750  LSIP17751  LSIP17762  LSIP17767  LSIP17768  LSIP17779  LSIP17795  LSIP17806  LSIP17809  LSIP17821  LSIP17827  LSIP17838  LSIP17852  LSIP17862  LSIP17870  LSIP17874  MAIN17568  MAIN17631  MAIN17640  MAIN17750  MAIN17835  MAMI17539  MAMI17617  MAMI17647  MAMI17756  MAMI17878  MAPB17580  MAPB17581  MAPI17567  MAPI17627  MAPI17652  MAPI17658  MAPI17667  MAPI17669  MAPI17681  MAPI17799  MAPI17835  MARK17612  MARK17665  MASA17606  MASA17863  MAYA17743  MAYA17744  MAYA17804  MBAP17550  MBSS17562  MBSS17563  MBSS17693  MBSS17732  MBSS17735  MBSS17757  MBSS17777  MBTO17553  MBTO17783  MCAS17542  MCAS17804  MCAS17856  MDIA17542  MDKA17721  MDKA17808  MDLN17683  MDLN17779  MEDC17543  MEDC17549  MEDC17555  MEDC17556  MEDC17614  MEDC17627  MEDC17636  MEDC17637  MEDC17641  MEDC17654  MEDC17659  MEDC17660  MEDC17665  MEDC17667  MEDC17672  MEDC17673  MEDC17688  MEDC17689  MEDC17716  MEDC17717  MEDC17729  MEDC17731  MEDC17735  MEDC17737  MEDC17738  MEDC17799  MEDC17800  MEDC17846  MEDC17861  MEDC17885  MERK17718  MERK17719  MERK17884  META17561  MGRO17751  MGRO17862  MITI17674  MKNT17804  MLBI17883  MMLP17798  MNCN17652  MNCN17756  MPMX17721  MPPA17627  MPPA17799  MPPA17890  MPRO17817  MRAT17783  MYOR17601  MYOR17602  MYOR17605  MYOR17606  MYOR17639  MYOR17652  MYOR17665  MYOR17676  MYOR17678  MYOR17679  MYOR17685  MYOR17686  MYOR17687  MYOR17776  MYOR17783  MYOR17793  MYOR17812  MYOR17858  MYOR17869  MYRX17553  MYRX17738  NELY17777  NFCX17856  NICK17687  NISP17744  NRCA17595  OMRE17764  PADI17882  PALM17751  PBID17719  PBID17795  PBRX17741  PBRX17792  PCAR17764  PGAS17549  PGAS17551  PGAS17555  PGAS17556  PGAS17580  PGAS17598  PGAS17608  PGAS17609  PGAS17612  PGAS17625  PGAS17636  PGAS17647  PGAS17654  PGAS17688  PGAS17689  PGAS17701  PGAS17711  PGAS17715  PGAS17725  PGAS17774  PGAS17799  PGAS17800  PGAS17805  PGAS17827  PGAS17847  PICO17743  PICO17744  PJAA17542  PNBN17804  PNBN17856  POLL17723  POLL17724  POLY17596  POLY17710  POLY17711  POLY17792  POLY17798  POLY17860  POWR17758  PPRE17779  PPRO17556  PPRO17686  PPRO17730  PPRO17885  PRIM17639  PSAB17604  PSAB17716  PSAB17717  PSDN17779  PTBA17536  PTBA17537  PTBA17543  PTBA17548  PTBA17555  PTBA17556  PTBA17562  PTBA17576  PTBA17581  PTBA17584  PTBA17588  PTBA17589  PTBA17598  PTBA17599  PTBA17600  PTBA17602  PTBA17612  PTBA17647  PTBA17652  PTBA17665  PTBA17667  PTBA17669  PTBA17678  PTBA17685  PTBA17686  PTBA17689  PTBA17692  PTBA17693  PTBA17716  PTBA17725  PTBA17729  PTBA17731  PTBA17732  PTBA17741  PTBA17742  PTBA17749  PTBA17753  PTBA17757  PTBA17758  PTBA17791  PTBA17794  PTBA17799  PTBA17800  PTBA17801  PTBA17815  PTBA17827  PTBA17843  PTBA17861  PTBA17875  PTPP17542  PTPP17548  PTPP17562  PTPP17570  PTPP17571  PTPP17582  PTPP17595  PTPP17603  PTPP17627  PTPP17638  PTPP17639  PTPP17654  PTPP17655  PTPP17664  PTPP17686  PTPP17687  PTPP17688  PTPP17702  PTPP17706  PTPP17717  PTPP17750  PTPP17798  PTPP17832  PTPP17843  PTPP17857  PTPP17868  PTPP17875  PTPP17885  PTRO17599  PTRO17693  PTSN17764  PTSP17581  PWON17639  PWON17725  PWON17738  PWON17751  PWON17757  PWON17779  PWON17821  PWON17853  PWON17857  PWON17875  PWON17878  PWON17885  RAJA17648  RALS17548  RALS17549  RALS17567  RALS17658  RALS17725  RALS17812  RALS17835  RALS17869  RELI17574  RELI17674  RELI17683  RELI17688  RELI17717  RELI17724  RELI17759  RELI17779  RELI17795  RELI17843  RELI17881  RIGS17764  RIMO17764  ROTI17598  ROTI17639  ROTI17680  ROTI17812  SCCO17659  SCMA17536  SCMA17537  SCMA17652  SCMA17681  SCMA17877  SDPC17732  SGRO17576  SGRO17627  SGRO17659  SGRO17721  SGRO17751  SGRO17771  SGRO17833  SGRO17851  SGRO17852  SHIP17777  SIDO17783  SIDO17865  SIDO17869  SIMP17553  SIMP17554  SIMP17594  SIMP17602  SIMP17603  SIMP17742  SIMP17751  SIMP17795  SIMP17838  SKRN17817  SMAR17767  SMAR17768  SMBR17536  SMBR17565  SMBR17708  SMBR17743  SMBR17753  SMBR17809  SMBR17812  SMBR17813  SMBR17833  SMBR17842  SMBR17860  SMCB17812  SMCB17813  SMCB17828  SMCB17842  SMCB17860  SMCB17888  SMDR17562  SMDR17563  SMDR17602  SMDR17603  SMDR17777  SMGR17545  SMGR17546  SMGR17550  SMGR17564  SMGR17565  SMGR17605  SMGR17606  SMGR17612  SMGR17669  SMGR17688  SMGR17706  SMGR17707  SMGR17708  SMGR17732  SMGR17800  SMGR17805  SMGR17812  SMGR17813  SMGR17820  SMGR17828  SMGR17832  SMGR17842  SMGR17860  SMGR17867  SMGR17888  SMMA17554  SMRA17538  SMRA17556  SMRA17639  SMRA17640  SMRA17706  SMRA17738  SMRA17766  SMRA17790  SMRA17821  SMRA17832  SMRA17857  SMRA17868  SMRA17874  SMRA17878  SMRA17885  SMRU17729  SOCI17543  SOCI17556  SOCI17562  SOCI17563  SOCI17603  SOCI17777  SRIL17641  SRIL17642  SRIL17645  SRIL17654  SRIL17667  SRIL17672  SRIL17680  SRIL17687  SRIL17716  SRIL17741  SRIL17774  SRIL17776  SRIL17779  SRIL17792  SRIL17800  SRIL17832  SRTG17708  SRTG17808  SSIA17640  SSIA17725  SSIA17773  SSIA17848  SSIA17868  SSMS17542  SSMS17553  SSMS17554  SSMS17585  SSMS17594  SSMS17611  SSMS17627  SSMS17721  SSMS17773  SSMS17779  SSMS17795  SSMS17838  SSMS17877  SUGI17719  SULI17623  SUPR17606  SURE17787  SURE17809  SURE17817  SWAT17703  TAMU17556  TAMU17562  TAMU17563  TAMU17777  TAXI17550  TAXI17629  TAXI17801  TAXI17840  TAXI17875  TBIG17658  TBIG17856  TBLA17658  TBLA17659  TBLA17670  TBLA17681  TBLA17682  TBLA17701  TBLA17703  TBLA17751  TBLA17757  TBLA17767  TBLA17768  TBLA17779  TBLA17795  TBLA17806  TBLA17809  TBLA17838  TCID17783  TCPI17754  TCPI17764  TELE17585  TINS17533  TINS17538  TINS17545  TINS17548  TINS17555  TINS17556  TINS17562  TINS17568  TINS17639  TINS17640  TINS17652  TINS17653  TINS17815  TINS17819  TINS17868  TIRA17850  TKIM17667  TKIM17669  TKIM17689  TKIM17703  TKIM17710  TKIM17742  TKIM17762  TKIM17764  TKIM17795  TKIM17799  TKIM17805  TKIM17827  TLKM17545  TLKM17562  TLKM17566  TLKM17574  TLKM17580  TLKM17604  TLKM17614  TLKM17618  TLKM17623  TLKM17626  TLKM17662  TLKM17669  TLKM17702  TLKM17706  TLKM17711  TLKM17720  TLKM17725  TLKM17735  TLKM17736  TLKM17738  TLKM17739  TLKM17744  TLKM17750  TLKM17774  TLKM17791  TLKM17799  TLKM17800  TLKM17805  TLKM17813  TLKM17815  TLKM17825  TLKM17827  TLKM17833  TLKM17837  TLKM17853  TLKM17858  TLKM17867  TLKM17875  TLKM17877  TLKM17885  TMPO17539  TMPO17540  TMPO17611  TOTL17570  TOTL17571  TOWR17658  TOWR17720  TOWR17860  TPIA17539  TPIA17540  TPIA17550  TPIA17556  TPIA17581  TPIA17605  TPIA17616  TPIA17647  TPIA17658  TPIA17659  TPIA17724  TPIA17785  TPIA17794  TPIA17799  TPIA17833  TPIA17836  TPIA17884  TPIA17891  TPMA17674  TRAM17556  TRAM17719  TRAM17738  TRAM17742  TRIO17860  TRIS17645  TRUK17678  TSPC17608  UNSP17707  UNSP17806  UNTR17581  UNTR17602  UNTR17608  UNTR17612  UNTR17665  UNTR17711  UNTR17735  UNTR17762  UNTR17787  UNTR17793  UNTR17813  UNTR17827  UNTR17832  UNTR17833  UNTR17877  UNVR17535  UNVR17536  UNVR17537  UNVR17548  UNVR17549  UNVR17564  UNVR17574  UNVR17581  UNVR17601  UNVR17602  UNVR17603  UNVR17609  UNVR17612  UNVR17614  UNVR17615  UNVR17652  UNVR17657  UNVR17658  UNVR17665  UNVR17667  UNVR17669  UNVR17679  UNVR17680  UNVR17685  UNVR17703  UNVR17704  UNVR17711  UNVR17718  UNVR17736  UNVR17779  UNVR17783  UNVR17787  UNVR17791  UNVR17795  UNVR17799  UNVR17800  UNVR17805  UNVR17812  UNVR17815  UNVR17825  UNVR17827  UNVR17832  UNVR17835  UNVR17843  UNVR17844  UNVR17847  UNVR17858  UNVR17860  UNVR17867  UNVR17869  WEGE17626  WEGE17757  WEGE17832  WICO17763  WICO17764  WIKA17542  WIKA17548  WIKA17555  WIKA17556  WIKA17561  WIKA17562  WIKA17570  WIKA17571  WIKA17582  WIKA17584  WIKA17585  WIKA17595  WIKA17603  WIKA17626  WIKA17627  WIKA17639  WIKA17654  WIKA17688  WIKA17702  WIKA17706  WIKA17717  WIKA17723  WIKA17753  WIKA17762  WIKA17772  WIKA17798  WIKA17806  WIKA17825  WIKA17827  WIKA17832  WIKA17843  WIKA17847  WIKA17857  WIKA17858  WIKA17868  WIKA17885  WINS17543  WINS17556  WINS17640  WINS17777  WOOD17681  WOOD17744  WOOD17776  WOOD17779  WOOD17812  WOOD17852  WOOD17869  WSBP17556  WSBP17596  WSBP17681  WSBP17682  WSBP17806  WSBP17813  WSBP17843  WSBP17857  WSBP17875  WSKT17538  WSKT17539  WSKT17540  WSKT17542  WSKT17548  WSKT17552  WSKT17553  WSKT17570  WSKT17571  WSKT17582  WSKT17584  WSKT17585  WSKT17595  WSKT17596  WSKT17603  WSKT17631  WSKT17639  WSKT17654  WSKT17664  WSKT17678  WSKT17681  WSKT17688  WSKT17701  WSKT17702  WSKT17706  WSKT17711  WSKT17730  WSKT17750  WSKT17753  WSKT17757  WSKT17786  WSKT17798  WSKT17806  WSKT17813  WSKT17839  WSKT17843  WSKT17868  WSKT17875  WSKT17885  WTON17570  WTON17654  WTON17680  WTON17702  WTON17743  WTON17825  WTON17832  WTON17857  WTON17868  YELO17856  ZBRA17719  ZINC17662  ZINC17763  ZINC17764  [1] 2019\n",
      "AALI17897  AALI17903  AALI17918  AALI17925  AALI17932  AALI17956  AALI17975  AALI17991  AALI17998  AALI18018  AALI18035  AALI18038  AALI18085  AALI18099  AALI18110  AALI18121  AALI18165  AALI18182  AALI18220  AALI18257  ABMM18094  ACES17965  ACES18019  ACES18261  ADHI18154  ADHI18217  ADMG18113  ADRO17904  ADRO17913  ADRO17933  ADRO17964  ADRO17986  ADRO18018  ADRO18019  ADRO18032  ADRO18034  ADRO18094  ADRO18099  ADRO18131  ADRO18155  AGRO18175  AIMS18237  AISA17984  AISA18084  AISA18223  AKRA17970  AKRA17973  AKRA18019  AKRA18059  ANJT17928  ANJT18022  ANJT18220  ANTM17918  ANTM17932  ANTM17965  ANTM17974  ANTM17993  ANTM18014  ANTM18067  ANTM18085  ANTM18091  ANTM18100  ANTM18113  ANTM18123  ANTM18175  ANTM18178  ANTM18198  ANTM18219  APII17981  APLN18078  ASII17898  ASII17903  ASII17906  ASII17912  ASII17939  ASII17954  ASII17974  ASII17991  ASII18008  ASII18025  ASII18028  ASII18059  ASII18072  ASII18100  ASII18105  ASII18170  ASII18172  ASMI18080  ASRI17904  ASRI17906  ASRI17912  ASRI17969  ASRI18014  ASRI18058  ASRI18078  ASRI18079  BANK18214  BBCA17898  BBCA17912  BBCA17954  BBCA17967  BBCA17990  BBCA18024  BBCA18028  BBCA18035  BBCA18036  BBCA18038  BBCA18057  BBCA18070  BBCA18072  BBCA18080  BBCA18094  BBCA18113  BBCA18136  BBCA18159  BBCA18172  BBCA18178  BBCA18189  BBCA18190  BBCA18207  BBCA18219  BBKP18023  BBKP18101  BBMD17913  BBNI17898  BBNI17906  BBNI17912  BBNI17918  BBNI17947  BBNI17954  BBNI17973  BBNI17976  BBNI17990  BBNI18000  BBNI18009  BBNI18019  BBNI18031  BBNI18034  BBNI18038  BBNI18070  BBNI18080  BBNI18088  BBNI18094  BBNI18095  BBNI18113  BBNI18115  BBNI18136  BBNI18172  BBNI18178  BBNI18207  BBNI18219  BBRI17898  BBRI17906  BBRI17912  BBRI17918  BBRI17933  BBRI17954  BBRI17967  BBRI17973  BBRI17976  BBRI17990  BBRI18000  BBRI18009  BBRI18019  BBRI18026  BBRI18027  BBRI18028  BBRI18057  BBRI18070  BBRI18072  BBRI18080  BBRI18094  BBRI18113  BBRI18115  BBRI18136  BBRI18159  BBRI18172  BBRI18178  BBRI18189  BBRI18190  BBRI18207  BBRI18219  BBTN17906  BBTN17911  BBTN17953  BBTN17973  BBTN17976  BBTN18000  BBTN18023  BBTN18025  BBTN18034  BBTN18045  BBTN18063  BBTN18113  BBTN18157  BBTN18172  BBTN18175  BBTN18190  BBTN18207  BCAP18080  BDMN17911  BDMN18019  BDMN18073  BDMN18113  BDMN18136  BDMN18178  BDMN18190  BDMN18207  BEEF17906  BEST18058  BEST18059  BEST18093  BHIT18079  BINA18018  BINA18019  BINA18080  BIPI18063  BJBR17954  BJTM18039  BJTM18232  BMRI17898  BMRI17906  BMRI17912  BMRI17918  BMRI17947  BMRI17954  BMRI17973  BMRI17976  BMRI17990  BMRI18000  BMRI18009  BMRI18019  BMRI18028  BMRI18035  BMRI18038  BMRI18070  BMRI18072  BMRI18080  BMRI18094  BMRI18095  BMRI18136  BMRI18172  BMRI18178  BMRI18207  BMTR17906  BNBR17932  BNGA17911  BNGA18070  BNGA18207  BNLI17906  BNLI17954  BNLI18080  BRIS17944  BRIS18038  BRIS18175  BRPT17990  BRPT18018  BRPT18019  BRPT18039  BRPT18040  BRPT18044  BRPT18100  BRPT18158  BRPT18256  BSDE17897  BSDE17898  BSDE17903  BSDE17904  BSDE17906  BSDE17913  BSDE18014  BSDE18058  BSDE18078  BSDE18084  BSDE18088  BSDE18095  BSDE18157  BTEL18223  BTPN17911  BTPN17944  BTPN18136  BTPN18190  BTPS17944  BTPS17967  BTPS18080  BTPS18113  BULL17924  BUMI17932  BUMI17939  BUMI17946  BUMI17954  BUMI17965  BUMI18094  BUMI18129  BUMI18157  BUMI18226  BWPT17918  BWPT17954  BWPT18257  BYAN17909  BYAN18094  CANI18223  CCSI18076  CINT17982  CINT18132  COWL18078  CPIN17954  CPIN17968  CPIN18019  CPIN18059  CPIN18170  CTRA17898  CTRA17903  CTRA17904  CTRA17906  CTRA17954  CTRA18019  CTRA18058  CTRA18078  CTRA18084  CTRA18088  CTRA18095  CTRA18100  CTRA18157  DILD17903  DILD17910  DILD18078  DILD18142  DKFT18123  DKFT18150  DLTA17974  DMAS18078  DMAS18179  DOID17939  DOID18019  DSNG18220  DUCK18232  ELSA17947  ELSA17949  ELSA18000  ELTY17956  ENRG17960  ENRG18057  ERAA18008  ERAA18019  ERAA18176  ERTX18015  ESSA18059  ESSA18192  EXCL17899  EXCL17973  EXCL17974  EXCL17993  EXCL18038  EXCL18142  FOOD18019  FORZ18232  FPNI18189  GEMS18220  GEMS18223  GGRM17909  GGRM17939  GGRM17962  GGRM17973  GGRM18035  GGRM18038  GGRM18157  GGRM18159  GIAA17917  GIAA17976  GIAA18154  GJTL17906  GJTL17954  GJTL18059  GJTL18079  GLOB18223  GMFI17906  GZCO17918  HDIT18065  HEAL18018  HEAL18019  HITS18071  HITS18101  HMSP17962  HMSP18027  HMSP18028  HMSP18038  HMSP18084  HMSP18094  HMSP18153  HMSP18157  HMSP18159  HMSP18172  HOKI17939  HRTA17970  HRUM18222  ICBP17899  ICBP17909  ICBP17925  ICBP17962  ICBP17973  ICBP17974  ICBP18016  ICBP18026  ICBP18035  ICBP18036  ICBP18213  ICBP18219  IKAI18171  IMAS18034  IMAS18105  IMPC17911  IMPC18037  INAF17909  INAF18154  INAF18175  INAF18177  INCO17939  INCO17941  INCO17974  INCO18085  INCO18110  INCO18111  INCO18123  INCO18135  INCO18170  INCO18179  INDF17898  INDF17899  INDF17909  INDF17925  INDF17964  INDF18016  INDF18018  INDF18019  INDF18026  INDF18035  INDO17980  INDR18170  INDY17904  INDY17964  INDY17986  INDY18029  INDY18034  INDY18093  INDY18094  INDY18099  INDY18129  INDY18176  INDY18186  INDY18189  INKP18123  INTP17898  INTP17899  INTP17909  INTP17974  INTP18077  INTP18159  INTP18170  INTP18231  IPCC18175  IPCC18241  IPCM18175  ISAT17898  ISAT17899  ITMG17933  ITMG17986  ITMG18129  ITMG18155  ITMG18226  JMAS18232  JPFA17897  JPFA17939  JPFA17968  JPFA18014  JPFA18170  JSMR17898  JSMR17910  JSMR17953  JSMR17993  JSMR18001  JSMR18034  JSMR18038  JSMR18088  JSMR18093  JSMR18131  KAEF18022  KAEF18072  KAEF18154  KBLI18018  KBLI18019  KBLI18093  KIJA18087  KIJA18231  KINO17925  KINO18197  KLBF17918  KLBF17958  KLBF17964  KLBF18008  KLBF18022  KLBF18027  KLBF18072  KLBF18132  KOTA18086  KPAL18232  KRAS17997  KRAS18154  LEAD17924  LPCK17906  LPCK17937  LPCK18019  LPCK18059  LPKR17903  LPKR17937  LPKR17967  LPKR18079  LPPF17913  LPPF17937  LSIP17897  LSIP17903  LSIP17918  LSIP17925  LSIP17932  LSIP17955  LSIP17966  LSIP17998  LSIP18016  LSIP18019  LSIP18038  LSIP18099  LSIP18110  LSIP18121  LSIP18220  LSIP18257  MAIN17939  MAIN18059  MAMI17952  MAMI17975  MAMI18018  MAMI18036  MAMI18128  MAPI17934  MAPI18261  MARK18019  MBSS17924  MDKA18155  MDLN18179  MEDC17918  MEDC17939  MEDC17949  MEDC18000  MEDC18155  MEDC18249  MGRO17918  MGRO17975  MGRO17987  MGRO18099  MGRO18123  MIKA17913  MINA18232  MKPI17909  MLPL17937  MNCN17899  MNCN18038  MPPA17937  MTDL18019  MTPS18232  MTWI18080  MYOR17898  MYOR17909  MYOR17910  MYOR17964  MYOR18019  MYOR18026  MYOR18027  MYRX18224  NIKL17932  OASA17998  OPMS18162  PALM18073  PAMG18061  PEHA17948  PEHA18022  PEHA18072  PEHA18134  PEHA18175  PGAS17898  PGAS17907  PGAS17949  PGAS17954  PGAS17993  PGAS18034  PGAS18059  PGAS18088  PGAS18134  PGAS18179  PGAS18186  PGAS18200  PGAS18204  PNBN17911  PNBN18113  PNBN18178  PNBN18207  PNLF17954  POLY18113  POWR17913  POWR18059  PPRE18019  PPRO17932  PSSI17949  PTBA17904  PTBA17913  PTBA17933  PTBA17958  PTBA17965  PTBA17986  PTBA18019  PTBA18129  PTBA18155  PTBA18175  PTBA18226  PTBA18255  PTPP17898  PTPP17906  PTPP17968  PTPP17974  PTPP18036  PTPP18038  PTPP18100  PTRO18014  PURE18204  PWON17904  PWON17954  PWON18058  PWON18078  PWON18088  PZZA17954  RALS17965  RALS17973  RALS18100  RALS18261  RELI17907  RELI17929  RICY18113  RMBA17997  RMBA18067  RMBA18153  RUIS17949  SCMA17899  SCMA17906  SCMA18034  SFAN18066  SGRO18074  SGRO18099  SGRO18121  SGRO18220  SGRO18248  SHIP17924  SIMA18063  SIMP17955  SIMP17966  SIMP18016  SIMP18110  SIMP18121  SIMP18182  SIMP18220  SIMP18257  SMAR18110  SMAR18123  SMAR18128  SMAR18170  SMBR17996  SMBR18175  SMCB17899  SMCB17996  SMCB18077  SMCB18125  SMCB18175  SMCB18194  SMDR17924  SMGR17898  SMGR17899  SMGR17974  SMGR17996  SMGR18025  SMGR18077  SMGR18125  SMGR18170  SMGR18231  SMRA17904  SMRA17906  SMRA18014  SMRA18019  SMRA18058  SMRA18078  SMRA18095  SMRA18157  SMRU17909  SOCI17912  SOCI17924  SOCI18071  SOTS17970  SOTS17987  SOTS18179  SRIL17898  SRIL17912  SRIL17918  SRIL17954  SRIL17991  SRIL18008  SRIL18018  SRIL18019  SRIL18114  SRTG17913  SSIA17947  SSMS17918  SSMS17925  SSMS17940  SSMS17946  SSMS18138  SSMS18139  SSMS18142  SSMS18143  SSMS18182  SSMS18220  SSMS18257  STAR18113  TAMU18071  TBIG17913  TBIG17993  TBIG18027  TBIG18039  TBIG18040  TBIG18206  TBLA17918  TBLA17939  TBLA18038  TBLA18099  TCPI18071  TINS17932  TINS17952  TINS17954  TINS18085  TINS18102  TINS18169  TINS18173  TINS18174  TINS18177  TKIM17962  TKIM18123  TLKM17898  TLKM17899  TLKM17906  TLKM17912  TLKM17925  TLKM17954  TLKM17967  TLKM17973  TLKM17974  TLKM17993  TLKM18018  TLKM18019  TLKM18025  TLKM18027  TLKM18035  TLKM18038  TLKM18057  TLKM18063  TLKM18072  TLKM18142  TLKM18172  TLKM18175  TLKM18219  TMAS17924  TOBA18063  TOTL18093  TOWR17962  TOWR17967  TOWR17993  TOWR18038  TPIA17897  TPIA17909  TPIA17954  TPIA17958  TPIA17986  TPIA17990  TPIA18029  TPIA18044  TPIA18231  TPIA18256  TRAM17980  TRAM18063  TRIM18072  TRIO18223  UANG18149  UNSP18223  UNTR17906  UNTR17920  UNTR17991  UNTR18210  UNVR17918  UNVR17954  UNVR17962  UNVR18019  UNVR18025  UNVR18027  UNVR18035  UNVR18036  UNVR18038  UNVR18094  UNVR18172  UNVR18173  UNVR18194  UNVR18213  WEGE18035  WEGE18093  WIKA17898  WIKA17906  WIKA17910  WIKA17930  WIKA17968  WIKA17974  WIKA18019  WIKA18036  WIKA18038  WIKA18063  WINS18071  WOOD17925  WOOD17932  WOOD17962  WOOD18038  WOOD18059  WSBP17898  WSBP18035  WSBP18093  WSBP18100  WSBP18101  WSKT17898  WSKT17910  WSKT17930  WSKT17968  WSKT18101  WSKT18131  WSKT18154  WSKT18157  WTON17898  WTON18019  WTON18093  ZINC17933  [1] 2020\n",
      "AALI18269  AALI18270  AALI18281  AALI18294  AALI18311  AALI18370  AALI18382  AALI18389  AALI18395  AALI18415  AALI18450  AALI18465  AALI18473  AALI18485  AALI18500  AALI18515  AALI18519  AALI18520  AALI18521  AALI18538  AALI18543  AALI18563  AALI18568  AALI18571  AALI18575  AALI18576  AALI18578  AALI18583  AALI18588  AALI18589  AALI18597  AALI18599  ABBA18322  ABBA18624  ACES18359  ACES18438  ADES18529  ADES18530  ADHI18333  ADHI18365  ADHI18379  ADHI18418  ADHI18572  ADHI18586  ADHI18589  ADHI18592  ADMF18411  ADRO18316  ADRO18325  ADRO18332  ADRO18359  ADRO18397  ADRO18426  ADRO18434  ADRO18438  ADRO18455  ADRO18473  ADRO18483  ADRO18527  ADRO18549  ADRO18550  ADRO18553  ADRO18554  ADRO18556  ADRO18586  ADRO18589  AHAP18546  AISA18624  AKRA18330  AKRA18372  AKRA18373  AKRA18401  AKRA18425  AKRA18432  AKRA18438  AKRA18526  AKRA18581  AKRA18582  AKRA18590  AKRA18616  ALMI18624  AMAN18342  AMAR18282  AMOR18282  AMRT18425  ANJT18370  ANJT18485  ANTM18317  ANTM18352  ANTM18375  ANTM18379  ANTM18396  ANTM18432  ANTM18435  ANTM18438  ANTM18439  ANTM18470  ANTM18483  ANTM18537  ANTM18556  ANTM18561  ANTM18563  ANTM18575  ANTM18576  ANTM18599  ANTM18609  ANTM18617  APEX18373  APLN18607  APLN18620  ARNA18369  ARTI18624  ASII18316  ASII18320  ASII18358  ASII18372  ASII18396  ASII18418  ASII18446  ASII18477  ASII18483  ASII18523  ASII18535  ASII18543  ASII18544  ASII18576  ASII18580  ASII18614  ASRI18353  ASRI18383  ASRI18396  ASRI18432  ASRI18550  ATIC18522  AUTO18580  AYLS18335  BAJA18374  BAPI18485  BBCA18289  BBCA18315  BBCA18316  BBCA18320  BBCA18340  BBCA18342  BBCA18343  BBCA18347  BBCA18354  BBCA18368  BBCA18378  BBCA18394  BBCA18395  BBCA18398  BBCA18400  BBCA18418  BBCA18432  BBCA18438  BBCA18446  BBCA18462  BBCA18473  BBCA18477  BBCA18478  BBCA18495  BBCA18523  BBCA18540  BBCA18543  BBCA18570  BBCA18576  BBCA18586  BBCA18588  BBCA18589  BBCA18614  BBCA18617  BBCA18625  BBKP18424  BBKP18429  BBNI18287  BBNI18289  BBNI18291  BBNI18315  BBNI18316  BBNI18320  BBNI18340  BBNI18342  BBNI18343  BBNI18344  BBNI18354  BBNI18358  BBNI18368  BBNI18373  BBNI18378  BBNI18381  BBNI18382  BBNI18389  BBNI18394  BBNI18395  BBNI18396  BBNI18398  BBNI18399  BBNI18400  BBNI18401  BBNI18424  BBNI18425  BBNI18438  BBNI18439  BBNI18441  BBNI18446  BBNI18462  BBNI18477  BBNI18483  BBNI18540  BBNI18543  BBNI18562  BBNI18572  BBNI18576  BBNI18588  BBNI18589  BBNI18592  BBNI18610  BBNI18613  BBNI18625  BBRI18289  BBRI18315  BBRI18316  BBRI18317  BBRI18320  BBRI18332  BBRI18333  BBRI18340  BBRI18342  BBRI18343  BBRI18347  BBRI18354  BBRI18358  BBRI18368  BBRI18373  BBRI18378  BBRI18381  BBRI18382  BBRI18389  BBRI18394  BBRI18395  BBRI18398  BBRI18399  BBRI18400  BBRI18401  BBRI18424  BBRI18432  BBRI18435  BBRI18438  BBRI18441  BBRI18446  BBRI18464  BBRI18477  BBRI18495  BBRI18540  BBRI18543  BBRI18575  BBRI18576  BBRI18588  BBRI18589  BBRI18610  BBRI18613  BBRI18614  BBRI18617  BBRI18625  BBTN18344  BBTN18401  BBTN18425  BBTN18438  BBTN18477  BBTN18483  BBTN18540  BBTN18588  BBTN18589  BBTN18599  BBTN18610  BBTN18613  BBTN18625  BBYB18275  BDMN18438  BDMN18477  BDMN18543  BEEF18312  BEKS18456  BESS18558  BEST18488  BEST18535  BEST18542  BEST18550  BHAT18576  BIMA18624  BIPP18409  BJBR18456  BJBR18540  BMRI18287  BMRI18289  BMRI18316  BMRI18332  BMRI18333  BMRI18340  BMRI18342  BMRI18343  BMRI18347  BMRI18354  BMRI18358  BMRI18368  BMRI18373  BMRI18378  BMRI18381  BMRI18382  BMRI18394  BMRI18395  BMRI18398  BMRI18399  BMRI18400  BMRI18401  BMRI18424  BMRI18425  BMRI18438  BMRI18439  BMRI18441  BMRI18446  BMRI18477  BMRI18495  BMRI18540  BMRI18543  BMRI18575  BMRI18576  BMRI18586  BMRI18588  BMRI18589  BMRI18592  BMRI18610  BMRI18613  BMRI18617  BMRI18625  BMTR18519  BMTR18520  BMTR18532  BNGA18543  BNGA18625  BNII18494  BNLI18330  BNLI18425  BNLI18477  BNLI18478  BRIS18535  BRIS18548  BRIS18576  BRIS18582  BRIS18588  BRIS18589  BRMS18424  BRPT18425  BRPT18432  BRPT18439  BRPT18456  BRPT18533  BRPT18544  BRPT18550  BRPT18551  BSDE18284  BSDE18285  BSDE18340  BSDE18434  BSDE18439  BSDE18456  BSDE18457  BSDE18477  BSDE18579  BSDE18586  BSDE18606  BSDE18613  BTPN18484  BTPN18535  BTPN18548  BTPN18582  BTPN18625  BTPS18399  BTPS18400  BTPS18477  BTPS18484  BTPS18535  BTPS18548  BTPS18582  BTPS18588  BTPS18589  BTPS18625  BUMI18322  BUMI18353  BUMI18424  BUMI18455  BVIC18369  BWPT18294  BWPT18485  BYAN18453  CAKK18546  CASA18316  CASA18456  CASA18464  CMPP18560  CMPP18624  CPIN18424  CPIN18425  CPIN18432  CPIN18477  CPIN18617  CSRA18270  CSRA18278  CSRA18282  CSRA18396  CSRA18397  CSRA18472  CSRA18499  CTRA18284  CTRA18285  CTRA18431  CTRA18434  CTRA18579  CTRA18586  CTRA18606  CTRA18613  DGIK18445  DILD18358  DILD18542  DILD18550  DMAS18290  DMAS18535  DMAS18542  DMAS18550  DMAS18617  DOID18402  DOOH18598  DSNG18360  DSNG18370  DSNG18473  DSNG18485  DSNG18570  DSNG18577  DSNG18593  ELSA18267  ELSA18283  ELSA18339  ELSA18344  ELSA18373  ELSA18374  ELSA18401  ELSA18526  ELSA18575  ENRG18372  ENRG18373  ERAA18359  ERAA18477  ERAA18483  ERAA18543  ERAA18556  ERAA18576  EXCL18289  EXCL18347  EXCL18439  EXCL18470  EXCL18477  EXCL18483  EXCL18484  EXCL18518  EXCL18572  FAST18493  FIRE18275  FIRE18549  FPNI18269  FREN18484  GDST18439  GEMS18341  GGRM18287  GGRM18312  GGRM18320  GGRM18395  GGRM18446  GGRM18473  GGRM18483  GGRM18543  GGRM18556  GGRM18588  GGRM18604  GGRM18618  GGRP18492  GIAA18560  GIAA18589  GIAA18624  GJTL18353  GJTL18358  GOLD18354  GOLD18429  GOLD18472  GOLD18513  GOOD18312  HEAL18515  HEAL18516  HEAL18519  HMSP18287  HMSP18312  HMSP18320  HMSP18424  HMSP18425  HMSP18473  HMSP18523  HMSP18543  HMSP18556  HMSP18572  HMSP18604  HMSP18618  HOKI18312  HOKI18347  HOKI18529  HOKI18530  HRTA18275  HRUM18434  HRUM18438  HRUM18527  ICBP18270  ICBP18287  ICBP18312  ICBP18322  ICBP18342  ICBP18347  ICBP18355  ICBP18359  ICBP18372  ICBP18395  ICBP18397  ICBP18439  ICBP18446  ICBP18465  ICBP18473  ICBP18477  ICBP18483  ICBP18504  ICBP18515  ICBP18518  ICBP18519  ICBP18529  ICBP18530  ICBP18570  ICBP18572  ICBP18575  ICBP18576  ICBP18583  ICBP18592  ICBP18614  ICBP18618  ICON18275  IFSH18518  IGAR18536  IIKP18275  IMAS18580  INAF18275  INAF18347  INAF18354  INAF18518  INAF18519  INAF18576  INCO18360  INCO18418  INCO18472  INCO18515  INCO18519  INCO18523  INCO18556  INCO18561  INCO18563  INCO18570  INCO18575  INCO18585  INCO18609  INDF18312  INDF18342  INDF18355  INDF18359  INDF18369  INDF18372  INDF18395  INDF18439  INDF18477  INDF18478  INDF18483  INDF18515  INDF18518  INDF18519  INDF18529  INDF18530  INDF18544  INDF18575  INDF18592  INDF18614  INDF18618  INDO18282  INDY18402  INDY18434  INDY18455  INDY18527  INDY18547  INDY18553  INDY18586  INDY18589  INKP18457  INKP18483  INKP18523  INKP18556  INOV18598  INTA18624  INTP18306  INTP18367  INTP18424  INTP18425  INTP18432  INTP18588  IPCC18290  IPCC18347  ISAT18289  ISAT18372  ISAT18439  ISAT18483  ISAT18484  ISAT18614  ISSP18439  ITIC18407  ITMG18332  ITMG18397  ITMG18424  ITMG18425  ITMG18434  ITMG18456  ITMG18527  ITMG18549  ITMG18550  ITMG18553  ITMG18556  ITMG18586  ITMG18589  JPFA18572  JRPT18295  JSMR18379  JSMR18441  JSMR18473  JSMR18477  JSMR18540  JSMR18543  JSMR18556  JSMR18572  JSMR18589  KAEF18325  KAEF18347  KAEF18373  KAEF18389  KAEF18518  KAEF18519  KAEF18526  KAEF18540  KAEF18576  KARW18546  KAYU18546  KBLI18578  KIJA18374  KIJA18457  KIJA18550  KINO18312  KINO18347  KINO18395  KINO18618  KLBF18355  KLBF18375  KLBF18400  KLBF18424  KLBF18439  KLBF18477  KLBF18483  KLBF18518  KLBF18519  KLBF18570  KLBF18572  KLBF18576  KLBF18583  KPAS18546  KRAS18369  KRAS18439  KRAS18547  LAPD18624  LINK18290  LPCK18432  LPCK18439  LPCK18550  LPKR18296  LPKR18434  LPPF18284  LPPF18359  LSIP18269  LSIP18294  LSIP18370  LSIP18389  LSIP18395  LSIP18418  LSIP18450  LSIP18465  LSIP18473  LSIP18485  LSIP18515  LSIP18519  LSIP18520  LSIP18521  LSIP18523  LSIP18538  LSIP18563  LSIP18568  LSIP18571  LSIP18575  LSIP18578  LSIP18597  LTLS18466  MAMI18278  MAMI18305  MAMI18344  MAMI18359  MAMI18372  MAMI18478  MAMI18620  MAPI18418  MAPI18432  MAPI18483  MARI18290  MDKA18456  MDKA18561  MDLN18369  MDLN18430  MDLN18438  MEDC18329  MEDC18330  MEDC18353  MEDC18373  MEDC18374  MEDC18393  MEDC18395  MEDC18401  MEDC18418  MEDC18456  MEDC18523  MEDC18526  MEDC18575  MEDC18581  MEDC18582  MEDC18616  MFIN18369  MFIN18434  MGRO18312  MGRO18485  MIKA18438  MIKA18456  MIKA18515  MIKA18516  MIKA18519  MIKA18570  MIKA18572  MITI18624  MLIA18369  MLIA18585  MNCN18438  MNCN18586  MPRO18281  MSIN18455  MTDL18394  MTFN18624  MTLA18542  MYOH18373  MYOR18312  MYOR18322  MYOR18347  MYOR18395  MYOR18396  MYOR18465  MYOR18529  MYOR18530  MYRX18275  MYRX18281  MYRX18504  NIKL18275  OKAS18331  PALM18370  PANS18430  PBID18536  PBID18619  PBRX18353  PCAR18275  PGAS18282  PGAS18297  PGAS18304  PGAS18310  PGAS18333  PGAS18368  PGAS18369  PGAS18372  PGAS18379  PGAS18385  PGAS18389  PGAS18391  PGAS18400  PGAS18418  PGAS18419  PGAS18429  PGAS18441  PGAS18477  PGAS18483  PGAS18502  PGAS18540  PGAS18547  PGAS18585  PGAS18586  PGAS18599  PGJO18282  PGJO18444  PJAA18369  PLAN18520  PLAN18626  PNBN18543  POLA18275  POLU18411  POLY18352  PPRO18275  PPRO18487  PPRO18553  PPRO18557  PPRO18589  PSAB18409  PTBA18273  PTBA18325  PTBA18332  PTBA18389  PTBA18397  PTBA18409  PTBA18434  PTBA18439  PTBA18455  PTBA18501  PTBA18527  PTBA18535  PTBA18549  PTBA18550  PTBA18553  PTBA18554  PTBA18563  PTBA18566  PTBA18572  PTBA18581  PTBA18588  PTBA18593  PTIS18435  PTPP18333  PTPP18344  PTPP18379  PTPP18477  PTPP18553  PTPP18557  PTPP18585  PTPP18586  PTPP18588  PTPP18592  PURA18290  PURE18362  PURE18578  PURE18612  PWON18320  PWON18434  PWON18541  PWON18542  PWON18547  PWON18579  PWON18606  PWON18614  PYFA18576  PZZA18312  RALS18425  RIGS18426  RIMO18281  RUIS18373  SAFE18499  SAMF18589  SDMU18275  SFAN18444  SGRO18370  SGRO18389  SGRO18485  SGRO18597  SGRO18614  SIDO18290  SIDO18311  SIDO18312  SIDO18347  SIDO18355  SIDO18518  SIDO18549  SIDO18570  SIDO18576  SIMP18369  SIMP18370  SIMP18404  SIMP18418  SIMP18473  SIMP18485  SIMP18550  SIMP18578  SIMP18589  SMAR18368  SMAR18370  SMAR18407  SMAR18415  SMAR18457  SMAR18485  SMCB18418  SMCB18541  SMDR18549  SMGR18306  SMGR18473  SMGR18477  SMGR18515  SMGR18519  SMGR18541  SMGR18552  SMGR18556  SMGR18625  SMMA18477  SMMA18478  SMRA18372  SMRA18396  SMRA18432  SMRA18439  SMRA18523  SMRA18542  SMRA18606  SMRU18275  SOHO18558  SOTS18582  SOTS18603  SPTO18573  SRIL18396  SRIL18421  SRIL18432  SRIL18483  SRIL18523  SRIL18532  SRIL18583  SRIL18620  SSIA18290  SSIA18535  SSIA18542  SSIA18550  SSMS18296  SSMS18424  SSMS18578  STAR18396  STAR18599  SURE18593  TBIG18372  TBIG18418  TBIG18523  TBIG18535  TBIG18572  TBIG18614  TBLA18485  TBLA18520  TBLA18589  TCID18337  TECH18417  TELE18484  TINS18302  TINS18372  TINS18456  TINS18465  TINS18515  TINS18519  TINS18563  TINS18586  TIRT18624  TKIM18456  TKIM18457  TKIM18523  TLKM18270  TLKM18287  TLKM18289  TLKM18320  TLKM18332  TLKM18333  TLKM18347  TLKM18396  TLKM18397  TLKM18424  TLKM18425  TLKM18432  TLKM18441  TLKM18477  TLKM18483  TLKM18484  TLKM18515  TLKM18516  TLKM18518  TLKM18519  TLKM18535  TLKM18540  TLKM18572  TLKM18586  TLKM18588  TLKM18589  TLKM18592  TLKM18599  TLKM18617  TOTO18346  TOWR18270  TOWR18289  TOWR18396  TOWR18438  TOWR18473  TOWR18556  TOWR18570  TOWR18588  TOWR18614  TPIA18269  TPIA18282  TPIA18369  TPIA18372  TPIA18425  TPIA18463  TPIA18533  TPIA18550  TPIA18551  TRIM18500  TRIN18282  TRJA18501  ULTJ18575  ULTJ18576  UNSP18622  UNTR18358  UNTR18385  UNTR18411  UNTR18434  UNTR18483  UNTR18515  UNTR18519  UNTR18556  UNVR18287  UNVR18312  UNVR18320  UNVR18322  UNVR18342  UNVR18355  UNVR18359  UNVR18372  UNVR18396  UNVR18425  UNVR18439  UNVR18477  UNVR18478  UNVR18513  UNVR18514  UNVR18541  UNVR18564  UNVR18570  UNVR18592  UNVR18614  UNVR18618  WIIM18290  WIIM18604  WIKA18379  WIKA18477  WIKA18483  WIKA18542  WIKA18544  WIKA18586  WIKA18588  WIKA18592  WIKA18614  WOOD18581  WOWS18546  WSBP18333  WSBP18586  WSBP18588  WSKT18333  WSKT18372  WSKT18477  WSKT18542  WSKT18586  WSKT18588  WSKT18592  WTON18332  WTON18586  WTON18588  ZINC18548  [1] 2021\n",
      "AALI18632  AALI18648  AALI18660  AALI18661  AALI18687  AALI18688  AALI18696  AALI18703  AALI18709  AALI18723  AALI18738  AALI18757  AALI18782  AALI18783  AALI18794  AALI18801  AALI18802  AALI18803  AALI18813  AALI18823  AALI18829  AALI18834  AALI18863  AALI18873  AALI18891  AALI18893  AALI18898  AALI18901  AALI18902  AALI18908  AALI18911  AALI18914  AALI18915  AALI18916  AALI18921  AALI18922  AALI18936  AALI18946  AALI18956  AALI18961  AALI18973  ACES18705  ACES18743  ACES18794  ACES18795  ADHI18637  ADHI18641  ADHI18682  ADHI18693  ADHI18774  ADHI18801  ADHI18838  ADHI18892  ADHI18893  ADHI18989  ADRO18632  ADRO18634  ADRO18675  ADRO18676  ADRO18696  ADRO18736  ADRO18743  ADRO18774  ADRO18793  ADRO18803  ADRO18804  ADRO18821  ADRO18826  ADRO18830  ADRO18876  ADRO18893  ADRO18898  ADRO18901  ADRO18902  ADRO18908  ADRO18912  ADRO18921  ADRO18936  ADRO18938  ADRO18978  AGRO18795  AGRO18800  AGRO18807  AGRO18859  AGRO18860  AGRO18904  AGRO18977  AGRO18989  AGRS18691  AGRS18695  AGRS18701  AKRA18643  AKRA18653  AKRA18700  AKRA18705  AKRA18782  AKRA18823  AKRA18827  AKRA18866  AKRA18898  AKRA18917  AKRA18926  ALDO18977  AMAR18695  AMAR18801  AMOR18980  ANJT18646  ANJT18663  ANJT18758  ANJT18913  ANTM18633  ANTM18635  ANTM18640  ANTM18643  ANTM18648  ANTM18651  ANTM18652  ANTM18657  ANTM18662  ANTM18668  ANTM18676  ANTM18694  ANTM18708  ANTM18709  ANTM18712  ANTM18750  ANTM18795  ANTM18805  ANTM18834  ANTM18856  ANTM18861  ANTM18862  ANTM18863  ANTM18865  ANTM18871  ANTM18876  ANTM18877  ANTM18883  ANTM18884  ANTM18885  ANTM18886  ANTM18892  ANTM18893  ANTM18904  ANTM18905  ANTM18906  ANTM18912  ANTM18922  ANTM18948  ANTM18961  ANTM18962  ANTM18971  ANTM18981  APEX18683  APLN18678  ARCI18893  ARCI18900  ARMY18965  ARTO18668  ARTO18695  ARTO18701  ARTO18774  ARTO18786  ARTO18792  ARTO18800  ARTO18801  ARTO18821  ARTO18861  ARTO18862  ARTO18873  ARTO18874  ARTO18980  ARTO18981  ARTO18991  ASII18642  ASII18644  ASII18648  ASII18667  ASII18673  ASII18693  ASII18705  ASII18723  ASII18732  ASII18733  ASII18786  ASII18796  ASII18798  ASII18799  ASII18800  ASII18843  ASII18863  ASII18872  ASII18873  ASII18874  ASII18891  ASII18892  ASII18898  ASII18911  ASII18914  ASII18915  ASII18935  ASII18964  ASII18970  ASII18971  ASII18981  ASII18982  ASII18984  ASRI18678  ASRI18688  ASRI18774  ASRI18801  ASRI18968  ASSA18653  ASSA18695  ATIC18751  ATIC18805  ATIC18806  AUTO18644  BABP18801  BABP18884  BACA18691  BACA18695  BACA18701  BANK18667  BANK18801  BBCA18637  BBCA18640  BBCA18642  BBCA18644  BBCA18648  BBCA18667  BBCA18668  BBCA18688  BBCA18690  BBCA18695  BBCA18705  BBCA18708  BBCA18717  BBCA18786  BBCA18795  BBCA18798  BBCA18799  BBCA18800  BBCA18801  BBCA18822  BBCA18856  BBCA18859  BBCA18860  BBCA18891  BBCA18892  BBCA18893  BBCA18898  BBCA18903  BBCA18904  BBCA18908  BBCA18924  BBCA18928  BBCA18935  BBCA18942  BBCA18943  BBCA18961  BBCA18970  BBCA18971  BBCA18977  BBCA18980  BBCA18981  BBCA18982  BBCA18983  BBCA18984  BBCA18991  BBHI18691  BBHI18695  BBHI18701  BBKP18786  BBKP18801  BBKP18884  BBKP18977  BBKP18980  BBKP18981  BBNI18637  BBNI18640  BBNI18642  BBNI18644  BBNI18668  BBNI18682  BBNI18688  BBNI18694  BBNI18708  BBNI18717  BBNI18774  BBNI18793  BBNI18796  BBNI18822  BBNI18829  BBNI18834  BBNI18838  BBNI18843  BBNI18856  BBNI18891  BBNI18892  BBNI18893  BBNI18903  BBNI18904  BBNI18908  BBNI18914  BBNI18915  BBNI18935  BBNI18961  BBNI18970  BBNI18971  BBNI18977  BBNI18984  BBNI18989  BBNI18991  BBRI18637  BBRI18640  BBRI18642  BBRI18644  BBRI18648  BBRI18667  BBRI18668  BBRI18688  BBRI18690  BBRI18694  BBRI18705  BBRI18708  BBRI18709  BBRI18717  BBRI18774  BBRI18786  BBRI18792  BBRI18793  BBRI18795  BBRI18796  BBRI18822  BBRI18829  BBRI18838  BBRI18856  BBRI18859  BBRI18860  BBRI18861  BBRI18862  BBRI18884  BBRI18891  BBRI18892  BBRI18893  BBRI18903  BBRI18904  BBRI18908  BBRI18914  BBRI18915  BBRI18928  BBRI18935  BBRI18942  BBRI18943  BBRI18961  BBRI18970  BBRI18971  BBRI18977  BBRI18980  BBRI18981  BBRI18984  BBRI18989  BBRI18991  BBSI18695  BBSI18977  BBTN18642  BBTN18644  BBTN18648  BBTN18676  BBTN18682  BBTN18694  BBTN18705  BBTN18709  BBTN18774  BBTN18795  BBTN18796  BBTN18822  BBTN18838  BBTN18891  BBTN18892  BBTN18908  BBTN18914  BBTN18915  BBTN18928  BBTN18939  BBTN18942  BBTN18977  BBYB18701  BBYB18861  BBYB18862  BBYB18867  BBYB18873  BBYB18874  BBYB18975  BBYB18977  BCAP18703  BCIC18977  BDMN18682  BELL18848  BFIN18795  BFIN18961  BHAT18867  BINA18801  BINA18977  BJBR18668  BJTM18668  BJTM18676  BJTM18682  BJTM18838  BKSW18691  BKSW18695  BKSW18701  BMAS18691  BMAS18695  BMAS18701  BMHS18827  BMRI18637  BMRI18640  BMRI18642  BMRI18644  BMRI18648  BMRI18667  BMRI18668  BMRI18688  BMRI18694  BMRI18708  BMRI18709  BMRI18717  BMRI18764  BMRI18774  BMRI18786  BMRI18792  BMRI18793  BMRI18798  BMRI18799  BMRI18800  BMRI18822  BMRI18829  BMRI18838  BMRI18843  BMRI18856  BMRI18859  BMRI18860  BMRI18861  BMRI18862  BMRI18891  BMRI18892  BMRI18893  BMRI18903  BMRI18904  BMRI18908  BMRI18914  BMRI18915  BMRI18928  BMRI18942  BMRI18943  BMRI18961  BMRI18970  BMRI18971  BMRI18977  BMRI18981  BMRI18982  BMRI18984  BMRI18989  BMRI18991  BNBA18691  BNBA18695  BNBA18701  BNBA18977  BNBR18972  BNLI18798  BNLI18799  BOBA18932  BOBA18990  BOLA18867  BRIS18807  BRIS18838  BRIS18859  BRIS18860  BRIS18877  BRIS18885  BRIS18886  BRIS18908  BRIS18961  BRMS18645  BRMS18830  BRMS18977  BRPT18666  BRPT18801  BRPT18917  BRPT18976  BSDE18644  BSDE18659  BSDE18660  BSDE18679  BSDE18688  BSDE18704  BSDE18717  BSDE18764  BSDE18774  BSDE18883  BSDE18904  BSDE18984  BSIM18821  BTEL18901  BTEL18902  BTPN18701  BTPS18682  BTPS18877  BUKA18848  BUKA18850  BUKA18851  BUKA18855  BUKA18858  BUKA18912  BUKA18915  BUKA18920  BUKA18926  BUKA18927  BUKA18942  BUKA18967  BUKA18976  BULL18948  BUMI18632  BUMI18645  BUMI18830  BUMI18897  BUMI18946  BUMI18974  BWPT18915  BWPT18916  BWPT18921  BWPT18922  BYAN18851  CAMP18962  CARS18673  CARS18855  CINT18732  CITA18978  CMNT18850  CMNT18851  CMNT18907  CMRY18967  CMRY18968  COCO18693  COCO18977  CPIN18875  CPIN18976  CSRA18922  CTRA18644  CTRA18659  CTRA18660  CTRA18679  CTRA18688  CTRA18704  CTRA18764  CTRA18774  CTRA18793  CTRA18794  CTRA18800  DEPO18967  DEWA18680  DILD18787  DILD18800  DMAS18675  DMAS18764  DMAS18963  DMMX18751  DMND18855  DMND18962  DNAR18884  DSNG18691  DSNG18711  DSNG18746  DSNG18757  DSNG18803  DSNG18813  DSNG18911  DSNG18921  DSNG18922  DSNG18929  DSNG18941  DSNG18946  DSNG18961  DSNG18980  DSSA18775  EDGE18792  ELSA18666  ELSA18667  ELSA18676  ELSA18683  ELSA18703  ELSA18732  ELSA18890  ELSA18912  EMTK18648  EMTK18798  EMTK18799  EMTK18800  EMTK18977  ENRG18683  ENVY18827  ERAA18707  ERAA18708  ERAA18711  ERAA18737  ERAA18738  ERAA18743  ERAA18786  ERAA18803  ERAA18824  ERAA18825  ERAA18898  ERAA18904  ERAA18909  ERAA18961  ERTX18709  ESSA18707  EXCL18634  EXCL18643  EXCL18789  EXCL18869  EXCL18970  EXCL18971  EXCL18980  EXCL18981  EXCL18984  FILM18977  FREN18800  GGRM18661  GGRM18662  GGRM18942  GGRM18943  GGRM18976  GIAA18802  GIAA18803  GIAA18836  GIAA18867  GJTL18635  GJTL18644  GJTL18737  GLVA18805  GLVA18806  GMFI18693  GOLD18764  GOLL18794  GOLL18827  GOLL18901  GOLL18902  GOTO18920  GOTO18991  GPSO18850  GPSO18851  GSMF18977  GTBO18827  HAIS18850  HAIS18851  HEAL18694  HMSP18643  HMSP18737  HMSP18875  HMSP18908  HMSP18919  HMSP18942  HMSP18943  HMSP18976  HMSP18981  HMSP18982  HOKI18662  HOKI18758  HOKI18760  HOKI18942  HOKI18943  HOME18869  HRUM18792  HRUM18803  HRUM18804  HRUM18893  HRUM18980  HRUM18981  IBST18882  ICBP18643  ICBP18667  ICBP18682  ICBP18695  ICBP18700  ICBP18701  ICBP18711  ICBP18723  ICBP18730  ICBP18732  ICBP18733  ICBP18737  ICBP18793  ICBP18800  ICBP18801  ICBP18848  ICBP18872  ICBP18873  ICBP18874  ICBP18898  ICBP18907  ICBP18908  ICBP18909  ICBP18913  ICBP18914  ICBP18915  ICBP18919  ICBP18942  ICBP18943  ICBP18948  ICBP18961  ICBP18964  IGAR18701  IKAN18865  IMAS18644  IMAS18673  IMAS18798  IMAS18799  IMJS18798  IMJS18799  INAF18807  INAF18824  INAF18827  INAF18924  INAF18962  INCO18640  INCO18643  INCO18648  INCO18662  INCO18676  INCO18694  INCO18705  INCO18723  INCO18805  INCO18834  INCO18863  INCO18871  INCO18884  INCO18885  INCO18886  INCO18900  INCO18904  INCO18908  INCO18912  INCO18948  INCO18961  INCO18980  INCO18981  INDF18643  INDF18661  INDF18662  INDF18682  INDF18700  INDF18701  INDF18711  INDF18737  INDF18786  INDF18872  INDF18873  INDF18874  INDF18913  INDF18919  INDF18942  INDF18943  INDF18961  INDF18964  INDY18632  INDY18639  INDY18901  INDY18902  INDY18946  INDY18977  INKP18642  INKP18644  INKP18737  INKP18976  INOV18869  INPC18691  INPC18695  INPC18701  INTA18814  INTP18640  INTP18642  INTP18644  INTP18705  INTP18709  INTP18723  INTP18765  INTP18771  INTP18772  INTP18789  INTP18796  INTP18799  INTP18843  INTP18896  INTP18900  INTP18948  IPCC18674  IPCM18674  IPPE18970  IRRA18807  ISAT18800  ISAT18893  ISAT18898  ISAT18934  ISAT18970  ISAT18971  ISAT18984  ITMG18642  ITMG18644  ITMG18676  ITMG18688  ITMG18696  ITMG18792  ITMG18801  ITMG18802  ITMG18803  ITMG18804  ITMG18863  ITMG18878  ITMG18893  ITMG18898  ITMG18908  ITMG18912  ITMG18980  ITMG18981  JAWA18922  JECC18978  JKSW18965  JPFA18640  JPFA18679  JPFA18738  JPFA18911  JPFA18976  JPFA18977  JRPT18679  JSMR18774  JSMR18838  JSMR18904  JSMR18981  JSMR18982  KAEF18635  KAEF18648  KAEF18674  KAEF18807  KAEF18824  KAEF18827  KAEF18924  KAEF18962  KAYU18912  KBRI18827  KBRI18965  KIJA18733  KIJA18764  KIJA18801  KINO18655  KINO18704  KINO18848  KIOS18751  KLBF18671  KLBF18672  KLBF18673  KLBF18680  KLBF18701  KLBF18723  KLBF18732  KLBF18733  KLBF18738  KLBF18801  KLBF18875  KLBF18905  KLBF18915  KLBF18924  KLBF18942  KLBF18962  KLBF18977  KMDS18932  KPAS18863  KRAH18794  KRAH18827  KRAS18669  KRAS18693  KRAS18802  KRAS18803  LABA18867  LAPD18827  LCGP18965  LINK18694  LINK18740  LINK18801  LPCK18688  LPKR18678  LPKR18679  LPKR18688  LPKR18704  LPKR18764  LPKR18794  LPPF18707  LPPF18708  LPPF18898  LSIP18632  LSIP18640  LSIP18645  LSIP18655  LSIP18660  LSIP18661  LSIP18687  LSIP18688  LSIP18696  LSIP18703  LSIP18738  LSIP18757  LSIP18794  LSIP18802  LSIP18803  LSIP18813  LSIP18823  LSIP18834  LSIP18863  LSIP18891  LSIP18893  LSIP18901  LSIP18902  LSIP18904  LSIP18908  LSIP18911  LSIP18914  LSIP18915  LSIP18916  LSIP18921  LSIP18922  LSIP18946  LSIP18956  LSIP18973  LUCK18751  MABA18827  MAIN18723  MAMI18698  MAMI18699  MAMI18731  MAMI18844  MAMI18848  MAMI18861  MAMI18896  MAMI18905  MAMI18910  MAMI18919  MAMI18925  MAMI18942  MAMI18968  MAMI18983  MAPA18883  MAPI18707  MAPI18708  MAPI18743  MAPI18792  MAPI18904  MARI18980  MARI18981  MCAS18751  MCAS18795  MCOL18850  MCOL18851  MDKA18634  MDKA18642  MDKA18644  MDKA18660  MDKA18708  MDKA18709  MDKA18834  MDKA18861  MDKA18862  MDKA18893  MDKA18935  MDKA18960  MDKA18980  MDKA18981  MEDC18676  MEDC18683  MEDC18703  MEDC18890  MEDC18935  MEDC18973  MEDC18974  MEDC18976  MGNA18827  MGRO18863  MIDI18753  MIKA18694  MIKA18827  MIKA18875  MIKA18963  MITI18683  MLBI18962  MLPT18751  MLPT18884  MNCN18642  MNCN18644  MNCN18786  MNCN18789  MNCN18961  MPMX18638  MPMX18690  MPMX18798  MPMX18799  MPPA18815  MPPA18977  MTDL18726  MTDL18751  MTDL18835  MTDL18920  MTDL18963  MTEL18960  MTEL18967  MTRA18794  MTRA18827  MUTU18639  MYOH18900  MYOR18701  MYOR18792  MYOR18793  MYOR18848  MYOR18913  MYOR18919  MYOR18942  MYOR18943  NFCX18751  NICL18823  NICL18838  NISP18693  NISP18806  NOBU18977  OASA18966  OBMD18969  OCAP18827  OILS18850  OILS18851  OILS18873  PALM18827  PALM18922  PBID18701  PBID18731  PBID18734  PBID18829  PBID18982  PBRX18635  PBRX18653  PBRX18794  PBRX18795  PCAR18970  PEGE18867  PEHA18634  PEHA18824  PEHA18827  PEHA18926  PGAS18648  PGAS18728  PGAS18774  PGAS18859  PGAS18860  PGAS18862  PGAS18893  PGAS18942  PGAS18950  PGAS18976  PGAS18981  PGAS18982  PGAS18989  PICO18739  PICO18794  PLAS18901  PLAS18902  PNBS18795  PNBS18800  POLL18794  POWR18948  PPRO18686  PPRO18733  PPRO18883  PRDA18827  PSAB18708  PSAB18709  PSAB18861  PSAB18862  PSAB18892  PTBA18632  PTBA18645  PTBA18648  PTBA18651  PTBA18652  PTBA18663  PTBA18668  PTBA18676  PTBA18688  PTBA18696  PTBA18698  PTBA18749  PTBA18751  PTBA18774  PTBA18795  PTBA18803  PTBA18804  PTBA18826  PTBA18830  PTBA18871  PTBA18892  PTBA18893  PTBA18900  PTBA18905  PTBA18906  PTBA18912  PTBA18938  PTBA18948  PTBA18950  PTBA18980  PTBA18981  PTBA18989  PTPP18637  PTPP18641  PTPP18659  PTPP18660  PTPP18682  PTPP18693  PTPP18709  PTPP18883  PTPP18892  PTPP18893  PTPP18989  PTSN18805  PTSN18806  PWON18644  PWON18679  PWON18688  PWON18704  PWON18764  PWON18801  PYFA18689  RAJA18743  RALS18707  RALS18708  RALS18743  RDTX18830  RIMO18725  RMBA18867  RMBA18898  RMBA18901  RMBA18902  RUNS18889  RUNS18898  SAMF18696  SAMF18697  SAMF18773  SCMA18859  SCMA18860  SCMA18961  SDMU18898  SDRA18884  SGER18642  SGRO18631  SGRO18823  SHID18867  SIDO18666  SIDO18701  SIDO18704  SIDO18723  SIDO18732  SIDO18733  SIDO18802  SIDO18817  SIDO18848  SIDO18924  SILO18827  SIMA18898  SIMP18632  SIMP18653  SIMP18694  SIMP18757  SIMP18794  SIMP18802  SIMP18803  SIMP18813  SIMP18823  SIMP18834  SIMP18852  SIMP18863  SIMP18891  SIMP18893  SIMP18908  SIMP18915  SIMP18916  SIMP18922  SIMP18961  SIMP18973  SMAR18711  SMAR18757  SMAR18893  SMBR18896  SMCB18646  SMCB18687  SMCB18688  SMGR18643  SMGR18646  SMGR18687  SMGR18688  SMGR18700  SMGR18709  SMGR18711  SMGR18723  SMGR18789  SMGR18793  SMGR18843  SMGR18879  SMGR18896  SMGR18976  SMRA18679  SMRA18688  SMRA18704  SMRA18794  SMRA18893  SOFA18867  SRIL18653  SRIL18695  SRIL18709  SRIL18711  SRIL18768  SRIL18794  SRIL18795  SRIL18827  SRTG18814  SSIA18647  SSIA18917  SSMS18631  SSMS18660  SSMS18661  SSMS18738  SSMS18757  SSMS18782  SSMS18823  SSMS18863  SSMS18891  SSMS18915  SSMS18916  SSMS18922  SSMS18926  SSMS18936  SSMS18973  SUPR18882  TAPG18803  TAPG18813  TAPG18907  TAPG18921  TAPG18922  TAPG18946  TAYS18967  TAYS18968  TBIG18653  TBIG18795  TBIG18800  TBIG18882  TBIG18942  TBIG18943  TBIG18948  TBIG18967  TBLA18653  TBLA18660  TBLA18661  TBLA18921  TBLA18922  TBLA18941  TCPI18768  TDPM18760  TDPM18764  TDPM18768  TEBE18642  TECH18867  TINS18651  TINS18668  TINS18817  TINS18834  TINS18844  TINS18863  TINS18879  TINS18892  TINS18893  TINS18905  TINS18906  TINS18912  TINS18921  TINS18948  TINS18960  TIRA18824  TKIM18705  TKIM18787  TKIM18789  TKIM18976  TLKM18634  TLKM18642  TLKM18643  TLKM18644  TLKM18667  TLKM18705  TLKM18711  TLKM18774  TLKM18782  TLKM18792  TLKM18798  TLKM18799  TLKM18800  TLKM18829  TLKM18838  TLKM18914  TLKM18915  TLKM18926  TLKM18927  TLKM18935  TLKM18961  TLKM18970  TLKM18971  TLKM18981  TLKM18982  TLKM18984  TLKM18989  TOWR18643  TOWR18705  TOWR18711  TOWR18750  TOWR18882  TOWR18942  TOWR18943  TOWR18963  TOWR18967  TOWR18976  TOWR18981  TOWR18982  TOYS18795  TPIA18666  TPIA18679  TPIA18690  TPIA18893  TPIA18900  TPIA18917  TPIA18927  TPIA18960  TPMA18803  TRIL18965  TRIM18694  TRIM18817  TRIM18818  TRIM18899  TRIM18900  TRIM18967  TRIM18983  TRUE18867  UANG18867  UCID18723  UFOE18654  UNSP18921  UNSP18922  UNTR18640  UNTR18688  UNTR18709  UNTR18732  UNTR18733  UNTR18738  UNTR18792  UNTR18798  UNTR18799  UNTR18863  UNTR18900  UNTR18970  UNTR18971  UNTR18976  UNTR18980  UNTR18981  UNTR18984  UNVR18642  UNVR18644  UNVR18661  UNVR18662  UNVR18695  UNVR18701  UNVR18704  UNVR18709  UNVR18723  UNVR18730  UNVR18800  UNVR18801  UNVR18822  UNVR18830  UNVR18848  UNVR18871  UNVR18875  UNVR18898  UNVR18908  UNVR18913  UNVR18919  UNVR18942  UNVR18943  UNVR18981  UNVR18982  VOKS18688  WEGE18914  WEGE18915  WEHA18867  WGSH18967  WGSH18968  WIFI18976  WIKA18637  WIKA18641  WIKA18774  WIKA18793  WIKA18801  WIKA18893  WIKA18898  WIKA18914  WIKA18915  WIKA18976  WIKA18989  WINS18969  WMPP18967  WMPP18968  WMUU18654  WMUU18926  WMUU18927  WOOD18635  WOOD18795  WOOD18871  WOOD18893  WSBP18794  WSKT18641  WSKT18658  WSKT18659  WSKT18660  WSKT18693  WSKT18774  WSKT18814  WSKT18914  WSKT18915  WSKT18989  YELO18867  ZBRA18863  [1] 2022\n",
      "AALI19009  AALI19016  AALI19024  AALI19025  AALI19031  AALI19037  AALI19038  AALI19039  AALI19044  AALI19045  AALI19047  AALI19054  AALI19055  AALI19058  AALI19061  AALI19065  AALI19068  AALI19069  AALI19070  AALI19079  AALI19080  AALI19081  AALI19082  AALI19104  AALI19106  AALI19110  AALI19121  AALI19132  AALI19139  AALI19143  AALI19151  AALI19156  AALI19157  AALI19165  AALI19170  AALI19175  AALI19177  AALI19178  AALI19191  AALI19201  AALI19213  AALI19234  AALI19249  AALI19274  AALI19275  AALI19284  AALI19285  AALI19286  AALI19305  AALI19317  AALI19321  AALI19326  AALI19327  AALI19333  AALI19347  AALI19348  ABBA19201  ABMM18996  ABMM19242  ABMM19243  ACES19065  ACES19079  ACES19123  ACES19143  ACES19166  ACES19178  ACES19217  ACES19218  ACES19219  ACES19241  ACES19274  ACES19281  ACES19282  ACES19314  ACES19333  ACST19345  ADCP19046  ADCP19250  ADCP19265  ADHI19034  ADHI19046  ADHI19068  ADHI19073  ADHI19074  ADHI19134  ADHI19143  ADHI19186  ADHI19195  ADHI19199  ADHI19208  ADHI19219  ADHI19229  ADHI19282  ADHI19320  ADHI19321  ADHI19322  ADHI19347  ADHI19348  ADMF19242  ADMF19256  ADMF19289  ADMG19171  ADMR19040  ADMR19069  ADMR19070  ADMR19086  ADMR19103  ADMR19150  ADMR19151  ADMR19187  ADMR19190  ADMR19208  ADMR19218  ADMR19219  ADMR19234  ADMR19271  ADMR19283  ADMR19303  ADMR19305  ADMR19310  ADMR19331  ADMR19333  ADMR19341  ADMR19355  ADRO18998  ADRO19002  ADRO19003  ADRO19010  ADRO19017  ADRO19025  ADRO19031  ADRO19034  ADRO19058  ADRO19059  ADRO19062  ADRO19068  ADRO19069  ADRO19070  ADRO19074  ADRO19076  ADRO19086  ADRO19093  ADRO19121  ADRO19124  ADRO19125  ADRO19130  ADRO19132  ADRO19148  ADRO19149  ADRO19156  ADRO19157  ADRO19160  ADRO19169  ADRO19179  ADRO19181  ADRO19184  ADRO19186  ADRO19187  ADRO19189  ADRO19195  ADRO19199  ADRO19201  ADRO19205  ADRO19206  ADRO19210  ADRO19217  ADRO19218  ADRO19219  ADRO19222  ADRO19223  ADRO19228  ADRO19235  ADRO19236  ADRO19240  ADRO19241  ADRO19242  ADRO19244  ADRO19245  ADRO19254  ADRO19256  ADRO19257  ADRO19258  ADRO19259  ADRO19260  ADRO19261  ADRO19262  ADRO19263  ADRO19268  ADRO19269  ADRO19271  ADRO19274  ADRO19277  ADRO19278  ADRO19281  ADRO19282  ADRO19283  ADRO19285  ADRO19286  ADRO19290  ADRO19298  ADRO19299  ADRO19300  ADRO19302  ADRO19303  ADRO19318  ADRO19332  ADRO19334  ADRO19341  ADRO19342  ADRO19345  ADRO19347  ADRO19348  ADRO19354  ADRO19355  ADRO19357  AGII19160  AGII19195  AGRO19184  AGRO19199  AGRO19263  AGRO19282  AGRO19283  AGRO19326  AISA19186  AISA19187  AKRA18999  AKRA19004  AKRA19048  AKRA19055  AKRA19058  AKRA19059  AKRA19060  AKRA19073  AKRA19077  AKRA19079  AKRA19086  AKRA19115  AKRA19121  AKRA19156  AKRA19157  AKRA19159  AKRA19187  AKRA19207  AKRA19227  AKRA19228  AKRA19239  AKRA19240  AKRA19241  AKRA19247  AKRA19248  AKRA19268  AKRA19275  AKRA19276  AKRA19277  AKRA19278  AKRA19279  AKRA19281  AKRA19282  AKRA19285  AKRA19286  AKRA19303  AKRA19334  AKRA19345  AKRA19355  AKRA19356  AKRA19357  AMAR19134  AMAR19199  AMAR19282  AMAR19283  AMMS19258  AMOR19013  AMRT19138  AMRT19178  AMRT19199  AMRT19211  AMRT19212  AMRT19233  AMRT19234  AMRT19247  AMRT19264  AMRT19274  AMRT19277  AMRT19278  AMRT19290  AMRT19341  AMRT19342  AMRT19347  AMRT19348  ANJT19069  ANJT19127  ANJT19328  ANTM18997  ANTM18998  ANTM19004  ANTM19007  ANTM19008  ANTM19016  ANTM19043  ANTM19047  ANTM19058  ANTM19059  ANTM19061  ANTM19068  ANTM19069  ANTM19070  ANTM19080  ANTM19084  ANTM19085  ANTM19086  ANTM19090  ANTM19108  ANTM19110  ANTM19115  ANTM19119  ANTM19121  ANTM19122  ANTM19138  ANTM19165  ANTM19168  ANTM19174  ANTM19176  ANTM19177  ANTM19178  ANTM19179  ANTM19190  ANTM19191  ANTM19199  ANTM19212  ANTM19219  ANTM19222  ANTM19223  ANTM19227  ANTM19240  ANTM19257  ANTM19263  ANTM19264  ANTM19265  ANTM19271  ANTM19277  ANTM19282  ANTM19290  ANTM19299  ANTM19302  ANTM19303  ANTM19307  ANTM19312  ANTM19323  ANTM19326  ANTM19327  ANTM19337  ANTM19338  ANTM19345  ANTM19347  ANTM19348  ANTM19352  APLN19176  APLN19177  APLN19229  APLN19250  APLN19262  APLN19345  ARCI19199  ARKO19178  ARKO19179  ARKO19253  ARNA19058  ARNA19059  ARTI19163  ARTO19003  ARTO19004  ARTO19005  ARTO19017  ARTO19034  ARTO19046  ARTO19062  ARTO19064  ARTO19065  ARTO19090  ARTO19132  ARTO19134  ARTO19145  ARTO19181  ARTO19184  ARTO19198  ARTO19199  ARTO19211  ARTO19212  ARTO19240  ARTO19247  ARTO19255  ARTO19257  ARTO19282  ARTO19283  ARTO19298  ARTO19341  ASHA19104  ASHA19208  ASHA19258  ASII18994  ASII18997  ASII18999  ASII19002  ASII19003  ASII19005  ASII19016  ASII19047  ASII19058  ASII19059  ASII19060  ASII19062  ASII19065  ASII19082  ASII19085  ASII19086  ASII19106  ASII19121  ASII19122  ASII19124  ASII19132  ASII19173  ASII19174  ASII19181  ASII19184  ASII19195  ASII19201  ASII19211  ASII19227  ASII19228  ASII19241  ASII19242  ASII19243  ASII19244  ASII19245  ASII19247  ASII19254  ASII19255  ASII19256  ASII19258  ASII19259  ASII19260  ASII19262  ASII19263  ASII19268  ASII19271  ASII19275  ASII19276  ASII19277  ASII19281  ASII19282  ASII19285  ASII19286  ASII19288  ASII19290  ASII19291  ASII19303  ASII19314  ASII19318  ASII19347  ASII19348  ASII19355  ASLC18997  ASLC19208  ASRI19074  ASRI19095  ASRI19121  ASRI19132  ASRI19148  ASRI19149  ASRI19151  ASRI19166  ASRI19176  ASRI19177  ASRI19199  ASRI19219  ASRI19250  ASRI19255  ASRI19262  ASRI19279  ASRI19305  ASSA19007  ASSA19016  ASSA19143  ASSA19156  ASSA19193  ASSA19208  ASSA19234  AUTO19034  AUTO19184  AUTO19254  AUTO19259  AUTO19347  AUTO19348  AUTO19355  AVIA19072  AVIA19148  AVIA19149  AVIA19199  AYLS19236  BABP19066  BACA19199  BACA19314  BALI19310  BANK19074  BANK19075  BANK19120  BANK19145  BANK19181  BANK19184  BANK19257  BANK19282  BANK19283  BAUT18997  BAUT19163  BBCA18994  BBCA18995  BBCA18997  BBCA18999  BBCA19004  BBCA19005  BBCA19013  BBCA19017  BBCA19020  BBCA19026  BBCA19031  BBCA19032  BBCA19034  BBCA19061  BBCA19062  BBCA19065  BBCA19069  BBCA19070  BBCA19075  BBCA19076  BBCA19079  BBCA19082  BBCA19090  BBCA19093  BBCA19095  BBCA19098  BBCA19101  BBCA19103  BBCA19106  BBCA19107  BBCA19108  BBCA19115  BBCA19120  BBCA19121  BBCA19122  BBCA19124  BBCA19129  BBCA19132  BBCA19134  BBCA19135  BBCA19143  BBCA19145  BBCA19160  BBCA19164  BBCA19173  BBCA19174  BBCA19176  BBCA19177  BBCA19178  BBCA19181  BBCA19187  BBCA19195  BBCA19199  BBCA19201  BBCA19202  BBCA19208  BBCA19211  BBCA19219  BBCA19225  BBCA19226  BBCA19228  BBCA19229  BBCA19234  BBCA19235  BBCA19236  BBCA19241  BBCA19242  BBCA19244  BBCA19245  BBCA19247  BBCA19255  BBCA19256  BBCA19257  BBCA19262  BBCA19263  BBCA19264  BBCA19265  BBCA19268  BBCA19271  BBCA19277  BBCA19278  BBCA19279  BBCA19282  BBCA19283  BBCA19286  BBCA19290  BBCA19291  BBCA19296  BBCA19298  BBCA19299  BBCA19302  BBCA19303  BBCA19305  BBCA19313  BBCA19317  BBCA19318  BBCA19326  BBCA19327  BBCA19332  BBCA19333  BBCA19335  BBCA19336  BBCA19337  BBCA19338  BBCA19340  BBCA19341  BBCA19342  BBCA19345  BBCA19347  BBCA19348  BBCA19353  BBCA19355  BBCA19356  BBCA19357  BBHI19090  BBHI19132  BBHI19134  BBHI19181  BBHI19199  BBHI19247  BBHI19257  BBHI19282  BBHI19283  BBKP19082  BBKP19193  BBKP19194  BBKP19299  BBMD19193  BBMD19194  BBNI19004  BBNI19005  BBNI19013  BBNI19017  BBNI19020  BBNI19031  BBNI19032  BBNI19034  BBNI19058  BBNI19059  BBNI19060  BBNI19061  BBNI19062  BBNI19065  BBNI19068  BBNI19069  BBNI19070  BBNI19075  BBNI19076  BBNI19077  BBNI19078  BBNI19079  BBNI19086  BBNI19090  BBNI19095  BBNI19098  BBNI19102  BBNI19103  BBNI19106  BBNI19107  BBNI19108  BBNI19120  BBNI19121  BBNI19122  BBNI19124  BBNI19125  BBNI19129  BBNI19132  BBNI19134  BBNI19135  BBNI19143  BBNI19164  BBNI19165  BBNI19166  BBNI19167  BBNI19178  BBNI19181  BBNI19189  BBNI19195  BBNI19197  BBNI19199  BBNI19202  BBNI19211  BBNI19219  BBNI19225  BBNI19226  BBNI19228  BBNI19235  BBNI19236  BBNI19241  BBNI19242  BBNI19244  BBNI19245  BBNI19247  BBNI19249  BBNI19254  BBNI19255  BBNI19256  BBNI19257  BBNI19262  BBNI19264  BBNI19265  BBNI19268  BBNI19271  BBNI19282  BBNI19290  BBNI19291  BBNI19296  BBNI19298  BBNI19299  BBNI19302  BBNI19303  BBNI19305  BBNI19314  BBNI19326  BBNI19327  BBNI19333  BBNI19337  BBNI19338  BBNI19340  BBNI19341  BBNI19342  BBNI19345  BBNI19347  BBNI19348  BBNI19353  BBNI19355  BBRI18994  BBRI18995  BBRI19001  BBRI19002  BBRI19004  BBRI19005  BBRI19013  BBRI19017  BBRI19026  BBRI19031  BBRI19032  BBRI19034  BBRI19058  BBRI19059  BBRI19061  BBRI19062  BBRI19065  BBRI19068  BBRI19069  BBRI19070  BBRI19076  BBRI19086  BBRI19093  BBRI19095  BBRI19098  BBRI19103  BBRI19106  BBRI19107  BBRI19108  BBRI19120  BBRI19121  BBRI19122  BBRI19124  BBRI19125  BBRI19129  BBRI19132  BBRI19134  BBRI19135  BBRI19145  BBRI19157  BBRI19159  BBRI19164  BBRI19165  BBRI19166  BBRI19167  BBRI19169  BBRI19173  BBRI19174  BBRI19176  BBRI19177  BBRI19178  BBRI19179  BBRI19181  BBRI19189  BBRI19195  BBRI19197  BBRI19199  BBRI19201  BBRI19202  BBRI19206  BBRI19207  BBRI19208  BBRI19211  BBRI19219  BBRI19225  BBRI19226  BBRI19228  BBRI19231  BBRI19234  BBRI19235  BBRI19236  BBRI19240  BBRI19241  BBRI19242  BBRI19244  BBRI19245  BBRI19247  BBRI19248  BBRI19255  BBRI19256  BBRI19257  BBRI19258  BBRI19259  BBRI19260  BBRI19261  BBRI19262  BBRI19263  BBRI19264  BBRI19265  BBRI19268  BBRI19271  BBRI19275  BBRI19276  BBRI19277  BBRI19282  BBRI19285  BBRI19286  BBRI19290  BBRI19291  BBRI19296  BBRI19298  BBRI19299  BBRI19302  BBRI19303  BBRI19318  BBRI19326  BBRI19327  BBRI19332  BBRI19333  BBRI19337  BBRI19338  BBRI19340  BBRI19341  BBRI19342  BBRI19345  BBRI19347  BBRI19348  BBRI19353  BBRI19355  BBRI19356  BBRI19357  BBRM19163  BBSI19282  BBTN19004  BBTN19065  BBTN19069  BBTN19070  BBTN19074  BBTN19103  BBTN19107  BBTN19108  BBTN19109  BBTN19115  BBTN19134  BBTN19135  BBTN19179  BBTN19199  BBTN19208  BBTN19222  BBTN19223  BBTN19242  BBTN19255  BBTN19256  BBTN19261  BBTN19333  BBYB19001  BBYB19002  BBYB19003  BBYB19134  BBYB19156  BBYB19157  BBYB19166  BBYB19184  BBYB19193  BBYB19194  BBYB19195  BBYB19208  BBYB19209  BBYB19247  BBYB19257  BBYB19282  BBYB19283  BBYB19314  BBYB19341  BCAP19066  BCIC19157  BDMN19199  BDMN19235  BDMN19236  BEBS19199  BEER19346  BELI19341  BEST19099  BEST19198  BEST19199  BEST19337  BFIN19193  BFIN19256  BFIN19271  BHIT19177  BHIT19201  BHIT19242  BHIT19243  BINA19166  BIPI19086  BIPI19152  BIPI19206  BIPI19219  BIPI19235  BIPI19236  BIPI19311  BIRD19180  BIRD19195  BIRD19219  BIRD19222  BIRD19240  BIRD19278  BIRD19279  BIRD19318  BISI19346  BJBR19016  BJBR19068  BJBR19074  BJBR19075  BJBR19076  BJBR19077  BJBR19078  BJBR19199  BJTM19076  BJTM19199  BKDP19040  BKSW19275  BMAS19314  BMRI18994  BMRI18995  BMRI19004  BMRI19005  BMRI19013  BMRI19016  BMRI19017  BMRI19020  BMRI19031  BMRI19032  BMRI19034  BMRI19058  BMRI19059  BMRI19061  BMRI19062  BMRI19065  BMRI19068  BMRI19069  BMRI19070  BMRI19075  BMRI19076  BMRI19077  BMRI19078  BMRI19086  BMRI19098  BMRI19103  BMRI19106  BMRI19107  BMRI19120  BMRI19121  BMRI19122  BMRI19124  BMRI19125  BMRI19132  BMRI19134  BMRI19135  BMRI19143  BMRI19160  BMRI19164  BMRI19173  BMRI19174  BMRI19176  BMRI19178  BMRI19181  BMRI19189  BMRI19193  BMRI19195  BMRI19199  BMRI19202  BMRI19207  BMRI19208  BMRI19225  BMRI19226  BMRI19228  BMRI19231  BMRI19235  BMRI19236  BMRI19240  BMRI19241  BMRI19242  BMRI19244  BMRI19245  BMRI19247  BMRI19251  BMRI19254  BMRI19255  BMRI19256  BMRI19257  BMRI19262  BMRI19263  BMRI19268  BMRI19271  BMRI19282  BMRI19290  BMRI19291  BMRI19296  BMRI19298  BMRI19299  BMRI19302  BMRI19303  BMRI19317  BMRI19318  BMRI19326  BMRI19327  BMRI19333  BMRI19337  BMRI19338  BMRI19340  BMRI19341  BMRI19342  BMRI19345  BMRI19347  BMRI19348  BMRI19353  BMRI19355  BMRI19356  BMRI19357  BMSR19289  BMTR19199  BMTR19242  BMTR19243  BNBA19134  BNBA19199  BNBR19163  BNBR19219  BNGA19076  BNGA19255  BNGA19256  BNGA19275  BNGA19289  BNGA19333  BNGA19353  BNII19255  BNII19256  BNLI19255  BNLI19256  BOGA19152  BOLT19031  BRIS19074  BRIS19075  BRIS19120  BRIS19145  BRIS19148  BRIS19149  BRIS19193  BRIS19194  BRIS19199  BRIS19208  BRIS19211  BRIS19212  BRIS19217  BRIS19218  BRIS19219  BRIS19226  BRIS19228  BRIS19235  BRIS19236  BRIS19241  BRIS19242  BRIS19255  BRIS19256  BRIS19260  BRIS19261  BRIS19268  BRIS19337  BRIS19338  BRIS19340  BRIS19348  BRMS19033  BRMS19150  BRMS19199  BRMS19208  BRMS19219  BRMS19222  BRMS19223  BRMS19234  BRMS19247  BRMS19353  BRMS19354  BRPT19054  BRPT19055  BRPT19074  BRPT19086  BRPT19104  BRPT19166  BRPT19211  BRPT19212  BRPT19276  BRPT19277  BRPT19281  BRPT19282  BRPT19312  BRPT19332  BSDE18999  BSDE19016  BSDE19065  BSDE19068  BSDE19078  BSDE19090  BSDE19107  BSDE19115  BSDE19132  BSDE19151  BSDE19156  BSDE19195  BSDE19201  BSDE19229  BSDE19242  BSDE19250  BSDE19302  BSDE19303  BSDE19345  BSDE19347  BSDE19348  BSML19086  BTEL19233  BTEL19234  BTPN19074  BTPN19075  BTPN19120  BTPN19145  BTPN19275  BTPS19058  BTPS19059  BTPS19074  BTPS19075  BTPS19120  BTPS19145  BTPS19219  BTPS19242  BTPS19255  BTPS19314  BTPS19333  BTPS19348  BUDI19234  BUKA19028  BUKA19030  BUKA19093  BUKA19109  BUKA19131  BUKA19156  BUKA19179  BUKA19180  BUKA19219  BUKA19247  BUKA19248  BUKA19249  BUKA19269  BUKA19271  BUKA19288  BUKA19311  BUKA19348  BULL19166  BULL19348  BUMI19025  BUMI19033  BUMI19109  BUMI19121  BUMI19150  BUMI19174  BUMI19219  BUMI19222  BUMI19223  BUMI19234  BUMI19241  BUMI19242  BUMI19247  BUMI19271  BUMI19274  BUMI19281  BUMI19282  BUMI19299  BUMI19311  BUMI19353  BUMI19354  BUMI19357  BVIC19208  BWPT19307  BYAN19241  BYAN19298  BYAN19299  BYAN19300  CAKK19195  CARE19157  CARS19163  CASA19032  CASA19101  CASA19109  CASA19160  CASA19161  CASA19251  CASA19255  CASA19256  CASA19282  CASA19313  CBPE19346  CBRE19346  CBUT19331  CENT19199  CHEM19178  CHEM19179  CITY19046  CLEO19035  CLEO19286  CMNT19077  CMNT19078  CMRY19235  CMRY19236  CMRY19281  CMRY19282  CMRY19317  CMRY19318  CPIN18997  CPIN19080  CPIN19082  CPIN19085  CPIN19086  CPIN19099  CPIN19156  CPIN19157  CPIN19173  CPIN19174  CPIN19176  CPIN19222  CPIN19223  CPIN19234  CPIN19254  CPIN19256  CPIN19261  CPIN19286  CPIN19317  CPIN19332  CPIN19347  CPIN19348  CPRO19005  CPRO19080  CPRO19201  CPRO19258  CRAB19258  CSRA19281  CTRA18999  CTRA19016  CTRA19068  CTRA19078  CTRA19079  CTRA19090  CTRA19107  CTRA19115  CTRA19121  CTRA19132  CTRA19151  CTRA19201  CTRA19218  CTRA19219  CTRA19229  CTRA19250  CTRA19255  CTRA19256  CTRA19262  CTRA19263  CTRA19285  CTRA19286  CTRA19302  CTRA19303  CTRA19317  CTRA19347  CTRA19348  CTRA19349  CTRA19350  CTTH19163  DAYA19074  DCII19103  DEAL19163  DEWA19033  DEWI19247  DFAM19092  DGIK19099  DGNS19199  DGNS19208  DILD19194  DILD19198  DILD19199  DILD19229  DILD19334  DIVA19248  DIVA19249  DMAS19027  DMAS19099  DMAS19166  DMAS19198  DMAS19199  DMAS19233  DMAS19234  DMAS19242  DMMX19067  DMMX19176  DMMX19199  DMMX19248  DMMX19249  DMMX19282  DOID19079  DOID19150  DOID19247  DOID19277  DOID19278  DRMA19018  DRMA19125  DRMA19132  DRMA19176  DRMA19177  DRMA19271  DSFI19258  DSNG19009  DSNG19044  DSNG19045  DSNG19047  DSNG19054  DSNG19103  DSNG19139  DSNG19156  DSNG19157  DSNG19175  DSNG19191  DSNG19195  DSNG19201  DSNG19234  DSNG19317  DSNG19321  DSNG19333  DSNG19352  DSSA19242  EAST19326  EDGE19034  ELIT19346  ELSA19026  ELSA19048  ELSA19055  ELSA19058  ELSA19059  ELSA19082  ELSA19109  ELSA19124  ELSA19125  ELSA19163  ELSA19193  ELSA19195  ELSA19217  ELSA19218  ELSA19219  ELSA19227  ELSA19228  ELSA19234  ELSA19240  ELSA19247  ELSA19302  ELSA19303  ELTY19163  ELTY19186  EMTK19004  EMTK19005  EMTK19062  EMTK19086  EMTK19132  EMTK19145  EMTK19148  EMTK19149  EMTK19195  EMTK19211  EMTK19219  EMTK19228  EMTK19247  EMTK19248  EMTK19249  EMTK19258  EMTK19259  EMTK19260  EMTK19288  EMTK19347  EMTK19348  ENAK19202  ENRG19079  ENRG19083  ENRG19093  ENRG19195  ENRG19199  ENRG19208  ENRG19219  ENRG19222  ENRG19223  ENRG19240  ENZO19258  ERAA18998  ERAA19079  ERAA19132  ERAA19133  ERAA19166  ERAA19229  ERAA19242  ERAA19271  ESIP19163  ESSA19086  ESSA19151  ESSA19199  ESSA19205  ESSA19207  ESSA19277  ESSA19278  ESSA19317  ESTA19254  EXCL19156  EXCL19157  EXCL19165  EXCL19187  EXCL19195  EXCL19199  EXCL19211  EXCL19217  EXCL19231  EXCL19234  EXCL19263  EXCL19271  EXCL19347  EXCL19348  EXCL19355  FAPA19352  FAST19177  FILM19121  FIRE18998  FREN19090  FREN19201  FREN19219  FREN19228  FREN19242  GEMS18996  GEMS18997  GEMS18998  GEMS19241  GEMS19242  GGRM19085  GGRM19086  GGRM19135  GGRM19199  GGRM19311  GGRP19045  GGRP19230  GGRP19279  GGRP19341  GIAA19074  GIAA19262  GJTL19074  GJTL19176  GJTL19177  GJTL19199  GJTL19262  GOLD19145  GOLL19233  GOLL19234  GOTO19030  GOTO19067  GOTO19075  GOTO19080  GOTO19082  GOTO19086  GOTO19093  GOTO19095  GOTO19098  GOTO19103  GOTO19109  GOTO19123  GOTO19131  GOTO19138  GOTO19148  GOTO19149  GOTO19157  GOTO19174  GOTO19179  GOTO19180  GOTO19184  GOTO19185  GOTO19187  GOTO19193  GOTO19198  GOTO19199  GOTO19211  GOTO19219  GOTO19247  GOTO19248  GOTO19249  GOTO19269  GOTO19271  GOTO19282  GOTO19288  GOTO19290  GOTO19298  GOTO19303  GOTO19310  GOTO19312  GOTO19317  GOTO19318  GOTO19333  GOTO19335  GOTO19336  GOTO19337  GOTO19338  GOTO19341  GULA19265  GZCO19039  GZCO19055  GZCO19090  GZCO19191  GZCO19193  HAIS19318  HEAL19006  HEAL19062  HEAL19082  HEAL19265  HEAL19283  HERO19074  HITS19086  HKMU19186  HMSP19003  HMSP19004  HMSP19085  HMSP19086  HMSP19129  HMSP19135  HMSP19151  HMSP19166  HMSP19271  HOKI19199  HOTL19163  HOTL19326  HRTA19218  HRUM18998  HRUM19004  HRUM19017  HRUM19025  HRUM19034  HRUM19121  HRUM19135  HRUM19178  HRUM19189  HRUM19190  HRUM19199  HRUM19211  HRUM19212  HRUM19222  HRUM19223  HRUM19228  HRUM19234  HRUM19242  HRUM19257  HRUM19258  HRUM19259  HRUM19260  HRUM19261  HRUM19275  HRUM19282  HRUM19283  HRUM19298  HRUM19299  HRUM19300  HRUM19307  HRUM19347  HRUM19348  HRUM19354  HRUM19356  HRUM19357  IATA19055  IATA19265  ICBP18997  ICBP18999  ICBP19002  ICBP19003  ICBP19029  ICBP19031  ICBP19051  ICBP19052  ICBP19062  ICBP19071  ICBP19101  ICBP19104  ICBP19120  ICBP19129  ICBP19130  ICBP19135  ICBP19143  ICBP19152  ICBP19165  ICBP19166  ICBP19176  ICBP19177  ICBP19181  ICBP19184  ICBP19186  ICBP19189  ICBP19195  ICBP19201  ICBP19202  ICBP19208  ICBP19211  ICBP19222  ICBP19228  ICBP19231  ICBP19233  ICBP19234  ICBP19240  ICBP19242  ICBP19256  ICBP19258  ICBP19259  ICBP19260  ICBP19261  ICBP19263  ICBP19264  ICBP19270  ICBP19271  ICBP19274  ICBP19281  ICBP19282  ICBP19283  ICBP19286  ICBP19290  ICBP19296  ICBP19302  ICBP19303  ICBP19305  ICBP19318  ICBP19326  ICBP19327  ICBP19333  ICBP19341  ICBP19342  ICBP19347  ICBP19348  ICBP19355  IKAN19258  IMJS19121  IMJS19124  IMJS19125  IMPC19082  INAF19016  INAF19037  INAF19065  INAF19289  INCO19004  INCO19006  INCO19011  INCO19012  INCO19016  INCO19045  INCO19047  INCO19058  INCO19059  INCO19069  INCO19070  INCO19086  INCO19108  INCO19121  INCO19122  INCO19130  INCO19131  INCO19132  INCO19133  INCO19150  INCO19151  INCO19173  INCO19174  INCO19176  INCO19178  INCO19179  INCO19190  INCO19191  INCO19193  INCO19195  INCO19197  INCO19199  INCO19202  INCO19208  INCO19211  INCO19219  INCO19222  INCO19223  INCO19240  INCO19248  INCO19257  INCO19263  INCO19264  INCO19265  INCO19269  INCO19271  INCO19281  INCO19282  INCO19290  INCO19302  INCO19303  INCO19312  INCO19331  INCO19332  INCO19333  INCO19337  INCO19338  INCO19345  INCO19347  INCO19348  INDF19002  INDF19003  INDF19004  INDF19005  INDF19029  INDF19051  INDF19052  INDF19066  INDF19076  INDF19082  INDF19086  INDF19123  INDF19124  INDF19130  INDF19135  INDF19152  INDF19163  INDF19165  INDF19166  INDF19184  INDF19186  INDF19189  INDF19195  INDF19201  INDF19208  INDF19211  INDF19218  INDF19219  INDF19222  INDF19233  INDF19234  INDF19240  INDF19242  INDF19256  INDF19261  INDF19270  INDF19271  INDF19274  INDF19281  INDF19282  INDF19283  INDF19290  INDF19296  INDF19302  INDF19303  INDF19314  INDF19318  INDF19331  INDF19333  INDF19337  INDF19338  INDF19341  INDF19342  INDF19347  INDF19348  INDF19355  INDX19086  INDY18996  INDY18998  INDY19025  INDY19123  INDY19132  INDY19199  INDY19205  INDY19211  INDY19212  INDY19217  INDY19219  INDY19242  INDY19244  INDY19245  INDY19248  INDY19254  INDY19257  INDY19260  INDY19261  INDY19268  INDY19272  INDY19285  INDY19286  INDY19290  INDY19312  INDY19333  INDY19347  INDY19348  INDY19354  INDY19356  INDY19357  INKP19058  INKP19059  INKP19101  INKP19156  INKP19240  INKP19242  INKP19263  INKP19265  INKP19282  INKP19290  INKP19302  INKP19303  INOV19090  INOV19331  INTA19326  INTP19004  INTP19016  INTP19069  INTP19070  INTP19076  INTP19077  INTP19078  INTP19132  INTP19148  INTP19170  INTP19171  INTP19271  INTP19317  INTP19319  INTP19333  IPCC19031  IPCC19032  IPPE19055  IPPE19195  IPPE19199  IPPE19349  IPTV19199  IPTV19282  IRRA19016  IRRA19065  IRRA19199  ISAT19074  ISAT19152  ISAT19199  ISAT19218  ISAT19219  ISAT19228  ISAT19231  ISAT19260  ISAT19261  ISAT19312  ISAT19347  ISAT19348  ISSP18994  ISSP19034  ISSP19148  ISSP19149  ISSP19199  ITMG18998  ITMG19010  ITMG19017  ITMG19025  ITMG19031  ITMG19034  ITMG19044  ITMG19045  ITMG19058  ITMG19059  ITMG19068  ITMG19069  ITMG19070  ITMG19076  ITMG19079  ITMG19086  ITMG19093  ITMG19106  ITMG19109  ITMG19121  ITMG19122  ITMG19124  ITMG19132  ITMG19173  ITMG19174  ITMG19176  ITMG19181  ITMG19184  ITMG19186  ITMG19189  ITMG19193  ITMG19199  ITMG19205  ITMG19206  ITMG19210  ITMG19217  ITMG19218  ITMG19219  ITMG19222  ITMG19223  ITMG19240  ITMG19242  ITMG19244  ITMG19245  ITMG19257  ITMG19261  ITMG19262  ITMG19263  ITMG19268  ITMG19269  ITMG19271  ITMG19274  ITMG19281  ITMG19282  ITMG19283  ITMG19290  ITMG19299  ITMG19302  ITMG19303  ITMG19318  ITMG19332  ITMG19333  ITMG19354  ITMG19355  ITMG19357  JARR19333  JAYA19051  JAYA19208  JPFA19065  JPFA19066  JPFA19080  JPFA19086  JPFA19099  JPFA19125  JPFA19126  JPFA19130  JPFA19156  JPFA19157  JPFA19165  JPFA19179  JPFA19195  JPFA19211  JPFA19212  JPFA19222  JPFA19223  JPFA19227  JPFA19261  JPFA19290  JPFA19297  JPFA19298  JPFA19347  JPFA19348  JSMR18999  JSMR19016  JSMR19058  JSMR19060  JSMR19066  JSMR19079  JSMR19092  JSMR19121  JSMR19124  JSMR19129  JSMR19143  JSMR19156  JSMR19157  JSMR19166  JSMR19195  JSMR19199  JSMR19208  JSMR19256  JSMR19303  JSMR19305  JSMR19335  JSMR19347  JSMR19348  KAEF19016  KAEF19037  KAEF19065  KAEF19199  KAEF19289  KAYU19163  KEEN19253  KEEN19355  KIJA19099  KIJA19198  KIJA19199  KIJA19338  KINO19026  KINO19130  KINO19135  KINO19151  KINO19281  KINO19282  KIOS19276  KIOS19277  KKGI19163  KLBF18994  KLBF18995  KLBF19016  KLBF19037  KLBF19053  KLBF19062  KLBF19065  KLBF19068  KLBF19082  KLBF19086  KLBF19121  KLBF19122  KLBF19130  KLBF19135  KLBF19157  KLBF19166  KLBF19181  KLBF19228  KLBF19231  KLBF19240  KLBF19241  KLBF19254  KLBF19262  KLBF19263  KLBF19281  KLBF19282  KLBF19283  KLBF19284  KLBF19289  KLBF19326  KLBF19327  KLBF19332  KLBF19333  KLIN19342  KOBX19314  KONI19040  KOTA19163  KPIG19092  KPIG19148  KPIG19149  KRAS19222  KRAS19223  KRAS19227  KRAS19229  KRAS19234  KRYA19228  KRYA19282  KRYA19302  KRYA19303  LAJU19356  LAND19195  LINK19068  LINK19271  LPGI19055  LPKR19090  LPKR19177  LPKR19219  LPPF19066  LPPF19074  LPPF19178  LPPF19274  LPPF19317  LPPF19318  LSIP19004  LSIP19009  LSIP19016  LSIP19021  LSIP19024  LSIP19025  LSIP19037  LSIP19038  LSIP19044  LSIP19045  LSIP19047  LSIP19054  LSIP19055  LSIP19058  LSIP19059  LSIP19060  LSIP19065  LSIP19068  LSIP19069  LSIP19070  LSIP19106  LSIP19110  LSIP19121  LSIP19125  LSIP19126  LSIP19130  LSIP19132  LSIP19139  LSIP19148  LSIP19149  LSIP19156  LSIP19157  LSIP19165  LSIP19166  LSIP19170  LSIP19175  LSIP19191  LSIP19193  LSIP19201  LSIP19229  LSIP19234  LSIP19249  LSIP19274  LSIP19275  LSIP19282  LSIP19285  LSIP19286  LSIP19288  LSIP19317  LSIP19321  LSIP19326  LSIP19327  LSIP19333  LSIP19347  LSIP19348  LTLS19100  LTLS19243  LTLS19245  LUCK19138  LUCY19187  MAIN19099  MAMI19046  MAMI19047  MAMI19075  MAMI19101  MAMI19229  MAMI19263  MAPA19201  MAPI19004  MAPI19016  MAPI19058  MAPI19059  MAPI19066  MAPI19069  MAPI19070  MAPI19079  MAPI19082  MAPI19130  MAPI19178  MAPI19227  MAPI19268  MAPI19271  MAPI19274  MAPI19276  MAPI19277  MAPI19283  MAPI19317  MAPI19337  MAPI19338  MARI19004  MARI19199  MARK19347  MBAP19166  MBSS19083  MBSS19086  MBSS19199  MBSS19272  MCAS19312  MDKA18994  MDKA18995  MDKA19047  MDKA19055  MDKA19058  MDKA19059  MDKA19062  MDKA19068  MDKA19073  MDKA19085  MDKA19086  MDKA19121  MDKA19131  MDKA19132  MDKA19133  MDKA19151  MDKA19152  MDKA19156  MDKA19157  MDKA19169  MDKA19190  MDKA19191  MDKA19193  MDKA19199  MDKA19211  MDKA19227  MDKA19247  MDKA19248  MDKA19254  MDKA19261  MDKA19277  MDKA19278  MDKA19298  MDKA19299  MDKA19302  MDKA19303  MDKA19332  MDKA19337  MDKA19338  MDKA19341  MDLN19174  MDLN19176  MDLN19177  MDLN19262  MEDC19031  MEDC19032  MEDC19048  MEDC19055  MEDC19058  MEDC19059  MEDC19083  MEDC19123  MEDC19152  MEDC19166  MEDC19211  MEDC19217  MEDC19227  MEDC19228  MEDC19229  MEDC19234  MEDC19235  MEDC19240  MEDC19242  MEDC19247  MEDC19256  MEDC19257  MEDC19259  MEDC19260  MEDC19261  MEDC19268  MEDC19271  MEDC19276  MEDC19277  MEDC19285  MEDC19286  MEDC19290  MEDC19296  MEDC19299  MEDC19300  MEDC19302  MEDC19303  MEDC19333  MEDC19347  MEDC19348  MEDC19354  MEDC19355  MEDC19356  MEDC19357  MEGA19340  META19263  META19327  MGRO19039  MGRO19102  MGRO19110  MIDI19356  MIKA19065  MIKA19152  MIKA19166  MIKA19199  MIKA19206  MIKA19218  MIKA19219  MIKA19258  MIKA19259  MIKA19260  MIKA19347  MIKA19348  MLIA19082  MLPL19199  MMLP19198  MMLP19199  MNCN19030  MNCN19069  MNCN19070  MNCN19086  MNCN19121  MNCN19195  MNCN19206  MNCN19211  MNCN19212  MNCN19217  MNCN19218  MNCN19219  MNCN19242  MNCN19290  MNCN19347  MNCN19348  MNCN19355  MORA19242  MPMX19055  MPMX19191  MPMX19217  MPMX19218  MPMX19219  MPMX19277  MPMX19278  MPPA19066  MPPA19090  MPPA19247  MPPA19297  MPPA19298  MPPA19302  MPPA19303  MSIN19040  MSIN19282  MTDL19177  MTDL19248  MTDL19249  MTEL18997  MTEL19058  MTEL19061  MTEL19068  MTEL19074  MTEL19079  MTEL19082  MTEL19165  MTEL19199  MTEL19243  MTEL19246  MTEL19247  MTEL19254  MTEL19282  MTEL19303  MTEL19318  MTEL19333  MTEL19347  MTEL19348  MTLA19090  MTMH19080  MYOR19029  MYOR19051  MYOR19052  MYOR19079  MYOR19080  MYOR19125  MYOR19126  MYOR19130  MYOR19135  MYOR19152  MYOR19195  MYOR19199  MYOR19201  MYOR19208  MYOR19211  MYOR19222  MYOR19249  MYOR19258  MYOR19259  MYOR19260  MYOR19261  MYOR19268  MYOR19271  MYOR19281  MYOR19282  MYOR19283  MYOR19296  MYOR19302  MYOR19303  MYOR19333  MYOR19355  NANO19049  NANO19098  NASA19163  NASI19046  NASI19152  NATO19017  NATO19063  NATO19068  NATO19075  NATO19076  NATO19077  NATO19092  NATO19355  NFCX19166  NFCX19276  NFCX19312  NICL19047  NICL19163  NISP19275  NPGF19118  NTBK19189  OASA19040  OASA19314  OBMD19266  PADA19312  PADA19334  PALM19227  PANI19055  PANR19092  PBID19031  PBID19316  PBRX19326  PDPP19299  PDPP19305  PEHA19090  PEHA19129  PEHA19130  PEHA19289  PEHA19342  PGAS19005  PGAS19016  PGAS19034  PGAS19038  PGAS19039  PGAS19048  PGAS19060  PGAS19083  PGAS19123  PGAS19132  PGAS19138  PGAS19139  PGAS19152  PGAS19166  PGAS19178  PGAS19185  PGAS19187  PGAS19193  PGAS19195  PGAS19201  PGAS19205  PGAS19227  PGAS19228  PGAS19234  PGAS19239  PGAS19240  PGAS19247  PGAS19260  PGAS19261  PGAS19271  PGAS19282  PGAS19290  PGAS19297  PGAS19298  PGAS19299  PGAS19307  PGAS19318  PGAS19332  PGAS19337  PGAS19338  PGAS19341  PGAS19342  PGAS19347  PGAS19348  PGAS19355  PGAS19356  PGAS19357  PJAA19092  PKPK19236  PLAS19233  PLAS19234  PNBN19195  PNBN19242  PNBN19281  PNBN19282  PNBN19353  PNBS19120  PNBS19261  PNIN19256  PNIN19257  PNLF19195  PNLF19199  PNLF19242  PNLF19282  POWR19074  PPRO19163  PSAB19003  PSKT19055  PSKT19219  PSKT19255  PSKT19256  PSSI19199  PSSI19201  PTBA18997  PTBA18998  PTBA19004  PTBA19005  PTBA19010  PTBA19017  PTBA19025  PTBA19034  PTBA19044  PTBA19045  PTBA19069  PTBA19070  PTBA19074  PTBA19076  PTBA19086  PTBA19093  PTBA19121  PTBA19124  PTBA19130  PTBA19132  PTBA19138  PTBA19143  PTBA19149  PTBA19156  PTBA19157  PTBA19179  PTBA19181  PTBA19184  PTBA19186  PTBA19189  PTBA19195  PTBA19199  PTBA19201  PTBA19205  PTBA19206  PTBA19210  PTBA19211  PTBA19219  PTBA19222  PTBA19223  PTBA19228  PTBA19235  PTBA19236  PTBA19240  PTBA19241  PTBA19242  PTBA19244  PTBA19245  PTBA19256  PTBA19257  PTBA19260  PTBA19261  PTBA19262  PTBA19263  PTBA19264  PTBA19265  PTBA19268  PTBA19269  PTBA19271  PTBA19274  PTBA19278  PTBA19279  PTBA19281  PTBA19282  PTBA19290  PTBA19292  PTBA19297  PTBA19298  PTBA19299  PTBA19300  PTBA19314  PTBA19332  PTBA19333  PTBA19345  PTBA19347  PTBA19348  PTBA19354  PTBA19356  PTBA19357  PTPP19016  PTPP19034  PTPP19079  PTPP19134  PTPP19143  PTPP19198  PTPP19199  PTPP19218  PTPP19219  PTPP19240  PTPP19241  PTPP19263  PTPP19288  PTPP19316  PTPP19347  PTPP19348  PTRO19090  PTRO19272  PURA19051  PURA19163  PWON19068  PWON19090  PWON19121  PWON19122  PWON19132  PWON19166  PWON19201  PWON19229  PWON19250  PWON19263  PWON19286  PWON19288  PWON19305  PWON19347  PWON19348  PWON19349  PWON19350  PYFA19073  PYFA19087  PZZA19044  RAJA19083  RAJA19247  RAJA19271  RAJA19278  RAJA19279  RALS19065  RALS19069  RALS19070  RALS19178  RALS19199  RALS19255  RALS19256  RALS19260  RALS19261  RALS19262  RALS19263  RALS19274  RALS19331  REAL19163  RIGS19234  RMKE19055  RMKE19201  RMKE19265  RUNS19102  RUNS19187  SAME19109  SAME19199  SAMF19035  SAMF19048  SATU19090  SCMA19030  SCMA19123  SCMA19195  SCMA19206  SCMA19247  SCMA19265  SCMA19333  SCMA19347  SCMA19348  SDMU19040  SDMU19318  SEMA18997  SEMA19002  SEMA19130  SEMA19133  SGER19167  SGRO19009  SGRO19043  SGRO19201  SGRO19333  SGRO19352  SGRO19355  SHID19055  SHID19092  SHIP19193  SICO19080  SIDO19037  SIDO19082  SIDO19130  SIDO19135  SIDO19187  SIDO19193  SIDO19208  SIDO19209  SIDO19255  SIDO19256  SIDO19262  SIDO19263  SIDO19281  SIDO19282  SIDO19289  SIDO19317  SIDO19318  SILO19065  SIMP19024  SIMP19025  SIMP19068  SIMP19121  SIMP19132  SIMP19151  SIMP19191  SIMP19201  SIMP19285  SIMP19286  SKBM19171  SKBM19288  SKYB19233  SKYB19234  SLIS19312  SMAR19132  SMAR19242  SMAR19352  SMBR19152  SMBR19199  SMBR19314  SMDM19201  SMDM19250  SMDR19034  SMDR19058  SMDR19059  SMDR19069  SMDR19070  SMDR19083  SMDR19090  SMDR19184  SMDR19186  SMDR19189  SMDR19193  SMDR19199  SMDR19207  SMDR19219  SMDR19242  SMDR19281  SMDR19282  SMDR19284  SMDR19318  SMGR19016  SMGR19031  SMGR19156  SMGR19160  SMGR19166  SMGR19208  SMGR19210  SMGR19255  SMGR19256  SMGR19271  SMGR19276  SMGR19277  SMGR19278  SMGR19314  SMGR19317  SMGR19333  SMGR19347  SMGR19348  SMKL19194  SMMA19169  SMMT19055  SMMT19086  SMRA19016  SMRA19060  SMRA19068  SMRA19090  SMRA19132  SMRA19143  SMRA19151  SMRA19195  SMRA19201  SMRA19206  SMRA19217  SMRA19218  SMRA19219  SMRA19229  SMRA19242  SMRA19250  SMRA19263  SMRA19302  SMRA19303  SMRA19317  SMRA19347  SMRA19348  SMRA19349  SMRA19350  SMSM19031  SMSM19059  SMSM19060  SOHO19062  SOTS19227  SOTS19228  SOUL19346  SQMI19047  SRIL19326  SRTG19090  SRTG19265  SSIA19099  SSIA19198  SSIA19199  SSIA19337  SSMS19047  SSMS19054  SSMS19068  SSMS19156  SSMS19157  SSMS19195  SSMS19199  SSMS19260  SSMS19261  SSMS19274  SSMS19275  SSMS19278  SSMS19279  SSMS19281  SSMS19282  SSMS19321  SSMS19326  SSMS19331  SSMS19347  SSMS19348  SSMS19352  SSMS19355  STAA19064  STAA19087  STAA19201  STAA19234  STAA19274  STAA19275  STAA19317  STAA19352  STAR19089  STAR19207  STAR19219  STAR19274  STAR19279  STAR19286  STAR19354  STTP19222  SUGI19233  SUGI19234  SULI19219  SUNI19346  SUPR19058  SWID19178  SWID19179  TAPG19060  TAPG19139  TAPG19175  TAPG19193  TAPG19199  TAPG19201  TAPG19202  TAPG19234  TAPG19274  TAPG19275  TAPG19313  TAPG19314  TAPG19317  TAPG19321  TAPG19331  TAPG19337  TAPG19338  TAPG19352  TARA19080  TAXI19163  TAYS19297  TAYS19298  TBIG19002  TBIG19003  TBIG19031  TBIG19043  TBIG19058  TBIG19079  TBIG19129  TBIG19143  TBIG19166  TBIG19219  TBIG19246  TBIG19247  TBIG19262  TBIG19263  TBIG19298  TBIG19318  TBIG19333  TBIG19347  TBIG19348  TBLA19110  TBMS19170  TCPI19163  TGRA19316  TINS19068  TINS19086  TINS19137  TINS19138  TINS19176  TINS19190  TINS19191  TINS19199  TINS19242  TINS19300  TINS19312  TKIM19060  TKIM19156  TKIM19199  TKIM19201  TKIM19240  TKIM19242  TKIM19260  TKIM19261  TKIM19262  TKIM19263  TKIM19276  TKIM19277  TKIM19281  TKIM19282  TKIM19285  TKIM19286  TLDN19080  TLKM18994  TLKM18995  TLKM18999  TLKM19004  TLKM19005  TLKM19017  TLKM19058  TLKM19059  TLKM19062  TLKM19065  TLKM19082  TLKM19086  TLKM19090  TLKM19093  TLKM19095  TLKM19106  TLKM19121  TLKM19122  TLKM19124  TLKM19125  TLKM19132  TLKM19138  TLKM19143  TLKM19145  TLKM19152  TLKM19160  TLKM19165  TLKM19166  TLKM19173  TLKM19174  TLKM19176  TLKM19177  TLKM19178  TLKM19179  TLKM19181  TLKM19185  TLKM19201  TLKM19211  TLKM19218  TLKM19219  TLKM19222  TLKM19223  TLKM19228  TLKM19241  TLKM19243  TLKM19247  TLKM19254  TLKM19256  TLKM19257  TLKM19258  TLKM19259  TLKM19260  TLKM19261  TLKM19262  TLKM19263  TLKM19264  TLKM19268  TLKM19271  TLKM19275  TLKM19276  TLKM19277  TLKM19278  TLKM19281  TLKM19282  TLKM19283  TLKM19290  TLKM19298  TLKM19299  TLKM19303  TLKM19312  TLKM19318  TLKM19331  TLKM19333  TLKM19342  TLKM19347  TLKM19348  TLKM19355  TMAS19004  TMAS19318  TOBA19036  TOBA19058  TOBA19090  TOBA19307  TOBA19310  TOBA19312  TOWR19031  TOWR19058  TOWR19062  TOWR19079  TOWR19166  TOWR19187  TOWR19195  TOWR19199  TOWR19206  TOWR19211  TOWR19212  TOWR19218  TOWR19219  TOWR19227  TOWR19228  TOWR19229  TOWR19234  TOWR19246  TOWR19247  TOWR19255  TOWR19256  TOWR19263  TOWR19297  TOWR19298  TOWR19318  TOWR19333  TOWR19347  TOWR19348  TOWR19355  TPIA19043  TPIA19069  TPIA19070  TPIA19086  TPIA19104  TPIA19194  TPIA19229  TPIA19241  TPIA19317  TPIA19318  TPIA19332  TRGU19178  TRGU19179  TRIM19261  TRIM19353  TRIN19073  TRIO19233  TRIO19234  TRJA19014  TRJA19156  TRUK19051  TSPC19037  UFOE19086  ULTJ19298  UNTR18994  UNTR18995  UNTR19002  UNTR19003  UNTR19016  UNTR19035  UNTR19044  UNTR19045  UNTR19058  UNTR19059  UNTR19068  UNTR19074  UNTR19076  UNTR19086  UNTR19121  UNTR19124  UNTR19125  UNTR19132  UNTR19143  UNTR19184  UNTR19186  UNTR19189  UNTR19201  UNTR19211  UNTR19241  UNTR19242  UNTR19243  UNTR19244  UNTR19245  UNTR19253  UNTR19254  UNTR19271  UNTR19281  UNTR19282  UNTR19283  UNTR19318  UNTR19347  UNTR19348  UNVR18995  UNVR18999  UNVR19029  UNVR19033  UNVR19051  UNVR19052  UNVR19072  UNVR19079  UNVR19085  UNVR19086  UNVR19101  UNVR19104  UNVR19109  UNVR19120  UNVR19121  UNVR19129  UNVR19130  UNVR19135  UNVR19143  UNVR19152  UNVR19156  UNVR19157  UNVR19160  UNVR19166  UNVR19184  UNVR19186  UNVR19187  UNVR19189  UNVR19193  UNVR19201  UNVR19202  UNVR19211  UNVR19212  UNVR19222  UNVR19240  UNVR19241  UNVR19242  UNVR19249  UNVR19255  UNVR19256  UNVR19258  UNVR19259  UNVR19260  UNVR19261  UNVR19265  UNVR19271  UNVR19277  UNVR19278  UNVR19281  UNVR19282  UNVR19291  UNVR19296  UNVR19298  UNVR19302  UNVR19303  UNVR19305  UNVR19325  UNVR19326  UNVR19327  UNVR19331  UNVR19345  UNVR19347  UNVR19348  UVCR19138  WEGE19034  WEGE19209  WGSH19293  WIFI19131  WIIM19199  WIIM19255  WIIM19256  WIIM19260  WIIM19261  WIIM19262  WIIM19263  WIKA18999  WIKA19016  WIKA19034  WIKA19104  WIKA19134  WIKA19143  WIKA19152  WIKA19209  WIKA19217  WIKA19218  WIKA19219  WIKA19249  WIKA19288  WIKA19305  WIKA19312  WIKA19347  WIKA19348  WIKA19356  WINE19346  WINR19080  WIRG19080  WIRG19103  WIRG19109  WIRG19187  WIRG19197  WMPP19098  WMPP19202  WMPP19234  WMPP19265  WMPP19277  WMPP19278  WMPP19279  WMUU19121  WMUU19159  WMUU19199  WMUU19222  WMUU19223  WOOD19090  WOOD19104  WOOD19130  WOOD19135  WOOD19191  WOOD19199  WOWS19103  WOWS19163  WSKT19034  WSKT19074  WSKT19134  WSKT19143  WSKT19249  WSKT19314  WSKT19347  WSKT19348  WTON19034  WTON19152  WTON19209  WTON19356  YPAS19086  ZINC19353  ZYRX19106  ZYRX19115  ZYRX19199  [1] 2023\n",
      "AALI19362  AALI19363  AALI19368  AALI19387  AALI19388  AALI19393  AALI19394  AALI19403  AALI19409  AALI19410  AALI19411  AALI19412  AALI19425  AALI19443  AALI19474  AALI19475  AALI19476  AALI19485  AALI19505  AALI19506  AALI19519  AALI19527  AALI19547  AALI19559  AALI19569  ABDA19358  ABMM19386  ACES19376  ACES19386  ACES19402  ACES19426  ACES19429  ACES19444  ACES19449  ACES19474  ACES19482  ACES19484  ACES19499  ACES19519  ACES19522  ACES19523  ACES19526  ACES19534  ACES19542  ACES19547  ACES19550  ACES19561  ACES19562  ACES19564  ACES19567  ADCP19393  ADHI19359  ADHI19372  ADHI19373  ADHI19374  ADHI19437  ADHI19474  ADHI19478  ADHI19479  ADHI19491  ADHI19527  ADHI19555  ADMF19358  ADMF19376  ADMR19372  ADMR19373  ADMR19390  ADMR19402  ADMR19424  ADMR19499  ADMR19530  ADMR19531  ADMR19548  ADMR19560  ADRO19366  ADRO19368  ADRO19369  ADRO19372  ADRO19373  ADRO19376  ADRO19381  ADRO19382  ADRO19383  ADRO19387  ADRO19388  ADRO19389  ADRO19390  ADRO19391  ADRO19402  ADRO19409  ADRO19410  ADRO19411  ADRO19414  ADRO19415  ADRO19421  ADRO19422  ADRO19424  ADRO19451  ADRO19452  ADRO19458  ADRO19473  ADRO19474  ADRO19488  ADRO19491  ADRO19526  ADRO19527  ADRO19541  ADRO19542  ADRO19548  ADRO19550  ADRO19551  ADRO19560  AGII19370  AGII19371  AGII19443  AGII19444  AGRO19362  AGRO19382  AGRO19403  AGRO19404  AGRO19530  AGRO19531  AISA19426  AKRA19362  AKRA19368  AKRA19369  AKRA19376  AKRA19383  AKRA19386  AKRA19390  AKRA19394  AKRA19401  AKRA19410  AKRA19411  AKRA19417  AKRA19420  AKRA19421  AKRA19426  AKRA19430  AKRA19431  AKRA19436  AKRA19437  AKRA19444  AKRA19458  AKRA19480  AKRA19481  AKRA19482  AKRA19484  AKRA19485  AKRA19489  AKRA19506  AKRA19509  AKRA19527  AKRA19534  AKRA19544  AKRA19548  AKRA19550  AKRA19551  AKRA19552  AKRA19554  ALDO19444  ALTO19376  AMAR19443  AMAR19444  AMAR19561  AMAR19562  AMFG19390  AMMN19530  AMRT19369  AMRT19370  AMRT19371  AMRT19372  AMRT19373  AMRT19382  AMRT19383  AMRT19401  AMRT19424  AMRT19425  AMRT19426  AMRT19427  AMRT19428  AMRT19429  AMRT19430  AMRT19436  AMRT19442  AMRT19473  AMRT19474  AMRT19528  AMRT19561  AMRT19562  ANJT19427  ANJT19478  ANJT19482  ANJT19509  ANTM19366  ANTM19369  ANTM19372  ANTM19373  ANTM19379  ANTM19381  ANTM19386  ANTM19388  ANTM19389  ANTM19390  ANTM19395  ANTM19401  ANTM19402  ANTM19403  ANTM19404  ANTM19417  ANTM19420  ANTM19422  ANTM19423  ANTM19424  ANTM19425  ANTM19426  ANTM19427  ANTM19428  ANTM19429  ANTM19431  ANTM19436  ANTM19437  ANTM19439  ANTM19442  ANTM19463  ANTM19473  ANTM19474  ANTM19479  ANTM19480  ANTM19481  ANTM19482  ANTM19488  ANTM19489  ANTM19499  ANTM19526  ANTM19527  ANTM19544  ANTM19550  ANTM19551  APLN19387  APLN19395  APLN19426  APLN19566  ARKO19494  ARKO19548  ARKO19560  ARNA19376  ARNA19377  ARNA19378  ARNA19494  ARTO19362  ARTO19394  ARTO19485  ARTO19491  ARTO19526  ARTO19534  ARTO19542  ARTO19561  ARTO19562  ASGR19359  ASGR19376  ASII19376  ASII19377  ASII19382  ASII19383  ASII19386  ASII19394  ASII19401  ASII19402  ASII19403  ASII19410  ASII19411  ASII19417  ASII19420  ASII19422  ASII19424  ASII19425  ASII19426  ASII19427  ASII19428  ASII19429  ASII19430  ASII19432  ASII19433  ASII19435  ASII19436  ASII19439  ASII19442  ASII19443  ASII19447  ASII19448  ASII19449  ASII19450  ASII19456  ASII19457  ASII19478  ASII19479  ASII19488  ASII19489  ASII19499  ASII19501  ASII19519  ASII19523  ASII19524  ASII19527  ASII19530  ASII19543  ASII19544  ASII19548  ASII19551  ASII19552  ASII19558  ASII19559  ASII19562  ASII19564  ASII19566  ASII19567  ASLC19431  ASLC19494  ASRI19426  ASRI19449  ASRI19450  ASRI19473  ASRI19474  ASRI19561  ASRI19562  ASRI19566  ASRI19568  ASRI19569  ASSA19359  ASSA19403  ASSA19404  ASSA19426  ASSA19442  AUTO19363  AUTO19365  AUTO19376  AUTO19377  AUTO19409  AUTO19410  AUTO19432  AUTO19433  AUTO19479  AUTO19480  AUTO19530  AUTO19543  AUTO19544  AUTO19548  AVIA19370  AVIA19534  AVIA19535  BANK19362  BANK19485  BBCA19358  BBCA19362  BBCA19366  BBCA19369  BBCA19370  BBCA19371  BBCA19372  BBCA19373  BBCA19376  BBCA19380  BBCA19381  BBCA19382  BBCA19383  BBCA19386  BBCA19387  BBCA19393  BBCA19409  BBCA19410  BBCA19411  BBCA19414  BBCA19415  BBCA19417  BBCA19420  BBCA19422  BBCA19423  BBCA19424  BBCA19425  BBCA19426  BBCA19428  BBCA19429  BBCA19430  BBCA19431  BBCA19436  BBCA19439  BBCA19440  BBCA19456  BBCA19457  BBCA19458  BBCA19460  BBCA19478  BBCA19479  BBCA19480  BBCA19481  BBCA19482  BBCA19484  BBCA19485  BBCA19488  BBCA19489  BBCA19491  BBCA19499  BBCA19503  BBCA19522  BBCA19523  BBCA19542  BBCA19543  BBCA19544  BBCA19547  BBCA19548  BBCA19551  BBCA19562  BBCA19563  BBCA19564  BBCA19565  BBCA19566  BBCA19567  BBHI19362  BBKP19395  BBKP19403  BBKP19404  BBNI19359  BBNI19366  BBNI19370  BBNI19372  BBNI19373  BBNI19376  BBNI19377  BBNI19378  BBNI19380  BBNI19381  BBNI19382  BBNI19383  BBNI19387  BBNI19393  BBNI19395  BBNI19397  BBNI19401  BBNI19403  BBNI19409  BBNI19417  BBNI19420  BBNI19422  BBNI19423  BBNI19424  BBNI19425  BBNI19426  BBNI19428  BBNI19429  BBNI19430  BBNI19432  BBNI19433  BBNI19436  BBNI19439  BBNI19440  BBNI19449  BBNI19450  BBNI19456  BBNI19457  BBNI19458  BBNI19478  BBNI19479  BBNI19481  BBNI19484  BBNI19488  BBNI19489  BBNI19491  BBNI19503  BBNI19507  BBNI19530  BBNI19541  BBNI19542  BBNI19543  BBNI19544  BBNI19547  BBNI19551  BBNI19563  BBNI19564  BBNI19565  BBNI19566  BBNI19567  BBRI19358  BBRI19362  BBRI19366  BBRI19369  BBRI19370  BBRI19371  BBRI19372  BBRI19373  BBRI19376  BBRI19377  BBRI19378  BBRI19380  BBRI19381  BBRI19382  BBRI19383  BBRI19386  BBRI19393  BBRI19395  BBRI19401  BBRI19403  BBRI19409  BBRI19410  BBRI19411  BBRI19417  BBRI19420  BBRI19422  BBRI19423  BBRI19424  BBRI19426  BBRI19427  BBRI19428  BBRI19429  BBRI19430  BBRI19431  BBRI19436  BBRI19437  BBRI19439  BBRI19449  BBRI19450  BBRI19451  BBRI19452  BBRI19453  BBRI19456  BBRI19457  BBRI19478  BBRI19479  BBRI19481  BBRI19482  BBRI19484  BBRI19485  BBRI19488  BBRI19491  BBRI19501  BBRI19503  BBRI19519  BBRI19522  BBRI19523  BBRI19527  BBRI19530  BBRI19541  BBRI19542  BBRI19543  BBRI19544  BBRI19547  BBRI19548  BBRI19551  BBRI19561  BBRI19562  BBRI19563  BBRI19564  BBRI19565  BBRI19566  BBRI19567  BBTN19382  BBTN19395  BBTN19422  BBTN19440  BBTN19458  BBTN19479  BBTN19480  BBTN19481  BBTN19484  BBTN19491  BBTN19530  BBTN19534  BBTN19541  BBTN19542  BBTN19547  BBYB19382  BBYB19383  BBYB19436  BBYB19437  BBYB19485  BBYB19561  BBYB19562  BCAP19388  BCAP19393  BCAP19551  BCIC19395  BEBS19389  BEER19358  BEER19359  BELI19359  BELI19369  BELI19391  BELI19393  BELI19559  BEST19421  BEST19480  BEST19481  BEST19515  BFIN19372  BFIN19373  BFIN19394  BFIN19405  BFIN19406  BFIN19407  BFIN19431  BFIN19436  BFIN19489  BFIN19501  BGTG19551  BHIT19558  BHIT19559  BIKE19389  BIPI19382  BIPI19383  BIPI19409  BIRD19395  BIRD19417  BIRD19426  BIRD19428  BIRD19429  BIRD19452  BIRD19453  BIRD19473  BIRD19474  BIRD19478  BIRD19479  BIRD19503  BIRD19507  BJBR19376  BJTM19376  BJTM19395  BJTM19417  BJTM19420  BJTM19473  BJTM19474  BKSL19501  BKSW19395  BKSW19551  BMBL19358  BMBL19359  BMRI19358  BMRI19366  BMRI19370  BMRI19376  BMRI19380  BMRI19381  BMRI19382  BMRI19383  BMRI19387  BMRI19393  BMRI19395  BMRI19409  BMRI19410  BMRI19411  BMRI19414  BMRI19415  BMRI19417  BMRI19420  BMRI19422  BMRI19423  BMRI19424  BMRI19426  BMRI19428  BMRI19429  BMRI19430  BMRI19431  BMRI19432  BMRI19433  BMRI19436  BMRI19437  BMRI19439  BMRI19440  BMRI19449  BMRI19450  BMRI19456  BMRI19457  BMRI19458  BMRI19460  BMRI19474  BMRI19481  BMRI19488  BMRI19489  BMRI19491  BMRI19499  BMRI19503  BMRI19519  BMRI19527  BMRI19530  BMRI19542  BMRI19543  BMRI19544  BMRI19547  BMRI19548  BMRI19551  BMRI19561  BMRI19562  BMRI19563  BMRI19564  BMRI19565  BMRI19566  BMRI19567  BMTR19402  BMTR19421  BMTR19558  BMTR19559  BNBR19398  BNBR19558  BNBR19559  BNGA19376  BNGA19417  BNGA19420  BNGA19442  BNLI19402  BOLT19389  BOLT19495  BOSS19437  BRIS19391  BRIS19393  BRIS19401  BRIS19402  BRIS19409  BRIS19421  BRIS19424  BRIS19425  BRIS19426  BRIS19431  BRIS19452  BRIS19453  BRIS19480  BRIS19481  BRIS19491  BRIS19505  BRIS19506  BRIS19527  BRIS19530  BRIS19543  BRIS19544  BRIS19559  BRIS19562  BRMS19398  BRMS19458  BRMS19499  BRMS19500  BRMS19545  BRMS19561  BRMS19562  BRPT19389  BRPT19390  BRPT19393  BRPT19404  BRPT19405  BRPT19406  BRPT19407  BRPT19506  BRPT19509  BRPT19523  BRPT19524  BRPT19526  BSDE19372  BSDE19391  BSDE19393  BSDE19395  BSDE19449  BSDE19450  BSDE19485  BSDE19501  BSDE19503  BSDE19510  BSDE19515  BSDE19530  BSDE19543  BSDE19546  BSDE19547  BSDE19551  BSDE19561  BSDE19562  BSDE19564  BSDE19567  BSIM19551  BSSR19376  BSSR19451  BSSR19452  BSWD19395  BTPN19370  BTPN19371  BTPN19414  BTPN19415  BTPN19482  BTPN19484  BTPS19370  BTPS19371  BTPS19393  BTPS19414  BTPS19415  BTPS19458  BTPS19482  BTPS19484  BTPS19503  BTPS19530  BTPS19543  BTPS19544  BUAH19543  BUAH19544  BUKA19359  BUKA19369  BUKA19370  BUKA19371  BUKA19372  BUKA19373  BUKA19391  BUKA19393  BUKA19395  BUKA19437  BUKA19443  BUKA19444  BUKA19559  BUKA19566  BULL19555  BUMI19381  BUMI19387  BUMI19389  BUMI19396  BUMI19398  BUMI19403  BUMI19404  BUMI19411  BUMI19430  BUMI19458  BUMI19499  BUMI19500  BUMI19510  BUMI19561  BUMI19562  BVIC19551  BWPT19387  BWPT19410  BYAN19387  BYAN19424  CARS19480  CARS19481  CASA19393  CASA19435  CASA19436  CASA19460  CASA19474  CBPE19358  CBPE19359  CBPE19363  CBRE19358  CBRE19359  CENT19437  CFIN19460  CHEM19359  CLAY19437  CLEO19376  CLEO19479  CLEO19480  CLPI19376  CMRY19426  CMRY19427  CMRY19428  CMRY19429  CMRY19449  CMRY19457  COWL19389  CPIN19360  CPIN19373  CPIN19382  CPIN19383  CPIN19390  CPIN19394  CPIN19424  CPIN19425  CPIN19436  CPIN19439  CPIN19505  CPIN19506  CPIN19515  CPIN19527  CPIN19544  CPIN19548  CPIN19551  CPIN19552  CPIN19566  CSMI19438  CSMI19439  CSRA19474  CSRA19475  CSRA19505  CTBN19380  CTBN19381  CTRA19372  CTRA19391  CTRA19395  CTRA19426  CTRA19437  CTRA19443  CTRA19444  CTRA19452  CTRA19453  CTRA19485  CTRA19503  CTRA19530  CTRA19543  CTRA19546  CTRA19547  CTRA19548  CTRA19551  DEPO19534  DEPO19535  DEWA19396  DEWA19398  DEWA19499  DEWA19500  DEWI19449  DEWI19450  DEWI19515  DILD19421  DILD19485  DILD19494  DKFT19544  DLTA19376  DMAS19421  DMAS19503  DMAS19504  DOID19403  DOID19404  DOID19430  DOID19431  DOID19437  DOID19443  DOID19444  DOID19451  DOID19452  DOID19526  DRMA19363  DRMA19365  DRMA19376  DRMA19377  DRMA19387  DRMA19478  DRMA19483  DRMA19494  DSNG19368  DSNG19383  DSNG19410  DSNG19424  DSNG19425  DSNG19431  DSNG19449  DSNG19450  DSNG19471  DSNG19474  DSNG19475  DSNG19476  DSNG19479  DSNG19480  DSNG19485  DSNG19487  DVLA19376  DVLA19524  EKAD19376  ELIT19358  ELIT19359  ELSA19370  ELSA19371  ELSA19372  ELSA19373  ELSA19390  ELSA19410  ELSA19411  ELSA19421  ELSA19424  ELSA19425  ELSA19443  ELSA19494  ELSA19506  ELSA19523  ELSA19530  ELSA19531  ELSA19542  ELSA19555  ELTY19396  ELTY19398  ELTY19499  ELTY19500  EMTK19358  EMTK19359  EMTK19369  EMTK19382  EMTK19383  EMTK19391  EMTK19393  EMTK19395  EMTK19558  EMTK19559  ENRG19398  ENRG19401  ENRG19499  ENRG19500  ENRG19506  EPMT19359  ERAA19382  ERAA19383  ERAA19395  ERAA19426  ERAA19436  ERAA19452  ERAA19453  ERAA19473  ERAA19474  ERAA19488  ERAA19489  ERAA19499  ERAA19503  ERAA19523  ERAA19524  ERAA19530  ERAA19531  ERAA19544  ERAA19548  ERAA19550  ERAA19551  ERAA19552  ERAA19564  ERAA19567  ESSA19368  ESSA19370  ESSA19371  ESSA19393  ESSA19401  ESSA19404  ESSA19405  ESSA19431  ESSA19443  ESSA19444  ESSA19449  ESSA19450  ESSA19473  ESSA19474  ESSA19476  ESSA19492  ESSA19493  ESSA19506  ESSA19509  ESSA19545  EXCL19369  EXCL19376  EXCL19377  EXCL19378  EXCL19382  EXCL19383  EXCL19386  EXCL19391  EXCL19402  EXCL19422  EXCL19428  EXCL19429  EXCL19449  EXCL19450  EXCL19451  EXCL19452  EXCL19453  EXCL19480  EXCL19481  EXCL19499  EXCL19526  EXCL19534  EXCL19542  EXCL19544  EXCL19548  EXCL19551  EXCL19552  EXCL19566  EXCL19567  FILM19562  FISH19376  FREN19451  FREN19452  GDST19380  GDST19381  GEMS19376  GGRM19368  GGRM19395  GGRM19474  GGRP19380  GGRP19381  GGRP19382  GGRP19397  GGRP19458  GGRP19495  GGRP19530  GGRP19564  GIAA19501  GJTL19495  GJTL19568  GJTL19569  GMFI19393  GOTO19359  GOTO19369  GOTO19370  GOTO19371  GOTO19372  GOTO19373  GOTO19389  GOTO19391  GOTO19393  GOTO19394  GOTO19395  GOTO19402  GOTO19404  GOTO19417  GOTO19420  GOTO19424  GOTO19425  GOTO19430  GOTO19447  GOTO19448  GOTO19488  GOTO19489  GOTO19559  GOTO19561  GOTO19562  GTSI19515  GZCO19480  GZCO19481  GZCO19505  HAIS19370  HEAL19566  HEAL19567  HEXA19376  HILL19429  HILL19451  HILL19452  HMSP19368  HMSP19383  HMSP19395  HMSP19458  HMSP19515  HMSP19561  HMSP19562  HOKI19369  HOKI19402  HOKI19406  HRTA19450  HRTA19451  HRUM19358  HRUM19366  HRUM19368  HRUM19369  HRUM19370  HRUM19371  HRUM19372  HRUM19373  HRUM19377  HRUM19382  HRUM19383  HRUM19388  HRUM19403  HRUM19404  HRUM19428  HRUM19429  HRUM19451  HRUM19452  HRUM19482  HRUM19507  HRUM19526  HRUM19566  IATA19488  ICBP19359  ICBP19366  ICBP19368  ICBP19370  ICBP19371  ICBP19373  ICBP19376  ICBP19382  ICBP19383  ICBP19388  ICBP19390  ICBP19391  ICBP19394  ICBP19417  ICBP19420  ICBP19422  ICBP19424  ICBP19425  ICBP19428  ICBP19429  ICBP19430  ICBP19432  ICBP19433  ICBP19436  ICBP19437  ICBP19450  ICBP19451  ICBP19474  ICBP19476  ICBP19478  ICBP19479  ICBP19482  ICBP19484  ICBP19488  ICBP19499  ICBP19501  ICBP19505  ICBP19508  ICBP19534  ICBP19542  ICBP19543  ICBP19544  ICBP19551  ICBP19559  ICBP19560  ICBP19562  ICBP19563  ICBP19564  ICBP19566  ICBP19567  ICBP19568  ICBP19569  IFII19376  IMAS19428  IMAS19429  IMAS19450  IMAS19530  IMJS19458  IMJS19522  IMJS19523  INCO19372  INCO19373  INCO19376  INCO19377  INCO19378  INCO19379  INCO19381  INCO19382  INCO19389  INCO19399  INCO19402  INCO19409  INCO19410  INCO19411  INCO19417  INCO19420  INCO19423  INCO19428  INCO19429  INCO19436  INCO19437  INCO19439  INCO19473  INCO19479  INCO19480  INCO19482  INCO19499  INCO19501  INCO19512  INCO19527  INCO19545  INCO19546  INCO19547  INCO19550  INCO19551  INDF19359  INDF19366  INDF19368  INDF19369  INDF19370  INDF19371  INDF19376  INDF19382  INDF19383  INDF19388  INDF19390  INDF19393  INDF19394  INDF19401  INDF19403  INDF19404  INDF19410  INDF19411  INDF19417  INDF19420  INDF19422  INDF19424  INDF19425  INDF19428  INDF19429  INDF19431  INDF19432  INDF19433  INDF19436  INDF19437  INDF19449  INDF19450  INDF19451  INDF19456  INDF19457  INDF19458  INDF19478  INDF19479  INDF19482  INDF19484  INDF19488  INDF19489  INDF19499  INDF19503  INDF19508  INDF19534  INDF19541  INDF19542  INDF19543  INDF19544  INDF19559  INDF19560  INDF19564  INDF19566  INDF19567  INDY19358  INDY19368  INDY19369  INDY19381  INDY19382  INDY19383  INDY19386  INDY19389  INDY19390  INDY19422  INDY19429  INDY19514  INDY19523  INDY19526  INDY19541  INDY19542  INDY19548  INDY19550  INDY19551  INDY19560  INKP19388  INKP19390  INKP19393  INKP19401  INKP19405  INKP19422  INKP19460  INKP19478  INKP19479  INKP19488  INKP19489  INKP19490  INKP19491  INKP19527  INKP19550  INKP19551  INKP19561  INKP19562  INTP19358  INTP19373  INTP19376  INTP19377  INTP19378  INTP19382  INTP19390  INTP19446  INTP19449  INTP19450  INTP19489  INTP19493  INTP19505  INTP19506  INTP19516  INTP19550  INTP19551  IPCC19382  IPCC19523  IPCM19372  IPCM19382  IPCM19523  IPPE19389  IRSX19490  ISAT19369  ISAT19377  ISAT19391  ISAT19405  ISAT19406  ISAT19407  ISAT19421  ISAT19429  ISAT19430  ISAT19437  ISAT19478  ISAT19479  ISAT19501  ISAT19507  ISAT19562  ISAT19566  ISAT19567  ISSP19380  ISSP19381  ISSP19495  ITMG19366  ITMG19368  ITMG19369  ITMG19376  ITMG19381  ITMG19382  ITMG19386  ITMG19387  ITMG19402  ITMG19409  ITMG19410  ITMG19422  ITMG19426  ITMG19427  ITMG19428  ITMG19429  ITMG19430  ITMG19436  ITMG19437  ITMG19451  ITMG19452  ITMG19453  ITMG19457  ITMG19458  ITMG19480  ITMG19481  ITMG19491  ITMG19526  ITMG19541  ITMG19542  ITMG19550  ITMG19551  JARR19506  JGLE19499  JGLE19500  JKON19561  JKON19562  JPFA19368  JPFA19370  JPFA19377  JPFA19382  JPFA19383  JPFA19410  JPFA19411  JPFA19422  JPFA19424  JPFA19425  JPFA19439  JPFA19478  JPFA19479  JPFA19480  JPFA19481  JPFA19495  JPFA19503  JPFA19505  JPFA19506  JPFA19527  JPFA19566  JPFA19567  JSMR19359  JSMR19373  JSMR19394  JSMR19424  JSMR19425  JSMR19428  JSMR19429  JSMR19431  JSMR19436  JSMR19449  JSMR19456  JSMR19457  JSMR19478  JSMR19479  JSMR19480  JSMR19501  JSMR19526  JSMR19530  JSMR19542  JSMR19563  KAEF19446  KARW19382  KBLI19490  KEEN19376  KEEN19377  KEEN19378  KEEN19480  KEEN19481  KEEN19494  KIJA19421  KIJA19503  KIJA19504  KKES19506  KKES19509  KLBF19376  KLBF19382  KLBF19383  KLBF19388  KLBF19391  KLBF19417  KLBF19420  KLBF19430  KLBF19451  KLBF19452  KLBF19474  KLBF19478  KLBF19479  KLBF19505  KLBF19507  KLBF19524  KLBF19527  KLBF19562  KLBF19566  KOBX19381  KOBX19402  KOBX19406  KRAS19380  KRAS19381  KRAS19404  KRAS19506  KRAS19509  LAJU19358  LAJU19359  LEAD19555  LINK19446  LINK19534  LMSH19380  LMSH19381  LPGI19358  LPGI19376  LPKR19475  LPKR19566  LPKR19568  LPKR19569  LPPF19394  LPPF19437  LPPF19550  LSIP19368  LSIP19387  LSIP19388  LSIP19394  LSIP19396  LSIP19409  LSIP19410  LSIP19424  LSIP19425  LSIP19430  LSIP19443  LSIP19451  LSIP19452  LSIP19473  LSIP19474  LSIP19476  LSIP19485  LSIP19505  LSIP19506  LSIP19527  LSIP19528  LSIP19547  LSIP19558  LSIP19559  LTLS19370  LTLS19461  LTLS19479  LTLS19506  LTLS19509  MAIN19494  MAMI19374  MAMI19375  MAMI19397  MAMI19407  MAMI19429  MAMI19438  MAMI19452  MAMI19495  MAMI19501  MAMI19502  MAMI19508  MAMI19534  MAMI19535  MAMI19544  MAMI19546  MAMI19564  MAPA19409  MAPA19410  MAPA19566  MAPI19359  MAPI19373  MAPI19377  MAPI19382  MAPI19383  MAPI19386  MAPI19388  MAPI19390  MAPI19394  MAPI19395  MAPI19410  MAPI19411  MAPI19428  MAPI19431  MAPI19432  MAPI19433  MAPI19436  MAPI19458  MAPI19480  MAPI19481  MAPI19489  MAPI19519  MAPI19547  MAPI19550  MAPI19552  MAPI19562  MAPI19564  MAPI19566  MAPI19567  MARK19430  MAYA19551  MBAP19376  MBMA19482  MBMA19505  MBSS19417  MBTO19568  MCAS19389  MCOR19551  MDKA19369  MDKA19372  MDKA19373  MDKA19379  MDKA19383  MDKA19386  MDKA19390  MDKA19401  MDKA19405  MDKA19417  MDKA19420  MDKA19422  MDKA19423  MDKA19424  MDKA19425  MDKA19429  MDKA19430  MDKA19431  MDKA19436  MDKA19442  MDKA19449  MDKA19450  MDKA19458  MDKA19479  MDKA19480  MDKA19481  MDKA19482  MDKA19499  MDKA19505  MDKA19507  MDKA19526  MDKA19544  MDKA19550  MDKA19551  MDLN19568  MDLN19569  MEDC19366  MEDC19368  MEDC19369  MEDC19370  MEDC19371  MEDC19390  MEDC19402  MEDC19403  MEDC19424  MEDC19425  MEDC19430  MEDC19444  MEDC19447  MEDC19458  MEDC19493  MEDC19501  MEDC19506  MEDC19507  MEDC19530  MEDC19545  MEDC19548  MEDC19550  MEDC19551  MEDS19527  MEGA19376  MERK19376  META19515  MFIN19376  MGRO19398  MGRO19406  MIDI19358  MIDI19359  MIDI19436  MIDI19566  MIKA19432  MIKA19433  MIKA19450  MIKA19451  MIKA19452  MIKA19530  MIKA19531  MLIA19383  MLIA19405  MLIA19406  MLIA19407  MLPL19358  MLPL19359  MLPL19451  MLPL19452  MLPL19558  MLPL19559  MMIX19449  MMIX19450  MNCN19370  MNCN19382  MNCN19383  MNCN19386  MNCN19394  MNCN19458  MNCN19488  MNCN19489  MNCN19499  MOLI19516  MPMX19366  MPMX19372  MPMX19373  MPMX19376  MPMX19377  MPMX19421  MPMX19424  MPMX19425  MPMX19436  MPMX19442  MPMX19481  MPMX19482  MPMX19489  MPMX19522  MPMX19523  MPMX19544  MPMX19548  MPMX19551  MPMX19552  MPPA19400  MPPA19437  MPPA19443  MPPA19550  MRAT19474  MRAT19568  MTDL19376  MTEL19393  MTEL19403  MTEL19421  MTEL19424  MTEL19425  MTLA19426  MTMH19431  MUTU19566  MYOR19366  MYOR19376  MYOR19377  MYOR19378  MYOR19393  MYOR19394  MYOR19402  MYOR19417  MYOR19420  MYOR19424  MYOR19425  MYOR19428  MYOR19429  MYOR19430  MYOR19436  MYOR19458  MYOR19478  MYOR19479  MYOR19480  MYOR19481  MYOR19505  MYOR19519  MYOR19559  MYOR19562  MYOR19563  NASI19369  NATO19411  NATO19474  NCKL19478  NCKL19479  NCKL19482  NCKL19528  NFCX19359  NFCX19389  NFCX19422  NISP19437  NISP19439  NISP19531  NRCA19376  NRCA19494  NSSS19416  NSSS19475  OCAP19418  OILS19506  OKAS19437  OMED19494  PADA19446  PALM19474  PALM19475  PANR19474  PBID19376  PDES19437  PDPP19523  PDPP19524  PEHA19382  PEHA19383  PEHA19393  PEHA19409  PEHA19446  PEHA19478  PEHA19479  PEVE19358  PEVE19359  PGAS19368  PGAS19369  PGAS19372  PGAS19373  PGAS19376  PGAS19377  PGAS19378  PGAS19386  PGAS19390  PGAS19391  PGAS19401  PGAS19402  PGAS19411  PGAS19421  PGAS19422  PGAS19426  PGAS19429  PGAS19436  PGAS19442  PGAS19451  PGAS19452  PGAS19458  PGAS19488  PGAS19489  PGAS19493  PGAS19501  PGAS19507  PGAS19543  PGAS19546  PGAS19548  PGAS19550  PGAS19551  PGAS19564  PGAS19568  PGEO19389  PGEO19390  PGEO19393  PGEO19397  PGEO19399  PGEO19413  PGEO19414  PGEO19417  PGEO19418  PGEO19419  PGEO19434  PGEO19448  PGEO19474  PGEO19554  PGUN19361  PGUN19507  PNIN19358  PNLF19358  PNLF19370  PNLF19480  PNLF19481  PNLF19522  PNLF19523  PNLF19526  PNLF19530  PNLF19531  PORT19382  POWR19376  PPGL19359  PRDA19376  PRDA19405  PRDA19406  PRDA19407  PRDA19426  PRDA19431  PRDA19437  PRDA19494  PRDA19524  PRDA19544  PRDA19548  PRDA19551  PRDA19552  PSAB19544  PSDN19437  PSSI19494  PTBA19358  PTBA19368  PTBA19369  PTBA19376  PTBA19381  PTBA19382  PTBA19383  PTBA19386  PTBA19387  PTBA19388  PTBA19393  PTBA19409  PTBA19410  PTBA19411  PTBA19422  PTBA19430  PTBA19436  PTBA19437  PTBA19458  PTBA19526  PTBA19527  PTBA19534  PTBA19548  PTBA19550  PTBA19551  PTBA19560  PTMP19545  PTPP19374  PTPP19391  PTPP19436  PTPP19437  PTPP19491  PTPP19527  PTPP19555  PTRO19409  PTRO19410  PTRO19474  PTSN19531  PWON19372  PWON19391  PWON19393  PWON19395  PWON19426  PWON19437  PWON19452  PWON19453  PWON19485  PWON19488  PWON19489  PWON19542  PWON19547  PWON19551  RAJA19478  RAJA19479  RALS19387  RALS19394  RALS19395  RALS19429  RALS19437  RALS19505  RALS19506  RALS19547  RALS19550  RANC19359  RANC19391  RANC19393  RANC19515  RMBA19515  RMBA19562  RMKE19431  RMKE19437  RMKE19494  ROTI19376  ROTI19377  ROTI19378  SAME19530  SAME19531  SCCO19376  SCMA19370  SCMA19373  SCMA19382  SCMA19386  SCMA19394  SCMA19395  SCMA19488  SCMA19489  SCMA19527  SCMA19542  SDMU19437  SDRA19551  SGRO19398  SGRO19474  SGRO19475  SGRO19476  SGRO19505  SGRO19559  SHIP19531  SIDO19376  SIDO19387  SIDO19395  SIDO19401  SIDO19421  SIDO19422  SIDO19428  SIDO19429  SIDO19430  SIDO19431  SIDO19432  SIDO19433  SIDO19443  SIDO19444  SIDO19474  SIDO19479  SIDO19480  SIDO19481  SIDO19501  SIDO19505  SIDO19524  SIDO19562  SIDO19566  SILO19507  SIMP19410  SIMP19443  SIMP19527  SIMP19559  SLIS19389  SLIS19424  SLIS19425  SMAR19399  SMAR19409  SMAR19474  SMAR19475  SMAR19476  SMAR19485  SMBR19392  SMBR19494  SMCB19392  SMCB19489  SMDR19359  SMGR19358  SMGR19373  SMGR19377  SMGR19382  SMGR19383  SMGR19390  SMGR19392  SMGR19443  SMGR19450  SMGR19451  SMGR19478  SMGR19479  SMGR19480  SMGR19481  SMGR19489  SMGR19493  SMGR19505  SMGR19506  SMGR19550  SMGR19551  SMGR19561  SMGR19562  SMKM19432  SMKM19433  SMRA19372  SMRA19377  SMRA19391  SMRA19426  SMRA19452  SMRA19453  SMRA19485  SMRA19522  SMRA19523  SMRA19543  SMRA19547  SMRA19548  SMRA19551  SMRA19564  SMRA19567  SMSM19372  SMSM19376  SMSM19383  SMSM19389  SOTS19464  SOUL19358  SOUL19359  SOUL19376  SPTO19384  SPTO19534  SPTO19535  SQMI19494  SRTG19402  SRTG19422  SRTG19424  SRTG19530  SRTG19531  SRTG19558  SRTG19559  SRTG19560  SRTG19567  SSIA19421  SSIA19452  SSIA19453  SSIA19481  SSIA19494  SSIA19503  SSIA19504  SSIA19542  SSMS19368  SSMS19387  SSMS19388  SSMS19409  SSMS19410  SSMS19411  SSMS19458  SSMS19474  SSMS19475  SSMS19485  STAA19410  STAA19443  STAA19474  STAA19475  STAR19544  STAR19554  STAR19555  STAR19564  SULI19494  SUNI19358  SUNI19359  TAPG19387  TAPG19388  TAPG19399  TAPG19410  TAPG19411  TAPG19417  TAPG19425  TAPG19426  TAPG19443  TAPG19446  TAPG19475  TAPG19476  TAPG19485  TAPG19505  TAPG19506  TAPG19519  TAPG19527  TAPG19547  TAPG19558  TAPG19559  TAPG19562  TAYS19452  TAYS19453  TBIG19377  TBIG19382  TBIG19383  TBIG19403  TBIG19404  TBIG19424  TBIG19443  TBIG19444  TBIG19458  TBIG19482  TBIG19484  TBIG19501  TBIG19505  TBIG19506  TBLA19387  TBLA19388  TBLA19479  TBLA19480  TCPI19363  TGKA19376  TINS19372  TINS19373  TINS19421  TINS19443  TINS19527  TKIM19405  TKIM19409  TKIM19410  TKIM19490  TKIM19527  TLKM19373  TLKM19376  TLKM19382  TLKM19383  TLKM19386  TLKM19391  TLKM19394  TLKM19401  TLKM19410  TLKM19411  TLKM19417  TLKM19420  TLKM19422  TLKM19424  TLKM19425  TLKM19426  TLKM19427  TLKM19428  TLKM19429  TLKM19430  TLKM19431  TLKM19432  TLKM19433  TLKM19437  TLKM19442  TLKM19443  TLKM19444  TLKM19447  TLKM19448  TLKM19452  TLKM19453  TLKM19456  TLKM19457  TLKM19474  TLKM19479  TLKM19480  TLKM19488  TLKM19489  TLKM19499  TLKM19501  TLKM19503  TLKM19522  TLKM19523  TLKM19526  TLKM19541  TLKM19542  TLKM19543  TLKM19544  TLKM19546  TLKM19548  TLKM19551  TLKM19552  TLKM19563  TLKM19564  TLKM19566  TLKM19567  TMAS19426  TOBA19386  TOBA19389  TOBA19530  TOBA19531  TOTL19376  TOWR19376  TOWR19377  TOWR19382  TOWR19383  TOWR19403  TOWR19404  TOWR19424  TOWR19425  TOWR19426  TOWR19450  TOWR19451  TOWR19479  TOWR19480  TOWR19505  TOWR19506  TOWR19526  TPIA19404  TPIA19421  TPIA19426  TPIA19427  TPIA19428  TPIA19432  TPIA19433  TPIA19461  TPIA19501  TPIA19506  TPIA19507  TPIA19509  TPIA19530  TPIA19550  TPIA19551  TPMA19417  TRGU19538  TRGU19539  TRIN19480  TRIN19481  TRON19451  TRON19452  TRST19538  TSPC19376  TSPC19524  ULTJ19436  ULTJ19543  ULTJ19544  ULTJ19562  UNSP19499  UNSP19500  UNTR19376  UNTR19382  UNTR19383  UNTR19386  UNTR19403  UNTR19417  UNTR19422  UNTR19426  UNTR19430  UNTR19435  UNTR19436  UNTR19443  UNTR19444  UNTR19481  UNTR19531  UNTR19541  UNTR19542  UNTR19548  UNTR19560  UNVR19370  UNVR19371  UNVR19382  UNVR19383  UNVR19388  UNVR19390  UNVR19394  UNVR19395  UNVR19397  UNVR19403  UNVR19404  UNVR19410  UNVR19411  UNVR19421  UNVR19422  UNVR19424  UNVR19425  UNVR19431  UNVR19437  UNVR19449  UNVR19450  UNVR19473  UNVR19474  UNVR19499  UNVR19505  UNVR19506  UNVR19507  UNVR19563  UNVR19566  UNVR19567  VICI19494  VICI19568  VIVA19499  VIVA19500  VTNY19515  WIFI19564  WIFI19568  WIIM19443  WIIM19444  WIIM19494  WIKA19372  WIKA19373  WIKA19374  WIKA19389  WIKA19391  WIKA19491  WIKA19527  WIKA19555  WINE19358  WINE19359  WINS19555  WMPP19398  WMUU19398  WOOD19403  WOOD19404  WOOD19431  WOOD19494  WOOD19495  WOOD19505  WOOD19506  WSKT19374  WSKT19491  WSKT19555  ZATA19389  ZATA19515  ZBRA19558  ZBRA19559  "
     ]
    }
   ],
   "source": [
    "years = 2016:2023\n",
    "\n",
    "for (y in years) {\n",
    "    print(y)\n",
    "    fdy = firm_dates %>% filter(lubridate::year(date) == y)\n",
    "    \n",
    "    results = purrr::pmap(fdy, function(firm, date, n, max_score, sum_score)\n",
    "        run_causalimpact(firm, date,\n",
    "            X=stock_vol, date_col=stock_vol$date,\n",
    "            n_pre=conf$n_pre, n_post=conf$n_post,\n",
    "            normalize=conf$normalize, causalimpact_args=conf$causalimpact,\n",
    "            metadata=list(n_events=n, max_score=max_score, sum_score=sum_score),\n",
    "            )\n",
    "        )\n",
    "    \n",
    "    ci_summary_avg = concat_causalimpact_summary(results, is_avg=TRUE)\n",
    "    ci_summary_cum = concat_causalimpact_summary(results, is_avg=FALSE)\n",
    "    ci_series = concat_causalimpact_series(results)\n",
    "    \n",
    "    write.csv(ci_summary_avg, file=sprintf('results/%s/ci_summary_avg_%d.csv', conf_name, y), na='', quote=FALSE, row.names=FALSE)\n",
    "    write.csv(ci_summary_cum, file=sprintf('results/%s/ci_summary_cum_%d.csv', conf_name, y), na='', quote=FALSE, row.names=FALSE)\n",
    "    write.csv(ci_series, file=sprintf('results/%s/ci_series_%d.csv' , conf_name, y), na='', quote=FALSE, row.names=FALSE)\n",
    "}\n",
    "\n",
    "for (col in c('avg', 'cum')) {\n",
    "    z = bind_rows(lapply(years, function(x) read.csv(sprintf('results/%s/ci_summary_%s_%d.csv', conf_name, col, x))))\n",
    "    write.csv(z, sprintf('results/%s/ci_summary_%s.csv', conf_name, col), na='', quote=FALSE, row.names=FALSE)\n",
    "}"
   ]
  },
  {
   "cell_type": "code",
   "execution_count": 10,
   "id": "a8abe7b0-3507-40c7-861c-1db59a793eaa",
   "metadata": {
    "tags": []
   },
   "outputs": [],
   "source": [
    "for (col in c('avg', 'cum')) {\n",
    "    z = bind_rows(lapply(2016:2023, function(x) read.csv(sprintf('results/%s/ci_summary_%s_%d.csv', conf_name, col, x))))\n",
    "    write.csv(z, sprintf('results/%s/ci_summary_%s.csv', conf_name, col), na='', quote=FALSE, row.names=FALSE)\n",
    "}"
   ]
  }
 ],
 "metadata": {
  "kernelspec": {
   "display_name": "R",
   "language": "R",
   "name": "ir"
  },
  "language_info": {
   "codemirror_mode": "r",
   "file_extension": ".r",
   "mimetype": "text/x-r-source",
   "name": "R",
   "pygments_lexer": "r",
   "version": "4.1.3"
  }
 },
 "nbformat": 4,
 "nbformat_minor": 5
}
