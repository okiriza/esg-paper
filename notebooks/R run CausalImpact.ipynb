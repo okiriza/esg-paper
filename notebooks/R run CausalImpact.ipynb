{
 "cells": [
  {
   "cell_type": "code",
   "execution_count": null,
   "id": "1b3d2016-7743-4032-aa34-3b842fc94672",
   "metadata": {
    "tags": []
   },
   "outputs": [],
   "source": [
    "setwd('..')"
   ]
  },
  {
   "cell_type": "code",
   "execution_count": 3,
   "id": "8eb01f10-1f2c-4ed5-a191-9945e8591068",
   "metadata": {
    "tags": []
   },
   "outputs": [
    {
     "name": "stderr",
     "output_type": "stream",
     "text": [
      "\n",
      "Attaching package: 'dplyr'\n",
      "\n",
      "\n",
      "The following objects are masked from 'package:stats':\n",
      "\n",
      "    filter, lag\n",
      "\n",
      "\n",
      "The following objects are masked from 'package:base':\n",
      "\n",
      "    intersect, setdiff, setequal, union\n",
      "\n",
      "\n"
     ]
    }
   ],
   "source": [
    "library(dplyr)"
   ]
  },
  {
   "cell_type": "code",
   "execution_count": 4,
   "id": "6b082a35-a534-418a-87be-f56aeedc0e1e",
   "metadata": {
    "tags": []
   },
   "outputs": [],
   "source": [
    "conf_name = '20240216-5'"
   ]
  },
  {
   "cell_type": "markdown",
   "id": "6ed58795-a388-451a-b510-f67c5abf43f9",
   "metadata": {},
   "source": [
    "## Read data"
   ]
  },
  {
   "cell_type": "code",
   "execution_count": null,
   "id": "d7e8f4d3-5e35-4e32-8118-60ecce84745f",
   "metadata": {},
   "outputs": [],
   "source": [
    "conf = jsonlite::fromJSON(sprintf('results/%s/config.json', conf_name))\n",
    "conf"
   ]
  },
  {
   "cell_type": "code",
   "execution_count": null,
   "id": "877ce5dd-7821-45d7-a36d-e66e4b4d68ab",
   "metadata": {},
   "outputs": [],
   "source": [
    "events_orig = bind_rows(lapply(conf$data_paths, function(x) if (endsWith(x, '.parquet')) arrow::read_parquet(x) else read.csv(x)))\n",
    "dim(events_orig)\n",
    "c(mean(events_orig$is_top10), mean(events_orig$is_top5))"
   ]
  },
  {
   "cell_type": "code",
   "execution_count": 9,
   "id": "06145067-ad89-492e-a175-aeaa868c5e7c",
   "metadata": {
    "tags": []
   },
   "outputs": [
    {
     "data": {
      "text/html": [
       "<style>\n",
       ".list-inline {list-style: none; margin:0; padding: 0}\n",
       ".list-inline>li {display: inline-block}\n",
       ".list-inline>li:not(:last-child)::after {content: \"\\00b7\"; padding: 0 .5ex}\n",
       "</style>\n",
       "<ol class=list-inline><li>'data/stock_price/yfinance/Adj Close/2010.csv'</li><li>'data/stock_price/yfinance/Adj Close/2011.csv'</li><li>'data/stock_price/yfinance/Adj Close/2012.csv'</li><li>'data/stock_price/yfinance/Adj Close/2013.csv'</li><li>'data/stock_price/yfinance/Adj Close/2014.csv'</li><li>'data/stock_price/yfinance/Adj Close/2015.csv'</li><li>'data/stock_price/yfinance/Adj Close/2016.csv'</li><li>'data/stock_price/yfinance/Adj Close/2017.csv'</li><li>'data/stock_price/yfinance/Adj Close/2018.csv'</li><li>'data/stock_price/yfinance/Adj Close/2019.csv'</li><li>'data/stock_price/yfinance/Adj Close/2020.csv'</li><li>'data/stock_price/yfinance/Adj Close/2021.csv'</li><li>'data/stock_price/yfinance/Adj Close/2022.csv'</li><li>'data/stock_price/yfinance/Adj Close/2023.csv'</li></ol>\n"
      ],
      "text/latex": [
       "\\begin{enumerate*}\n",
       "\\item 'data/stock\\_price/yfinance/Adj Close/2010.csv'\n",
       "\\item 'data/stock\\_price/yfinance/Adj Close/2011.csv'\n",
       "\\item 'data/stock\\_price/yfinance/Adj Close/2012.csv'\n",
       "\\item 'data/stock\\_price/yfinance/Adj Close/2013.csv'\n",
       "\\item 'data/stock\\_price/yfinance/Adj Close/2014.csv'\n",
       "\\item 'data/stock\\_price/yfinance/Adj Close/2015.csv'\n",
       "\\item 'data/stock\\_price/yfinance/Adj Close/2016.csv'\n",
       "\\item 'data/stock\\_price/yfinance/Adj Close/2017.csv'\n",
       "\\item 'data/stock\\_price/yfinance/Adj Close/2018.csv'\n",
       "\\item 'data/stock\\_price/yfinance/Adj Close/2019.csv'\n",
       "\\item 'data/stock\\_price/yfinance/Adj Close/2020.csv'\n",
       "\\item 'data/stock\\_price/yfinance/Adj Close/2021.csv'\n",
       "\\item 'data/stock\\_price/yfinance/Adj Close/2022.csv'\n",
       "\\item 'data/stock\\_price/yfinance/Adj Close/2023.csv'\n",
       "\\end{enumerate*}\n"
      ],
      "text/markdown": [
       "1. 'data/stock_price/yfinance/Adj Close/2010.csv'\n",
       "2. 'data/stock_price/yfinance/Adj Close/2011.csv'\n",
       "3. 'data/stock_price/yfinance/Adj Close/2012.csv'\n",
       "4. 'data/stock_price/yfinance/Adj Close/2013.csv'\n",
       "5. 'data/stock_price/yfinance/Adj Close/2014.csv'\n",
       "6. 'data/stock_price/yfinance/Adj Close/2015.csv'\n",
       "7. 'data/stock_price/yfinance/Adj Close/2016.csv'\n",
       "8. 'data/stock_price/yfinance/Adj Close/2017.csv'\n",
       "9. 'data/stock_price/yfinance/Adj Close/2018.csv'\n",
       "10. 'data/stock_price/yfinance/Adj Close/2019.csv'\n",
       "11. 'data/stock_price/yfinance/Adj Close/2020.csv'\n",
       "12. 'data/stock_price/yfinance/Adj Close/2021.csv'\n",
       "13. 'data/stock_price/yfinance/Adj Close/2022.csv'\n",
       "14. 'data/stock_price/yfinance/Adj Close/2023.csv'\n",
       "\n",
       "\n"
      ],
      "text/plain": [
       " [1] \"data/stock_price/yfinance/Adj Close/2010.csv\"\n",
       " [2] \"data/stock_price/yfinance/Adj Close/2011.csv\"\n",
       " [3] \"data/stock_price/yfinance/Adj Close/2012.csv\"\n",
       " [4] \"data/stock_price/yfinance/Adj Close/2013.csv\"\n",
       " [5] \"data/stock_price/yfinance/Adj Close/2014.csv\"\n",
       " [6] \"data/stock_price/yfinance/Adj Close/2015.csv\"\n",
       " [7] \"data/stock_price/yfinance/Adj Close/2016.csv\"\n",
       " [8] \"data/stock_price/yfinance/Adj Close/2017.csv\"\n",
       " [9] \"data/stock_price/yfinance/Adj Close/2018.csv\"\n",
       "[10] \"data/stock_price/yfinance/Adj Close/2019.csv\"\n",
       "[11] \"data/stock_price/yfinance/Adj Close/2020.csv\"\n",
       "[12] \"data/stock_price/yfinance/Adj Close/2021.csv\"\n",
       "[13] \"data/stock_price/yfinance/Adj Close/2022.csv\"\n",
       "[14] \"data/stock_price/yfinance/Adj Close/2023.csv\""
      ]
     },
     "metadata": {},
     "output_type": "display_data"
    },
    {
     "data": {
      "text/html": [
       "<style>\n",
       ".list-inline {list-style: none; margin:0; padding: 0}\n",
       ".list-inline>li {display: inline-block}\n",
       ".list-inline>li:not(:last-child)::after {content: \"\\00b7\"; padding: 0 .5ex}\n",
       "</style>\n",
       "<ol class=list-inline><li>3582</li><li>913</li></ol>\n"
      ],
      "text/latex": [
       "\\begin{enumerate*}\n",
       "\\item 3582\n",
       "\\item 913\n",
       "\\end{enumerate*}\n"
      ],
      "text/markdown": [
       "1. 3582\n",
       "2. 913\n",
       "\n",
       "\n"
      ],
      "text/plain": [
       "[1] 3582  913"
      ]
     },
     "metadata": {},
     "output_type": "display_data"
    },
    {
     "data": {
      "text/html": [
       "<table class=\"dataframe\">\n",
       "<caption>A data.frame: 6 × 913</caption>\n",
       "<thead>\n",
       "\t<tr><th></th><th scope=col>Date</th><th scope=col>AALI.JK</th><th scope=col>ABBA.JK</th><th scope=col>ABDA.JK</th><th scope=col>ABMM.JK</th><th scope=col>ACES.JK</th><th scope=col>ACST.JK</th><th scope=col>ADCP.JK</th><th scope=col>ADES.JK</th><th scope=col>ADHI.JK</th><th scope=col>...</th><th scope=col>WSKT.JK</th><th scope=col>WTON.JK</th><th scope=col>YELO.JK</th><th scope=col>YPAS.JK</th><th scope=col>YULE.JK</th><th scope=col>ZATA.JK</th><th scope=col>ZBRA.JK</th><th scope=col>ZINC.JK</th><th scope=col>ZONE.JK</th><th scope=col>ZYRX.JK</th></tr>\n",
       "\t<tr><th></th><th scope=col>&lt;chr&gt;</th><th scope=col>&lt;dbl&gt;</th><th scope=col>&lt;dbl&gt;</th><th scope=col>&lt;dbl&gt;</th><th scope=col>&lt;dbl&gt;</th><th scope=col>&lt;dbl&gt;</th><th scope=col>&lt;dbl&gt;</th><th scope=col>&lt;dbl&gt;</th><th scope=col>&lt;dbl&gt;</th><th scope=col>&lt;dbl&gt;</th><th scope=col>...</th><th scope=col>&lt;dbl&gt;</th><th scope=col>&lt;dbl&gt;</th><th scope=col>&lt;dbl&gt;</th><th scope=col>&lt;dbl&gt;</th><th scope=col>&lt;dbl&gt;</th><th scope=col>&lt;dbl&gt;</th><th scope=col>&lt;dbl&gt;</th><th scope=col>&lt;dbl&gt;</th><th scope=col>&lt;dbl&gt;</th><th scope=col>&lt;dbl&gt;</th></tr>\n",
       "</thead>\n",
       "<tbody>\n",
       "\t<tr><th scope=row>1</th><td>2010-01-04</td><td>15842.21</td><td>56</td><td>162.6890</td><td>NA</td><td>92.24622</td><td>NA</td><td>NA</td><td>630</td><td>262.5751</td><td>...</td><td>NA</td><td>NA</td><td>NA</td><td>530.7018</td><td>      NA</td><td>NA</td><td>50</td><td>NA</td><td>NA</td><td>NA</td></tr>\n",
       "\t<tr><th scope=row>2</th><td>2010-01-05</td><td>16074.69</td><td>56</td><td>162.6890</td><td>NA</td><td>92.86949</td><td>NA</td><td>NA</td><td>630</td><td>256.1708</td><td>...</td><td>NA</td><td>NA</td><td>NA</td><td>540.3509</td><td>      NA</td><td>NA</td><td>50</td><td>NA</td><td>NA</td><td>NA</td></tr>\n",
       "\t<tr><th scope=row>3</th><td>2010-01-06</td><td>16008.27</td><td>56</td><td>165.4004</td><td>NA</td><td>93.49278</td><td>NA</td><td>NA</td><td>630</td><td>259.3729</td><td>...</td><td>NA</td><td>NA</td><td>NA</td><td>540.3509</td><td>62.92437</td><td>NA</td><td>50</td><td>NA</td><td>NA</td><td>NA</td></tr>\n",
       "\t<tr><th scope=row>4</th><td>2010-01-07</td><td>16639.30</td><td>58</td><td>165.4004</td><td>NA</td><td>92.86949</td><td>NA</td><td>NA</td><td>630</td><td>262.5751</td><td>...</td><td>NA</td><td>NA</td><td>NA</td><td>530.7018</td><td>      NA</td><td>NA</td><td>50</td><td>NA</td><td>NA</td><td>NA</td></tr>\n",
       "\t<tr><th scope=row>5</th><td>2010-01-08</td><td>16772.15</td><td>56</td><td>165.4004</td><td>NA</td><td>92.86949</td><td>NA</td><td>NA</td><td>630</td><td>265.7772</td><td>...</td><td>NA</td><td>NA</td><td>NA</td><td>540.3509</td><td>      NA</td><td>NA</td><td>50</td><td>NA</td><td>NA</td><td>NA</td></tr>\n",
       "\t<tr><th scope=row>6</th><td>2010-01-11</td><td>16572.88</td><td>56</td><td>162.6890</td><td>NA</td><td>93.49278</td><td>NA</td><td>NA</td><td>630</td><td>262.5751</td><td>...</td><td>NA</td><td>NA</td><td>NA</td><td>540.3509</td><td>      NA</td><td>NA</td><td>50</td><td>NA</td><td>NA</td><td>NA</td></tr>\n",
       "</tbody>\n",
       "</table>\n"
      ],
      "text/latex": [
       "A data.frame: 6 × 913\n",
       "\\begin{tabular}{r|lllllllllllllllllllll}\n",
       "  & Date & AALI.JK & ABBA.JK & ABDA.JK & ABMM.JK & ACES.JK & ACST.JK & ADCP.JK & ADES.JK & ADHI.JK & ... & WSKT.JK & WTON.JK & YELO.JK & YPAS.JK & YULE.JK & ZATA.JK & ZBRA.JK & ZINC.JK & ZONE.JK & ZYRX.JK\\\\\n",
       "  & <chr> & <dbl> & <dbl> & <dbl> & <dbl> & <dbl> & <dbl> & <dbl> & <dbl> & <dbl> & ... & <dbl> & <dbl> & <dbl> & <dbl> & <dbl> & <dbl> & <dbl> & <dbl> & <dbl> & <dbl>\\\\\n",
       "\\hline\n",
       "\t1 & 2010-01-04 & 15842.21 & 56 & 162.6890 & NA & 92.24622 & NA & NA & 630 & 262.5751 & ... & NA & NA & NA & 530.7018 &       NA & NA & 50 & NA & NA & NA\\\\\n",
       "\t2 & 2010-01-05 & 16074.69 & 56 & 162.6890 & NA & 92.86949 & NA & NA & 630 & 256.1708 & ... & NA & NA & NA & 540.3509 &       NA & NA & 50 & NA & NA & NA\\\\\n",
       "\t3 & 2010-01-06 & 16008.27 & 56 & 165.4004 & NA & 93.49278 & NA & NA & 630 & 259.3729 & ... & NA & NA & NA & 540.3509 & 62.92437 & NA & 50 & NA & NA & NA\\\\\n",
       "\t4 & 2010-01-07 & 16639.30 & 58 & 165.4004 & NA & 92.86949 & NA & NA & 630 & 262.5751 & ... & NA & NA & NA & 530.7018 &       NA & NA & 50 & NA & NA & NA\\\\\n",
       "\t5 & 2010-01-08 & 16772.15 & 56 & 165.4004 & NA & 92.86949 & NA & NA & 630 & 265.7772 & ... & NA & NA & NA & 540.3509 &       NA & NA & 50 & NA & NA & NA\\\\\n",
       "\t6 & 2010-01-11 & 16572.88 & 56 & 162.6890 & NA & 93.49278 & NA & NA & 630 & 262.5751 & ... & NA & NA & NA & 540.3509 &       NA & NA & 50 & NA & NA & NA\\\\\n",
       "\\end{tabular}\n"
      ],
      "text/markdown": [
       "\n",
       "A data.frame: 6 × 913\n",
       "\n",
       "| <!--/--> | Date &lt;chr&gt; | AALI.JK &lt;dbl&gt; | ABBA.JK &lt;dbl&gt; | ABDA.JK &lt;dbl&gt; | ABMM.JK &lt;dbl&gt; | ACES.JK &lt;dbl&gt; | ACST.JK &lt;dbl&gt; | ADCP.JK &lt;dbl&gt; | ADES.JK &lt;dbl&gt; | ADHI.JK &lt;dbl&gt; | ... ... | WSKT.JK &lt;dbl&gt; | WTON.JK &lt;dbl&gt; | YELO.JK &lt;dbl&gt; | YPAS.JK &lt;dbl&gt; | YULE.JK &lt;dbl&gt; | ZATA.JK &lt;dbl&gt; | ZBRA.JK &lt;dbl&gt; | ZINC.JK &lt;dbl&gt; | ZONE.JK &lt;dbl&gt; | ZYRX.JK &lt;dbl&gt; |\n",
       "|---|---|---|---|---|---|---|---|---|---|---|---|---|---|---|---|---|---|---|---|---|---|\n",
       "| 1 | 2010-01-04 | 15842.21 | 56 | 162.6890 | NA | 92.24622 | NA | NA | 630 | 262.5751 | ... | NA | NA | NA | 530.7018 |       NA | NA | 50 | NA | NA | NA |\n",
       "| 2 | 2010-01-05 | 16074.69 | 56 | 162.6890 | NA | 92.86949 | NA | NA | 630 | 256.1708 | ... | NA | NA | NA | 540.3509 |       NA | NA | 50 | NA | NA | NA |\n",
       "| 3 | 2010-01-06 | 16008.27 | 56 | 165.4004 | NA | 93.49278 | NA | NA | 630 | 259.3729 | ... | NA | NA | NA | 540.3509 | 62.92437 | NA | 50 | NA | NA | NA |\n",
       "| 4 | 2010-01-07 | 16639.30 | 58 | 165.4004 | NA | 92.86949 | NA | NA | 630 | 262.5751 | ... | NA | NA | NA | 530.7018 |       NA | NA | 50 | NA | NA | NA |\n",
       "| 5 | 2010-01-08 | 16772.15 | 56 | 165.4004 | NA | 92.86949 | NA | NA | 630 | 265.7772 | ... | NA | NA | NA | 540.3509 |       NA | NA | 50 | NA | NA | NA |\n",
       "| 6 | 2010-01-11 | 16572.88 | 56 | 162.6890 | NA | 93.49278 | NA | NA | 630 | 262.5751 | ... | NA | NA | NA | 540.3509 |       NA | NA | 50 | NA | NA | NA |\n",
       "\n"
      ],
      "text/plain": [
       "  Date       AALI.JK  ABBA.JK ABDA.JK  ABMM.JK ACES.JK  ACST.JK ADCP.JK ADES.JK\n",
       "1 2010-01-04 15842.21 56      162.6890 NA      92.24622 NA      NA      630    \n",
       "2 2010-01-05 16074.69 56      162.6890 NA      92.86949 NA      NA      630    \n",
       "3 2010-01-06 16008.27 56      165.4004 NA      93.49278 NA      NA      630    \n",
       "4 2010-01-07 16639.30 58      165.4004 NA      92.86949 NA      NA      630    \n",
       "5 2010-01-08 16772.15 56      165.4004 NA      92.86949 NA      NA      630    \n",
       "6 2010-01-11 16572.88 56      162.6890 NA      93.49278 NA      NA      630    \n",
       "  ADHI.JK  ... WSKT.JK WTON.JK YELO.JK YPAS.JK  YULE.JK  ZATA.JK ZBRA.JK\n",
       "1 262.5751 ... NA      NA      NA      530.7018       NA NA      50     \n",
       "2 256.1708 ... NA      NA      NA      540.3509       NA NA      50     \n",
       "3 259.3729 ... NA      NA      NA      540.3509 62.92437 NA      50     \n",
       "4 262.5751 ... NA      NA      NA      530.7018       NA NA      50     \n",
       "5 265.7772 ... NA      NA      NA      540.3509       NA NA      50     \n",
       "6 262.5751 ... NA      NA      NA      540.3509       NA NA      50     \n",
       "  ZINC.JK ZONE.JK ZYRX.JK\n",
       "1 NA      NA      NA     \n",
       "2 NA      NA      NA     \n",
       "3 NA      NA      NA     \n",
       "4 NA      NA      NA     \n",
       "5 NA      NA      NA     \n",
       "6 NA      NA      NA     "
      ]
     },
     "metadata": {},
     "output_type": "display_data"
    }
   ],
   "source": [
    "fpaths_stock_price = list.files('data/stock_price/yfinance/Adj Close/', full.names=TRUE)\n",
    "fpaths_stock_price\n",
    "\n",
    "stock_price_orig = bind_rows(lapply(fpaths_stock_price, read.csv, sep='|'))\n",
    "dim(stock_price_orig)\n",
    "head(stock_price_orig)"
   ]
  },
  {
   "cell_type": "code",
   "execution_count": 10,
   "id": "eaef8ca2-9bc8-4785-98a2-53475a59a755",
   "metadata": {
    "tags": []
   },
   "outputs": [
    {
     "data": {
      "text/html": [
       "<style>\n",
       ".list-inline {list-style: none; margin:0; padding: 0}\n",
       ".list-inline>li {display: inline-block}\n",
       ".list-inline>li:not(:last-child)::after {content: \"\\00b7\"; padding: 0 .5ex}\n",
       "</style>\n",
       "<ol class=list-inline><li>'data/stock_price/yfinance/Volume/2010.csv'</li><li>'data/stock_price/yfinance/Volume/2011.csv'</li><li>'data/stock_price/yfinance/Volume/2012.csv'</li><li>'data/stock_price/yfinance/Volume/2013.csv'</li><li>'data/stock_price/yfinance/Volume/2014.csv'</li><li>'data/stock_price/yfinance/Volume/2015.csv'</li><li>'data/stock_price/yfinance/Volume/2016.csv'</li><li>'data/stock_price/yfinance/Volume/2017.csv'</li><li>'data/stock_price/yfinance/Volume/2018.csv'</li><li>'data/stock_price/yfinance/Volume/2019.csv'</li><li>'data/stock_price/yfinance/Volume/2020.csv'</li><li>'data/stock_price/yfinance/Volume/2021.csv'</li><li>'data/stock_price/yfinance/Volume/2022.csv'</li><li>'data/stock_price/yfinance/Volume/2023.csv'</li></ol>\n"
      ],
      "text/latex": [
       "\\begin{enumerate*}\n",
       "\\item 'data/stock\\_price/yfinance/Volume/2010.csv'\n",
       "\\item 'data/stock\\_price/yfinance/Volume/2011.csv'\n",
       "\\item 'data/stock\\_price/yfinance/Volume/2012.csv'\n",
       "\\item 'data/stock\\_price/yfinance/Volume/2013.csv'\n",
       "\\item 'data/stock\\_price/yfinance/Volume/2014.csv'\n",
       "\\item 'data/stock\\_price/yfinance/Volume/2015.csv'\n",
       "\\item 'data/stock\\_price/yfinance/Volume/2016.csv'\n",
       "\\item 'data/stock\\_price/yfinance/Volume/2017.csv'\n",
       "\\item 'data/stock\\_price/yfinance/Volume/2018.csv'\n",
       "\\item 'data/stock\\_price/yfinance/Volume/2019.csv'\n",
       "\\item 'data/stock\\_price/yfinance/Volume/2020.csv'\n",
       "\\item 'data/stock\\_price/yfinance/Volume/2021.csv'\n",
       "\\item 'data/stock\\_price/yfinance/Volume/2022.csv'\n",
       "\\item 'data/stock\\_price/yfinance/Volume/2023.csv'\n",
       "\\end{enumerate*}\n"
      ],
      "text/markdown": [
       "1. 'data/stock_price/yfinance/Volume/2010.csv'\n",
       "2. 'data/stock_price/yfinance/Volume/2011.csv'\n",
       "3. 'data/stock_price/yfinance/Volume/2012.csv'\n",
       "4. 'data/stock_price/yfinance/Volume/2013.csv'\n",
       "5. 'data/stock_price/yfinance/Volume/2014.csv'\n",
       "6. 'data/stock_price/yfinance/Volume/2015.csv'\n",
       "7. 'data/stock_price/yfinance/Volume/2016.csv'\n",
       "8. 'data/stock_price/yfinance/Volume/2017.csv'\n",
       "9. 'data/stock_price/yfinance/Volume/2018.csv'\n",
       "10. 'data/stock_price/yfinance/Volume/2019.csv'\n",
       "11. 'data/stock_price/yfinance/Volume/2020.csv'\n",
       "12. 'data/stock_price/yfinance/Volume/2021.csv'\n",
       "13. 'data/stock_price/yfinance/Volume/2022.csv'\n",
       "14. 'data/stock_price/yfinance/Volume/2023.csv'\n",
       "\n",
       "\n"
      ],
      "text/plain": [
       " [1] \"data/stock_price/yfinance/Volume/2010.csv\"\n",
       " [2] \"data/stock_price/yfinance/Volume/2011.csv\"\n",
       " [3] \"data/stock_price/yfinance/Volume/2012.csv\"\n",
       " [4] \"data/stock_price/yfinance/Volume/2013.csv\"\n",
       " [5] \"data/stock_price/yfinance/Volume/2014.csv\"\n",
       " [6] \"data/stock_price/yfinance/Volume/2015.csv\"\n",
       " [7] \"data/stock_price/yfinance/Volume/2016.csv\"\n",
       " [8] \"data/stock_price/yfinance/Volume/2017.csv\"\n",
       " [9] \"data/stock_price/yfinance/Volume/2018.csv\"\n",
       "[10] \"data/stock_price/yfinance/Volume/2019.csv\"\n",
       "[11] \"data/stock_price/yfinance/Volume/2020.csv\"\n",
       "[12] \"data/stock_price/yfinance/Volume/2021.csv\"\n",
       "[13] \"data/stock_price/yfinance/Volume/2022.csv\"\n",
       "[14] \"data/stock_price/yfinance/Volume/2023.csv\""
      ]
     },
     "metadata": {},
     "output_type": "display_data"
    },
    {
     "data": {
      "text/html": [
       "<style>\n",
       ".list-inline {list-style: none; margin:0; padding: 0}\n",
       ".list-inline>li {display: inline-block}\n",
       ".list-inline>li:not(:last-child)::after {content: \"\\00b7\"; padding: 0 .5ex}\n",
       "</style>\n",
       "<ol class=list-inline><li>3582</li><li>913</li></ol>\n"
      ],
      "text/latex": [
       "\\begin{enumerate*}\n",
       "\\item 3582\n",
       "\\item 913\n",
       "\\end{enumerate*}\n"
      ],
      "text/markdown": [
       "1. 3582\n",
       "2. 913\n",
       "\n",
       "\n"
      ],
      "text/plain": [
       "[1] 3582  913"
      ]
     },
     "metadata": {},
     "output_type": "display_data"
    },
    {
     "data": {
      "text/html": [
       "<table class=\"dataframe\">\n",
       "<caption>A data.frame: 6 × 913</caption>\n",
       "<thead>\n",
       "\t<tr><th></th><th scope=col>Date</th><th scope=col>AALI.JK</th><th scope=col>ABBA.JK</th><th scope=col>ABDA.JK</th><th scope=col>ABMM.JK</th><th scope=col>ACES.JK</th><th scope=col>ACST.JK</th><th scope=col>ADCP.JK</th><th scope=col>ADES.JK</th><th scope=col>ADHI.JK</th><th scope=col>...</th><th scope=col>WSKT.JK</th><th scope=col>WTON.JK</th><th scope=col>YELO.JK</th><th scope=col>YPAS.JK</th><th scope=col>YULE.JK</th><th scope=col>ZATA.JK</th><th scope=col>ZBRA.JK</th><th scope=col>ZINC.JK</th><th scope=col>ZONE.JK</th><th scope=col>ZYRX.JK</th></tr>\n",
       "\t<tr><th></th><th scope=col>&lt;chr&gt;</th><th scope=col>&lt;dbl&gt;</th><th scope=col>&lt;dbl&gt;</th><th scope=col>&lt;dbl&gt;</th><th scope=col>&lt;dbl&gt;</th><th scope=col>&lt;dbl&gt;</th><th scope=col>&lt;dbl&gt;</th><th scope=col>&lt;dbl&gt;</th><th scope=col>&lt;dbl&gt;</th><th scope=col>&lt;dbl&gt;</th><th scope=col>...</th><th scope=col>&lt;dbl&gt;</th><th scope=col>&lt;dbl&gt;</th><th scope=col>&lt;dbl&gt;</th><th scope=col>&lt;dbl&gt;</th><th scope=col>&lt;dbl&gt;</th><th scope=col>&lt;dbl&gt;</th><th scope=col>&lt;dbl&gt;</th><th scope=col>&lt;dbl&gt;</th><th scope=col>&lt;dbl&gt;</th><th scope=col>&lt;dbl&gt;</th></tr>\n",
       "</thead>\n",
       "<tbody>\n",
       "\t<tr><th scope=row>1</th><td>2010-01-04</td><td>1006977</td><td>58500</td><td>55384</td><td>NA</td><td>1380000</td><td>NA</td><td>NA</td><td>162000</td><td>  760195</td><td>...</td><td>NA</td><td>NA</td><td>NA</td><td> 31000</td><td>  NA</td><td>NA</td><td>3</td><td>NA</td><td>NA</td><td>NA</td></tr>\n",
       "\t<tr><th scope=row>2</th><td>2010-01-05</td><td>1761555</td><td>58500</td><td>    1</td><td>NA</td><td>2630000</td><td>NA</td><td>NA</td><td>379000</td><td>23960287</td><td>...</td><td>NA</td><td>NA</td><td>NA</td><td> 72000</td><td>  NA</td><td>NA</td><td>0</td><td>NA</td><td>NA</td><td>NA</td></tr>\n",
       "\t<tr><th scope=row>3</th><td>2010-01-06</td><td>1070471</td><td>16500</td><td> 1384</td><td>NA</td><td> 495000</td><td>NA</td><td>NA</td><td>317000</td><td> 8224249</td><td>...</td><td>NA</td><td>NA</td><td>NA</td><td>109500</td><td>1017</td><td>NA</td><td>0</td><td>NA</td><td>NA</td><td>NA</td></tr>\n",
       "\t<tr><th scope=row>4</th><td>2010-01-07</td><td>2431649</td><td>80000</td><td>    2</td><td>NA</td><td> 995000</td><td>NA</td><td>NA</td><td>216500</td><td>28799017</td><td>...</td><td>NA</td><td>NA</td><td>NA</td><td>106000</td><td>  NA</td><td>NA</td><td>0</td><td>NA</td><td>NA</td><td>NA</td></tr>\n",
       "\t<tr><th scope=row>5</th><td>2010-01-08</td><td> 949256</td><td>16000</td><td>    1</td><td>NA</td><td> 405000</td><td>NA</td><td>NA</td><td> 54500</td><td> 4495758</td><td>...</td><td>NA</td><td>NA</td><td>NA</td><td> 79500</td><td>  NA</td><td>NA</td><td>0</td><td>NA</td><td>NA</td><td>NA</td></tr>\n",
       "\t<tr><th scope=row>6</th><td>2010-01-11</td><td> 806526</td><td>16000</td><td>20769</td><td>NA</td><td> 455000</td><td>NA</td><td>NA</td><td>207500</td><td> 1191561</td><td>...</td><td>NA</td><td>NA</td><td>NA</td><td> 90500</td><td>  NA</td><td>NA</td><td>0</td><td>NA</td><td>NA</td><td>NA</td></tr>\n",
       "</tbody>\n",
       "</table>\n"
      ],
      "text/latex": [
       "A data.frame: 6 × 913\n",
       "\\begin{tabular}{r|lllllllllllllllllllll}\n",
       "  & Date & AALI.JK & ABBA.JK & ABDA.JK & ABMM.JK & ACES.JK & ACST.JK & ADCP.JK & ADES.JK & ADHI.JK & ... & WSKT.JK & WTON.JK & YELO.JK & YPAS.JK & YULE.JK & ZATA.JK & ZBRA.JK & ZINC.JK & ZONE.JK & ZYRX.JK\\\\\n",
       "  & <chr> & <dbl> & <dbl> & <dbl> & <dbl> & <dbl> & <dbl> & <dbl> & <dbl> & <dbl> & ... & <dbl> & <dbl> & <dbl> & <dbl> & <dbl> & <dbl> & <dbl> & <dbl> & <dbl> & <dbl>\\\\\n",
       "\\hline\n",
       "\t1 & 2010-01-04 & 1006977 & 58500 & 55384 & NA & 1380000 & NA & NA & 162000 &   760195 & ... & NA & NA & NA &  31000 &   NA & NA & 3 & NA & NA & NA\\\\\n",
       "\t2 & 2010-01-05 & 1761555 & 58500 &     1 & NA & 2630000 & NA & NA & 379000 & 23960287 & ... & NA & NA & NA &  72000 &   NA & NA & 0 & NA & NA & NA\\\\\n",
       "\t3 & 2010-01-06 & 1070471 & 16500 &  1384 & NA &  495000 & NA & NA & 317000 &  8224249 & ... & NA & NA & NA & 109500 & 1017 & NA & 0 & NA & NA & NA\\\\\n",
       "\t4 & 2010-01-07 & 2431649 & 80000 &     2 & NA &  995000 & NA & NA & 216500 & 28799017 & ... & NA & NA & NA & 106000 &   NA & NA & 0 & NA & NA & NA\\\\\n",
       "\t5 & 2010-01-08 &  949256 & 16000 &     1 & NA &  405000 & NA & NA &  54500 &  4495758 & ... & NA & NA & NA &  79500 &   NA & NA & 0 & NA & NA & NA\\\\\n",
       "\t6 & 2010-01-11 &  806526 & 16000 & 20769 & NA &  455000 & NA & NA & 207500 &  1191561 & ... & NA & NA & NA &  90500 &   NA & NA & 0 & NA & NA & NA\\\\\n",
       "\\end{tabular}\n"
      ],
      "text/markdown": [
       "\n",
       "A data.frame: 6 × 913\n",
       "\n",
       "| <!--/--> | Date &lt;chr&gt; | AALI.JK &lt;dbl&gt; | ABBA.JK &lt;dbl&gt; | ABDA.JK &lt;dbl&gt; | ABMM.JK &lt;dbl&gt; | ACES.JK &lt;dbl&gt; | ACST.JK &lt;dbl&gt; | ADCP.JK &lt;dbl&gt; | ADES.JK &lt;dbl&gt; | ADHI.JK &lt;dbl&gt; | ... ... | WSKT.JK &lt;dbl&gt; | WTON.JK &lt;dbl&gt; | YELO.JK &lt;dbl&gt; | YPAS.JK &lt;dbl&gt; | YULE.JK &lt;dbl&gt; | ZATA.JK &lt;dbl&gt; | ZBRA.JK &lt;dbl&gt; | ZINC.JK &lt;dbl&gt; | ZONE.JK &lt;dbl&gt; | ZYRX.JK &lt;dbl&gt; |\n",
       "|---|---|---|---|---|---|---|---|---|---|---|---|---|---|---|---|---|---|---|---|---|---|\n",
       "| 1 | 2010-01-04 | 1006977 | 58500 | 55384 | NA | 1380000 | NA | NA | 162000 |   760195 | ... | NA | NA | NA |  31000 |   NA | NA | 3 | NA | NA | NA |\n",
       "| 2 | 2010-01-05 | 1761555 | 58500 |     1 | NA | 2630000 | NA | NA | 379000 | 23960287 | ... | NA | NA | NA |  72000 |   NA | NA | 0 | NA | NA | NA |\n",
       "| 3 | 2010-01-06 | 1070471 | 16500 |  1384 | NA |  495000 | NA | NA | 317000 |  8224249 | ... | NA | NA | NA | 109500 | 1017 | NA | 0 | NA | NA | NA |\n",
       "| 4 | 2010-01-07 | 2431649 | 80000 |     2 | NA |  995000 | NA | NA | 216500 | 28799017 | ... | NA | NA | NA | 106000 |   NA | NA | 0 | NA | NA | NA |\n",
       "| 5 | 2010-01-08 |  949256 | 16000 |     1 | NA |  405000 | NA | NA |  54500 |  4495758 | ... | NA | NA | NA |  79500 |   NA | NA | 0 | NA | NA | NA |\n",
       "| 6 | 2010-01-11 |  806526 | 16000 | 20769 | NA |  455000 | NA | NA | 207500 |  1191561 | ... | NA | NA | NA |  90500 |   NA | NA | 0 | NA | NA | NA |\n",
       "\n"
      ],
      "text/plain": [
       "  Date       AALI.JK ABBA.JK ABDA.JK ABMM.JK ACES.JK ACST.JK ADCP.JK ADES.JK\n",
       "1 2010-01-04 1006977 58500   55384   NA      1380000 NA      NA      162000 \n",
       "2 2010-01-05 1761555 58500       1   NA      2630000 NA      NA      379000 \n",
       "3 2010-01-06 1070471 16500    1384   NA       495000 NA      NA      317000 \n",
       "4 2010-01-07 2431649 80000       2   NA       995000 NA      NA      216500 \n",
       "5 2010-01-08  949256 16000       1   NA       405000 NA      NA       54500 \n",
       "6 2010-01-11  806526 16000   20769   NA       455000 NA      NA      207500 \n",
       "  ADHI.JK  ... WSKT.JK WTON.JK YELO.JK YPAS.JK YULE.JK ZATA.JK ZBRA.JK ZINC.JK\n",
       "1   760195 ... NA      NA      NA       31000    NA    NA      3       NA     \n",
       "2 23960287 ... NA      NA      NA       72000    NA    NA      0       NA     \n",
       "3  8224249 ... NA      NA      NA      109500  1017    NA      0       NA     \n",
       "4 28799017 ... NA      NA      NA      106000    NA    NA      0       NA     \n",
       "5  4495758 ... NA      NA      NA       79500    NA    NA      0       NA     \n",
       "6  1191561 ... NA      NA      NA       90500    NA    NA      0       NA     \n",
       "  ZONE.JK ZYRX.JK\n",
       "1 NA      NA     \n",
       "2 NA      NA     \n",
       "3 NA      NA     \n",
       "4 NA      NA     \n",
       "5 NA      NA     \n",
       "6 NA      NA     "
      ]
     },
     "metadata": {},
     "output_type": "display_data"
    }
   ],
   "source": [
    "fpaths_stock_vol = list.files('data/stock_price/yfinance/Volume/', full.names=TRUE)\n",
    "fpaths_stock_vol\n",
    "\n",
    "stock_vol_orig = bind_rows(lapply(fpaths_stock_vol, read.csv, sep='|'))\n",
    "dim(stock_vol_orig)\n",
    "head(stock_vol_orig)"
   ]
  },
  {
   "cell_type": "code",
   "execution_count": 11,
   "id": "0ecceaa3-885b-4741-bd72-b84fdc5219cc",
   "metadata": {
    "tags": []
   },
   "outputs": [
    {
     "data": {
      "text/html": [
       "<style>\n",
       ".list-inline {list-style: none; margin:0; padding: 0}\n",
       ".list-inline>li {display: inline-block}\n",
       ".list-inline>li:not(:last-child)::after {content: \"\\00b7\"; padding: 0 .5ex}\n",
       "</style>\n",
       "<ol class=list-inline><li>8634</li><li>8</li></ol>\n"
      ],
      "text/latex": [
       "\\begin{enumerate*}\n",
       "\\item 8634\n",
       "\\item 8\n",
       "\\end{enumerate*}\n"
      ],
      "text/markdown": [
       "1. 8634\n",
       "2. 8\n",
       "\n",
       "\n"
      ],
      "text/plain": [
       "[1] 8634    8"
      ]
     },
     "metadata": {},
     "output_type": "display_data"
    },
    {
     "data": {
      "text/html": [
       "<table class=\"dataframe\">\n",
       "<caption>A tibble: 6 × 8</caption>\n",
       "<thead>\n",
       "\t<tr><th scope=col>Date</th><th scope=col>Price</th><th scope=col>Open</th><th scope=col>High</th><th scope=col>Low</th><th scope=col>Vol.</th><th scope=col>Change %</th><th scope=col>Index</th></tr>\n",
       "\t<tr><th scope=col>&lt;date&gt;</th><th scope=col>&lt;dbl&gt;</th><th scope=col>&lt;dbl&gt;</th><th scope=col>&lt;dbl&gt;</th><th scope=col>&lt;dbl&gt;</th><th scope=col>&lt;chr&gt;</th><th scope=col>&lt;dbl&gt;</th><th scope=col>&lt;chr&gt;</th></tr>\n",
       "</thead>\n",
       "<tbody>\n",
       "\t<tr><td>2021-01-26</td><td>1348.14</td><td>1363.05</td><td>1381.91</td><td>1335.17</td><td>3.43B</td><td>-0.0079</td><td>IDX Basic Materials</td></tr>\n",
       "\t<tr><td>2021-01-27</td><td>1321.57</td><td>1350.94</td><td>1353.49</td><td>1306.97</td><td>3.59B</td><td>-0.0197</td><td>IDX Basic Materials</td></tr>\n",
       "\t<tr><td>2021-01-28</td><td>1273.38</td><td>1310.99</td><td>1321.95</td><td>1269.47</td><td>3.04B</td><td>-0.0365</td><td>IDX Basic Materials</td></tr>\n",
       "\t<tr><td>2021-01-29</td><td>1260.19</td><td>1275.79</td><td>1303.68</td><td>1247.06</td><td>2.15B</td><td>-0.0104</td><td>IDX Basic Materials</td></tr>\n",
       "\t<tr><td>2021-02-01</td><td>1364.15</td><td>1260.06</td><td>1369.13</td><td>1235.66</td><td>4.87B</td><td> 0.0825</td><td>IDX Basic Materials</td></tr>\n",
       "\t<tr><td>2021-02-02</td><td>1354.09</td><td>1373.40</td><td>1379.14</td><td>1333.82</td><td>3.05B</td><td>-0.0074</td><td>IDX Basic Materials</td></tr>\n",
       "</tbody>\n",
       "</table>\n"
      ],
      "text/latex": [
       "A tibble: 6 × 8\n",
       "\\begin{tabular}{llllllll}\n",
       " Date & Price & Open & High & Low & Vol. & Change \\% & Index\\\\\n",
       " <date> & <dbl> & <dbl> & <dbl> & <dbl> & <chr> & <dbl> & <chr>\\\\\n",
       "\\hline\n",
       "\t 2021-01-26 & 1348.14 & 1363.05 & 1381.91 & 1335.17 & 3.43B & -0.0079 & IDX Basic Materials\\\\\n",
       "\t 2021-01-27 & 1321.57 & 1350.94 & 1353.49 & 1306.97 & 3.59B & -0.0197 & IDX Basic Materials\\\\\n",
       "\t 2021-01-28 & 1273.38 & 1310.99 & 1321.95 & 1269.47 & 3.04B & -0.0365 & IDX Basic Materials\\\\\n",
       "\t 2021-01-29 & 1260.19 & 1275.79 & 1303.68 & 1247.06 & 2.15B & -0.0104 & IDX Basic Materials\\\\\n",
       "\t 2021-02-01 & 1364.15 & 1260.06 & 1369.13 & 1235.66 & 4.87B &  0.0825 & IDX Basic Materials\\\\\n",
       "\t 2021-02-02 & 1354.09 & 1373.40 & 1379.14 & 1333.82 & 3.05B & -0.0074 & IDX Basic Materials\\\\\n",
       "\\end{tabular}\n"
      ],
      "text/markdown": [
       "\n",
       "A tibble: 6 × 8\n",
       "\n",
       "| Date &lt;date&gt; | Price &lt;dbl&gt; | Open &lt;dbl&gt; | High &lt;dbl&gt; | Low &lt;dbl&gt; | Vol. &lt;chr&gt; | Change % &lt;dbl&gt; | Index &lt;chr&gt; |\n",
       "|---|---|---|---|---|---|---|---|\n",
       "| 2021-01-26 | 1348.14 | 1363.05 | 1381.91 | 1335.17 | 3.43B | -0.0079 | IDX Basic Materials |\n",
       "| 2021-01-27 | 1321.57 | 1350.94 | 1353.49 | 1306.97 | 3.59B | -0.0197 | IDX Basic Materials |\n",
       "| 2021-01-28 | 1273.38 | 1310.99 | 1321.95 | 1269.47 | 3.04B | -0.0365 | IDX Basic Materials |\n",
       "| 2021-01-29 | 1260.19 | 1275.79 | 1303.68 | 1247.06 | 2.15B | -0.0104 | IDX Basic Materials |\n",
       "| 2021-02-01 | 1364.15 | 1260.06 | 1369.13 | 1235.66 | 4.87B |  0.0825 | IDX Basic Materials |\n",
       "| 2021-02-02 | 1354.09 | 1373.40 | 1379.14 | 1333.82 | 3.05B | -0.0074 | IDX Basic Materials |\n",
       "\n"
      ],
      "text/plain": [
       "  Date       Price   Open    High    Low     Vol.  Change % Index              \n",
       "1 2021-01-26 1348.14 1363.05 1381.91 1335.17 3.43B -0.0079  IDX Basic Materials\n",
       "2 2021-01-27 1321.57 1350.94 1353.49 1306.97 3.59B -0.0197  IDX Basic Materials\n",
       "3 2021-01-28 1273.38 1310.99 1321.95 1269.47 3.04B -0.0365  IDX Basic Materials\n",
       "4 2021-01-29 1260.19 1275.79 1303.68 1247.06 2.15B -0.0104  IDX Basic Materials\n",
       "5 2021-02-01 1364.15 1260.06 1369.13 1235.66 4.87B  0.0825  IDX Basic Materials\n",
       "6 2021-02-02 1354.09 1373.40 1379.14 1333.82 3.05B -0.0074  IDX Basic Materials"
      ]
     },
     "metadata": {},
     "output_type": "display_data"
    }
   ],
   "source": [
    "df_sectoral = readxl::read_xlsx('data/stock_price/sectoral/IDX_Sector_Price_Volume.xlsx')\n",
    "df_sectoral$Date = as.Date(df_sectoral$Date)\n",
    "df_sectoral = df_sectoral %>% arrange(Index, Date)\n",
    "\n",
    "dim(df_sectoral)\n",
    "head(df_sectoral)"
   ]
  },
  {
   "cell_type": "code",
   "execution_count": 12,
   "id": "0b34a545-4c16-444b-aedb-25d9cf118465",
   "metadata": {
    "tags": []
   },
   "outputs": [
    {
     "data": {
      "text/plain": [
       "\n",
       "       IDX Basic Materials      IDX Consumer Cyclical \n",
       "                       717                        717 \n",
       "IDX Consumer Non-Cyclicals                 IDX Energy \n",
       "                       717                        717 \n",
       "               IDX Finance             IDX Healthcare \n",
       "                      1439                        717 \n",
       "           IDX Industrials         IDX Infrastructure \n",
       "                       717                       1459 \n",
       "            IDX Technology         IDX Transportation \n",
       "                       717                        717 "
      ]
     },
     "metadata": {},
     "output_type": "display_data"
    }
   ],
   "source": [
    "table(df_sectoral$Index)"
   ]
  },
  {
   "cell_type": "markdown",
   "id": "bc54c669-16d1-4303-b78f-0c63ed6fcdc6",
   "metadata": {},
   "source": [
    "## Process data"
   ]
  },
  {
   "cell_type": "code",
   "execution_count": 13,
   "id": "4d3746c1-54f5-4626-a778-1b7f2c89e5bc",
   "metadata": {
    "tags": []
   },
   "outputs": [
    {
     "data": {
      "text/html": [
       "<style>\n",
       ".list-inline {list-style: none; margin:0; padding: 0}\n",
       ".list-inline>li {display: inline-block}\n",
       ".list-inline>li:not(:last-child)::after {content: \"\\00b7\"; padding: 0 .5ex}\n",
       "</style>\n",
       "<ol class=list-inline><li>3379</li><li>911</li></ol>\n"
      ],
      "text/latex": [
       "\\begin{enumerate*}\n",
       "\\item 3379\n",
       "\\item 911\n",
       "\\end{enumerate*}\n"
      ],
      "text/markdown": [
       "1. 3379\n",
       "2. 911\n",
       "\n",
       "\n"
      ],
      "text/plain": [
       "[1] 3379  911"
      ]
     },
     "metadata": {},
     "output_type": "display_data"
    },
    {
     "data": {
      "text/html": [
       "<table class=\"dataframe\">\n",
       "<caption>A data.frame: 6 × 911</caption>\n",
       "<thead>\n",
       "\t<tr><th></th><th scope=col>date</th><th scope=col>AALI</th><th scope=col>ABBA</th><th scope=col>ABDA</th><th scope=col>ABMM</th><th scope=col>ACES</th><th scope=col>ACST</th><th scope=col>ADCP</th><th scope=col>ADES</th><th scope=col>ADHI</th><th scope=col>...</th><th scope=col>WTON</th><th scope=col>YELO</th><th scope=col>YPAS</th><th scope=col>YULE</th><th scope=col>ZATA</th><th scope=col>ZBRA</th><th scope=col>ZINC</th><th scope=col>ZONE</th><th scope=col>ZYRX</th><th scope=col>TRUEX</th></tr>\n",
       "\t<tr><th></th><th scope=col>&lt;date&gt;</th><th scope=col>&lt;dbl&gt;</th><th scope=col>&lt;dbl&gt;</th><th scope=col>&lt;dbl&gt;</th><th scope=col>&lt;dbl&gt;</th><th scope=col>&lt;dbl&gt;</th><th scope=col>&lt;dbl&gt;</th><th scope=col>&lt;dbl&gt;</th><th scope=col>&lt;dbl&gt;</th><th scope=col>&lt;dbl&gt;</th><th scope=col>...</th><th scope=col>&lt;dbl&gt;</th><th scope=col>&lt;dbl&gt;</th><th scope=col>&lt;dbl&gt;</th><th scope=col>&lt;dbl&gt;</th><th scope=col>&lt;dbl&gt;</th><th scope=col>&lt;dbl&gt;</th><th scope=col>&lt;dbl&gt;</th><th scope=col>&lt;dbl&gt;</th><th scope=col>&lt;dbl&gt;</th><th scope=col>&lt;dbl&gt;</th></tr>\n",
       "</thead>\n",
       "<tbody>\n",
       "\t<tr><th scope=row>1</th><td>2010-01-04</td><td>1006977</td><td>58500</td><td>55384</td><td>0</td><td>1380000</td><td>0</td><td>0</td><td>162000</td><td>  760195</td><td>...</td><td>0</td><td>0</td><td> 31000</td><td>   0</td><td>0</td><td>3</td><td>0</td><td>0</td><td>0</td><td>0</td></tr>\n",
       "\t<tr><th scope=row>2</th><td>2010-01-05</td><td>1761555</td><td>58500</td><td>    1</td><td>0</td><td>2630000</td><td>0</td><td>0</td><td>379000</td><td>23960287</td><td>...</td><td>0</td><td>0</td><td> 72000</td><td>   0</td><td>0</td><td>0</td><td>0</td><td>0</td><td>0</td><td>0</td></tr>\n",
       "\t<tr><th scope=row>3</th><td>2010-01-06</td><td>1070471</td><td>16500</td><td> 1384</td><td>0</td><td> 495000</td><td>0</td><td>0</td><td>317000</td><td> 8224249</td><td>...</td><td>0</td><td>0</td><td>109500</td><td>1017</td><td>0</td><td>0</td><td>0</td><td>0</td><td>0</td><td>0</td></tr>\n",
       "\t<tr><th scope=row>4</th><td>2010-01-07</td><td>2431649</td><td>80000</td><td>    2</td><td>0</td><td> 995000</td><td>0</td><td>0</td><td>216500</td><td>28799017</td><td>...</td><td>0</td><td>0</td><td>106000</td><td>   0</td><td>0</td><td>0</td><td>0</td><td>0</td><td>0</td><td>0</td></tr>\n",
       "\t<tr><th scope=row>5</th><td>2010-01-08</td><td> 949256</td><td>16000</td><td>    1</td><td>0</td><td> 405000</td><td>0</td><td>0</td><td> 54500</td><td> 4495758</td><td>...</td><td>0</td><td>0</td><td> 79500</td><td>   0</td><td>0</td><td>0</td><td>0</td><td>0</td><td>0</td><td>0</td></tr>\n",
       "\t<tr><th scope=row>6</th><td>2010-01-11</td><td> 806526</td><td>16000</td><td>20769</td><td>0</td><td> 455000</td><td>0</td><td>0</td><td>207500</td><td> 1191561</td><td>...</td><td>0</td><td>0</td><td> 90500</td><td>   0</td><td>0</td><td>0</td><td>0</td><td>0</td><td>0</td><td>0</td></tr>\n",
       "</tbody>\n",
       "</table>\n"
      ],
      "text/latex": [
       "A data.frame: 6 × 911\n",
       "\\begin{tabular}{r|lllllllllllllllllllll}\n",
       "  & date & AALI & ABBA & ABDA & ABMM & ACES & ACST & ADCP & ADES & ADHI & ... & WTON & YELO & YPAS & YULE & ZATA & ZBRA & ZINC & ZONE & ZYRX & TRUEX\\\\\n",
       "  & <date> & <dbl> & <dbl> & <dbl> & <dbl> & <dbl> & <dbl> & <dbl> & <dbl> & <dbl> & ... & <dbl> & <dbl> & <dbl> & <dbl> & <dbl> & <dbl> & <dbl> & <dbl> & <dbl> & <dbl>\\\\\n",
       "\\hline\n",
       "\t1 & 2010-01-04 & 1006977 & 58500 & 55384 & 0 & 1380000 & 0 & 0 & 162000 &   760195 & ... & 0 & 0 &  31000 &    0 & 0 & 3 & 0 & 0 & 0 & 0\\\\\n",
       "\t2 & 2010-01-05 & 1761555 & 58500 &     1 & 0 & 2630000 & 0 & 0 & 379000 & 23960287 & ... & 0 & 0 &  72000 &    0 & 0 & 0 & 0 & 0 & 0 & 0\\\\\n",
       "\t3 & 2010-01-06 & 1070471 & 16500 &  1384 & 0 &  495000 & 0 & 0 & 317000 &  8224249 & ... & 0 & 0 & 109500 & 1017 & 0 & 0 & 0 & 0 & 0 & 0\\\\\n",
       "\t4 & 2010-01-07 & 2431649 & 80000 &     2 & 0 &  995000 & 0 & 0 & 216500 & 28799017 & ... & 0 & 0 & 106000 &    0 & 0 & 0 & 0 & 0 & 0 & 0\\\\\n",
       "\t5 & 2010-01-08 &  949256 & 16000 &     1 & 0 &  405000 & 0 & 0 &  54500 &  4495758 & ... & 0 & 0 &  79500 &    0 & 0 & 0 & 0 & 0 & 0 & 0\\\\\n",
       "\t6 & 2010-01-11 &  806526 & 16000 & 20769 & 0 &  455000 & 0 & 0 & 207500 &  1191561 & ... & 0 & 0 &  90500 &    0 & 0 & 0 & 0 & 0 & 0 & 0\\\\\n",
       "\\end{tabular}\n"
      ],
      "text/markdown": [
       "\n",
       "A data.frame: 6 × 911\n",
       "\n",
       "| <!--/--> | date &lt;date&gt; | AALI &lt;dbl&gt; | ABBA &lt;dbl&gt; | ABDA &lt;dbl&gt; | ABMM &lt;dbl&gt; | ACES &lt;dbl&gt; | ACST &lt;dbl&gt; | ADCP &lt;dbl&gt; | ADES &lt;dbl&gt; | ADHI &lt;dbl&gt; | ... ... | WTON &lt;dbl&gt; | YELO &lt;dbl&gt; | YPAS &lt;dbl&gt; | YULE &lt;dbl&gt; | ZATA &lt;dbl&gt; | ZBRA &lt;dbl&gt; | ZINC &lt;dbl&gt; | ZONE &lt;dbl&gt; | ZYRX &lt;dbl&gt; | TRUEX &lt;dbl&gt; |\n",
       "|---|---|---|---|---|---|---|---|---|---|---|---|---|---|---|---|---|---|---|---|---|---|\n",
       "| 1 | 2010-01-04 | 1006977 | 58500 | 55384 | 0 | 1380000 | 0 | 0 | 162000 |   760195 | ... | 0 | 0 |  31000 |    0 | 0 | 3 | 0 | 0 | 0 | 0 |\n",
       "| 2 | 2010-01-05 | 1761555 | 58500 |     1 | 0 | 2630000 | 0 | 0 | 379000 | 23960287 | ... | 0 | 0 |  72000 |    0 | 0 | 0 | 0 | 0 | 0 | 0 |\n",
       "| 3 | 2010-01-06 | 1070471 | 16500 |  1384 | 0 |  495000 | 0 | 0 | 317000 |  8224249 | ... | 0 | 0 | 109500 | 1017 | 0 | 0 | 0 | 0 | 0 | 0 |\n",
       "| 4 | 2010-01-07 | 2431649 | 80000 |     2 | 0 |  995000 | 0 | 0 | 216500 | 28799017 | ... | 0 | 0 | 106000 |    0 | 0 | 0 | 0 | 0 | 0 | 0 |\n",
       "| 5 | 2010-01-08 |  949256 | 16000 |     1 | 0 |  405000 | 0 | 0 |  54500 |  4495758 | ... | 0 | 0 |  79500 |    0 | 0 | 0 | 0 | 0 | 0 | 0 |\n",
       "| 6 | 2010-01-11 |  806526 | 16000 | 20769 | 0 |  455000 | 0 | 0 | 207500 |  1191561 | ... | 0 | 0 |  90500 |    0 | 0 | 0 | 0 | 0 | 0 | 0 |\n",
       "\n"
      ],
      "text/plain": [
       "  date       AALI    ABBA  ABDA  ABMM ACES    ACST ADCP ADES   ADHI     ...\n",
       "1 2010-01-04 1006977 58500 55384 0    1380000 0    0    162000   760195 ...\n",
       "2 2010-01-05 1761555 58500     1 0    2630000 0    0    379000 23960287 ...\n",
       "3 2010-01-06 1070471 16500  1384 0     495000 0    0    317000  8224249 ...\n",
       "4 2010-01-07 2431649 80000     2 0     995000 0    0    216500 28799017 ...\n",
       "5 2010-01-08  949256 16000     1 0     405000 0    0     54500  4495758 ...\n",
       "6 2010-01-11  806526 16000 20769 0     455000 0    0    207500  1191561 ...\n",
       "  WTON YELO YPAS   YULE ZATA ZBRA ZINC ZONE ZYRX TRUEX\n",
       "1 0    0     31000    0 0    3    0    0    0    0    \n",
       "2 0    0     72000    0 0    0    0    0    0    0    \n",
       "3 0    0    109500 1017 0    0    0    0    0    0    \n",
       "4 0    0    106000    0 0    0    0    0    0    0    \n",
       "5 0    0     79500    0 0    0    0    0    0    0    \n",
       "6 0    0     90500    0 0    0    0    0    0    0    "
      ]
     },
     "metadata": {},
     "output_type": "display_data"
    }
   ],
   "source": [
    "stock_vol = stock_vol_orig %>%\n",
    "    select(matches('^(Date|\\\\w{4}\\\\.JK)$')) %>%\n",
    "    rename_all(function(col_name) substr(col_name, 1, 4)) %>%\n",
    "    rename(date=Date) %>%\n",
    "    mutate_all(~ replace(., is.na(.), 0)) %>%\n",
    "    mutate(date=as.Date(date))\n",
    "               \n",
    "trd_days = stock_vol %>% select(-c(date)) %>% rowSums > 0\n",
    "\n",
    "stock_vol$TRUEX = stock_vol[['TRUE']]\n",
    "stock_vol = stock_vol[trd_days,] %>% select(-c('TRUE'))\n",
    "\n",
    "dim(stock_vol)\n",
    "head(stock_vol)"
   ]
  },
  {
   "cell_type": "code",
   "execution_count": 14,
   "id": "87ce1258-ff77-48c2-a34b-276a2e82ffee",
   "metadata": {
    "tags": []
   },
   "outputs": [
    {
     "data": {
      "text/html": [
       "<style>\n",
       ".list-inline {list-style: none; margin:0; padding: 0}\n",
       ".list-inline>li {display: inline-block}\n",
       ".list-inline>li:not(:last-child)::after {content: \"\\00b7\"; padding: 0 .5ex}\n",
       "</style>\n",
       "<ol class=list-inline><li>3378</li><li>911</li></ol>\n"
      ],
      "text/latex": [
       "\\begin{enumerate*}\n",
       "\\item 3378\n",
       "\\item 911\n",
       "\\end{enumerate*}\n"
      ],
      "text/markdown": [
       "1. 3378\n",
       "2. 911\n",
       "\n",
       "\n"
      ],
      "text/plain": [
       "[1] 3378  911"
      ]
     },
     "metadata": {},
     "output_type": "display_data"
    },
    {
     "data": {
      "text/html": [
       "<table class=\"dataframe\">\n",
       "<caption>A data.frame: 6 × 911</caption>\n",
       "<thead>\n",
       "\t<tr><th></th><th scope=col>date</th><th scope=col>AALI</th><th scope=col>ABBA</th><th scope=col>ABDA</th><th scope=col>ABMM</th><th scope=col>ACES</th><th scope=col>ACST</th><th scope=col>ADCP</th><th scope=col>ADES</th><th scope=col>ADHI</th><th scope=col>...</th><th scope=col>WTON</th><th scope=col>YELO</th><th scope=col>YPAS</th><th scope=col>YULE</th><th scope=col>ZATA</th><th scope=col>ZBRA</th><th scope=col>ZINC</th><th scope=col>ZONE</th><th scope=col>ZYRX</th><th scope=col>TRUEX</th></tr>\n",
       "\t<tr><th></th><th scope=col>&lt;date&gt;</th><th scope=col>&lt;dbl&gt;</th><th scope=col>&lt;dbl&gt;</th><th scope=col>&lt;dbl&gt;</th><th scope=col>&lt;dbl&gt;</th><th scope=col>&lt;dbl&gt;</th><th scope=col>&lt;dbl&gt;</th><th scope=col>&lt;dbl&gt;</th><th scope=col>&lt;dbl&gt;</th><th scope=col>&lt;dbl&gt;</th><th scope=col>...</th><th scope=col>&lt;dbl&gt;</th><th scope=col>&lt;dbl&gt;</th><th scope=col>&lt;dbl&gt;</th><th scope=col>&lt;dbl&gt;</th><th scope=col>&lt;dbl&gt;</th><th scope=col>&lt;dbl&gt;</th><th scope=col>&lt;dbl&gt;</th><th scope=col>&lt;dbl&gt;</th><th scope=col>&lt;dbl&gt;</th><th scope=col>&lt;dbl&gt;</th></tr>\n",
       "</thead>\n",
       "<tbody>\n",
       "\t<tr><th scope=row>1</th><td>2010-01-05</td><td>0.014675000</td><td>0.00000000</td><td>0.00000000</td><td>0</td><td>0.006756571</td><td>0</td><td>0</td><td>0</td><td>0.02439023</td><td>...</td><td>0</td><td>0</td><td>0.01818179</td><td>0</td><td>0</td><td>0</td><td>0</td><td>0</td><td>0</td><td>0</td></tr>\n",
       "\t<tr><th scope=row>2</th><td>2010-01-06</td><td>0.004132200</td><td>0.00000000</td><td>0.01666641</td><td>0</td><td>0.006711472</td><td>0</td><td>0</td><td>0</td><td>0.01249993</td><td>...</td><td>0</td><td>0</td><td>0.00000000</td><td>0</td><td>0</td><td>0</td><td>0</td><td>0</td><td>0</td><td>0</td></tr>\n",
       "\t<tr><th scope=row>3</th><td>2010-01-07</td><td>0.039419270</td><td>0.03571429</td><td>0.00000000</td><td>0</td><td>0.006666729</td><td>0</td><td>0</td><td>0</td><td>0.01234573</td><td>...</td><td>0</td><td>0</td><td>0.01785712</td><td>0</td><td>0</td><td>0</td><td>0</td><td>0</td><td>0</td><td>0</td></tr>\n",
       "\t<tr><th scope=row>4</th><td>2010-01-08</td><td>0.007983969</td><td>0.03448276</td><td>0.00000000</td><td>0</td><td>0.000000000</td><td>0</td><td>0</td><td>0</td><td>0.01219506</td><td>...</td><td>0</td><td>0</td><td>0.01818179</td><td>0</td><td>0</td><td>0</td><td>0</td><td>0</td><td>0</td><td>0</td></tr>\n",
       "\t<tr><th scope=row>5</th><td>2010-01-11</td><td>0.011881095</td><td>0.00000000</td><td>0.01639319</td><td>0</td><td>0.006711472</td><td>0</td><td>0</td><td>0</td><td>0.01204813</td><td>...</td><td>0</td><td>0</td><td>0.00000000</td><td>0</td><td>0</td><td>0</td><td>0</td><td>0</td><td>0</td><td>0</td></tr>\n",
       "\t<tr><th scope=row>6</th><td>2010-01-12</td><td>0.006011682</td><td>0.00000000</td><td>0.00000000</td><td>0</td><td>0.006666729</td><td>0</td><td>0</td><td>0</td><td>0.00000000</td><td>...</td><td>0</td><td>0</td><td>0.00000000</td><td>0</td><td>0</td><td>0</td><td>0</td><td>0</td><td>0</td><td>0</td></tr>\n",
       "</tbody>\n",
       "</table>\n"
      ],
      "text/latex": [
       "A data.frame: 6 × 911\n",
       "\\begin{tabular}{r|lllllllllllllllllllll}\n",
       "  & date & AALI & ABBA & ABDA & ABMM & ACES & ACST & ADCP & ADES & ADHI & ... & WTON & YELO & YPAS & YULE & ZATA & ZBRA & ZINC & ZONE & ZYRX & TRUEX\\\\\n",
       "  & <date> & <dbl> & <dbl> & <dbl> & <dbl> & <dbl> & <dbl> & <dbl> & <dbl> & <dbl> & ... & <dbl> & <dbl> & <dbl> & <dbl> & <dbl> & <dbl> & <dbl> & <dbl> & <dbl> & <dbl>\\\\\n",
       "\\hline\n",
       "\t1 & 2010-01-05 & 0.014675000 & 0.00000000 & 0.00000000 & 0 & 0.006756571 & 0 & 0 & 0 & 0.02439023 & ... & 0 & 0 & 0.01818179 & 0 & 0 & 0 & 0 & 0 & 0 & 0\\\\\n",
       "\t2 & 2010-01-06 & 0.004132200 & 0.00000000 & 0.01666641 & 0 & 0.006711472 & 0 & 0 & 0 & 0.01249993 & ... & 0 & 0 & 0.00000000 & 0 & 0 & 0 & 0 & 0 & 0 & 0\\\\\n",
       "\t3 & 2010-01-07 & 0.039419270 & 0.03571429 & 0.00000000 & 0 & 0.006666729 & 0 & 0 & 0 & 0.01234573 & ... & 0 & 0 & 0.01785712 & 0 & 0 & 0 & 0 & 0 & 0 & 0\\\\\n",
       "\t4 & 2010-01-08 & 0.007983969 & 0.03448276 & 0.00000000 & 0 & 0.000000000 & 0 & 0 & 0 & 0.01219506 & ... & 0 & 0 & 0.01818179 & 0 & 0 & 0 & 0 & 0 & 0 & 0\\\\\n",
       "\t5 & 2010-01-11 & 0.011881095 & 0.00000000 & 0.01639319 & 0 & 0.006711472 & 0 & 0 & 0 & 0.01204813 & ... & 0 & 0 & 0.00000000 & 0 & 0 & 0 & 0 & 0 & 0 & 0\\\\\n",
       "\t6 & 2010-01-12 & 0.006011682 & 0.00000000 & 0.00000000 & 0 & 0.006666729 & 0 & 0 & 0 & 0.00000000 & ... & 0 & 0 & 0.00000000 & 0 & 0 & 0 & 0 & 0 & 0 & 0\\\\\n",
       "\\end{tabular}\n"
      ],
      "text/markdown": [
       "\n",
       "A data.frame: 6 × 911\n",
       "\n",
       "| <!--/--> | date &lt;date&gt; | AALI &lt;dbl&gt; | ABBA &lt;dbl&gt; | ABDA &lt;dbl&gt; | ABMM &lt;dbl&gt; | ACES &lt;dbl&gt; | ACST &lt;dbl&gt; | ADCP &lt;dbl&gt; | ADES &lt;dbl&gt; | ADHI &lt;dbl&gt; | ... ... | WTON &lt;dbl&gt; | YELO &lt;dbl&gt; | YPAS &lt;dbl&gt; | YULE &lt;dbl&gt; | ZATA &lt;dbl&gt; | ZBRA &lt;dbl&gt; | ZINC &lt;dbl&gt; | ZONE &lt;dbl&gt; | ZYRX &lt;dbl&gt; | TRUEX &lt;dbl&gt; |\n",
       "|---|---|---|---|---|---|---|---|---|---|---|---|---|---|---|---|---|---|---|---|---|---|\n",
       "| 1 | 2010-01-05 | 0.014675000 | 0.00000000 | 0.00000000 | 0 | 0.006756571 | 0 | 0 | 0 | 0.02439023 | ... | 0 | 0 | 0.01818179 | 0 | 0 | 0 | 0 | 0 | 0 | 0 |\n",
       "| 2 | 2010-01-06 | 0.004132200 | 0.00000000 | 0.01666641 | 0 | 0.006711472 | 0 | 0 | 0 | 0.01249993 | ... | 0 | 0 | 0.00000000 | 0 | 0 | 0 | 0 | 0 | 0 | 0 |\n",
       "| 3 | 2010-01-07 | 0.039419270 | 0.03571429 | 0.00000000 | 0 | 0.006666729 | 0 | 0 | 0 | 0.01234573 | ... | 0 | 0 | 0.01785712 | 0 | 0 | 0 | 0 | 0 | 0 | 0 |\n",
       "| 4 | 2010-01-08 | 0.007983969 | 0.03448276 | 0.00000000 | 0 | 0.000000000 | 0 | 0 | 0 | 0.01219506 | ... | 0 | 0 | 0.01818179 | 0 | 0 | 0 | 0 | 0 | 0 | 0 |\n",
       "| 5 | 2010-01-11 | 0.011881095 | 0.00000000 | 0.01639319 | 0 | 0.006711472 | 0 | 0 | 0 | 0.01204813 | ... | 0 | 0 | 0.00000000 | 0 | 0 | 0 | 0 | 0 | 0 | 0 |\n",
       "| 6 | 2010-01-12 | 0.006011682 | 0.00000000 | 0.00000000 | 0 | 0.006666729 | 0 | 0 | 0 | 0.00000000 | ... | 0 | 0 | 0.00000000 | 0 | 0 | 0 | 0 | 0 | 0 | 0 |\n",
       "\n"
      ],
      "text/plain": [
       "  date       AALI        ABBA       ABDA       ABMM ACES        ACST ADCP ADES\n",
       "1 2010-01-05 0.014675000 0.00000000 0.00000000 0    0.006756571 0    0    0   \n",
       "2 2010-01-06 0.004132200 0.00000000 0.01666641 0    0.006711472 0    0    0   \n",
       "3 2010-01-07 0.039419270 0.03571429 0.00000000 0    0.006666729 0    0    0   \n",
       "4 2010-01-08 0.007983969 0.03448276 0.00000000 0    0.000000000 0    0    0   \n",
       "5 2010-01-11 0.011881095 0.00000000 0.01639319 0    0.006711472 0    0    0   \n",
       "6 2010-01-12 0.006011682 0.00000000 0.00000000 0    0.006666729 0    0    0   \n",
       "  ADHI       ... WTON YELO YPAS       YULE ZATA ZBRA ZINC ZONE ZYRX TRUEX\n",
       "1 0.02439023 ... 0    0    0.01818179 0    0    0    0    0    0    0    \n",
       "2 0.01249993 ... 0    0    0.00000000 0    0    0    0    0    0    0    \n",
       "3 0.01234573 ... 0    0    0.01785712 0    0    0    0    0    0    0    \n",
       "4 0.01219506 ... 0    0    0.01818179 0    0    0    0    0    0    0    \n",
       "5 0.01204813 ... 0    0    0.00000000 0    0    0    0    0    0    0    \n",
       "6 0.00000000 ... 0    0    0.00000000 0    0    0    0    0    0    0    "
      ]
     },
     "metadata": {},
     "output_type": "display_data"
    }
   ],
   "source": [
    "stock_volat = stock_price_orig %>%\n",
    "    tidyr::fill(names(.)) %>%\n",
    "    tidyr::fill(names(.), .direction='up') %>%\n",
    "    filter(trd_days) %>%\n",
    "    select(matches('^(Date|\\\\w{4}\\\\.JK)$')) %>%\n",
    "    rename_all(function(col_name) substr(col_name, 1, 4)) %>%\n",
    "    rename(date=Date) %>%\n",
    "    mutate_all(~ replace(., is.na(.), 0)) %>%\n",
    "    mutate(date=as.Date(date))\n",
    "\n",
    "stock_volat$TRUEX = stock_volat[['TRUE']]\n",
    "stock_volat = stock_volat %>% select(-c('TRUE'))\n",
    "\n",
    "stock_volat = (stock_volat %>% select(-c(date)) / (stock_volat %>% select(-c(date)) %>% lag) - 1) %>%\n",
    "    abs %>%\n",
    "    mutate(date=stock_volat$date) %>%\n",
    "    select(date, everything()) %>%\n",
    "    slice_tail(n=-1)\n",
    "               \n",
    "dim(stock_volat)\n",
    "head(stock_volat)"
   ]
  },
  {
   "cell_type": "code",
   "execution_count": null,
   "id": "ffbeeae2-61bb-4bd5-90d3-291285a33de9",
   "metadata": {},
   "outputs": [],
   "source": [
    "events = events_orig %>%\n",
    "    filter(company_metioned != '') %>%\n",
    "    tidyr::separate_rows(company_metioned, sep=',') %>%\n",
    "    mutate(date=as.Date(substr(timestamp, 1, 10)))\n",
    "dim(events)"
   ]
  },
  {
   "cell_type": "code",
   "execution_count": null,
   "id": "c37f6315-bb87-4f04-8eba-395961f55296",
   "metadata": {},
   "outputs": [],
   "source": [
    "firm_dates = events %>%\n",
    "    rename(firm=company_metioned) %>%\n",
    "    mutate(firm=replace(firm, firm=='TRUE', 'TRUEX')) %>%\n",
    "    group_by(firm, date) %>%\n",
    "    summarise(n=n(), max_score=max(similarity), sum_score=sum(similarity))\n",
    "dim(firm_dates)\n",
    "head(firm_dates)"
   ]
  },
  {
   "cell_type": "code",
   "execution_count": null,
   "id": "16695a98-1924-4012-952b-6cc3ea88ea8e",
   "metadata": {},
   "outputs": [],
   "source": [
    "table(lubridate::year(firm_dates$date))"
   ]
  },
  {
   "cell_type": "code",
   "execution_count": null,
   "id": "2766d8ad-a45c-4e63-ab7c-67da1bf0e677",
   "metadata": {},
   "outputs": [],
   "source": [
    "table(firm_dates$n)"
   ]
  },
  {
   "cell_type": "code",
   "execution_count": null,
   "id": "9a39a16a-729c-4d6d-a208-df3e2f49d959",
   "metadata": {},
   "outputs": [],
   "source": [
    "hist(firm_dates$max_score)"
   ]
  },
  {
   "cell_type": "code",
   "execution_count": null,
   "id": "f9b7320b-dc9d-4679-ae23-18816dddbd7d",
   "metadata": {},
   "outputs": [],
   "source": [
    "hist(firm_dates$sum_score)"
   ]
  },
  {
   "cell_type": "code",
   "execution_count": null,
   "id": "57d5adf9-9202-42b7-b840-9428c678a77e",
   "metadata": {},
   "outputs": [],
   "source": [
    "table(firm_dates$firm) %>% sort(decreasing=TRUE)"
   ]
  },
  {
   "cell_type": "code",
   "execution_count": 30,
   "id": "40ea5574-cc41-4a96-81ed-d0dd83b69d3b",
   "metadata": {
    "tags": []
   },
   "outputs": [
    {
     "data": {
      "text/html": [
       "<style>\n",
       ".dl-inline {width: auto; margin:0; padding: 0}\n",
       ".dl-inline>dt, .dl-inline>dd {float: none; width: auto; display: inline-block}\n",
       ".dl-inline>dt::after {content: \":\\0020\"; padding-right: .5ex}\n",
       ".dl-inline>dt:not(:first-of-type) {padding-left: .5ex}\n",
       "</style><dl class=dl-inline><dt>Basic Materials</dt><dd>'IDX Basic Materials'</dd><dt>Consumer Cyclicals</dt><dd>'IDX Consumer Cyclical'</dd><dt>Consumer Non-Cyclicals</dt><dd>'IDX Consumer Non-Cyclicals'</dd><dt>Energy</dt><dd>'IDX Energy'</dd><dt>Financials</dt><dd>'IDX Finance'</dd><dt>Healthcare</dt><dd>'IDX Healthcare'</dd><dt>Industrials</dt><dd>'IDX Industrials'</dd><dt>Infrastructures</dt><dd>'IDX Infrastructure'</dd><dt>Properties &amp; Real Estate</dt><dd>'IDX Infrastructure'</dd><dt>Technology</dt><dd>'IDX Technology'</dd><dt>Transportation &amp; Logistic</dt><dd>'IDX Transportation'</dd></dl>\n"
      ],
      "text/latex": [
       "\\begin{description*}\n",
       "\\item[Basic Materials] 'IDX Basic Materials'\n",
       "\\item[Consumer Cyclicals] 'IDX Consumer Cyclical'\n",
       "\\item[Consumer Non-Cyclicals] 'IDX Consumer Non-Cyclicals'\n",
       "\\item[Energy] 'IDX Energy'\n",
       "\\item[Financials] 'IDX Finance'\n",
       "\\item[Healthcare] 'IDX Healthcare'\n",
       "\\item[Industrials] 'IDX Industrials'\n",
       "\\item[Infrastructures] 'IDX Infrastructure'\n",
       "\\item[Properties \\textbackslash{}\\& Real Estate] 'IDX Infrastructure'\n",
       "\\item[Technology] 'IDX Technology'\n",
       "\\item[Transportation \\textbackslash{}\\& Logistic] 'IDX Transportation'\n",
       "\\end{description*}\n"
      ],
      "text/markdown": [
       "Basic Materials\n",
       ":   'IDX Basic Materials'Consumer Cyclicals\n",
       ":   'IDX Consumer Cyclical'Consumer Non-Cyclicals\n",
       ":   'IDX Consumer Non-Cyclicals'Energy\n",
       ":   'IDX Energy'Financials\n",
       ":   'IDX Finance'Healthcare\n",
       ":   'IDX Healthcare'Industrials\n",
       ":   'IDX Industrials'Infrastructures\n",
       ":   'IDX Infrastructure'Properties &amp;amp; Real Estate\n",
       ":   'IDX Infrastructure'Technology\n",
       ":   'IDX Technology'Transportation &amp;amp; Logistic\n",
       ":   'IDX Transportation'\n",
       "\n"
      ],
      "text/plain": [
       "             Basic Materials           Consumer Cyclicals \n",
       "       \"IDX Basic Materials\"      \"IDX Consumer Cyclical\" \n",
       "      Consumer Non-Cyclicals                       Energy \n",
       "\"IDX Consumer Non-Cyclicals\"                 \"IDX Energy\" \n",
       "                  Financials                   Healthcare \n",
       "               \"IDX Finance\"             \"IDX Healthcare\" \n",
       "                 Industrials              Infrastructures \n",
       "           \"IDX Industrials\"         \"IDX Infrastructure\" \n",
       "    Properties & Real Estate                   Technology \n",
       "        \"IDX Infrastructure\"             \"IDX Technology\" \n",
       "   Transportation & Logistic \n",
       "        \"IDX Transportation\" "
      ]
     },
     "metadata": {},
     "output_type": "display_data"
    }
   ],
   "source": [
    "sector_index_map = c(\n",
    "    \"Basic Materials\",\n",
    "    \"Consumer Cyclicals\",\n",
    "    \"Consumer Non-Cyclicals\",\n",
    "    \"Energy\",\n",
    "    \"Financials\",\n",
    "    \"Healthcare\",\n",
    "    \"Industrials\",\n",
    "    \"Infrastructures\",\n",
    "    \"Properties & Real Estate\",\n",
    "    \"Technology\",\n",
    "    \"Transportation & Logistic\"\n",
    ")\n",
    "sector_index_map = setNames(c(\n",
    "    \"IDX Basic Materials\",\n",
    "    \"IDX Consumer Cyclical\",\n",
    "    \"IDX Consumer Non-Cyclicals\",\n",
    "    \"IDX Energy\",\n",
    "    \"IDX Finance\",\n",
    "    \"IDX Healthcare\",\n",
    "    \"IDX Industrials\",\n",
    "    \"IDX Infrastructure\",\n",
    "    \"IDX Infrastructure\",\n",
    "    \"IDX Technology\",\n",
    "    \"IDX Transportation\"\n",
    "    ),\n",
    "    sector_index_map\n",
    ")\n",
    "sector_index_map"
   ]
  },
  {
   "cell_type": "code",
   "execution_count": 31,
   "id": "6d1c157d-ed74-46c8-a093-f10f013a8a71",
   "metadata": {
    "tags": []
   },
   "outputs": [
    {
     "data": {
      "text/html": [
       "<style>\n",
       ".dl-inline {width: auto; margin:0; padding: 0}\n",
       ".dl-inline>dt, .dl-inline>dd {float: none; width: auto; display: inline-block}\n",
       ".dl-inline>dt::after {content: \":\\0020\"; padding-right: .5ex}\n",
       ".dl-inline>dt:not(:first-of-type) {padding-left: .5ex}\n",
       "</style><dl class=dl-inline><dt>AALI</dt><dd>'IDX Consumer Non-Cyclicals'</dd><dt>ABBA</dt><dd>'IDX Consumer Cyclical'</dd><dt>ABDA</dt><dd>'IDX Finance'</dd><dt>ABMM</dt><dd>'IDX Energy'</dd><dt>ACES</dt><dd>'IDX Consumer Cyclical'</dd><dt>ACST</dt><dd>'IDX Infrastructure'</dd><dt>ADCP</dt><dd>'IDX Infrastructure'</dd><dt>ADES</dt><dd>'IDX Consumer Non-Cyclicals'</dd><dt>ADHI</dt><dd>'IDX Infrastructure'</dd><dt>ADMF</dt><dd>'IDX Finance'</dd><dt>ADMG</dt><dd>'IDX Basic Materials'</dd><dt>ADMR</dt><dd>'IDX Energy'</dd><dt>ADRO</dt><dd>'IDX Energy'</dd><dt>AEGS</dt><dd>'IDX Consumer Cyclical'</dd><dt>AGAR</dt><dd>'IDX Consumer Non-Cyclicals'</dd><dt>AGII</dt><dd>'IDX Basic Materials'</dd><dt>AGRO</dt><dd>'IDX Finance'</dd><dt>AGRS</dt><dd>'IDX Finance'</dd><dt>AHAP</dt><dd>'IDX Finance'</dd><dt>AIMS</dt><dd>'IDX Energy'</dd></dl>\n"
      ],
      "text/latex": [
       "\\begin{description*}\n",
       "\\item[AALI] 'IDX Consumer Non-Cyclicals'\n",
       "\\item[ABBA] 'IDX Consumer Cyclical'\n",
       "\\item[ABDA] 'IDX Finance'\n",
       "\\item[ABMM] 'IDX Energy'\n",
       "\\item[ACES] 'IDX Consumer Cyclical'\n",
       "\\item[ACST] 'IDX Infrastructure'\n",
       "\\item[ADCP] 'IDX Infrastructure'\n",
       "\\item[ADES] 'IDX Consumer Non-Cyclicals'\n",
       "\\item[ADHI] 'IDX Infrastructure'\n",
       "\\item[ADMF] 'IDX Finance'\n",
       "\\item[ADMG] 'IDX Basic Materials'\n",
       "\\item[ADMR] 'IDX Energy'\n",
       "\\item[ADRO] 'IDX Energy'\n",
       "\\item[AEGS] 'IDX Consumer Cyclical'\n",
       "\\item[AGAR] 'IDX Consumer Non-Cyclicals'\n",
       "\\item[AGII] 'IDX Basic Materials'\n",
       "\\item[AGRO] 'IDX Finance'\n",
       "\\item[AGRS] 'IDX Finance'\n",
       "\\item[AHAP] 'IDX Finance'\n",
       "\\item[AIMS] 'IDX Energy'\n",
       "\\end{description*}\n"
      ],
      "text/markdown": [
       "AALI\n",
       ":   'IDX Consumer Non-Cyclicals'ABBA\n",
       ":   'IDX Consumer Cyclical'ABDA\n",
       ":   'IDX Finance'ABMM\n",
       ":   'IDX Energy'ACES\n",
       ":   'IDX Consumer Cyclical'ACST\n",
       ":   'IDX Infrastructure'ADCP\n",
       ":   'IDX Infrastructure'ADES\n",
       ":   'IDX Consumer Non-Cyclicals'ADHI\n",
       ":   'IDX Infrastructure'ADMF\n",
       ":   'IDX Finance'ADMG\n",
       ":   'IDX Basic Materials'ADMR\n",
       ":   'IDX Energy'ADRO\n",
       ":   'IDX Energy'AEGS\n",
       ":   'IDX Consumer Cyclical'AGAR\n",
       ":   'IDX Consumer Non-Cyclicals'AGII\n",
       ":   'IDX Basic Materials'AGRO\n",
       ":   'IDX Finance'AGRS\n",
       ":   'IDX Finance'AHAP\n",
       ":   'IDX Finance'AIMS\n",
       ":   'IDX Energy'\n",
       "\n"
      ],
      "text/plain": [
       "                        AALI                         ABBA \n",
       "\"IDX Consumer Non-Cyclicals\"      \"IDX Consumer Cyclical\" \n",
       "                        ABDA                         ABMM \n",
       "               \"IDX Finance\"                 \"IDX Energy\" \n",
       "                        ACES                         ACST \n",
       "     \"IDX Consumer Cyclical\"         \"IDX Infrastructure\" \n",
       "                        ADCP                         ADES \n",
       "        \"IDX Infrastructure\" \"IDX Consumer Non-Cyclicals\" \n",
       "                        ADHI                         ADMF \n",
       "        \"IDX Infrastructure\"                \"IDX Finance\" \n",
       "                        ADMG                         ADMR \n",
       "       \"IDX Basic Materials\"                 \"IDX Energy\" \n",
       "                        ADRO                         AEGS \n",
       "                \"IDX Energy\"      \"IDX Consumer Cyclical\" \n",
       "                        AGAR                         AGII \n",
       "\"IDX Consumer Non-Cyclicals\"        \"IDX Basic Materials\" \n",
       "                        AGRO                         AGRS \n",
       "               \"IDX Finance\"                \"IDX Finance\" \n",
       "                        AHAP                         AIMS \n",
       "               \"IDX Finance\"                 \"IDX Energy\" "
      ]
     },
     "metadata": {},
     "output_type": "display_data"
    },
    {
     "data": {
      "text/html": [
       "0"
      ],
      "text/latex": [
       "0"
      ],
      "text/markdown": [
       "0"
      ],
      "text/plain": [
       "[1] 0"
      ]
     },
     "metadata": {},
     "output_type": "display_data"
    }
   ],
   "source": [
    "firm_sector_map = readxl::read_xlsx('data/IDX_Ticker_And_Sector_2023.xlsx')\n",
    "firm_sector_map = setNames(firm_sector_map$Sektor, firm_sector_map$Kode)\n",
    "\n",
    "firm_index_map = setNames(sector_index_map[firm_sector_map], names(firm_sector_map))\n",
    "firm_index_map['TRUEX'] = firm_index_map['TRUE']\n",
    "\n",
    "head(firm_index_map, 20)\n",
    "sum(is.na(firm_index_map[unique(firm_dates$firm)]))"
   ]
  },
  {
   "cell_type": "markdown",
   "id": "852a0d14-0096-4ce9-90a1-f6da38a9606d",
   "metadata": {},
   "source": [
    "## CausalImpact"
   ]
  },
  {
   "cell_type": "code",
   "execution_count": 40,
   "id": "59fdc0df-7ef1-48db-9508-defafee2c80c",
   "metadata": {
    "tags": []
   },
   "outputs": [],
   "source": [
    "get_date_index = function(dt, date_col) {\n",
    "    testit::assert(length(dt) == 1)\n",
    "    testit::assert(length(date_col) >= 1)\n",
    "    \n",
    "    dt = as.Date(dt)\n",
    "    if (class(date_col) != 'Date') {\n",
    "        date_col = as.Date(date_col)\n",
    "    }\n",
    "    \n",
    "    max_dt = max(date_col)\n",
    "    if ((dt > max_dt) | (dt < min(date_col))) {\n",
    "        return(0)\n",
    "    }\n",
    "    \n",
    "    while (dt <= max_dt) {\n",
    "        idx = which(date_col == dt)\n",
    "        if (length(idx) > 0) {\n",
    "            return(idx)\n",
    "        }\n",
    "        \n",
    "        dt = dt + 1\n",
    "    }\n",
    "    return(0)\n",
    "}\n",
    "\n",
    "\n",
    "get_series = function(dt, date_col, x, n_pre=66, n_post=5) {\n",
    "    testit::assert(n_post >= 1)\n",
    "    testit::assert(n_pre >= 3)\n",
    "    \n",
    "    if (length(x) < n_pre + n_post) {\n",
    "        return()\n",
    "    }\n",
    "    \n",
    "    idx = get_date_index(dt, date_col)\n",
    "    if (idx == 0) {\n",
    "        return()\n",
    "    }\n",
    "    \n",
    "    pre = x[max(idx - n_pre, 1):(idx - 1)]\n",
    "    post = x[idx : min(idx + n_post - 1, length(x))]\n",
    "    \n",
    "    if ((length(pre) < n_pre) | (length(post) < n_post)) {\n",
    "        return()\n",
    "    }\n",
    "    \n",
    "    pre = zoo::zoo(pre, date_col[max(idx - n_pre, 1):(idx - 1)])\n",
    "    post = zoo::zoo(post, date_col[idx : min(idx + n_post - 1, length(x))])\n",
    "    \n",
    "    return(list(pre=pre, post=post, index=idx, date=date_col[idx]))\n",
    "}\n",
    "\n",
    "run_causalimpact = function(obs_id, date, date_col, n_pre, n_post, X=NULL, select_data=NULL, normalize=NULL, controls=c(), causalimpact_args=list(), metadata=list()) {\n",
    "    # controls: sectoral_price, sectoral_return, sectoral_volatility\n",
    "    cat(obs_id); cat(date); cat('  '); flush.console()\n",
    "    \n",
    "    testit::assert(!is.null(X) | !is.null(select_data))\n",
    "    empty_result = list(obs_id=obs_id, event_date=date, metadata=metadata)\n",
    "    \n",
    "    if (is.null(select_data)) {\n",
    "        testit::assert(obs_id %in% names(X))\n",
    "        testit::assert(nrow(X) > n_pre + n_post)\n",
    "        testit::assert(nrow(X) == length(date_col))\n",
    "        \n",
    "        series = get_series(date, date_col, X[[obs_id]], n_pre=n_pre, n_post=n_post)\n",
    "        dates = zoo::index(c(series$pre, series$post))\n",
    "        data = as.data.frame(c(series$pre, series$post))\n",
    "        names(data) = obs_id\n",
    "        data = zoo::zoo(data, dates)\n",
    "    } else {\n",
    "        data = select_data(obs_id, date, n_pre=n_pre, n_post=n_post)\n",
    "        dates = zoo::index(data)\n",
    "    }\n",
    "    testit::assert(nrow(data) == n_pre + n_post)\n",
    "    \n",
    "    if (!is.null(normalize)) {\n",
    "        if (is.function(normalize)) {\n",
    "            data[,obs_id] = normalize(data[,obs_id])\n",
    "        } else {\n",
    "            testit::assert(normalize %in% c('standardize', '1_mean'))\n",
    "            \n",
    "            if (normalize == 'standardize') {\n",
    "                m = mean(data[1:n_pre, obs_id], na.rm=TRUE)\n",
    "                s = sd(data[1:n_pre, obs_id], na.rm=TRUE)    # s can be 0 --> CI won't run --> this result will be ignored\n",
    "                \n",
    "                if (is.na(s) | (s == 0)) { return(empty_result) }\n",
    "                data[,obs_id] = (data[,obs_id] - m) / s\n",
    "\n",
    "            } else if (normalize == '1_mean') {\n",
    "                m = mean(data[1:n_pre, obs_id], na.rm=TRUE)    # m can be 0 --> CI won't run --> this result will be ignored\n",
    "                \n",
    "                if (is.na(m) | (m == 0)) { return(empty_result) }\n",
    "                data[,obs_id] = data[,obs_id]/m\n",
    "            }\n",
    "        }\n",
    "    }\n",
    "    \n",
    "    pre_period = c(dates[1], dates[n_pre])\n",
    "    post_period = c(dates[n_pre + 1], dates[nrow(data)])\n",
    "    \n",
    "    if (date >= '2021-05-01') {\n",
    "        sector_idx = firm_index_map[obs_id]\n",
    "        Xc = df_sectoral %>% filter(Index==sector_idx)\n",
    "        \n",
    "        for (cs in c('sectoral_price', 'sectoral_return', 'sectoral_volatility')) {\n",
    "            if (cs %in% controls) {\n",
    "                if (cs == 'sectoral_price') {\n",
    "                    xc = Xc$Price\n",
    "                } else if (cs == 'sectoral_return') {\n",
    "                    xc = Xc$Price / Xc$Open - 1\n",
    "                } else if (cs == 'sectoral_volatility') {\n",
    "                    xc = abs(Xc$Price / Xc$Open - 1)\n",
    "                }\n",
    "                \n",
    "                xc = setNames(xc, Xc$Date)\n",
    "                xc = xc[as.character(dates[1:nrow(data)])]\n",
    "                \n",
    "                if (cs %in% c('sectoral_price')) {\n",
    "                    xc = xc / min(xc[1:n_pre])    # normalize\n",
    "                }\n",
    "                \n",
    "                data = cbind(data, xc)\n",
    "                colnames(data)[ncol(data)] = paste0('control_', cs)\n",
    "            }\n",
    "        }\n",
    "    }\n",
    "    \n",
    "    ci_args = causalimpact_args\n",
    "    \n",
    "    model = CausalImpact::CausalImpact(data, pre.period=pre_period, post.period=post_period, model.args=list(\n",
    "        standardize.data=ci_args$model$standardize.data, nseasons=ci_args$model$nseasons, season.duration=ci_args$model$season.duration))\n",
    "    \n",
    "    model$obs_id = obs_id\n",
    "    model$event_date = date\n",
    "    model$metadata = metadata\n",
    "    \n",
    "    return(model)\n",
    "}\n",
    "\n",
    "concat_causalimpact_series = function(ci_results) {\n",
    "    return(\n",
    "        bind_rows(\n",
    "            lapply(ci_results, function(x) {\n",
    "                if (is.null(x$series)) { return() }\n",
    "                \n",
    "                obs_id = x$obs_id\n",
    "                evt_date = x$event_date\n",
    "                \n",
    "                x = as.data.frame(x$series)\n",
    "                x$obs_id = obs_id\n",
    "                x$event_date = evt_date\n",
    "                x$date = as.Date(rownames(x))\n",
    "                rownames(x) = 1:nrow(x)\n",
    "                \n",
    "                return(x)\n",
    "        }))\n",
    "    )\n",
    "}\n",
    "\n",
    "concat_causalimpact_summary = function(ci_results, is_avg=TRUE) {\n",
    "    if (length(ci_results) == 0) { return() }\n",
    "    \n",
    "    if (is_avg) { col = 'Average' }\n",
    "    else { col = 'Cumulative' }\n",
    "    \n",
    "    df_result = bind_rows(lapply(ci_results, function(x) if(is.null(x$summary)) data.frame(matrix(nrow=1, ncol=0)) else x$summary[col,]))\n",
    "    df_result$obs_id = purrr::map_chr(ci_results, purrr::pluck, 'obs_id')\n",
    "    df_result$event_date = purrr::map_vec(ci_results, purrr::pluck, 'event_date')\n",
    "    \n",
    "    df_metadata = bind_rows(purrr::map(ci_results, purrr::pluck, 'metadata'))\n",
    "    df_result = bind_cols(df_result, df_metadata)\n",
    "    \n",
    "    df_result = df_result %>% filter(!is.na(p))    # null: if series is ill-defined e.g. normalized with 0 sd\n",
    "    rownames(df_result) = 1:nrow(df_result)\n",
    "    return(df_result)\n",
    "}"
   ]
  },
  {
   "cell_type": "markdown",
   "id": "0e8366ba-466b-438b-87b8-2fa6d81bbf3c",
   "metadata": {},
   "source": [
    "### Random dates"
   ]
  },
  {
   "cell_type": "code",
   "execution_count": 24,
   "id": "fd4c6b36-efea-41c8-aab1-fef6764d47fe",
   "metadata": {
    "tags": []
   },
   "outputs": [
    {
     "name": "stdout",
     "output_type": "stream",
     "text": [
      "[1] 0\n",
      "[1] 0\n",
      "[1] 0\n",
      "[1] 0\n",
      "[1] 0\n",
      "[1] 0\n",
      "[1] 0\n",
      "[1] 0\n"
     ]
    },
    {
     "data": {
      "text/html": [
       "<table class=\"dataframe\">\n",
       "<caption>A tibble: 6 × 5</caption>\n",
       "<thead>\n",
       "\t<tr><th scope=col>firm</th><th scope=col>n</th><th scope=col>max_score</th><th scope=col>sum_score</th><th scope=col>date</th></tr>\n",
       "\t<tr><th scope=col>&lt;chr&gt;</th><th scope=col>&lt;int&gt;</th><th scope=col>&lt;dbl&gt;</th><th scope=col>&lt;dbl&gt;</th><th scope=col>&lt;date&gt;</th></tr>\n",
       "</thead>\n",
       "<tbody>\n",
       "\t<tr><td>AALI</td><td>1</td><td>0.7055333</td><td>0.7055333</td><td>2016-07-01</td></tr>\n",
       "\t<tr><td>AALI</td><td>1</td><td>0.7534191</td><td>0.7534191</td><td>2016-07-07</td></tr>\n",
       "\t<tr><td>AALI</td><td>1</td><td>0.7116593</td><td>0.7116593</td><td>2016-11-07</td></tr>\n",
       "\t<tr><td>AALI</td><td>1</td><td>0.6993880</td><td>0.6993880</td><td>2016-07-30</td></tr>\n",
       "\t<tr><td>AALI</td><td>1</td><td>0.8159519</td><td>0.8159519</td><td>2016-10-12</td></tr>\n",
       "\t<tr><td>AALI</td><td>1</td><td>0.7363428</td><td>0.7363428</td><td>2016-12-21</td></tr>\n",
       "</tbody>\n",
       "</table>\n"
      ],
      "text/latex": [
       "A tibble: 6 × 5\n",
       "\\begin{tabular}{lllll}\n",
       " firm & n & max\\_score & sum\\_score & date\\\\\n",
       " <chr> & <int> & <dbl> & <dbl> & <date>\\\\\n",
       "\\hline\n",
       "\t AALI & 1 & 0.7055333 & 0.7055333 & 2016-07-01\\\\\n",
       "\t AALI & 1 & 0.7534191 & 0.7534191 & 2016-07-07\\\\\n",
       "\t AALI & 1 & 0.7116593 & 0.7116593 & 2016-11-07\\\\\n",
       "\t AALI & 1 & 0.6993880 & 0.6993880 & 2016-07-30\\\\\n",
       "\t AALI & 1 & 0.8159519 & 0.8159519 & 2016-10-12\\\\\n",
       "\t AALI & 1 & 0.7363428 & 0.7363428 & 2016-12-21\\\\\n",
       "\\end{tabular}\n"
      ],
      "text/markdown": [
       "\n",
       "A tibble: 6 × 5\n",
       "\n",
       "| firm &lt;chr&gt; | n &lt;int&gt; | max_score &lt;dbl&gt; | sum_score &lt;dbl&gt; | date &lt;date&gt; |\n",
       "|---|---|---|---|---|\n",
       "| AALI | 1 | 0.7055333 | 0.7055333 | 2016-07-01 |\n",
       "| AALI | 1 | 0.7534191 | 0.7534191 | 2016-07-07 |\n",
       "| AALI | 1 | 0.7116593 | 0.7116593 | 2016-11-07 |\n",
       "| AALI | 1 | 0.6993880 | 0.6993880 | 2016-07-30 |\n",
       "| AALI | 1 | 0.8159519 | 0.8159519 | 2016-10-12 |\n",
       "| AALI | 1 | 0.7363428 | 0.7363428 | 2016-12-21 |\n",
       "\n"
      ],
      "text/plain": [
       "  firm n max_score sum_score date      \n",
       "1 AALI 1 0.7055333 0.7055333 2016-07-01\n",
       "2 AALI 1 0.7534191 0.7534191 2016-07-07\n",
       "3 AALI 1 0.7116593 0.7116593 2016-11-07\n",
       "4 AALI 1 0.6993880 0.6993880 2016-07-30\n",
       "5 AALI 1 0.8159519 0.8159519 2016-10-12\n",
       "6 AALI 1 0.7363428 0.7363428 2016-12-21"
      ]
     },
     "metadata": {},
     "output_type": "display_data"
    }
   ],
   "source": [
    "set.seed(567890)\n",
    "\n",
    "random_fdates_list = list()\n",
    "for (y in 2016:2023) {\n",
    "    random_fdates = firm_dates %>% filter(lubridate::year(date) == y) %>% ungroup()\n",
    "    \n",
    "    dates_in_year = seq(as.Date(paste0(y, '-01-01')), as.Date(paste0(y, '-12-31')), by='1 day')\n",
    "    dates_in_year = dates_in_year[dates_in_year <= max(firm_dates$date)]\n",
    "    random_dates = c()\n",
    "\n",
    "    for (i_firm in unique(random_fdates$firm)) {\n",
    "        random_fdates_firm = random_fdates %>% filter(firm==i_firm)\n",
    "        random_dates = c(random_dates, sample(setdiff(dates_in_year, random_fdates_firm$date), size=nrow(random_fdates_firm), replace=FALSE))\n",
    "    }\n",
    "    random_dates = as.Date(random_dates, origin='1970-01-01')\n",
    "    random_fdates = random_fdates %>% mutate(random_date=random_dates)\n",
    "    \n",
    "    print(nrow(random_fdates %>% inner_join(random_fdates %>% select(firm, random_date) %>% rename(date=random_date), by=c('firm', 'date'))))\n",
    "    random_fdates_list = c(random_fdates_list, list(random_fdates))\n",
    "}\n",
    "\n",
    "random_fdates = bind_rows(random_fdates_list) %>% select(-c('date')) %>% rename(date=random_date)\n",
    "head(random_fdates)"
   ]
  },
  {
   "cell_type": "code",
   "execution_count": 25,
   "id": "587cb04e-a01f-4197-8440-915f04a412ed",
   "metadata": {
    "tags": []
   },
   "outputs": [
    {
     "data": {
      "text/html": [
       "TRUE"
      ],
      "text/latex": [
       "TRUE"
      ],
      "text/markdown": [
       "TRUE"
      ],
      "text/plain": [
       "[1] TRUE"
      ]
     },
     "metadata": {},
     "output_type": "display_data"
    },
    {
     "data": {
      "text/html": [
       "TRUE"
      ],
      "text/latex": [
       "TRUE"
      ],
      "text/markdown": [
       "TRUE"
      ],
      "text/plain": [
       "[1] TRUE"
      ]
     },
     "metadata": {},
     "output_type": "display_data"
    },
    {
     "data": {
      "text/html": [
       "<table class=\"dataframe\">\n",
       "<caption>A grouped_df: 0 × 5</caption>\n",
       "<thead>\n",
       "\t<tr><th scope=col>firm</th><th scope=col>date</th><th scope=col>n</th><th scope=col>max_score</th><th scope=col>sum_score</th></tr>\n",
       "\t<tr><th scope=col>&lt;chr&gt;</th><th scope=col>&lt;date&gt;</th><th scope=col>&lt;int&gt;</th><th scope=col>&lt;dbl&gt;</th><th scope=col>&lt;dbl&gt;</th></tr>\n",
       "</thead>\n",
       "<tbody>\n",
       "</tbody>\n",
       "</table>\n"
      ],
      "text/latex": [
       "A grouped\\_df: 0 × 5\n",
       "\\begin{tabular}{lllll}\n",
       " firm & date & n & max\\_score & sum\\_score\\\\\n",
       " <chr> & <date> & <int> & <dbl> & <dbl>\\\\\n",
       "\\hline\n",
       "\\end{tabular}\n"
      ],
      "text/markdown": [
       "\n",
       "A grouped_df: 0 × 5\n",
       "\n",
       "| firm &lt;chr&gt; | date &lt;date&gt; | n &lt;int&gt; | max_score &lt;dbl&gt; | sum_score &lt;dbl&gt; |\n",
       "|---|---|---|---|---|\n",
       "\n"
      ],
      "text/plain": [
       "     firm date n max_score sum_score"
      ]
     },
     "metadata": {},
     "output_type": "display_data"
    }
   ],
   "source": [
    "all(table(lubridate::year(random_fdates$date)) == table(lubridate::year(firm_dates$date)))\n",
    "all(table(random_fdates$firm) == table(firm_dates$firm))\n",
    "firm_dates %>% inner_join(random_fdates %>% select(firm, date), by=c('firm', 'date'))"
   ]
  },
  {
   "cell_type": "markdown",
   "id": "40e13aae-3f0f-409c-a0a0-189c0995c4a8",
   "metadata": {},
   "source": [
    "## Run"
   ]
  },
  {
   "cell_type": "code",
   "execution_count": null,
   "id": "8bb3c097-c475-4916-beef-6b7e82a77ee4",
   "metadata": {},
   "outputs": [],
   "source": [
    "conf_name\n",
    "conf"
   ]
  },
  {
   "cell_type": "code",
   "execution_count": null,
   "id": "e647a1fb-6904-4ab7-ba09-8d2a00c19bd5",
   "metadata": {},
   "outputs": [],
   "source": [
    "if (conf$dummy) {\n",
    "    fdates = random_fdates\n",
    "} else {\n",
    "    fdates = firm_dates\n",
    "}\n",
    "head(fdates)"
   ]
  },
  {
   "cell_type": "code",
   "execution_count": null,
   "id": "4d19c2ab-0328-4a11-9a82-24d451a9d1e1",
   "metadata": {},
   "outputs": [],
   "source": [
    "years = 2016:2023\n",
    "\n",
    "for (y in years) {\n",
    "    print(y)\n",
    "    fdy = fdates %>% filter(lubridate::year(date) == y)\n",
    "    \n",
    "    results = purrr::pmap(fdy, function(firm, date, n, max_score, sum_score)\n",
    "        run_causalimpact(firm, date,\n",
    "            X=stock_vol, date_col=stock_vol$date,\n",
    "            n_pre=conf$n_pre, n_post=conf$n_post,\n",
    "            normalize=conf$normalize, causalimpact_args=conf$causalimpact,\n",
    "            controls=conf$controls,\n",
    "            metadata=list(n_events=n, max_score=max_score, sum_score=sum_score),\n",
    "            )\n",
    "        )\n",
    "    \n",
    "    ci_summary_avg = concat_causalimpact_summary(results, is_avg=TRUE)\n",
    "    ci_summary_cum = concat_causalimpact_summary(results, is_avg=FALSE)\n",
    "    ci_series = concat_causalimpact_series(results)\n",
    "    \n",
    "    write.csv(ci_summary_avg, file=sprintf('results/%s/ci_summary_avg_%d.csv', conf_name, y), na='', quote=FALSE, row.names=FALSE)\n",
    "    write.csv(ci_summary_cum, file=sprintf('results/%s/ci_summary_cum_%d.csv', conf_name, y), na='', quote=FALSE, row.names=FALSE)\n",
    "    write.csv(ci_series, file=sprintf('results/%s/ci_series_%d.csv' , conf_name, y), na='', quote=FALSE, row.names=FALSE)\n",
    "}\n",
    "\n",
    "for (col in c('avg', 'cum')) {\n",
    "    z = bind_rows(lapply(2016:2023, function(x) read.csv(sprintf('results/%s/ci_summary_%s_%d.csv', conf_name, col, x))))\n",
    "    write.csv(z, sprintf('results/%s/ci_summary_%s.csv', conf_name, col), na='', quote=FALSE, row.names=FALSE)\n",
    "}"
   ]
  }
 ],
 "metadata": {
  "kernelspec": {
   "display_name": "R",
   "language": "R",
   "name": "ir"
  },
  "language_info": {
   "codemirror_mode": "r",
   "file_extension": ".r",
   "mimetype": "text/x-r-source",
   "name": "R",
   "pygments_lexer": "r",
   "version": "4.1.3"
  }
 },
 "nbformat": 4,
 "nbformat_minor": 5
}
