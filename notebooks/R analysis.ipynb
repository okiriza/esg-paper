{
 "cells": [
  {
   "cell_type": "code",
   "execution_count": 1,
   "id": "6dc82850-3026-43bc-b724-f3a6ac245d6a",
   "metadata": {
    "tags": []
   },
   "outputs": [],
   "source": [
    "setwd('..')"
   ]
  },
  {
   "cell_type": "code",
   "execution_count": 3,
   "id": "14c37a91-ae4e-4bb6-af02-55a6eef51e8c",
   "metadata": {
    "tags": []
   },
   "outputs": [
    {
     "name": "stderr",
     "output_type": "stream",
     "text": [
      "\n",
      "Attaching package: 'dplyr'\n",
      "\n",
      "\n",
      "The following objects are masked from 'package:stats':\n",
      "\n",
      "    filter, lag\n",
      "\n",
      "\n",
      "The following objects are masked from 'package:base':\n",
      "\n",
      "    intersect, setdiff, setequal, union\n",
      "\n",
      "\n"
     ]
    }
   ],
   "source": [
    "library(dplyr)"
   ]
  },
  {
   "cell_type": "code",
   "execution_count": 4,
   "id": "9a62e27c-fc5a-4a0f-9fec-0ee52b40885a",
   "metadata": {
    "tags": []
   },
   "outputs": [],
   "source": [
    "years = 2016:2023\n",
    "conf_name = '20240216-5'"
   ]
  },
  {
   "cell_type": "markdown",
   "id": "74186728-6464-4952-a172-e22a81c9096d",
   "metadata": {},
   "source": [
    "## Read data"
   ]
  },
  {
   "cell_type": "code",
   "execution_count": 19,
   "id": "3a88287a-a93c-477c-b552-86e7a850ed8a",
   "metadata": {
    "tags": []
   },
   "outputs": [
    {
     "data": {
      "text/html": [
       "<style>\n",
       ".list-inline {list-style: none; margin:0; padding: 0}\n",
       ".list-inline>li {display: inline-block}\n",
       ".list-inline>li:not(:last-child)::after {content: \"\\00b7\"; padding: 0 .5ex}\n",
       "</style>\n",
       "<ol class=list-inline><li>18431</li><li>20</li></ol>\n"
      ],
      "text/latex": [
       "\\begin{enumerate*}\n",
       "\\item 18431\n",
       "\\item 20\n",
       "\\end{enumerate*}\n"
      ],
      "text/markdown": [
       "1. 18431\n",
       "2. 20\n",
       "\n",
       "\n"
      ],
      "text/plain": [
       "[1] 18431    20"
      ]
     },
     "metadata": {},
     "output_type": "display_data"
    },
    {
     "data": {
      "text/html": [
       "<table class=\"dataframe\">\n",
       "<caption>A data.frame: 6 × 20</caption>\n",
       "<thead>\n",
       "\t<tr><th></th><th scope=col>Actual</th><th scope=col>Pred</th><th scope=col>Pred.lower</th><th scope=col>Pred.upper</th><th scope=col>Pred.sd</th><th scope=col>AbsEffect</th><th scope=col>AbsEffect.lower</th><th scope=col>AbsEffect.upper</th><th scope=col>AbsEffect.sd</th><th scope=col>RelEffect</th><th scope=col>RelEffect.lower</th><th scope=col>RelEffect.upper</th><th scope=col>RelEffect.sd</th><th scope=col>alpha</th><th scope=col>p</th><th scope=col>obs_id</th><th scope=col>event_date</th><th scope=col>n_events</th><th scope=col>max_score</th><th scope=col>sum_score</th></tr>\n",
       "\t<tr><th></th><th scope=col>&lt;dbl&gt;</th><th scope=col>&lt;dbl&gt;</th><th scope=col>&lt;dbl&gt;</th><th scope=col>&lt;dbl&gt;</th><th scope=col>&lt;dbl&gt;</th><th scope=col>&lt;dbl&gt;</th><th scope=col>&lt;dbl&gt;</th><th scope=col>&lt;dbl&gt;</th><th scope=col>&lt;dbl&gt;</th><th scope=col>&lt;dbl&gt;</th><th scope=col>&lt;dbl&gt;</th><th scope=col>&lt;dbl&gt;</th><th scope=col>&lt;dbl&gt;</th><th scope=col>&lt;dbl&gt;</th><th scope=col>&lt;dbl&gt;</th><th scope=col>&lt;chr&gt;</th><th scope=col>&lt;chr&gt;</th><th scope=col>&lt;int&gt;</th><th scope=col>&lt;dbl&gt;</th><th scope=col>&lt;dbl&gt;</th></tr>\n",
       "</thead>\n",
       "<tbody>\n",
       "\t<tr><th scope=row>1</th><td>0.8687154</td><td>0.9986452</td><td>0.3831622</td><td>1.632240</td><td>0.3158630</td><td>-0.12992989</td><td>-0.7635249</td><td>0.4855532</td><td>0.3158630</td><td>-0.04878256</td><td>-0.4699611</td><td>1.2395421</td><td>0.8940162</td><td>0.05</td><td>0.3138462</td><td>AALI</td><td>2016-01-05</td><td>1</td><td>0.7055333</td><td>0.7055333</td></tr>\n",
       "\t<tr><th scope=row>2</th><td>0.9125030</td><td>1.0295840</td><td>0.3104252</td><td>1.714852</td><td>0.3778008</td><td>-0.11708100</td><td>-0.8023490</td><td>0.6020778</td><td>0.3778008</td><td>-0.08958057</td><td>-0.4705635</td><td>1.8153162</td><td>6.2009318</td><td>0.05</td><td>0.3956159</td><td>AALI</td><td>2016-03-14</td><td>1</td><td>0.7534191</td><td>0.7534191</td></tr>\n",
       "\t<tr><th scope=row>3</th><td>0.9591118</td><td>0.9945437</td><td>0.2731302</td><td>1.741315</td><td>0.3696962</td><td>-0.03543194</td><td>-0.7822036</td><td>0.6859816</td><td>0.3696962</td><td> 0.28002031</td><td>-0.4528748</td><td>2.3188671</td><td>2.2395958</td><td>0.05</td><td>0.4754300</td><td>AALI</td><td>2016-04-13</td><td>1</td><td>0.7116593</td><td>0.7116593</td></tr>\n",
       "\t<tr><th scope=row>4</th><td>0.9591118</td><td>0.9945437</td><td>0.3284059</td><td>1.714351</td><td>0.3474891</td><td>-0.03543194</td><td>-0.7552394</td><td>0.6307058</td><td>0.3474891</td><td> 0.13845476</td><td>-0.4405395</td><td>1.9210084</td><td>0.7573462</td><td>0.05</td><td>0.4312039</td><td>AALI</td><td>2016-04-14</td><td>1</td><td>0.6993880</td><td>0.6993880</td></tr>\n",
       "\t<tr><th scope=row>5</th><td>0.7238977</td><td>1.0005072</td><td>0.2951317</td><td>1.623820</td><td>0.3420472</td><td>-0.27660957</td><td>-0.8999218</td><td>0.4287659</td><td>0.3420472</td><td> 0.14348789</td><td>-0.5575325</td><td>1.2943987</td><td>9.3909166</td><td>0.05</td><td>0.2214212</td><td>AALI</td><td>2016-04-25</td><td>1</td><td>0.8159519</td><td>0.8159519</td></tr>\n",
       "\t<tr><th scope=row>6</th><td>0.6686964</td><td>0.9907027</td><td>0.3192312</td><td>1.656398</td><td>0.3498839</td><td>-0.32200627</td><td>-0.9877013</td><td>0.3494652</td><td>0.3498839</td><td>-0.28581358</td><td>-0.6133736</td><td>0.8777734</td><td>2.7191069</td><td>0.05</td><td>0.1893861</td><td>AALI</td><td>2016-05-03</td><td>1</td><td>0.7363428</td><td>0.7363428</td></tr>\n",
       "</tbody>\n",
       "</table>\n"
      ],
      "text/latex": [
       "A data.frame: 6 × 20\n",
       "\\begin{tabular}{r|llllllllllllllllllll}\n",
       "  & Actual & Pred & Pred.lower & Pred.upper & Pred.sd & AbsEffect & AbsEffect.lower & AbsEffect.upper & AbsEffect.sd & RelEffect & RelEffect.lower & RelEffect.upper & RelEffect.sd & alpha & p & obs\\_id & event\\_date & n\\_events & max\\_score & sum\\_score\\\\\n",
       "  & <dbl> & <dbl> & <dbl> & <dbl> & <dbl> & <dbl> & <dbl> & <dbl> & <dbl> & <dbl> & <dbl> & <dbl> & <dbl> & <dbl> & <dbl> & <chr> & <chr> & <int> & <dbl> & <dbl>\\\\\n",
       "\\hline\n",
       "\t1 & 0.8687154 & 0.9986452 & 0.3831622 & 1.632240 & 0.3158630 & -0.12992989 & -0.7635249 & 0.4855532 & 0.3158630 & -0.04878256 & -0.4699611 & 1.2395421 & 0.8940162 & 0.05 & 0.3138462 & AALI & 2016-01-05 & 1 & 0.7055333 & 0.7055333\\\\\n",
       "\t2 & 0.9125030 & 1.0295840 & 0.3104252 & 1.714852 & 0.3778008 & -0.11708100 & -0.8023490 & 0.6020778 & 0.3778008 & -0.08958057 & -0.4705635 & 1.8153162 & 6.2009318 & 0.05 & 0.3956159 & AALI & 2016-03-14 & 1 & 0.7534191 & 0.7534191\\\\\n",
       "\t3 & 0.9591118 & 0.9945437 & 0.2731302 & 1.741315 & 0.3696962 & -0.03543194 & -0.7822036 & 0.6859816 & 0.3696962 &  0.28002031 & -0.4528748 & 2.3188671 & 2.2395958 & 0.05 & 0.4754300 & AALI & 2016-04-13 & 1 & 0.7116593 & 0.7116593\\\\\n",
       "\t4 & 0.9591118 & 0.9945437 & 0.3284059 & 1.714351 & 0.3474891 & -0.03543194 & -0.7552394 & 0.6307058 & 0.3474891 &  0.13845476 & -0.4405395 & 1.9210084 & 0.7573462 & 0.05 & 0.4312039 & AALI & 2016-04-14 & 1 & 0.6993880 & 0.6993880\\\\\n",
       "\t5 & 0.7238977 & 1.0005072 & 0.2951317 & 1.623820 & 0.3420472 & -0.27660957 & -0.8999218 & 0.4287659 & 0.3420472 &  0.14348789 & -0.5575325 & 1.2943987 & 9.3909166 & 0.05 & 0.2214212 & AALI & 2016-04-25 & 1 & 0.8159519 & 0.8159519\\\\\n",
       "\t6 & 0.6686964 & 0.9907027 & 0.3192312 & 1.656398 & 0.3498839 & -0.32200627 & -0.9877013 & 0.3494652 & 0.3498839 & -0.28581358 & -0.6133736 & 0.8777734 & 2.7191069 & 0.05 & 0.1893861 & AALI & 2016-05-03 & 1 & 0.7363428 & 0.7363428\\\\\n",
       "\\end{tabular}\n"
      ],
      "text/markdown": [
       "\n",
       "A data.frame: 6 × 20\n",
       "\n",
       "| <!--/--> | Actual &lt;dbl&gt; | Pred &lt;dbl&gt; | Pred.lower &lt;dbl&gt; | Pred.upper &lt;dbl&gt; | Pred.sd &lt;dbl&gt; | AbsEffect &lt;dbl&gt; | AbsEffect.lower &lt;dbl&gt; | AbsEffect.upper &lt;dbl&gt; | AbsEffect.sd &lt;dbl&gt; | RelEffect &lt;dbl&gt; | RelEffect.lower &lt;dbl&gt; | RelEffect.upper &lt;dbl&gt; | RelEffect.sd &lt;dbl&gt; | alpha &lt;dbl&gt; | p &lt;dbl&gt; | obs_id &lt;chr&gt; | event_date &lt;chr&gt; | n_events &lt;int&gt; | max_score &lt;dbl&gt; | sum_score &lt;dbl&gt; |\n",
       "|---|---|---|---|---|---|---|---|---|---|---|---|---|---|---|---|---|---|---|---|---|\n",
       "| 1 | 0.8687154 | 0.9986452 | 0.3831622 | 1.632240 | 0.3158630 | -0.12992989 | -0.7635249 | 0.4855532 | 0.3158630 | -0.04878256 | -0.4699611 | 1.2395421 | 0.8940162 | 0.05 | 0.3138462 | AALI | 2016-01-05 | 1 | 0.7055333 | 0.7055333 |\n",
       "| 2 | 0.9125030 | 1.0295840 | 0.3104252 | 1.714852 | 0.3778008 | -0.11708100 | -0.8023490 | 0.6020778 | 0.3778008 | -0.08958057 | -0.4705635 | 1.8153162 | 6.2009318 | 0.05 | 0.3956159 | AALI | 2016-03-14 | 1 | 0.7534191 | 0.7534191 |\n",
       "| 3 | 0.9591118 | 0.9945437 | 0.2731302 | 1.741315 | 0.3696962 | -0.03543194 | -0.7822036 | 0.6859816 | 0.3696962 |  0.28002031 | -0.4528748 | 2.3188671 | 2.2395958 | 0.05 | 0.4754300 | AALI | 2016-04-13 | 1 | 0.7116593 | 0.7116593 |\n",
       "| 4 | 0.9591118 | 0.9945437 | 0.3284059 | 1.714351 | 0.3474891 | -0.03543194 | -0.7552394 | 0.6307058 | 0.3474891 |  0.13845476 | -0.4405395 | 1.9210084 | 0.7573462 | 0.05 | 0.4312039 | AALI | 2016-04-14 | 1 | 0.6993880 | 0.6993880 |\n",
       "| 5 | 0.7238977 | 1.0005072 | 0.2951317 | 1.623820 | 0.3420472 | -0.27660957 | -0.8999218 | 0.4287659 | 0.3420472 |  0.14348789 | -0.5575325 | 1.2943987 | 9.3909166 | 0.05 | 0.2214212 | AALI | 2016-04-25 | 1 | 0.8159519 | 0.8159519 |\n",
       "| 6 | 0.6686964 | 0.9907027 | 0.3192312 | 1.656398 | 0.3498839 | -0.32200627 | -0.9877013 | 0.3494652 | 0.3498839 | -0.28581358 | -0.6133736 | 0.8777734 | 2.7191069 | 0.05 | 0.1893861 | AALI | 2016-05-03 | 1 | 0.7363428 | 0.7363428 |\n",
       "\n"
      ],
      "text/plain": [
       "  Actual    Pred      Pred.lower Pred.upper Pred.sd   AbsEffect  \n",
       "1 0.8687154 0.9986452 0.3831622  1.632240   0.3158630 -0.12992989\n",
       "2 0.9125030 1.0295840 0.3104252  1.714852   0.3778008 -0.11708100\n",
       "3 0.9591118 0.9945437 0.2731302  1.741315   0.3696962 -0.03543194\n",
       "4 0.9591118 0.9945437 0.3284059  1.714351   0.3474891 -0.03543194\n",
       "5 0.7238977 1.0005072 0.2951317  1.623820   0.3420472 -0.27660957\n",
       "6 0.6686964 0.9907027 0.3192312  1.656398   0.3498839 -0.32200627\n",
       "  AbsEffect.lower AbsEffect.upper AbsEffect.sd RelEffect   RelEffect.lower\n",
       "1 -0.7635249      0.4855532       0.3158630    -0.04878256 -0.4699611     \n",
       "2 -0.8023490      0.6020778       0.3778008    -0.08958057 -0.4705635     \n",
       "3 -0.7822036      0.6859816       0.3696962     0.28002031 -0.4528748     \n",
       "4 -0.7552394      0.6307058       0.3474891     0.13845476 -0.4405395     \n",
       "5 -0.8999218      0.4287659       0.3420472     0.14348789 -0.5575325     \n",
       "6 -0.9877013      0.3494652       0.3498839    -0.28581358 -0.6133736     \n",
       "  RelEffect.upper RelEffect.sd alpha p         obs_id event_date n_events\n",
       "1 1.2395421       0.8940162    0.05  0.3138462 AALI   2016-01-05 1       \n",
       "2 1.8153162       6.2009318    0.05  0.3956159 AALI   2016-03-14 1       \n",
       "3 2.3188671       2.2395958    0.05  0.4754300 AALI   2016-04-13 1       \n",
       "4 1.9210084       0.7573462    0.05  0.4312039 AALI   2016-04-14 1       \n",
       "5 1.2943987       9.3909166    0.05  0.2214212 AALI   2016-04-25 1       \n",
       "6 0.8777734       2.7191069    0.05  0.1893861 AALI   2016-05-03 1       \n",
       "  max_score sum_score\n",
       "1 0.7055333 0.7055333\n",
       "2 0.7534191 0.7534191\n",
       "3 0.7116593 0.7116593\n",
       "4 0.6993880 0.6993880\n",
       "5 0.8159519 0.8159519\n",
       "6 0.7363428 0.7363428"
      ]
     },
     "metadata": {},
     "output_type": "display_data"
    }
   ],
   "source": [
    "results_orig = read.csv(sprintf('results/%s/ci_summary_avg.csv', conf_name))\n",
    "dim(results_orig)\n",
    "head(results_orig)"
   ]
  },
  {
   "cell_type": "code",
   "execution_count": 20,
   "id": "beae228a-7aba-4b36-9311-f5751f2b9d4a",
   "metadata": {
    "tags": []
   },
   "outputs": [
    {
     "data": {
      "text/plain": [
       "\n",
       "    1     2     3     4     6 \n",
       "16614  1567   218    31     1 "
      ]
     },
     "metadata": {},
     "output_type": "display_data"
    }
   ],
   "source": [
    "table(results_orig$n_events)"
   ]
  },
  {
   "cell_type": "code",
   "execution_count": 21,
   "id": "5b01833c-adbb-47c9-9562-3cf10736b61e",
   "metadata": {
    "tags": []
   },
   "outputs": [
    {
     "data": {
      "text/plain": [
       "\n",
       "2016 2017 2018 2019 2020 2021 2022 2023 \n",
       "1218 2250 2776 1541 2476 2496 3523 2151 "
      ]
     },
     "metadata": {},
     "output_type": "display_data"
    }
   ],
   "source": [
    "table(lubridate::year(results_orig$event_date))"
   ]
  },
  {
   "cell_type": "code",
   "execution_count": 22,
   "id": "bc49bb8f-9b64-4da5-aad5-ecf73ffd3ebe",
   "metadata": {
    "tags": []
   },
   "outputs": [
    {
     "data": {
      "text/html": [
       "768"
      ],
      "text/latex": [
       "768"
      ],
      "text/markdown": [
       "768"
      ],
      "text/plain": [
       "[1] 768"
      ]
     },
     "metadata": {},
     "output_type": "display_data"
    }
   ],
   "source": [
    "length(unique(results_orig$obs_id))"
   ]
  },
  {
   "cell_type": "code",
   "execution_count": 23,
   "id": "e69574ec-df5a-41bb-ae20-bf4cc5451070",
   "metadata": {
    "tags": []
   },
   "outputs": [
    {
     "data": {
      "text/plain": [
       "\n",
       "ADRO PTBA BBRI TLKM WSKT BBNI BMRI WIKA BBCA ASII PTPP PGAS UNVR ANTM ICBP ITMG \n",
       " 389  373  332  330  311  302  291  288  282  277  272  264  261  252  247  241 \n",
       "UNTR JSMR ADHI KLBF HMSP INDY INDF SMGR AKRA GGRM INTP MEDC AALI CTRA \n",
       " 232  226  213  209  208  201  198  196  187  186  184  183  177  173 "
      ]
     },
     "metadata": {},
     "output_type": "display_data"
    }
   ],
   "source": [
    "head(sort(table(results_orig$obs_id), decreasing=TRUE), 30)"
   ]
  },
  {
   "cell_type": "markdown",
   "id": "c8a5b503-42d2-4ae5-915f-504a7dc4845a",
   "metadata": {},
   "source": [
    "## Process CausalImpact results"
   ]
  },
  {
   "cell_type": "code",
   "execution_count": 24,
   "id": "c0690952-9e0f-41fc-a7c8-e206f5f400ae",
   "metadata": {
    "tags": []
   },
   "outputs": [
    {
     "name": "stderr",
     "output_type": "stream",
     "text": [
      "\u001b[1m\u001b[22m`summarise()` has grouped output by 'obs_id'. You can override using the `.groups` argument.\n"
     ]
    },
    {
     "data": {
      "text/html": [
       "<style>\n",
       ".list-inline {list-style: none; margin:0; padding: 0}\n",
       ".list-inline>li {display: inline-block}\n",
       ".list-inline>li:not(:last-child)::after {content: \"\\00b7\"; padding: 0 .5ex}\n",
       "</style>\n",
       "<ol class=list-inline><li>18431</li><li>20</li></ol>\n"
      ],
      "text/latex": [
       "\\begin{enumerate*}\n",
       "\\item 18431\n",
       "\\item 20\n",
       "\\end{enumerate*}\n"
      ],
      "text/markdown": [
       "1. 18431\n",
       "2. 20\n",
       "\n",
       "\n"
      ],
      "text/plain": [
       "[1] 18431    20"
      ]
     },
     "metadata": {},
     "output_type": "display_data"
    },
    {
     "data": {
      "text/html": [
       "<table class=\"dataframe\">\n",
       "<caption>A data.frame: 6 × 20</caption>\n",
       "<thead>\n",
       "\t<tr><th></th><th scope=col>Actual</th><th scope=col>Pred</th><th scope=col>Pred.lower</th><th scope=col>Pred.upper</th><th scope=col>Pred.sd</th><th scope=col>AbsEffect</th><th scope=col>AbsEffect.lower</th><th scope=col>AbsEffect.upper</th><th scope=col>AbsEffect.sd</th><th scope=col>RelEffect</th><th scope=col>RelEffect.lower</th><th scope=col>RelEffect.upper</th><th scope=col>RelEffect.sd</th><th scope=col>alpha</th><th scope=col>p</th><th scope=col>obs_id</th><th scope=col>event_date</th><th scope=col>n_events</th><th scope=col>max_score</th><th scope=col>sum_score</th></tr>\n",
       "\t<tr><th></th><th scope=col>&lt;dbl&gt;</th><th scope=col>&lt;dbl&gt;</th><th scope=col>&lt;dbl&gt;</th><th scope=col>&lt;dbl&gt;</th><th scope=col>&lt;dbl&gt;</th><th scope=col>&lt;dbl&gt;</th><th scope=col>&lt;dbl&gt;</th><th scope=col>&lt;dbl&gt;</th><th scope=col>&lt;dbl&gt;</th><th scope=col>&lt;dbl&gt;</th><th scope=col>&lt;dbl&gt;</th><th scope=col>&lt;dbl&gt;</th><th scope=col>&lt;dbl&gt;</th><th scope=col>&lt;dbl&gt;</th><th scope=col>&lt;dbl&gt;</th><th scope=col>&lt;chr&gt;</th><th scope=col>&lt;chr&gt;</th><th scope=col>&lt;int&gt;</th><th scope=col>&lt;dbl&gt;</th><th scope=col>&lt;dbl&gt;</th></tr>\n",
       "</thead>\n",
       "<tbody>\n",
       "\t<tr><th scope=row>1</th><td>0.8687154</td><td>0.9986452</td><td>0.3831622</td><td>1.632240</td><td>0.3158630</td><td>-0.12992989</td><td>-0.7635249</td><td>0.4855532</td><td>0.3158630</td><td>-0.04878256</td><td>-0.4699611</td><td>1.2395421</td><td>0.8940162</td><td>0.05</td><td>0.3138462</td><td>AALI</td><td>2016-01-05</td><td>1</td><td>0.7055333</td><td>0.7055333</td></tr>\n",
       "\t<tr><th scope=row>2</th><td>0.9125030</td><td>1.0295840</td><td>0.3104252</td><td>1.714852</td><td>0.3778008</td><td>-0.11708100</td><td>-0.8023490</td><td>0.6020778</td><td>0.3778008</td><td>-0.08958057</td><td>-0.4705635</td><td>1.8153162</td><td>6.2009318</td><td>0.05</td><td>0.3956159</td><td>AALI</td><td>2016-03-14</td><td>1</td><td>0.7534191</td><td>0.7534191</td></tr>\n",
       "\t<tr><th scope=row>3</th><td>0.9591118</td><td>0.9945437</td><td>0.2731302</td><td>1.741315</td><td>0.3696962</td><td>-0.03543194</td><td>-0.7822036</td><td>0.6859816</td><td>0.3696962</td><td> 0.28002031</td><td>-0.4528748</td><td>2.3188671</td><td>2.2395958</td><td>0.05</td><td>0.4754300</td><td>AALI</td><td>2016-04-13</td><td>1</td><td>0.7116593</td><td>0.7116593</td></tr>\n",
       "\t<tr><th scope=row>4</th><td>0.9591118</td><td>0.9945437</td><td>0.3284059</td><td>1.714351</td><td>0.3474891</td><td>-0.03543194</td><td>-0.7552394</td><td>0.6307058</td><td>0.3474891</td><td> 0.13845476</td><td>-0.4405395</td><td>1.9210084</td><td>0.7573462</td><td>0.05</td><td>0.4312039</td><td>AALI</td><td>2016-04-14</td><td>1</td><td>0.6993880</td><td>0.6993880</td></tr>\n",
       "\t<tr><th scope=row>5</th><td>0.7238977</td><td>1.0005072</td><td>0.2951317</td><td>1.623820</td><td>0.3420472</td><td>-0.27660957</td><td>-0.8999218</td><td>0.4287659</td><td>0.3420472</td><td> 0.14348789</td><td>-0.5575325</td><td>1.2943987</td><td>9.3909166</td><td>0.05</td><td>0.2214212</td><td>AALI</td><td>2016-04-25</td><td>1</td><td>0.8159519</td><td>0.8159519</td></tr>\n",
       "\t<tr><th scope=row>6</th><td>0.6686964</td><td>0.9907027</td><td>0.3192312</td><td>1.656398</td><td>0.3498839</td><td>-0.32200627</td><td>-0.9877013</td><td>0.3494652</td><td>0.3498839</td><td>-0.28581358</td><td>-0.6133736</td><td>0.8777734</td><td>2.7191069</td><td>0.05</td><td>0.1893861</td><td>AALI</td><td>2016-05-03</td><td>1</td><td>0.7363428</td><td>0.7363428</td></tr>\n",
       "</tbody>\n",
       "</table>\n"
      ],
      "text/latex": [
       "A data.frame: 6 × 20\n",
       "\\begin{tabular}{r|llllllllllllllllllll}\n",
       "  & Actual & Pred & Pred.lower & Pred.upper & Pred.sd & AbsEffect & AbsEffect.lower & AbsEffect.upper & AbsEffect.sd & RelEffect & RelEffect.lower & RelEffect.upper & RelEffect.sd & alpha & p & obs\\_id & event\\_date & n\\_events & max\\_score & sum\\_score\\\\\n",
       "  & <dbl> & <dbl> & <dbl> & <dbl> & <dbl> & <dbl> & <dbl> & <dbl> & <dbl> & <dbl> & <dbl> & <dbl> & <dbl> & <dbl> & <dbl> & <chr> & <chr> & <int> & <dbl> & <dbl>\\\\\n",
       "\\hline\n",
       "\t1 & 0.8687154 & 0.9986452 & 0.3831622 & 1.632240 & 0.3158630 & -0.12992989 & -0.7635249 & 0.4855532 & 0.3158630 & -0.04878256 & -0.4699611 & 1.2395421 & 0.8940162 & 0.05 & 0.3138462 & AALI & 2016-01-05 & 1 & 0.7055333 & 0.7055333\\\\\n",
       "\t2 & 0.9125030 & 1.0295840 & 0.3104252 & 1.714852 & 0.3778008 & -0.11708100 & -0.8023490 & 0.6020778 & 0.3778008 & -0.08958057 & -0.4705635 & 1.8153162 & 6.2009318 & 0.05 & 0.3956159 & AALI & 2016-03-14 & 1 & 0.7534191 & 0.7534191\\\\\n",
       "\t3 & 0.9591118 & 0.9945437 & 0.2731302 & 1.741315 & 0.3696962 & -0.03543194 & -0.7822036 & 0.6859816 & 0.3696962 &  0.28002031 & -0.4528748 & 2.3188671 & 2.2395958 & 0.05 & 0.4754300 & AALI & 2016-04-13 & 1 & 0.7116593 & 0.7116593\\\\\n",
       "\t4 & 0.9591118 & 0.9945437 & 0.3284059 & 1.714351 & 0.3474891 & -0.03543194 & -0.7552394 & 0.6307058 & 0.3474891 &  0.13845476 & -0.4405395 & 1.9210084 & 0.7573462 & 0.05 & 0.4312039 & AALI & 2016-04-14 & 1 & 0.6993880 & 0.6993880\\\\\n",
       "\t5 & 0.7238977 & 1.0005072 & 0.2951317 & 1.623820 & 0.3420472 & -0.27660957 & -0.8999218 & 0.4287659 & 0.3420472 &  0.14348789 & -0.5575325 & 1.2943987 & 9.3909166 & 0.05 & 0.2214212 & AALI & 2016-04-25 & 1 & 0.8159519 & 0.8159519\\\\\n",
       "\t6 & 0.6686964 & 0.9907027 & 0.3192312 & 1.656398 & 0.3498839 & -0.32200627 & -0.9877013 & 0.3494652 & 0.3498839 & -0.28581358 & -0.6133736 & 0.8777734 & 2.7191069 & 0.05 & 0.1893861 & AALI & 2016-05-03 & 1 & 0.7363428 & 0.7363428\\\\\n",
       "\\end{tabular}\n"
      ],
      "text/markdown": [
       "\n",
       "A data.frame: 6 × 20\n",
       "\n",
       "| <!--/--> | Actual &lt;dbl&gt; | Pred &lt;dbl&gt; | Pred.lower &lt;dbl&gt; | Pred.upper &lt;dbl&gt; | Pred.sd &lt;dbl&gt; | AbsEffect &lt;dbl&gt; | AbsEffect.lower &lt;dbl&gt; | AbsEffect.upper &lt;dbl&gt; | AbsEffect.sd &lt;dbl&gt; | RelEffect &lt;dbl&gt; | RelEffect.lower &lt;dbl&gt; | RelEffect.upper &lt;dbl&gt; | RelEffect.sd &lt;dbl&gt; | alpha &lt;dbl&gt; | p &lt;dbl&gt; | obs_id &lt;chr&gt; | event_date &lt;chr&gt; | n_events &lt;int&gt; | max_score &lt;dbl&gt; | sum_score &lt;dbl&gt; |\n",
       "|---|---|---|---|---|---|---|---|---|---|---|---|---|---|---|---|---|---|---|---|---|\n",
       "| 1 | 0.8687154 | 0.9986452 | 0.3831622 | 1.632240 | 0.3158630 | -0.12992989 | -0.7635249 | 0.4855532 | 0.3158630 | -0.04878256 | -0.4699611 | 1.2395421 | 0.8940162 | 0.05 | 0.3138462 | AALI | 2016-01-05 | 1 | 0.7055333 | 0.7055333 |\n",
       "| 2 | 0.9125030 | 1.0295840 | 0.3104252 | 1.714852 | 0.3778008 | -0.11708100 | -0.8023490 | 0.6020778 | 0.3778008 | -0.08958057 | -0.4705635 | 1.8153162 | 6.2009318 | 0.05 | 0.3956159 | AALI | 2016-03-14 | 1 | 0.7534191 | 0.7534191 |\n",
       "| 3 | 0.9591118 | 0.9945437 | 0.2731302 | 1.741315 | 0.3696962 | -0.03543194 | -0.7822036 | 0.6859816 | 0.3696962 |  0.28002031 | -0.4528748 | 2.3188671 | 2.2395958 | 0.05 | 0.4754300 | AALI | 2016-04-13 | 1 | 0.7116593 | 0.7116593 |\n",
       "| 4 | 0.9591118 | 0.9945437 | 0.3284059 | 1.714351 | 0.3474891 | -0.03543194 | -0.7552394 | 0.6307058 | 0.3474891 |  0.13845476 | -0.4405395 | 1.9210084 | 0.7573462 | 0.05 | 0.4312039 | AALI | 2016-04-14 | 1 | 0.6993880 | 0.6993880 |\n",
       "| 5 | 0.7238977 | 1.0005072 | 0.2951317 | 1.623820 | 0.3420472 | -0.27660957 | -0.8999218 | 0.4287659 | 0.3420472 |  0.14348789 | -0.5575325 | 1.2943987 | 9.3909166 | 0.05 | 0.2214212 | AALI | 2016-04-25 | 1 | 0.8159519 | 0.8159519 |\n",
       "| 6 | 0.6686964 | 0.9907027 | 0.3192312 | 1.656398 | 0.3498839 | -0.32200627 | -0.9877013 | 0.3494652 | 0.3498839 | -0.28581358 | -0.6133736 | 0.8777734 | 2.7191069 | 0.05 | 0.1893861 | AALI | 2016-05-03 | 1 | 0.7363428 | 0.7363428 |\n",
       "\n"
      ],
      "text/plain": [
       "  Actual    Pred      Pred.lower Pred.upper Pred.sd   AbsEffect  \n",
       "1 0.8687154 0.9986452 0.3831622  1.632240   0.3158630 -0.12992989\n",
       "2 0.9125030 1.0295840 0.3104252  1.714852   0.3778008 -0.11708100\n",
       "3 0.9591118 0.9945437 0.2731302  1.741315   0.3696962 -0.03543194\n",
       "4 0.9591118 0.9945437 0.3284059  1.714351   0.3474891 -0.03543194\n",
       "5 0.7238977 1.0005072 0.2951317  1.623820   0.3420472 -0.27660957\n",
       "6 0.6686964 0.9907027 0.3192312  1.656398   0.3498839 -0.32200627\n",
       "  AbsEffect.lower AbsEffect.upper AbsEffect.sd RelEffect   RelEffect.lower\n",
       "1 -0.7635249      0.4855532       0.3158630    -0.04878256 -0.4699611     \n",
       "2 -0.8023490      0.6020778       0.3778008    -0.08958057 -0.4705635     \n",
       "3 -0.7822036      0.6859816       0.3696962     0.28002031 -0.4528748     \n",
       "4 -0.7552394      0.6307058       0.3474891     0.13845476 -0.4405395     \n",
       "5 -0.8999218      0.4287659       0.3420472     0.14348789 -0.5575325     \n",
       "6 -0.9877013      0.3494652       0.3498839    -0.28581358 -0.6133736     \n",
       "  RelEffect.upper RelEffect.sd alpha p         obs_id event_date n_events\n",
       "1 1.2395421       0.8940162    0.05  0.3138462 AALI   2016-01-05 1       \n",
       "2 1.8153162       6.2009318    0.05  0.3956159 AALI   2016-03-14 1       \n",
       "3 2.3188671       2.2395958    0.05  0.4754300 AALI   2016-04-13 1       \n",
       "4 1.9210084       0.7573462    0.05  0.4312039 AALI   2016-04-14 1       \n",
       "5 1.2943987       9.3909166    0.05  0.2214212 AALI   2016-04-25 1       \n",
       "6 0.8777734       2.7191069    0.05  0.1893861 AALI   2016-05-03 1       \n",
       "  max_score sum_score\n",
       "1 0.7055333 0.7055333\n",
       "2 0.7534191 0.7534191\n",
       "3 0.7116593 0.7116593\n",
       "4 0.6993880 0.6993880\n",
       "5 0.8159519 0.8159519\n",
       "6 0.7363428 0.7363428"
      ]
     },
     "metadata": {},
     "output_type": "display_data"
    }
   ],
   "source": [
    "results = results_orig\n",
    "results_filt = results %>% filter(max_score >= quantile(max_score, 0.5))\n",
    "results_filt1 = results %>% filter(max_score >= quantile(max_score, 0.1))\n",
    "results_grouped = results %>%\n",
    "    mutate(event_year=lubridate::year(event_date), Effect=Actual - Pred) %>%\n",
    "    group_by(obs_id, event_year) %>%\n",
    "    summarise(n=n(), mean_p=mean(p), sd_p=sd(p), mean_eff=mean(Effect), sd_eff=sd(Effect)) %>%\n",
    "    group_by(obs_id) %>% filter(n() > 1) %>%    # discard firms which only appeared in 1 year\n",
    "    arrange(obs_id, event_year) %>%\n",
    "    plm::pdata.frame(index=c('obs_id', 'event_year'))\n",
    "dim(results)\n",
    "head(results)"
   ]
  },
  {
   "cell_type": "code",
   "execution_count": 25,
   "id": "f1717152-9c3e-4d87-b964-ad09245b6b65",
   "metadata": {
    "tags": []
   },
   "outputs": [
    {
     "data": {
      "text/plain": [
       "< table of extent 0 >"
      ]
     },
     "metadata": {},
     "output_type": "display_data"
    }
   ],
   "source": [
    "table(results$event_year)"
   ]
  },
  {
   "cell_type": "code",
   "execution_count": 26,
   "id": "c0702a41-74a1-407d-971c-513bed411081",
   "metadata": {
    "tags": []
   },
   "outputs": [
    {
     "data": {
      "text/html": [
       "768"
      ],
      "text/latex": [
       "768"
      ],
      "text/markdown": [
       "768"
      ],
      "text/plain": [
       "[1] 768"
      ]
     },
     "metadata": {},
     "output_type": "display_data"
    }
   ],
   "source": [
    "length(unique(results$obs_id))"
   ]
  },
  {
   "cell_type": "code",
   "execution_count": 27,
   "id": "624538b5-21a6-43ca-b62a-245f8a568f46",
   "metadata": {
    "tags": []
   },
   "outputs": [
    {
     "data": {
      "text/plain": [
       "\n",
       "  1   2   3   4   5   6   7   8   9  10  11  12  13  14  15  16  17  18  19  20 \n",
       "110  81  82  46  57  40  29  24  31  17  15  14   9   9   2  14   6   8   6   2 \n",
       " 21  22  23  24  25  26  27  28  29  30  31  32  33  34  35  36  37  38  39  40 \n",
       "  5   4   7   4   1   1   3   3   3   7   2   2   7   2   5   4   2   5   1   1 \n",
       " 41  42  43  44  45  46  48  50  52  53  54  57  58  60  61  63  64  65  66  69 \n",
       "  1   1   1   2   1   2   1   1   2   3   1   1   1   2   2   3   1   1   1   1 \n",
       " 70  77  79  80  81  84  87  89  91  93  97  99 100 101 104 105 107 110 111 112 \n",
       "  2   4   1   1   2   1   1   1   1   1   2   1   1   1   1   1   1   2   1   1 \n",
       "119 126 130 135 143 149 164 168 173 177 183 184 186 187 196 198 201 208 209 213 \n",
       "  1   1   1   3   1   2   1   1   1   1   1   1   1   1   1   1   1   1   1   1 \n",
       "226 232 241 247 252 261 264 272 277 282 288 291 302 311 330 332 373 389 \n",
       "  1   1   1   1   1   1   1   1   1   1   1   1   1   1   1   1   1   1 "
      ]
     },
     "metadata": {},
     "output_type": "display_data"
    }
   ],
   "source": [
    "table(table(results$obs_id))"
   ]
  },
  {
   "cell_type": "code",
   "execution_count": 28,
   "id": "83a54363-38d2-40d7-b795-5cb5a99c5ce1",
   "metadata": {
    "tags": []
   },
   "outputs": [
    {
     "data": {
      "text/html": [
       "<style>\n",
       ".dl-inline {width: auto; margin:0; padding: 0}\n",
       ".dl-inline>dt, .dl-inline>dd {float: none; width: auto; display: inline-block}\n",
       ".dl-inline>dt::after {content: \":\\0020\"; padding-right: .5ex}\n",
       ".dl-inline>dt:not(:first-of-type) {padding-left: .5ex}\n",
       "</style><dl class=dl-inline><dt>gamma</dt><dd>0.786558733742896</dd><dt>nu</dt><dd>0.816865419098212</dd></dl>\n"
      ],
      "text/latex": [
       "\\begin{description*}\n",
       "\\item[gamma] 0.786558733742896\n",
       "\\item[nu] 0.816865419098212\n",
       "\\end{description*}\n"
      ],
      "text/markdown": [
       "gamma\n",
       ":   0.786558733742896nu\n",
       ":   0.816865419098212\n",
       "\n"
      ],
      "text/plain": [
       "    gamma        nu \n",
       "0.7865587 0.8168654 "
      ]
     },
     "metadata": {},
     "output_type": "display_data"
    }
   ],
   "source": [
    "plm::punbalancedness(results_grouped)"
   ]
  },
  {
   "cell_type": "markdown",
   "id": "51de98db-3780-4d99-a204-94416e20e49a",
   "metadata": {},
   "source": [
    "## Test hypothesis"
   ]
  },
  {
   "cell_type": "markdown",
   "id": "ed9c5ef3-c9b5-4065-a11c-c49bb4b6887e",
   "metadata": {
    "tags": []
   },
   "source": [
    "### default"
   ]
  },
  {
   "cell_type": "code",
   "execution_count": 42,
   "id": "7eb0df1c-0768-45e5-9eec-a80bee1e24ae",
   "metadata": {
    "tags": []
   },
   "outputs": [
    {
     "data": {
      "text/html": [
       "0.179534479952254"
      ],
      "text/latex": [
       "0.179534479952254"
      ],
      "text/markdown": [
       "0.179534479952254"
      ],
      "text/plain": [
       "[1] 0.1795345"
      ]
     },
     "metadata": {},
     "output_type": "display_data"
    },
    {
     "data": {
      "text/html": [
       "0.182183159722222"
      ],
      "text/latex": [
       "0.182183159722222"
      ],
      "text/markdown": [
       "0.182183159722222"
      ],
      "text/plain": [
       "[1] 0.1821832"
      ]
     },
     "metadata": {},
     "output_type": "display_data"
    },
    {
     "data": {
      "text/html": [
       "0.177718832891247"
      ],
      "text/latex": [
       "0.177718832891247"
      ],
      "text/markdown": [
       "0.177718832891247"
      ],
      "text/plain": [
       "[1] 0.1777188"
      ]
     },
     "metadata": {},
     "output_type": "display_data"
    }
   ],
   "source": [
    "mean((results$p < 0.05) & (results$Actual > results$Pred))\n",
    "mean((results_filt$p < 0.05) & (results_filt$Actual > results_filt$Pred))\n",
    "mean((results_filt1$p < 0.05) & (results_filt1$Actual > results_filt1$Pred))"
   ]
  },
  {
   "cell_type": "code",
   "execution_count": 43,
   "id": "3d5fdc69-d653-4b63-8e1d-6a2506894609",
   "metadata": {
    "tags": []
   },
   "outputs": [
    {
     "data": {
      "text/html": [
       "0.097498779230644"
      ],
      "text/latex": [
       "0.097498779230644"
      ],
      "text/markdown": [
       "0.097498779230644"
      ],
      "text/plain": [
       "[1] 0.09749878"
      ]
     },
     "metadata": {},
     "output_type": "display_data"
    },
    {
     "data": {
      "text/html": [
       "0.0964626736111111"
      ],
      "text/latex": [
       "0.0964626736111111"
      ],
      "text/markdown": [
       "0.0964626736111111"
      ],
      "text/plain": [
       "[1] 0.09646267"
      ]
     },
     "metadata": {},
     "output_type": "display_data"
    },
    {
     "data": {
      "text/html": [
       "0.0986255124186159"
      ],
      "text/latex": [
       "0.0986255124186159"
      ],
      "text/markdown": [
       "0.0986255124186159"
      ],
      "text/plain": [
       "[1] 0.09862551"
      ]
     },
     "metadata": {},
     "output_type": "display_data"
    }
   ],
   "source": [
    "mean((results$p < 0.05) & (results$Actual < results$Pred))\n",
    "mean((results_filt$p < 0.05) & (results_filt$Actual < results_filt$Pred))\n",
    "mean((results_filt1$p < 0.05) & (results_filt1$Actual < results_filt1$Pred))"
   ]
  },
  {
   "cell_type": "code",
   "execution_count": 44,
   "id": "d9af8e24-ba19-4482-9d1e-cec586674325",
   "metadata": {
    "tags": []
   },
   "outputs": [
    {
     "data": {
      "text/html": [
       "0.722966740817102"
      ],
      "text/latex": [
       "0.722966740817102"
      ],
      "text/markdown": [
       "0.722966740817102"
      ],
      "text/plain": [
       "[1] 0.7229667"
      ]
     },
     "metadata": {},
     "output_type": "display_data"
    },
    {
     "data": {
      "text/html": [
       "0.721354166666667"
      ],
      "text/latex": [
       "0.721354166666667"
      ],
      "text/markdown": [
       "0.721354166666667"
      ],
      "text/plain": [
       "[1] 0.7213542"
      ]
     },
     "metadata": {},
     "output_type": "display_data"
    },
    {
     "data": {
      "text/html": [
       "0.723655654690137"
      ],
      "text/latex": [
       "0.723655654690137"
      ],
      "text/markdown": [
       "0.723655654690137"
      ],
      "text/plain": [
       "[1] 0.7236557"
      ]
     },
     "metadata": {},
     "output_type": "display_data"
    }
   ],
   "source": [
    "mean(results$p >= 0.05)\n",
    "mean(results_filt$p >= 0.05)\n",
    "mean(results_filt1$p >= 0.05)"
   ]
  },
  {
   "cell_type": "markdown",
   "id": "1565ce85-00ea-4dc4-bdf9-b1b0576f3b51",
   "metadata": {
    "jp-MarkdownHeadingCollapsed": true,
    "tags": []
   },
   "source": [
    "### dummy"
   ]
  },
  {
   "cell_type": "code",
   "execution_count": 26,
   "id": "a920c64e-78c3-47aa-91e1-79e1c444bcc8",
   "metadata": {
    "tags": []
   },
   "outputs": [
    {
     "data": {
      "text/html": [
       "0.16167958938517"
      ],
      "text/latex": [
       "0.16167958938517"
      ],
      "text/markdown": [
       "0.16167958938517"
      ],
      "text/plain": [
       "[1] 0.1616796"
      ]
     },
     "metadata": {},
     "output_type": "display_data"
    },
    {
     "data": {
      "text/html": [
       "0.156819919187507"
      ],
      "text/latex": [
       "0.156819919187507"
      ],
      "text/markdown": [
       "0.156819919187507"
      ],
      "text/plain": [
       "[1] 0.1568199"
      ]
     },
     "metadata": {},
     "output_type": "display_data"
    },
    {
     "data": {
      "text/html": [
       "0.159446669093557"
      ],
      "text/latex": [
       "0.159446669093557"
      ],
      "text/markdown": [
       "0.159446669093557"
      ],
      "text/plain": [
       "[1] 0.1594467"
      ]
     },
     "metadata": {},
     "output_type": "display_data"
    }
   ],
   "source": [
    "mean((results$p < 0.05) & (results$Actual > results$Pred))\n",
    "mean((results_filt$p < 0.05) & (results_filt$Actual > results_filt$Pred))\n",
    "mean((results_filt1$p < 0.05) & (results_filt1$Actual > results_filt1$Pred))"
   ]
  },
  {
   "cell_type": "code",
   "execution_count": 27,
   "id": "debb9548-741e-4cd5-87f7-cc7153babd31",
   "metadata": {
    "tags": []
   },
   "outputs": [
    {
     "data": {
      "text/html": [
       "0.104564813803647"
      ],
      "text/latex": [
       "0.104564813803647"
      ],
      "text/markdown": [
       "0.104564813803647"
      ],
      "text/plain": [
       "[1] 0.1045648"
      ]
     },
     "metadata": {},
     "output_type": "display_data"
    },
    {
     "data": {
      "text/html": [
       "0.102981325761712"
      ],
      "text/latex": [
       "0.102981325761712"
      ],
      "text/markdown": [
       "0.102981325761712"
      ],
      "text/plain": [
       "[1] 0.1029813"
      ]
     },
     "metadata": {},
     "output_type": "display_data"
    },
    {
     "data": {
      "text/html": [
       "0.104356267443271"
      ],
      "text/latex": [
       "0.104356267443271"
      ],
      "text/markdown": [
       "0.104356267443271"
      ],
      "text/plain": [
       "[1] 0.1043563"
      ]
     },
     "metadata": {},
     "output_type": "display_data"
    }
   ],
   "source": [
    "mean((results$p < 0.05) & (results$Actual < results$Pred))\n",
    "mean((results_filt$p < 0.05) & (results_filt$Actual < results_filt$Pred))\n",
    "mean((results_filt1$p < 0.05) & (results_filt1$Actual < results_filt1$Pred))"
   ]
  },
  {
   "cell_type": "code",
   "execution_count": 29,
   "id": "9104f730-7d41-4d5e-b769-f0f07764a3e5",
   "metadata": {
    "tags": []
   },
   "outputs": [
    {
     "data": {
      "text/html": [
       "0.733755596811183"
      ],
      "text/latex": [
       "0.733755596811183"
      ],
      "text/markdown": [
       "0.733755596811183"
      ],
      "text/plain": [
       "[1] 0.7337556"
      ]
     },
     "metadata": {},
     "output_type": "display_data"
    },
    {
     "data": {
      "text/html": [
       "0.740198755050781"
      ],
      "text/latex": [
       "0.740198755050781"
      ],
      "text/markdown": [
       "0.740198755050781"
      ],
      "text/plain": [
       "[1] 0.7401988"
      ]
     },
     "metadata": {},
     "output_type": "display_data"
    },
    {
     "data": {
      "text/html": [
       "0.736197063463172"
      ],
      "text/latex": [
       "0.736197063463172"
      ],
      "text/markdown": [
       "0.736197063463172"
      ],
      "text/plain": [
       "[1] 0.7361971"
      ]
     },
     "metadata": {},
     "output_type": "display_data"
    }
   ],
   "source": [
    "mean(results$p >= 0.05)\n",
    "mean(results_filt$p >= 0.05)\n",
    "mean(results_filt1$p >= 0.05)"
   ]
  },
  {
   "cell_type": "markdown",
   "id": "033186f0-c745-4842-b244-d69609a51186",
   "metadata": {
    "jp-MarkdownHeadingCollapsed": true,
    "tags": []
   },
   "source": [
    "### dummy2"
   ]
  },
  {
   "cell_type": "code",
   "execution_count": null,
   "id": "890aaf26-d92f-4fe5-9d03-a6c0742c39c1",
   "metadata": {
    "tags": []
   },
   "outputs": [
    {
     "data": {
      "text/html": [
       "0.393316615787178"
      ],
      "text/latex": [
       "0.393316615787178"
      ],
      "text/markdown": [
       "0.393316615787178"
      ],
      "text/plain": [
       "[1] 0.3933166"
      ]
     },
     "metadata": {},
     "output_type": "display_data"
    },
    {
     "data": {
      "text/html": [
       "0.398451978632945"
      ],
      "text/latex": [
       "0.398451978632945"
      ],
      "text/markdown": [
       "0.398451978632945"
      ],
      "text/plain": [
       "[1] 0.398452"
      ]
     },
     "metadata": {},
     "output_type": "display_data"
    },
    {
     "data": {
      "text/html": [
       "0.391593992248062"
      ],
      "text/latex": [
       "0.391593992248062"
      ],
      "text/markdown": [
       "0.391593992248062"
      ],
      "text/plain": [
       "[1] 0.391594"
      ]
     },
     "metadata": {},
     "output_type": "display_data"
    }
   ],
   "source": [
    "mean(results$Actual > results$Pred)\n",
    "mean(results_filt$Actual > results_filt$Pred)\n",
    "mean(results_filt1$Actual > results_filt1$Pred)"
   ]
  },
  {
   "cell_type": "code",
   "execution_count": null,
   "id": "0b776414-68e2-4bbc-8209-374ba69d76fd",
   "metadata": {
    "tags": []
   },
   "outputs": [
    {
     "data": {
      "text/html": [
       "0.157762756214566"
      ],
      "text/latex": [
       "0.157762756214566"
      ],
      "text/markdown": [
       "0.157762756214566"
      ],
      "text/plain": [
       "[1] 0.1577628"
      ]
     },
     "metadata": {},
     "output_type": "display_data"
    },
    {
     "data": {
      "text/html": [
       "0.159271775863949"
      ],
      "text/latex": [
       "0.159271775863949"
      ],
      "text/markdown": [
       "0.159271775863949"
      ],
      "text/plain": [
       "[1] 0.1592718"
      ]
     },
     "metadata": {},
     "output_type": "display_data"
    },
    {
     "data": {
      "text/html": [
       "0.156613372093023"
      ],
      "text/latex": [
       "0.156613372093023"
      ],
      "text/markdown": [
       "0.156613372093023"
      ],
      "text/plain": [
       "[1] 0.1566134"
      ]
     },
     "metadata": {},
     "output_type": "display_data"
    }
   ],
   "source": [
    "mean((results$p < 0.05) & (results$Actual > results$Pred))\n",
    "mean((results_filt$p < 0.05) & (results_filt$Actual > results_filt$Pred))\n",
    "mean((results_filt1$p < 0.05) & (results_filt1$Actual > results_filt1$Pred))"
   ]
  },
  {
   "cell_type": "code",
   "execution_count": null,
   "id": "3c769af1-c91a-4765-88db-c5ed82e8511b",
   "metadata": {
    "tags": []
   },
   "outputs": [
    {
     "data": {
      "text/html": [
       "0.108373310074139"
      ],
      "text/latex": [
       "0.108373310074139"
      ],
      "text/markdown": [
       "0.108373310074139"
      ],
      "text/plain": [
       "[1] 0.1083733"
      ]
     },
     "metadata": {},
     "output_type": "display_data"
    },
    {
     "data": {
      "text/html": [
       "0.102256622697046"
      ],
      "text/latex": [
       "0.102256622697046"
      ],
      "text/markdown": [
       "0.102256622697046"
      ],
      "text/plain": [
       "[1] 0.1022566"
      ]
     },
     "metadata": {},
     "output_type": "display_data"
    },
    {
     "data": {
      "text/html": [
       "0.107558139534884"
      ],
      "text/latex": [
       "0.107558139534884"
      ],
      "text/markdown": [
       "0.107558139534884"
      ],
      "text/plain": [
       "[1] 0.1075581"
      ]
     },
     "metadata": {},
     "output_type": "display_data"
    }
   ],
   "source": [
    "mean((results$p < 0.05) & (results$Actual < results$Pred))\n",
    "mean((results_filt$p < 0.05) & (results_filt$Actual < results_filt$Pred))\n",
    "mean((results_filt1$p < 0.05) & (results_filt1$Actual < results_filt1$Pred))"
   ]
  },
  {
   "cell_type": "code",
   "execution_count": null,
   "id": "6e4ae150-dcb8-4cd9-9f70-135ec895158d",
   "metadata": {
    "tags": []
   },
   "outputs": [
    {
     "data": {
      "text/html": [
       "0.733863933711295"
      ],
      "text/latex": [
       "0.733863933711295"
      ],
      "text/markdown": [
       "0.733863933711295"
      ],
      "text/plain": [
       "[1] 0.7338639"
      ]
     },
     "metadata": {},
     "output_type": "display_data"
    },
    {
     "data": {
      "text/html": [
       "0.738471601439006"
      ],
      "text/latex": [
       "0.738471601439006"
      ],
      "text/markdown": [
       "0.738471601439006"
      ],
      "text/plain": [
       "[1] 0.7384716"
      ]
     },
     "metadata": {},
     "output_type": "display_data"
    },
    {
     "data": {
      "text/html": [
       "0.735828488372093"
      ],
      "text/latex": [
       "0.735828488372093"
      ],
      "text/markdown": [
       "0.735828488372093"
      ],
      "text/plain": [
       "[1] 0.7358285"
      ]
     },
     "metadata": {},
     "output_type": "display_data"
    }
   ],
   "source": [
    "mean(results$p >= 0.05)\n",
    "mean(results_filt$p >= 0.05)\n",
    "mean(results_filt1$p >= 0.05)"
   ]
  },
  {
   "cell_type": "markdown",
   "id": "744bbd01-2837-4a50-a97e-80e5b4b01274",
   "metadata": {
    "jp-MarkdownHeadingCollapsed": true,
    "tags": []
   },
   "source": [
    "### dummy3"
   ]
  },
  {
   "cell_type": "code",
   "execution_count": 16,
   "id": "48a593d1-53b2-429d-9314-f4f788aef700",
   "metadata": {
    "tags": []
   },
   "outputs": [
    {
     "data": {
      "text/html": [
       "0.399967256057629"
      ],
      "text/latex": [
       "0.399967256057629"
      ],
      "text/markdown": [
       "0.399967256057629"
      ],
      "text/plain": [
       "[1] 0.3999673"
      ]
     },
     "metadata": {},
     "output_type": "display_data"
    },
    {
     "data": {
      "text/html": [
       "0.401113294040602"
      ],
      "text/latex": [
       "0.401113294040602"
      ],
      "text/markdown": [
       "0.401113294040602"
      ],
      "text/plain": [
       "[1] 0.4011133"
      ]
     },
     "metadata": {},
     "output_type": "display_data"
    },
    {
     "data": {
      "text/html": [
       "0.399672548662907"
      ],
      "text/latex": [
       "0.399672548662907"
      ],
      "text/markdown": [
       "0.399672548662907"
      ],
      "text/plain": [
       "[1] 0.3996725"
      ]
     },
     "metadata": {},
     "output_type": "display_data"
    }
   ],
   "source": [
    "mean(results$Actual > results$Pred)\n",
    "mean(results_filt$Actual > results_filt$Pred)\n",
    "mean(results_filt1$Actual > results_filt1$Pred)"
   ]
  },
  {
   "cell_type": "code",
   "execution_count": 17,
   "id": "45d54c82-33d3-4aeb-a0d1-e943f0e658da",
   "metadata": {
    "tags": []
   },
   "outputs": [
    {
     "data": {
      "text/html": [
       "0.163173979480463"
      ],
      "text/latex": [
       "0.163173979480463"
      ],
      "text/markdown": [
       "0.163173979480463"
      ],
      "text/plain": [
       "[1] 0.163174"
      ]
     },
     "metadata": {},
     "output_type": "display_data"
    },
    {
     "data": {
      "text/html": [
       "0.164920323073565"
      ],
      "text/latex": [
       "0.164920323073565"
      ],
      "text/markdown": [
       "0.164920323073565"
      ],
      "text/plain": [
       "[1] 0.1649203"
      ]
     },
     "metadata": {},
     "output_type": "display_data"
    },
    {
     "data": {
      "text/html": [
       "0.163483112000485"
      ],
      "text/latex": [
       "0.163483112000485"
      ],
      "text/markdown": [
       "0.163483112000485"
      ],
      "text/plain": [
       "[1] 0.1634831"
      ]
     },
     "metadata": {},
     "output_type": "display_data"
    }
   ],
   "source": [
    "mean((results$p < 0.05) & (results$Actual > results$Pred))\n",
    "mean((results_filt$p < 0.05) & (results_filt$Actual > results_filt$Pred))\n",
    "mean((results_filt1$p < 0.05) & (results_filt1$Actual > results_filt1$Pred))"
   ]
  },
  {
   "cell_type": "code",
   "execution_count": 18,
   "id": "3054a31a-6b31-4d87-a600-51b3818bcd65",
   "metadata": {
    "tags": []
   },
   "outputs": [
    {
     "data": {
      "text/html": [
       "0.10396201702685"
      ],
      "text/latex": [
       "0.10396201702685"
      ],
      "text/markdown": [
       "0.10396201702685"
      ],
      "text/plain": [
       "[1] 0.103962"
      ]
     },
     "metadata": {},
     "output_type": "display_data"
    },
    {
     "data": {
      "text/html": [
       "0.101615367823619"
      ],
      "text/latex": [
       "0.101615367823619"
      ],
      "text/markdown": [
       "0.101615367823619"
      ],
      "text/plain": [
       "[1] 0.1016154"
      ]
     },
     "metadata": {},
     "output_type": "display_data"
    },
    {
     "data": {
      "text/html": [
       "0.103692923412771"
      ],
      "text/latex": [
       "0.103692923412771"
      ],
      "text/markdown": [
       "0.103692923412771"
      ],
      "text/plain": [
       "[1] 0.1036929"
      ]
     },
     "metadata": {},
     "output_type": "display_data"
    }
   ],
   "source": [
    "mean((results$p < 0.05) & (results$Actual < results$Pred))\n",
    "mean((results_filt$p < 0.05) & (results_filt$Actual < results_filt$Pred))\n",
    "mean((results_filt1$p < 0.05) & (results_filt1$Actual < results_filt1$Pred))"
   ]
  },
  {
   "cell_type": "code",
   "execution_count": 19,
   "id": "de1a4057-1662-452f-b7e2-39d2bec8e937",
   "metadata": {
    "tags": []
   },
   "outputs": [
    {
     "data": {
      "text/html": [
       "0.732864003492687"
      ],
      "text/latex": [
       "0.732864003492687"
      ],
      "text/markdown": [
       "0.732864003492687"
      ],
      "text/plain": [
       "[1] 0.732864"
      ]
     },
     "metadata": {},
     "output_type": "display_data"
    },
    {
     "data": {
      "text/html": [
       "0.733464309102816"
      ],
      "text/latex": [
       "0.733464309102816"
      ],
      "text/markdown": [
       "0.733464309102816"
      ],
      "text/plain": [
       "[1] 0.7334643"
      ]
     },
     "metadata": {},
     "output_type": "display_data"
    },
    {
     "data": {
      "text/html": [
       "0.732823964586744"
      ],
      "text/latex": [
       "0.732823964586744"
      ],
      "text/markdown": [
       "0.732823964586744"
      ],
      "text/plain": [
       "[1] 0.732824"
      ]
     },
     "metadata": {},
     "output_type": "display_data"
    }
   ],
   "source": [
    "mean(results$p >= 0.05)\n",
    "mean(results_filt$p >= 0.05)\n",
    "mean(results_filt1$p >= 0.05)"
   ]
  },
  {
   "cell_type": "markdown",
   "id": "7479085f-617c-4356-a63e-317aa47e65e0",
   "metadata": {
    "jp-MarkdownHeadingCollapsed": true,
    "tags": []
   },
   "source": [
    "### dummy4"
   ]
  },
  {
   "cell_type": "code",
   "execution_count": 15,
   "id": "755202dc-1e9e-4fb9-b81a-c4add29bbdf5",
   "metadata": {
    "tags": []
   },
   "outputs": [
    {
     "data": {
      "text/html": [
       "0.390383358745371"
      ],
      "text/latex": [
       "0.390383358745371"
      ],
      "text/markdown": [
       "0.390383358745371"
      ],
      "text/plain": [
       "[1] 0.3903834"
      ]
     },
     "metadata": {},
     "output_type": "display_data"
    },
    {
     "data": {
      "text/html": [
       "0.386843824874755"
      ],
      "text/latex": [
       "0.386843824874755"
      ],
      "text/markdown": [
       "0.386843824874755"
      ],
      "text/plain": [
       "[1] 0.3868438"
      ]
     },
     "metadata": {},
     "output_type": "display_data"
    },
    {
     "data": {
      "text/html": [
       "0.387547649301144"
      ],
      "text/latex": [
       "0.387547649301144"
      ],
      "text/markdown": [
       "0.387547649301144"
      ],
      "text/plain": [
       "[1] 0.3875476"
      ]
     },
     "metadata": {},
     "output_type": "display_data"
    }
   ],
   "source": [
    "mean(results$Actual > results$Pred)\n",
    "mean(results_filt$Actual > results_filt$Pred)\n",
    "mean(results_filt1$Actual > results_filt1$Pred)"
   ]
  },
  {
   "cell_type": "code",
   "execution_count": 16,
   "id": "0890fe06-2c1f-4548-8497-882a53fa84fd",
   "metadata": {
    "tags": []
   },
   "outputs": [
    {
     "data": {
      "text/html": [
       "0.155848399041603"
      ],
      "text/latex": [
       "0.155848399041603"
      ],
      "text/markdown": [
       "0.155848399041603"
      ],
      "text/plain": [
       "[1] 0.1558484"
      ]
     },
     "metadata": {},
     "output_type": "display_data"
    },
    {
     "data": {
      "text/html": [
       "0.156828577651928"
      ],
      "text/latex": [
       "0.156828577651928"
      ],
      "text/markdown": [
       "0.156828577651928"
      ],
      "text/plain": [
       "[1] 0.1568286"
      ]
     },
     "metadata": {},
     "output_type": "display_data"
    },
    {
     "data": {
      "text/html": [
       "0.155382102014885"
      ],
      "text/latex": [
       "0.155382102014885"
      ],
      "text/markdown": [
       "0.155382102014885"
      ],
      "text/plain": [
       "[1] 0.1553821"
      ]
     },
     "metadata": {},
     "output_type": "display_data"
    }
   ],
   "source": [
    "mean((results$p < 0.05) & (results$Actual > results$Pred))\n",
    "mean((results_filt$p < 0.05) & (results_filt$Actual > results_filt$Pred))\n",
    "mean((results_filt1$p < 0.05) & (results_filt1$Actual > results_filt1$Pred))"
   ]
  },
  {
   "cell_type": "code",
   "execution_count": 17,
   "id": "cfc05123-81bc-4c5d-b806-cbf323a6b4ad",
   "metadata": {
    "tags": []
   },
   "outputs": [
    {
     "data": {
      "text/html": [
       "0.107384012197778"
      ],
      "text/latex": [
       "0.107384012197778"
      ],
      "text/markdown": [
       "0.107384012197778"
      ],
      "text/plain": [
       "[1] 0.107384"
      ]
     },
     "metadata": {},
     "output_type": "display_data"
    },
    {
     "data": {
      "text/html": [
       "0.108146373339142"
      ],
      "text/latex": [
       "0.108146373339142"
      ],
      "text/markdown": [
       "0.108146373339142"
      ],
      "text/plain": [
       "[1] 0.1081464"
      ]
     },
     "metadata": {},
     "output_type": "display_data"
    },
    {
     "data": {
      "text/html": [
       "0.108489138984692"
      ],
      "text/latex": [
       "0.108489138984692"
      ],
      "text/markdown": [
       "0.108489138984692"
      ],
      "text/plain": [
       "[1] 0.1084891"
      ]
     },
     "metadata": {},
     "output_type": "display_data"
    }
   ],
   "source": [
    "mean((results$p < 0.05) & (results$Actual < results$Pred))\n",
    "mean((results_filt$p < 0.05) & (results_filt$Actual < results_filt$Pred))\n",
    "mean((results_filt1$p < 0.05) & (results_filt1$Actual < results_filt1$Pred))"
   ]
  },
  {
   "cell_type": "code",
   "execution_count": 18,
   "id": "0901886c-e9b7-450e-878f-8733563f1ff4",
   "metadata": {
    "tags": []
   },
   "outputs": [
    {
     "data": {
      "text/html": [
       "0.736767588760619"
      ],
      "text/latex": [
       "0.736767588760619"
      ],
      "text/markdown": [
       "0.736767588760619"
      ],
      "text/plain": [
       "[1] 0.7367676"
      ]
     },
     "metadata": {},
     "output_type": "display_data"
    },
    {
     "data": {
      "text/html": [
       "0.735025049008931"
      ],
      "text/latex": [
       "0.735025049008931"
      ],
      "text/markdown": [
       "0.735025049008931"
      ],
      "text/plain": [
       "[1] 0.735025"
      ]
     },
     "metadata": {},
     "output_type": "display_data"
    },
    {
     "data": {
      "text/html": [
       "0.736128759000424"
      ],
      "text/latex": [
       "0.736128759000424"
      ],
      "text/markdown": [
       "0.736128759000424"
      ],
      "text/plain": [
       "[1] 0.7361288"
      ]
     },
     "metadata": {},
     "output_type": "display_data"
    }
   ],
   "source": [
    "mean(results$p >= 0.05)\n",
    "mean(results_filt$p >= 0.05)\n",
    "mean(results_filt1$p >= 0.05)"
   ]
  },
  {
   "cell_type": "markdown",
   "id": "7fcbafba-53bd-4fb0-87f4-d30607f9621e",
   "metadata": {
    "jp-MarkdownHeadingCollapsed": true,
    "tags": []
   },
   "source": [
    "### dummy5"
   ]
  },
  {
   "cell_type": "code",
   "execution_count": 17,
   "id": "2f9a524b-f2f6-4abe-ba31-c5272683c7f3",
   "metadata": {
    "tags": []
   },
   "outputs": [
    {
     "data": {
      "text/html": [
       "0.395639138729899"
      ],
      "text/latex": [
       "0.395639138729899"
      ],
      "text/markdown": [
       "0.395639138729899"
      ],
      "text/plain": [
       "[1] 0.3956391"
      ]
     },
     "metadata": {},
     "output_type": "display_data"
    },
    {
     "data": {
      "text/html": [
       "0.394484412470024"
      ],
      "text/latex": [
       "0.394484412470024"
      ],
      "text/markdown": [
       "0.394484412470024"
      ],
      "text/plain": [
       "[1] 0.3944844"
      ]
     },
     "metadata": {},
     "output_type": "display_data"
    },
    {
     "data": {
      "text/html": [
       "0.394367050272562"
      ],
      "text/latex": [
       "0.394367050272562"
      ],
      "text/markdown": [
       "0.394367050272562"
      ],
      "text/plain": [
       "[1] 0.3943671"
      ]
     },
     "metadata": {},
     "output_type": "display_data"
    }
   ],
   "source": [
    "mean(results$Actual > results$Pred)\n",
    "mean(results_filt$Actual > results_filt$Pred)\n",
    "mean(results_filt1$Actual > results_filt1$Pred)"
   ]
  },
  {
   "cell_type": "code",
   "execution_count": 18,
   "id": "427abd1e-7c6c-4409-8fdc-df9ccb4e28a7",
   "metadata": {
    "tags": []
   },
   "outputs": [
    {
     "data": {
      "text/html": [
       "0.163859362224039"
      ],
      "text/latex": [
       "0.163859362224039"
      ],
      "text/markdown": [
       "0.163859362224039"
      ],
      "text/plain": [
       "[1] 0.1638594"
      ]
     },
     "metadata": {},
     "output_type": "display_data"
    },
    {
     "data": {
      "text/html": [
       "0.160235448005232"
      ],
      "text/latex": [
       "0.160235448005232"
      ],
      "text/markdown": [
       "0.160235448005232"
      ],
      "text/plain": [
       "[1] 0.1602354"
      ]
     },
     "metadata": {},
     "output_type": "display_data"
    },
    {
     "data": {
      "text/html": [
       "0.162144155057541"
      ],
      "text/latex": [
       "0.162144155057541"
      ],
      "text/markdown": [
       "0.162144155057541"
      ],
      "text/plain": [
       "[1] 0.1621442"
      ]
     },
     "metadata": {},
     "output_type": "display_data"
    }
   ],
   "source": [
    "mean((results$p < 0.05) & (results$Actual > results$Pred))\n",
    "mean((results_filt$p < 0.05) & (results_filt$Actual > results_filt$Pred))\n",
    "mean((results_filt1$p < 0.05) & (results_filt1$Actual > results_filt1$Pred))"
   ]
  },
  {
   "cell_type": "code",
   "execution_count": 19,
   "id": "6936f1c7-4428-43aa-9245-fc8121ebb607",
   "metadata": {
    "tags": []
   },
   "outputs": [
    {
     "data": {
      "text/html": [
       "0.104769692014173"
      ],
      "text/latex": [
       "0.104769692014173"
      ],
      "text/markdown": [
       "0.104769692014173"
      ],
      "text/plain": [
       "[1] 0.1047697"
      ]
     },
     "metadata": {},
     "output_type": "display_data"
    },
    {
     "data": {
      "text/html": [
       "0.105297580117724"
      ],
      "text/latex": [
       "0.105297580117724"
      ],
      "text/markdown": [
       "0.105297580117724"
      ],
      "text/plain": [
       "[1] 0.1052976"
      ]
     },
     "metadata": {},
     "output_type": "display_data"
    },
    {
     "data": {
      "text/html": [
       "0.104179285281647"
      ],
      "text/latex": [
       "0.104179285281647"
      ],
      "text/markdown": [
       "0.104179285281647"
      ],
      "text/plain": [
       "[1] 0.1041793"
      ]
     },
     "metadata": {},
     "output_type": "display_data"
    }
   ],
   "source": [
    "mean((results$p < 0.05) & (results$Actual < results$Pred))\n",
    "mean((results_filt$p < 0.05) & (results_filt$Actual < results_filt$Pred))\n",
    "mean((results_filt1$p < 0.05) & (results_filt1$Actual < results_filt1$Pred))"
   ]
  },
  {
   "cell_type": "code",
   "execution_count": 20,
   "id": "e0b39724-45f5-48d0-aac9-eb36406cbb8c",
   "metadata": {
    "tags": []
   },
   "outputs": [
    {
     "data": {
      "text/html": [
       "0.731370945761788"
      ],
      "text/latex": [
       "0.731370945761788"
      ],
      "text/markdown": [
       "0.731370945761788"
      ],
      "text/plain": [
       "[1] 0.7313709"
      ]
     },
     "metadata": {},
     "output_type": "display_data"
    },
    {
     "data": {
      "text/html": [
       "0.734466971877044"
      ],
      "text/latex": [
       "0.734466971877044"
      ],
      "text/markdown": [
       "0.734466971877044"
      ],
      "text/plain": [
       "[1] 0.734467"
      ]
     },
     "metadata": {},
     "output_type": "display_data"
    },
    {
     "data": {
      "text/html": [
       "0.733676559660812"
      ],
      "text/latex": [
       "0.733676559660812"
      ],
      "text/markdown": [
       "0.733676559660812"
      ],
      "text/plain": [
       "[1] 0.7336766"
      ]
     },
     "metadata": {},
     "output_type": "display_data"
    }
   ],
   "source": [
    "mean(results$p >= 0.05)\n",
    "mean(results_filt$p >= 0.05)\n",
    "mean(results_filt1$p >= 0.05)"
   ]
  },
  {
   "cell_type": "markdown",
   "id": "d7d9a527-5074-440b-be07-87ab57b22694",
   "metadata": {},
   "source": [
    "## t-test"
   ]
  },
  {
   "cell_type": "code",
   "execution_count": null,
   "id": "379c5daa-e118-4891-97a6-4671f44e90be",
   "metadata": {},
   "outputs": [],
   "source": [
    "results = read.csv('results/20240216-5/ci_summary_avg.csv')\n",
    "results_dummy = bind_rows(lapply(1:5, function(x) read.csv(sprintf('results/20240216-5-dummy%s/ci_summary_avg.csv', x))))\n",
    "\n",
    "dim(results)\n",
    "dim(results_dummy)"
   ]
  },
  {
   "cell_type": "code",
   "execution_count": 27,
   "id": "4baf4e20-a3c0-43e0-b084-5546f443bf0d",
   "metadata": {
    "tags": []
   },
   "outputs": [
    {
     "data": {
      "text/html": [
       "0.179534479952254"
      ],
      "text/latex": [
       "0.179534479952254"
      ],
      "text/markdown": [
       "0.179534479952254"
      ],
      "text/plain": [
       "[1] 0.1795345"
      ]
     },
     "metadata": {},
     "output_type": "display_data"
    },
    {
     "data": {
      "text/html": [
       "0.383809644178755"
      ],
      "text/latex": [
       "0.383809644178755"
      ],
      "text/markdown": [
       "0.383809644178755"
      ],
      "text/plain": [
       "[1] 0.3838096"
      ]
     },
     "metadata": {},
     "output_type": "display_data"
    },
    {
     "data": {
      "text/html": [
       "18431"
      ],
      "text/latex": [
       "18431"
      ],
      "text/markdown": [
       "18431"
      ],
      "text/plain": [
       "[1] 18431"
      ]
     },
     "metadata": {},
     "output_type": "display_data"
    }
   ],
   "source": [
    "z = (results$p < 0.05) & (results$Actual > results$Pred)\n",
    "mean(z)\n",
    "sd(z)\n",
    "nrow(results)"
   ]
  },
  {
   "cell_type": "code",
   "execution_count": 28,
   "id": "8631d58b-4777-4df4-8d03-0fe9f7cbdeb0",
   "metadata": {
    "tags": []
   },
   "outputs": [
    {
     "data": {
      "text/html": [
       "0.158953897809901"
      ],
      "text/latex": [
       "0.158953897809901"
      ],
      "text/markdown": [
       "0.158953897809901"
      ],
      "text/plain": [
       "[1] 0.1589539"
      ]
     },
     "metadata": {},
     "output_type": "display_data"
    },
    {
     "data": {
      "text/html": [
       "0.365635082539561"
      ],
      "text/latex": [
       "0.365635082539561"
      ],
      "text/markdown": [
       "0.365635082539561"
      ],
      "text/plain": [
       "[1] 0.3656351"
      ]
     },
     "metadata": {},
     "output_type": "display_data"
    },
    {
     "data": {
      "text/html": [
       "91731"
      ],
      "text/latex": [
       "91731"
      ],
      "text/markdown": [
       "91731"
      ],
      "text/plain": [
       "[1] 91731"
      ]
     },
     "metadata": {},
     "output_type": "display_data"
    }
   ],
   "source": [
    "z_dummy = (results_dummy$p < 0.05) & (results_dummy$Actual > results_dummy$Pred)\n",
    "mean(z_dummy)\n",
    "sd(z_dummy)\n",
    "nrow(results_dummy)"
   ]
  },
  {
   "cell_type": "markdown",
   "id": "e907e303-83cb-4c2d-b38e-d3e7501b1f2a",
   "metadata": {},
   "source": [
    "### vs dummies"
   ]
  },
  {
   "cell_type": "code",
   "execution_count": 43,
   "id": "965985f2-2baa-4f69-b29b-ff449c0caa80",
   "metadata": {
    "tags": []
   },
   "outputs": [
    {
     "data": {
      "text/plain": [
       "\n",
       "\tWelch Two Sample t-test\n",
       "\n",
       "data:  z and z_dummy\n",
       "t = 6.6949, df = 25593, p-value = 2.203e-11\n",
       "alternative hypothesis: true difference in means is not equal to 0\n",
       "95 percent confidence interval:\n",
       " 0.01455523 0.02660593\n",
       "sample estimates:\n",
       "mean of x mean of y \n",
       "0.1795345 0.1589539 \n"
      ]
     },
     "metadata": {},
     "output_type": "display_data"
    }
   ],
   "source": [
    "t.test(z, z_dummy, alternative = \"two.sided\", var.equal = FALSE)"
   ]
  },
  {
   "cell_type": "code",
   "execution_count": 41,
   "id": "67f4fa91-bbdd-4f71-8ca4-5b6c5de6bef5",
   "metadata": {
    "tags": []
   },
   "outputs": [
    {
     "data": {
      "text/html": [
       "6.69489686224934"
      ],
      "text/latex": [
       "6.69489686224934"
      ],
      "text/markdown": [
       "6.69489686224934"
      ],
      "text/plain": [
       "[1] 6.694897"
      ]
     },
     "metadata": {},
     "output_type": "display_data"
    }
   ],
   "source": [
    "(mean(z) - mean(z_dummy)) / sqrt(var(z)/length(z) + var(z_dummy)/length(z_dummy))"
   ]
  }
 ],
 "metadata": {
  "kernelspec": {
   "display_name": "R",
   "language": "R",
   "name": "ir"
  },
  "language_info": {
   "codemirror_mode": "r",
   "file_extension": ".r",
   "mimetype": "text/x-r-source",
   "name": "R",
   "pygments_lexer": "r",
   "version": "4.1.3"
  }
 },
 "nbformat": 4,
 "nbformat_minor": 5
}
