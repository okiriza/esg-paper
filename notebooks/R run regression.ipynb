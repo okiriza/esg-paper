{
 "cells": [
  {
   "cell_type": "code",
   "execution_count": 1,
   "id": "6dc82850-3026-43bc-b724-f3a6ac245d6a",
   "metadata": {
    "tags": []
   },
   "outputs": [],
   "source": [
    "setwd('..')"
   ]
  },
  {
   "cell_type": "code",
   "execution_count": 2,
   "id": "4dcf4a5b-eb38-4375-b75b-a7ff5979c4ac",
   "metadata": {
    "tags": []
   },
   "outputs": [],
   "source": [
    "# getwd()"
   ]
  },
  {
   "cell_type": "code",
   "execution_count": 4,
   "id": "14c37a91-ae4e-4bb6-af02-55a6eef51e8c",
   "metadata": {
    "tags": []
   },
   "outputs": [],
   "source": [
    "library(dplyr)"
   ]
  },
  {
   "cell_type": "code",
   "execution_count": 5,
   "id": "9a62e27c-fc5a-4a0f-9fec-0ee52b40885a",
   "metadata": {
    "tags": []
   },
   "outputs": [],
   "source": [
    "years = 2016:2023\n",
    "conf_name = '003'"
   ]
  },
  {
   "cell_type": "markdown",
   "id": "74186728-6464-4952-a172-e22a81c9096d",
   "metadata": {},
   "source": [
    "## Read data"
   ]
  },
  {
   "cell_type": "code",
   "execution_count": 6,
   "id": "3a88287a-a93c-477c-b552-86e7a850ed8a",
   "metadata": {
    "tags": []
   },
   "outputs": [
    {
     "data": {
      "text/html": [
       "<style>\n",
       ".list-inline {list-style: none; margin:0; padding: 0}\n",
       ".list-inline>li {display: inline-block}\n",
       ".list-inline>li:not(:last-child)::after {content: \"\\00b7\"; padding: 0 .5ex}\n",
       "</style>\n",
       "<ol class=list-inline><li>12612</li><li>20</li></ol>\n"
      ],
      "text/latex": [
       "\\begin{enumerate*}\n",
       "\\item 12612\n",
       "\\item 20\n",
       "\\end{enumerate*}\n"
      ],
      "text/markdown": [
       "1. 12612\n",
       "2. 20\n",
       "\n",
       "\n"
      ],
      "text/plain": [
       "[1] 12612    20"
      ]
     },
     "metadata": {},
     "output_type": "display_data"
    },
    {
     "data": {
      "text/html": [
       "<table class=\"dataframe\">\n",
       "<caption>A data.frame: 6 × 20</caption>\n",
       "<thead>\n",
       "\t<tr><th></th><th scope=col>Actual</th><th scope=col>Pred</th><th scope=col>Pred.lower</th><th scope=col>Pred.upper</th><th scope=col>Pred.sd</th><th scope=col>AbsEffect</th><th scope=col>AbsEffect.lower</th><th scope=col>AbsEffect.upper</th><th scope=col>AbsEffect.sd</th><th scope=col>RelEffect</th><th scope=col>RelEffect.lower</th><th scope=col>RelEffect.upper</th><th scope=col>RelEffect.sd</th><th scope=col>alpha</th><th scope=col>p</th><th scope=col>obs_id</th><th scope=col>event_date</th><th scope=col>n_events</th><th scope=col>max_score</th><th scope=col>sum_score</th></tr>\n",
       "\t<tr><th></th><th scope=col>&lt;dbl&gt;</th><th scope=col>&lt;dbl&gt;</th><th scope=col>&lt;dbl&gt;</th><th scope=col>&lt;dbl&gt;</th><th scope=col>&lt;dbl&gt;</th><th scope=col>&lt;dbl&gt;</th><th scope=col>&lt;dbl&gt;</th><th scope=col>&lt;dbl&gt;</th><th scope=col>&lt;dbl&gt;</th><th scope=col>&lt;dbl&gt;</th><th scope=col>&lt;dbl&gt;</th><th scope=col>&lt;dbl&gt;</th><th scope=col>&lt;dbl&gt;</th><th scope=col>&lt;dbl&gt;</th><th scope=col>&lt;dbl&gt;</th><th scope=col>&lt;chr&gt;</th><th scope=col>&lt;chr&gt;</th><th scope=col>&lt;int&gt;</th><th scope=col>&lt;dbl&gt;</th><th scope=col>&lt;dbl&gt;</th></tr>\n",
       "</thead>\n",
       "<tbody>\n",
       "\t<tr><th scope=row>1</th><td>1.1065062</td><td>1.0091901</td><td> 0.4542015</td><td>1.622342</td><td>0.3003905</td><td> 0.09731613</td><td>-0.5158360</td><td>0.6523048</td><td>0.3003905</td><td> 0.22735923</td><td> -0.3179574</td><td> 1.4362214</td><td>  0.5901228</td><td>0.05</td><td>0.36036036</td><td>AALI</td><td>2016-02-05</td><td>1</td><td>0.6107671</td><td>0.6107671</td></tr>\n",
       "\t<tr><th scope=row>2</th><td>1.2256995</td><td>1.0294899</td><td> 0.2563479</td><td>1.749458</td><td>0.3915923</td><td> 0.19620963</td><td>-0.5237581</td><td>0.9693517</td><td>0.3915923</td><td> 0.68052674</td><td> -0.3162937</td><td> 3.4791918</td><td>  8.3351864</td><td>0.05</td><td>0.30688935</td><td>AALI</td><td>2016-02-29</td><td>1</td><td>0.5373070</td><td>0.5373070</td></tr>\n",
       "\t<tr><th scope=row>3</th><td>0.9125030</td><td>1.0295840</td><td> 0.2511440</td><td>1.725064</td><td>0.3718314</td><td>-0.11708100</td><td>-0.8125607</td><td>0.6613590</td><td>0.3718314</td><td>-0.09613304</td><td> -0.4840724</td><td> 1.7688164</td><td>  3.2036239</td><td>0.05</td><td>0.36430063</td><td>AALI</td><td>2016-03-14</td><td>1</td><td>0.6783051</td><td>0.6783051</td></tr>\n",
       "\t<tr><th scope=row>4</th><td>0.7238977</td><td>1.0005072</td><td> 0.3427610</td><td>1.667591</td><td>0.3496471</td><td>-0.27660957</td><td>-0.9436931</td><td>0.3811367</td><td>0.3496471</td><td> 4.82800826</td><td> -0.5686528</td><td> 1.0346843</td><td>154.1028638</td><td>0.05</td><td>0.23377961</td><td>AALI</td><td>2016-04-25</td><td>1</td><td>0.6064426</td><td>0.6064426</td></tr>\n",
       "\t<tr><th scope=row>5</th><td>1.8020138</td><td>0.9976611</td><td>-0.4154579</td><td>2.391863</td><td>0.7078230</td><td> 0.80435262</td><td>-0.5898493</td><td>2.2174717</td><td>0.7078230</td><td>-0.22265425</td><td>-10.2584509</td><td>18.4554022</td><td> 58.1956480</td><td>0.05</td><td>0.13913914</td><td>AALI</td><td>2016-08-16</td><td>1</td><td>0.5889188</td><td>0.5889188</td></tr>\n",
       "\t<tr><th scope=row>6</th><td>0.2665706</td><td>0.9920697</td><td>-0.1886735</td><td>2.138159</td><td>0.5821746</td><td>-0.72549904</td><td>-1.8715880</td><td>0.4552442</td><td>0.5821746</td><td>-0.69454942</td><td> -1.9979285</td><td> 0.9753346</td><td>  1.9593139</td><td>0.05</td><td>0.09989701</td><td>AALI</td><td>2016-09-07</td><td>1</td><td>0.5048047</td><td>0.5048047</td></tr>\n",
       "</tbody>\n",
       "</table>\n"
      ],
      "text/latex": [
       "A data.frame: 6 × 20\n",
       "\\begin{tabular}{r|llllllllllllllllllll}\n",
       "  & Actual & Pred & Pred.lower & Pred.upper & Pred.sd & AbsEffect & AbsEffect.lower & AbsEffect.upper & AbsEffect.sd & RelEffect & RelEffect.lower & RelEffect.upper & RelEffect.sd & alpha & p & obs\\_id & event\\_date & n\\_events & max\\_score & sum\\_score\\\\\n",
       "  & <dbl> & <dbl> & <dbl> & <dbl> & <dbl> & <dbl> & <dbl> & <dbl> & <dbl> & <dbl> & <dbl> & <dbl> & <dbl> & <dbl> & <dbl> & <chr> & <chr> & <int> & <dbl> & <dbl>\\\\\n",
       "\\hline\n",
       "\t1 & 1.1065062 & 1.0091901 &  0.4542015 & 1.622342 & 0.3003905 &  0.09731613 & -0.5158360 & 0.6523048 & 0.3003905 &  0.22735923 &  -0.3179574 &  1.4362214 &   0.5901228 & 0.05 & 0.36036036 & AALI & 2016-02-05 & 1 & 0.6107671 & 0.6107671\\\\\n",
       "\t2 & 1.2256995 & 1.0294899 &  0.2563479 & 1.749458 & 0.3915923 &  0.19620963 & -0.5237581 & 0.9693517 & 0.3915923 &  0.68052674 &  -0.3162937 &  3.4791918 &   8.3351864 & 0.05 & 0.30688935 & AALI & 2016-02-29 & 1 & 0.5373070 & 0.5373070\\\\\n",
       "\t3 & 0.9125030 & 1.0295840 &  0.2511440 & 1.725064 & 0.3718314 & -0.11708100 & -0.8125607 & 0.6613590 & 0.3718314 & -0.09613304 &  -0.4840724 &  1.7688164 &   3.2036239 & 0.05 & 0.36430063 & AALI & 2016-03-14 & 1 & 0.6783051 & 0.6783051\\\\\n",
       "\t4 & 0.7238977 & 1.0005072 &  0.3427610 & 1.667591 & 0.3496471 & -0.27660957 & -0.9436931 & 0.3811367 & 0.3496471 &  4.82800826 &  -0.5686528 &  1.0346843 & 154.1028638 & 0.05 & 0.23377961 & AALI & 2016-04-25 & 1 & 0.6064426 & 0.6064426\\\\\n",
       "\t5 & 1.8020138 & 0.9976611 & -0.4154579 & 2.391863 & 0.7078230 &  0.80435262 & -0.5898493 & 2.2174717 & 0.7078230 & -0.22265425 & -10.2584509 & 18.4554022 &  58.1956480 & 0.05 & 0.13913914 & AALI & 2016-08-16 & 1 & 0.5889188 & 0.5889188\\\\\n",
       "\t6 & 0.2665706 & 0.9920697 & -0.1886735 & 2.138159 & 0.5821746 & -0.72549904 & -1.8715880 & 0.4552442 & 0.5821746 & -0.69454942 &  -1.9979285 &  0.9753346 &   1.9593139 & 0.05 & 0.09989701 & AALI & 2016-09-07 & 1 & 0.5048047 & 0.5048047\\\\\n",
       "\\end{tabular}\n"
      ],
      "text/markdown": [
       "\n",
       "A data.frame: 6 × 20\n",
       "\n",
       "| <!--/--> | Actual &lt;dbl&gt; | Pred &lt;dbl&gt; | Pred.lower &lt;dbl&gt; | Pred.upper &lt;dbl&gt; | Pred.sd &lt;dbl&gt; | AbsEffect &lt;dbl&gt; | AbsEffect.lower &lt;dbl&gt; | AbsEffect.upper &lt;dbl&gt; | AbsEffect.sd &lt;dbl&gt; | RelEffect &lt;dbl&gt; | RelEffect.lower &lt;dbl&gt; | RelEffect.upper &lt;dbl&gt; | RelEffect.sd &lt;dbl&gt; | alpha &lt;dbl&gt; | p &lt;dbl&gt; | obs_id &lt;chr&gt; | event_date &lt;chr&gt; | n_events &lt;int&gt; | max_score &lt;dbl&gt; | sum_score &lt;dbl&gt; |\n",
       "|---|---|---|---|---|---|---|---|---|---|---|---|---|---|---|---|---|---|---|---|---|\n",
       "| 1 | 1.1065062 | 1.0091901 |  0.4542015 | 1.622342 | 0.3003905 |  0.09731613 | -0.5158360 | 0.6523048 | 0.3003905 |  0.22735923 |  -0.3179574 |  1.4362214 |   0.5901228 | 0.05 | 0.36036036 | AALI | 2016-02-05 | 1 | 0.6107671 | 0.6107671 |\n",
       "| 2 | 1.2256995 | 1.0294899 |  0.2563479 | 1.749458 | 0.3915923 |  0.19620963 | -0.5237581 | 0.9693517 | 0.3915923 |  0.68052674 |  -0.3162937 |  3.4791918 |   8.3351864 | 0.05 | 0.30688935 | AALI | 2016-02-29 | 1 | 0.5373070 | 0.5373070 |\n",
       "| 3 | 0.9125030 | 1.0295840 |  0.2511440 | 1.725064 | 0.3718314 | -0.11708100 | -0.8125607 | 0.6613590 | 0.3718314 | -0.09613304 |  -0.4840724 |  1.7688164 |   3.2036239 | 0.05 | 0.36430063 | AALI | 2016-03-14 | 1 | 0.6783051 | 0.6783051 |\n",
       "| 4 | 0.7238977 | 1.0005072 |  0.3427610 | 1.667591 | 0.3496471 | -0.27660957 | -0.9436931 | 0.3811367 | 0.3496471 |  4.82800826 |  -0.5686528 |  1.0346843 | 154.1028638 | 0.05 | 0.23377961 | AALI | 2016-04-25 | 1 | 0.6064426 | 0.6064426 |\n",
       "| 5 | 1.8020138 | 0.9976611 | -0.4154579 | 2.391863 | 0.7078230 |  0.80435262 | -0.5898493 | 2.2174717 | 0.7078230 | -0.22265425 | -10.2584509 | 18.4554022 |  58.1956480 | 0.05 | 0.13913914 | AALI | 2016-08-16 | 1 | 0.5889188 | 0.5889188 |\n",
       "| 6 | 0.2665706 | 0.9920697 | -0.1886735 | 2.138159 | 0.5821746 | -0.72549904 | -1.8715880 | 0.4552442 | 0.5821746 | -0.69454942 |  -1.9979285 |  0.9753346 |   1.9593139 | 0.05 | 0.09989701 | AALI | 2016-09-07 | 1 | 0.5048047 | 0.5048047 |\n",
       "\n"
      ],
      "text/plain": [
       "  Actual    Pred      Pred.lower Pred.upper Pred.sd   AbsEffect  \n",
       "1 1.1065062 1.0091901  0.4542015 1.622342   0.3003905  0.09731613\n",
       "2 1.2256995 1.0294899  0.2563479 1.749458   0.3915923  0.19620963\n",
       "3 0.9125030 1.0295840  0.2511440 1.725064   0.3718314 -0.11708100\n",
       "4 0.7238977 1.0005072  0.3427610 1.667591   0.3496471 -0.27660957\n",
       "5 1.8020138 0.9976611 -0.4154579 2.391863   0.7078230  0.80435262\n",
       "6 0.2665706 0.9920697 -0.1886735 2.138159   0.5821746 -0.72549904\n",
       "  AbsEffect.lower AbsEffect.upper AbsEffect.sd RelEffect   RelEffect.lower\n",
       "1 -0.5158360      0.6523048       0.3003905     0.22735923  -0.3179574    \n",
       "2 -0.5237581      0.9693517       0.3915923     0.68052674  -0.3162937    \n",
       "3 -0.8125607      0.6613590       0.3718314    -0.09613304  -0.4840724    \n",
       "4 -0.9436931      0.3811367       0.3496471     4.82800826  -0.5686528    \n",
       "5 -0.5898493      2.2174717       0.7078230    -0.22265425 -10.2584509    \n",
       "6 -1.8715880      0.4552442       0.5821746    -0.69454942  -1.9979285    \n",
       "  RelEffect.upper RelEffect.sd alpha p          obs_id event_date n_events\n",
       "1  1.4362214        0.5901228  0.05  0.36036036 AALI   2016-02-05 1       \n",
       "2  3.4791918        8.3351864  0.05  0.30688935 AALI   2016-02-29 1       \n",
       "3  1.7688164        3.2036239  0.05  0.36430063 AALI   2016-03-14 1       \n",
       "4  1.0346843      154.1028638  0.05  0.23377961 AALI   2016-04-25 1       \n",
       "5 18.4554022       58.1956480  0.05  0.13913914 AALI   2016-08-16 1       \n",
       "6  0.9753346        1.9593139  0.05  0.09989701 AALI   2016-09-07 1       \n",
       "  max_score sum_score\n",
       "1 0.6107671 0.6107671\n",
       "2 0.5373070 0.5373070\n",
       "3 0.6783051 0.6783051\n",
       "4 0.6064426 0.6064426\n",
       "5 0.5889188 0.5889188\n",
       "6 0.5048047 0.5048047"
      ]
     },
     "metadata": {},
     "output_type": "display_data"
    }
   ],
   "source": [
    "results_orig = read.csv(sprintf('results/%s/ci_summary_avg.csv', conf_name))\n",
    "dim(results_orig)\n",
    "head(results_orig)"
   ]
  },
  {
   "cell_type": "code",
   "execution_count": 7,
   "id": "63f1fffd-ff21-4b43-9b0e-79959cd40715",
   "metadata": {
    "tags": []
   },
   "outputs": [
    {
     "data": {
      "text/plain": [
       "\n",
       "2016 2017 2018 2019 2020 2021 2022 2023 \n",
       " 541 1342 1951  833 1080 1390 3157 2318 "
      ]
     },
     "metadata": {},
     "output_type": "display_data"
    }
   ],
   "source": [
    "table(lubridate::year(results_orig$event_date))"
   ]
  },
  {
   "cell_type": "code",
   "execution_count": 8,
   "id": "bd5dd470-a8b2-4192-9eb0-f61b133492e9",
   "metadata": {
    "tags": []
   },
   "outputs": [
    {
     "data": {
      "text/html": [
       "626"
      ],
      "text/latex": [
       "626"
      ],
      "text/markdown": [
       "626"
      ],
      "text/plain": [
       "[1] 626"
      ]
     },
     "metadata": {},
     "output_type": "display_data"
    }
   ],
   "source": [
    "length(unique(results_orig$obs_id))"
   ]
  },
  {
   "cell_type": "code",
   "execution_count": 9,
   "id": "9ba5ae0e-72b1-4a38-90e7-ef7fca02c6fe",
   "metadata": {
    "tags": []
   },
   "outputs": [
    {
     "data": {
      "text/plain": [
       "\n",
       "BBRI BBCA BMRI BBNI TLKM ADRO PTBA ANTM ASII AALI UNVR ICBP LSIP INDF INCO ITMG \n",
       " 441  382  380  361  287  274  269  263  247  242  242  241  227  220  192  186 \n",
       "PGAS MEDC BBTN KLBF BSDE AKRA WIKA SMGR UNTR JSMR MYOR INDY CTRA PTPP \n",
       " 180  150  148  139  134  132  117  116  116  109  109  107  104  103 "
      ]
     },
     "metadata": {},
     "output_type": "display_data"
    }
   ],
   "source": [
    "head(sort(table(results_orig$obs_id), decreasing=TRUE), 30)"
   ]
  },
  {
   "cell_type": "markdown",
   "id": "c8a5b503-42d2-4ae5-915f-504a7dc4845a",
   "metadata": {},
   "source": [
    "## Process data"
   ]
  },
  {
   "cell_type": "code",
   "execution_count": 10,
   "id": "2c753770-c197-4083-afcf-098ca14afd08",
   "metadata": {
    "tags": []
   },
   "outputs": [
    {
     "name": "stderr",
     "output_type": "stream",
     "text": [
      "\u001b[1m\u001b[22m`summarise()` has grouped output by 'obs_id'. You can override using the `.groups` argument.\n"
     ]
    },
    {
     "data": {
      "text/html": [
       "<style>\n",
       ".list-inline {list-style: none; margin:0; padding: 0}\n",
       ".list-inline>li {display: inline-block}\n",
       ".list-inline>li:not(:last-child)::after {content: \"\\00b7\"; padding: 0 .5ex}\n",
       "</style>\n",
       "<ol class=list-inline><li>1759</li><li>7</li></ol>\n"
      ],
      "text/latex": [
       "\\begin{enumerate*}\n",
       "\\item 1759\n",
       "\\item 7\n",
       "\\end{enumerate*}\n"
      ],
      "text/markdown": [
       "1. 1759\n",
       "2. 7\n",
       "\n",
       "\n"
      ],
      "text/plain": [
       "[1] 1759    7"
      ]
     },
     "metadata": {},
     "output_type": "display_data"
    },
    {
     "data": {
      "text/html": [
       "<table class=\"dataframe\">\n",
       "<caption>A pdata.frame: 6 × 7</caption>\n",
       "<thead>\n",
       "\t<tr><th></th><th scope=col>obs_id</th><th scope=col>event_year</th><th scope=col>n</th><th scope=col>mean_p</th><th scope=col>sd_p</th><th scope=col>mean_eff</th><th scope=col>sd_eff</th></tr>\n",
       "\t<tr><th></th><th scope=col>&lt;fct&gt;</th><th scope=col>&lt;fct&gt;</th><th scope=col>&lt;int&gt;</th><th scope=col>&lt;dbl&gt;</th><th scope=col>&lt;dbl&gt;</th><th scope=col>&lt;dbl&gt;</th><th scope=col>&lt;dbl&gt;</th></tr>\n",
       "</thead>\n",
       "<tbody>\n",
       "\t<tr><th scope=row>AALI-2016</th><td>AALI</td><td>2016</td><td> 8</td><td>0.2152960</td><td>0.1167251</td><td>-0.11154604</td><td>0.4773019</td></tr>\n",
       "\t<tr><th scope=row>AALI-2017</th><td>AALI</td><td>2017</td><td>25</td><td>0.1880452</td><td>0.1260938</td><td>-0.13516747</td><td>0.3494676</td></tr>\n",
       "\t<tr><th scope=row>AALI-2018</th><td>AALI</td><td>2018</td><td>35</td><td>0.1747006</td><td>0.1597063</td><td> 0.03657328</td><td>1.0692680</td></tr>\n",
       "\t<tr><th scope=row>AALI-2019</th><td>AALI</td><td>2019</td><td>20</td><td>0.2172153</td><td>0.1542257</td><td> 0.01687586</td><td>0.7285473</td></tr>\n",
       "\t<tr><th scope=row>AALI-2020</th><td>AALI</td><td>2020</td><td>32</td><td>0.1704617</td><td>0.1267458</td><td> 0.11039819</td><td>0.3976536</td></tr>\n",
       "\t<tr><th scope=row>AALI-2021</th><td>AALI</td><td>2021</td><td>41</td><td>0.1676779</td><td>0.1457199</td><td> 0.17429267</td><td>1.1208758</td></tr>\n",
       "</tbody>\n",
       "</table>\n"
      ],
      "text/latex": [
       "A pdata.frame: 6 × 7\n",
       "\\begin{tabular}{r|lllllll}\n",
       "  & obs\\_id & event\\_year & n & mean\\_p & sd\\_p & mean\\_eff & sd\\_eff\\\\\n",
       "  & <fct> & <fct> & <int> & <dbl> & <dbl> & <dbl> & <dbl>\\\\\n",
       "\\hline\n",
       "\tAALI-2016 & AALI & 2016 &  8 & 0.2152960 & 0.1167251 & -0.11154604 & 0.4773019\\\\\n",
       "\tAALI-2017 & AALI & 2017 & 25 & 0.1880452 & 0.1260938 & -0.13516747 & 0.3494676\\\\\n",
       "\tAALI-2018 & AALI & 2018 & 35 & 0.1747006 & 0.1597063 &  0.03657328 & 1.0692680\\\\\n",
       "\tAALI-2019 & AALI & 2019 & 20 & 0.2172153 & 0.1542257 &  0.01687586 & 0.7285473\\\\\n",
       "\tAALI-2020 & AALI & 2020 & 32 & 0.1704617 & 0.1267458 &  0.11039819 & 0.3976536\\\\\n",
       "\tAALI-2021 & AALI & 2021 & 41 & 0.1676779 & 0.1457199 &  0.17429267 & 1.1208758\\\\\n",
       "\\end{tabular}\n"
      ],
      "text/markdown": [
       "\n",
       "A pdata.frame: 6 × 7\n",
       "\n",
       "| <!--/--> | obs_id &lt;fct&gt; | event_year &lt;fct&gt; | n &lt;int&gt; | mean_p &lt;dbl&gt; | sd_p &lt;dbl&gt; | mean_eff &lt;dbl&gt; | sd_eff &lt;dbl&gt; |\n",
       "|---|---|---|---|---|---|---|---|\n",
       "| AALI-2016 | AALI | 2016 |  8 | 0.2152960 | 0.1167251 | -0.11154604 | 0.4773019 |\n",
       "| AALI-2017 | AALI | 2017 | 25 | 0.1880452 | 0.1260938 | -0.13516747 | 0.3494676 |\n",
       "| AALI-2018 | AALI | 2018 | 35 | 0.1747006 | 0.1597063 |  0.03657328 | 1.0692680 |\n",
       "| AALI-2019 | AALI | 2019 | 20 | 0.2172153 | 0.1542257 |  0.01687586 | 0.7285473 |\n",
       "| AALI-2020 | AALI | 2020 | 32 | 0.1704617 | 0.1267458 |  0.11039819 | 0.3976536 |\n",
       "| AALI-2021 | AALI | 2021 | 41 | 0.1676779 | 0.1457199 |  0.17429267 | 1.1208758 |\n",
       "\n"
      ],
      "text/plain": [
       "          obs_id event_year n  mean_p    sd_p      mean_eff    sd_eff   \n",
       "AALI-2016 AALI   2016        8 0.2152960 0.1167251 -0.11154604 0.4773019\n",
       "AALI-2017 AALI   2017       25 0.1880452 0.1260938 -0.13516747 0.3494676\n",
       "AALI-2018 AALI   2018       35 0.1747006 0.1597063  0.03657328 1.0692680\n",
       "AALI-2019 AALI   2019       20 0.2172153 0.1542257  0.01687586 0.7285473\n",
       "AALI-2020 AALI   2020       32 0.1704617 0.1267458  0.11039819 0.3976536\n",
       "AALI-2021 AALI   2021       41 0.1676779 0.1457199  0.17429267 1.1208758"
      ]
     },
     "metadata": {},
     "output_type": "display_data"
    }
   ],
   "source": [
    "results = results_orig %>%\n",
    "    mutate(event_year=lubridate::year(event_date), Effect=Actual - Pred) %>%\n",
    "    group_by(obs_id, event_year) %>%\n",
    "    summarise(n=n(), mean_p=mean(p), sd_p=sd(p), mean_eff=mean(Effect), sd_eff=sd(Effect)) %>%\n",
    "    group_by(obs_id) %>% filter(n() > 1) %>%    # discard firms which only appeared in 1 year\n",
    "    arrange(obs_id, event_year) %>%\n",
    "    plm::pdata.frame(index=c('obs_id', 'event_year'))\n",
    "dim(results)\n",
    "head(results)"
   ]
  },
  {
   "cell_type": "code",
   "execution_count": 11,
   "id": "2bf32fc2-5a68-49e4-a02c-51d4e5939d20",
   "metadata": {
    "tags": []
   },
   "outputs": [
    {
     "data": {
      "text/plain": [
       "\n",
       "2016 2017 2018 2019 2020 2021 2022 2023 \n",
       " 136  223  245  181  197  223  293  261 "
      ]
     },
     "metadata": {},
     "output_type": "display_data"
    }
   ],
   "source": [
    "table(results$event_year)"
   ]
  },
  {
   "cell_type": "code",
   "execution_count": 12,
   "id": "7221bd69-256e-4732-aad0-0db0b8053ba8",
   "metadata": {
    "tags": []
   },
   "outputs": [
    {
     "data": {
      "text/html": [
       "404"
      ],
      "text/latex": [
       "404"
      ],
      "text/markdown": [
       "404"
      ],
      "text/plain": [
       "[1] 404"
      ]
     },
     "metadata": {},
     "output_type": "display_data"
    }
   ],
   "source": [
    "length(unique(results$obs_id))"
   ]
  },
  {
   "cell_type": "code",
   "execution_count": 13,
   "id": "54fcd7cd-c3f8-49a1-8b7b-ef0eefdb2127",
   "metadata": {
    "tags": []
   },
   "outputs": [
    {
     "data": {
      "text/plain": [
       "\n",
       "  2   3   4   5   6   7   8 \n",
       "123  68  57  27  25  36  68 "
      ]
     },
     "metadata": {},
     "output_type": "display_data"
    }
   ],
   "source": [
    "table(table(results$obs_id))"
   ]
  },
  {
   "cell_type": "code",
   "execution_count": 14,
   "id": "d73935ae-6c90-4a83-a893-c1b37a213ec6",
   "metadata": {
    "tags": []
   },
   "outputs": [
    {
     "data": {
      "text/html": [
       "<style>\n",
       ".dl-inline {width: auto; margin:0; padding: 0}\n",
       ".dl-inline>dt, .dl-inline>dd {float: none; width: auto; display: inline-block}\n",
       ".dl-inline>dt::after {content: \":\\0020\"; padding-right: .5ex}\n",
       ".dl-inline>dt:not(:first-of-type) {padding-left: .5ex}\n",
       "</style><dl class=dl-inline><dt>gamma</dt><dd>0.762903814909704</dd><dt>nu</dt><dd>0.788978709862333</dd></dl>\n"
      ],
      "text/latex": [
       "\\begin{description*}\n",
       "\\item[gamma] 0.762903814909704\n",
       "\\item[nu] 0.788978709862333\n",
       "\\end{description*}\n"
      ],
      "text/markdown": [
       "gamma\n",
       ":   0.762903814909704nu\n",
       ":   0.788978709862333\n",
       "\n"
      ],
      "text/plain": [
       "    gamma        nu \n",
       "0.7629038 0.7889787 "
      ]
     },
     "metadata": {},
     "output_type": "display_data"
    }
   ],
   "source": [
    "plm::punbalancedness(results)"
   ]
  },
  {
   "cell_type": "markdown",
   "id": "51de98db-3780-4d99-a204-94416e20e49a",
   "metadata": {},
   "source": [
    "## Test hypothesis"
   ]
  },
  {
   "cell_type": "code",
   "execution_count": 15,
   "id": "1bfcd507-5e27-4609-82fc-35c7cc263d25",
   "metadata": {
    "tags": []
   },
   "outputs": [
    {
     "data": {
      "text/plain": [
       "total sum of squares: 20.75515 \n",
       "         id        time \n",
       "0.307971201 0.006414354 \n",
       "\n",
       "   Min. 1st Qu.  Median    Mean 3rd Qu.    Max. \n",
       " 0.0010  0.1226  0.1902  0.1943  0.2576  0.4985 "
      ]
     },
     "metadata": {},
     "output_type": "display_data"
    }
   ],
   "source": [
    "summary(results$mean_p)"
   ]
  },
  {
   "cell_type": "code",
   "execution_count": 16,
   "id": "68891881-7b78-41d8-93d7-c4e680e5b662",
   "metadata": {
    "tags": []
   },
   "outputs": [
    {
     "data": {
      "text/html": [
       "0.101762364980102"
      ],
      "text/latex": [
       "0.101762364980102"
      ],
      "text/markdown": [
       "0.101762364980102"
      ],
      "text/plain": [
       "[1] 0.1017624"
      ]
     },
     "metadata": {},
     "output_type": "display_data"
    }
   ],
   "source": [
    "mean(results$mean_p <= 0.05)"
   ]
  },
  {
   "cell_type": "code",
   "execution_count": 17,
   "id": "e8eec7aa-5d3c-41d3-acbe-8e5cd617e8a5",
   "metadata": {
    "tags": []
   },
   "outputs": [
    {
     "data": {
      "image/png": "[encoded data removed]",
      "text/plain": [
       "Plot with title \"Histogram of results$mean_p\""
      ]
     },
     "metadata": {
      "image/png": {
       "height": 420,
       "width": 420
      }
     },
     "output_type": "display_data"
    }
   ],
   "source": [
    "hist(results$mean_p)"
   ]
  },
  {
   "cell_type": "code",
   "execution_count": 18,
   "id": "9c3ce10b-ac55-436a-98dc-43b805a5a428",
   "metadata": {
    "tags": []
   },
   "outputs": [
    {
     "data": {
      "text/plain": [
       "total sum of squares: 1709874 \n",
       "        id       time \n",
       "0.47631593 0.01139522 \n",
       "\n",
       "    Min.  1st Qu.   Median     Mean  3rd Qu.     Max. \n",
       " -1.2362  -0.3462  -0.0100   2.4763   0.3911 657.6537 "
      ]
     },
     "metadata": {},
     "output_type": "display_data"
    }
   ],
   "source": [
    "summary(results$mean_eff)"
   ]
  },
  {
   "cell_type": "code",
   "execution_count": 19,
   "id": "5d4dd58d-4c84-462e-9247-88630a47040b",
   "metadata": {
    "tags": []
   },
   "outputs": [
    {
     "data": {
      "image/png": "[encoded data removed]",
      "text/plain": [
       "Plot with title \"Histogram of results$mean_eff[results$mean_eff < 15]\""
      ]
     },
     "metadata": {
      "image/png": {
       "height": 420,
       "width": 420
      }
     },
     "output_type": "display_data"
    }
   ],
   "source": [
    "hist(results$mean_eff[results$mean_eff < 15])"
   ]
  },
  {
   "cell_type": "code",
   "execution_count": null,
   "id": "3d8ee038-772c-46ab-ab97-f5dd37bd024c",
   "metadata": {},
   "outputs": [],
   "source": []
  }
 ],
 "metadata": {
  "kernelspec": {
   "display_name": "R",
   "language": "R",
   "name": "ir"
  },
  "language_info": {
   "codemirror_mode": "r",
   "file_extension": ".r",
   "mimetype": "text/x-r-source",
   "name": "R",
   "pygments_lexer": "r",
   "version": "4.1.3"
  }
 },
 "nbformat": 4,
 "nbformat_minor": 5
}
